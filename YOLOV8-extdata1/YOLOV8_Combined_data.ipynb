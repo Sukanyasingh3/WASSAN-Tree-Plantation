{
  "nbformat": 4,
  "nbformat_minor": 0,
  "metadata": {
    "colab": {
      "provenance": [],
      "gpuType": "T4"
    },
    "kernelspec": {
      "name": "python3",
      "display_name": "Python 3"
    },
    "language_info": {
      "name": "python"
    },
    "accelerator": "GPU"
  },
  "cells": [
    {
      "cell_type": "code",
      "execution_count": 2,
      "metadata": {
        "colab": {
          "base_uri": "https://localhost:8080/"
        },
        "id": "uhYFeQVVgo0M",
        "outputId": "a2ac6e67-d555-49c9-c31e-e40c97437665"
      },
      "outputs": [
        {
          "output_type": "stream",
          "name": "stdout",
          "text": [
            "Collecting ultralytics\n",
            "  Downloading ultralytics-8.2.35-py3-none-any.whl (782 kB)\n",
            "\u001b[?25l     \u001b[90m━━━━━━━━━━━━━━━━━━━━━━━━━━━━━━━━━━━━━━━━\u001b[0m \u001b[32m0.0/782.8 kB\u001b[0m \u001b[31m?\u001b[0m eta \u001b[36m-:--:--\u001b[0m\r\u001b[2K     \u001b[91m━━━\u001b[0m\u001b[90m╺\u001b[0m\u001b[90m━━━━━━━━━━━━━━━━━━━━━━━━━━━━━━━━━━━━\u001b[0m \u001b[32m61.4/782.8 kB\u001b[0m \u001b[31m1.7 MB/s\u001b[0m eta \u001b[36m0:00:01\u001b[0m\r\u001b[2K     \u001b[91m━━━━━━━━━━━━━━━━━━━━━━━━━━━━━━━━━━━━━━━\u001b[0m\u001b[91m╸\u001b[0m \u001b[32m778.2/782.8 kB\u001b[0m \u001b[31m12.4 MB/s\u001b[0m eta \u001b[36m0:00:01\u001b[0m\r\u001b[2K     \u001b[90m━━━━━━━━━━━━━━━━━━━━━━━━━━━━━━━━━━━━━━━━\u001b[0m \u001b[32m782.8/782.8 kB\u001b[0m \u001b[31m10.4 MB/s\u001b[0m eta \u001b[36m0:00:00\u001b[0m\n",
            "\u001b[?25hRequirement already satisfied: numpy<2.0.0 in /usr/local/lib/python3.10/dist-packages (from ultralytics) (1.25.2)\n",
            "Requirement already satisfied: matplotlib>=3.3.0 in /usr/local/lib/python3.10/dist-packages (from ultralytics) (3.7.1)\n",
            "Requirement already satisfied: opencv-python>=4.6.0 in /usr/local/lib/python3.10/dist-packages (from ultralytics) (4.8.0.76)\n",
            "Requirement already satisfied: pillow>=7.1.2 in /usr/local/lib/python3.10/dist-packages (from ultralytics) (9.4.0)\n",
            "Requirement already satisfied: pyyaml>=5.3.1 in /usr/local/lib/python3.10/dist-packages (from ultralytics) (6.0.1)\n",
            "Requirement already satisfied: requests>=2.23.0 in /usr/local/lib/python3.10/dist-packages (from ultralytics) (2.31.0)\n",
            "Requirement already satisfied: scipy>=1.4.1 in /usr/local/lib/python3.10/dist-packages (from ultralytics) (1.11.4)\n",
            "Requirement already satisfied: torch>=1.8.0 in /usr/local/lib/python3.10/dist-packages (from ultralytics) (2.3.0+cu121)\n",
            "Requirement already satisfied: torchvision>=0.9.0 in /usr/local/lib/python3.10/dist-packages (from ultralytics) (0.18.0+cu121)\n",
            "Requirement already satisfied: tqdm>=4.64.0 in /usr/local/lib/python3.10/dist-packages (from ultralytics) (4.66.4)\n",
            "Requirement already satisfied: psutil in /usr/local/lib/python3.10/dist-packages (from ultralytics) (5.9.5)\n",
            "Requirement already satisfied: py-cpuinfo in /usr/local/lib/python3.10/dist-packages (from ultralytics) (9.0.0)\n",
            "Requirement already satisfied: pandas>=1.1.4 in /usr/local/lib/python3.10/dist-packages (from ultralytics) (2.0.3)\n",
            "Requirement already satisfied: seaborn>=0.11.0 in /usr/local/lib/python3.10/dist-packages (from ultralytics) (0.13.1)\n",
            "Collecting ultralytics-thop>=2.0.0 (from ultralytics)\n",
            "  Downloading ultralytics_thop-2.0.0-py3-none-any.whl (25 kB)\n",
            "Requirement already satisfied: contourpy>=1.0.1 in /usr/local/lib/python3.10/dist-packages (from matplotlib>=3.3.0->ultralytics) (1.2.1)\n",
            "Requirement already satisfied: cycler>=0.10 in /usr/local/lib/python3.10/dist-packages (from matplotlib>=3.3.0->ultralytics) (0.12.1)\n",
            "Requirement already satisfied: fonttools>=4.22.0 in /usr/local/lib/python3.10/dist-packages (from matplotlib>=3.3.0->ultralytics) (4.53.0)\n",
            "Requirement already satisfied: kiwisolver>=1.0.1 in /usr/local/lib/python3.10/dist-packages (from matplotlib>=3.3.0->ultralytics) (1.4.5)\n",
            "Requirement already satisfied: packaging>=20.0 in /usr/local/lib/python3.10/dist-packages (from matplotlib>=3.3.0->ultralytics) (24.1)\n",
            "Requirement already satisfied: pyparsing>=2.3.1 in /usr/local/lib/python3.10/dist-packages (from matplotlib>=3.3.0->ultralytics) (3.1.2)\n",
            "Requirement already satisfied: python-dateutil>=2.7 in /usr/local/lib/python3.10/dist-packages (from matplotlib>=3.3.0->ultralytics) (2.8.2)\n",
            "Requirement already satisfied: pytz>=2020.1 in /usr/local/lib/python3.10/dist-packages (from pandas>=1.1.4->ultralytics) (2023.4)\n",
            "Requirement already satisfied: tzdata>=2022.1 in /usr/local/lib/python3.10/dist-packages (from pandas>=1.1.4->ultralytics) (2024.1)\n",
            "Requirement already satisfied: charset-normalizer<4,>=2 in /usr/local/lib/python3.10/dist-packages (from requests>=2.23.0->ultralytics) (3.3.2)\n",
            "Requirement already satisfied: idna<4,>=2.5 in /usr/local/lib/python3.10/dist-packages (from requests>=2.23.0->ultralytics) (3.7)\n",
            "Requirement already satisfied: urllib3<3,>=1.21.1 in /usr/local/lib/python3.10/dist-packages (from requests>=2.23.0->ultralytics) (2.0.7)\n",
            "Requirement already satisfied: certifi>=2017.4.17 in /usr/local/lib/python3.10/dist-packages (from requests>=2.23.0->ultralytics) (2024.6.2)\n",
            "Requirement already satisfied: filelock in /usr/local/lib/python3.10/dist-packages (from torch>=1.8.0->ultralytics) (3.14.0)\n",
            "Requirement already satisfied: typing-extensions>=4.8.0 in /usr/local/lib/python3.10/dist-packages (from torch>=1.8.0->ultralytics) (4.12.2)\n",
            "Requirement already satisfied: sympy in /usr/local/lib/python3.10/dist-packages (from torch>=1.8.0->ultralytics) (1.12.1)\n",
            "Requirement already satisfied: networkx in /usr/local/lib/python3.10/dist-packages (from torch>=1.8.0->ultralytics) (3.3)\n",
            "Requirement already satisfied: jinja2 in /usr/local/lib/python3.10/dist-packages (from torch>=1.8.0->ultralytics) (3.1.4)\n",
            "Requirement already satisfied: fsspec in /usr/local/lib/python3.10/dist-packages (from torch>=1.8.0->ultralytics) (2023.6.0)\n",
            "Collecting nvidia-cuda-nvrtc-cu12==12.1.105 (from torch>=1.8.0->ultralytics)\n",
            "  Using cached nvidia_cuda_nvrtc_cu12-12.1.105-py3-none-manylinux1_x86_64.whl (23.7 MB)\n",
            "Collecting nvidia-cuda-runtime-cu12==12.1.105 (from torch>=1.8.0->ultralytics)\n",
            "  Using cached nvidia_cuda_runtime_cu12-12.1.105-py3-none-manylinux1_x86_64.whl (823 kB)\n",
            "Collecting nvidia-cuda-cupti-cu12==12.1.105 (from torch>=1.8.0->ultralytics)\n",
            "  Using cached nvidia_cuda_cupti_cu12-12.1.105-py3-none-manylinux1_x86_64.whl (14.1 MB)\n",
            "Collecting nvidia-cudnn-cu12==8.9.2.26 (from torch>=1.8.0->ultralytics)\n",
            "  Using cached nvidia_cudnn_cu12-8.9.2.26-py3-none-manylinux1_x86_64.whl (731.7 MB)\n",
            "Collecting nvidia-cublas-cu12==12.1.3.1 (from torch>=1.8.0->ultralytics)\n",
            "  Using cached nvidia_cublas_cu12-12.1.3.1-py3-none-manylinux1_x86_64.whl (410.6 MB)\n",
            "Collecting nvidia-cufft-cu12==11.0.2.54 (from torch>=1.8.0->ultralytics)\n",
            "  Using cached nvidia_cufft_cu12-11.0.2.54-py3-none-manylinux1_x86_64.whl (121.6 MB)\n",
            "Collecting nvidia-curand-cu12==10.3.2.106 (from torch>=1.8.0->ultralytics)\n",
            "  Using cached nvidia_curand_cu12-10.3.2.106-py3-none-manylinux1_x86_64.whl (56.5 MB)\n",
            "Collecting nvidia-cusolver-cu12==11.4.5.107 (from torch>=1.8.0->ultralytics)\n",
            "  Using cached nvidia_cusolver_cu12-11.4.5.107-py3-none-manylinux1_x86_64.whl (124.2 MB)\n",
            "Collecting nvidia-cusparse-cu12==12.1.0.106 (from torch>=1.8.0->ultralytics)\n",
            "  Using cached nvidia_cusparse_cu12-12.1.0.106-py3-none-manylinux1_x86_64.whl (196.0 MB)\n",
            "Collecting nvidia-nccl-cu12==2.20.5 (from torch>=1.8.0->ultralytics)\n",
            "  Using cached nvidia_nccl_cu12-2.20.5-py3-none-manylinux2014_x86_64.whl (176.2 MB)\n",
            "Collecting nvidia-nvtx-cu12==12.1.105 (from torch>=1.8.0->ultralytics)\n",
            "  Using cached nvidia_nvtx_cu12-12.1.105-py3-none-manylinux1_x86_64.whl (99 kB)\n",
            "Requirement already satisfied: triton==2.3.0 in /usr/local/lib/python3.10/dist-packages (from torch>=1.8.0->ultralytics) (2.3.0)\n",
            "Collecting nvidia-nvjitlink-cu12 (from nvidia-cusolver-cu12==11.4.5.107->torch>=1.8.0->ultralytics)\n",
            "  Downloading nvidia_nvjitlink_cu12-12.5.40-py3-none-manylinux2014_x86_64.whl (21.3 MB)\n",
            "\u001b[2K     \u001b[90m━━━━━━━━━━━━━━━━━━━━━━━━━━━━━━━━━━━━━━━━\u001b[0m \u001b[32m21.3/21.3 MB\u001b[0m \u001b[31m57.5 MB/s\u001b[0m eta \u001b[36m0:00:00\u001b[0m\n",
            "\u001b[?25hRequirement already satisfied: six>=1.5 in /usr/local/lib/python3.10/dist-packages (from python-dateutil>=2.7->matplotlib>=3.3.0->ultralytics) (1.16.0)\n",
            "Requirement already satisfied: MarkupSafe>=2.0 in /usr/local/lib/python3.10/dist-packages (from jinja2->torch>=1.8.0->ultralytics) (2.1.5)\n",
            "Requirement already satisfied: mpmath<1.4.0,>=1.1.0 in /usr/local/lib/python3.10/dist-packages (from sympy->torch>=1.8.0->ultralytics) (1.3.0)\n",
            "Installing collected packages: nvidia-nvtx-cu12, nvidia-nvjitlink-cu12, nvidia-nccl-cu12, nvidia-curand-cu12, nvidia-cufft-cu12, nvidia-cuda-runtime-cu12, nvidia-cuda-nvrtc-cu12, nvidia-cuda-cupti-cu12, nvidia-cublas-cu12, nvidia-cusparse-cu12, nvidia-cudnn-cu12, nvidia-cusolver-cu12, ultralytics-thop, ultralytics\n",
            "Successfully installed nvidia-cublas-cu12-12.1.3.1 nvidia-cuda-cupti-cu12-12.1.105 nvidia-cuda-nvrtc-cu12-12.1.105 nvidia-cuda-runtime-cu12-12.1.105 nvidia-cudnn-cu12-8.9.2.26 nvidia-cufft-cu12-11.0.2.54 nvidia-curand-cu12-10.3.2.106 nvidia-cusolver-cu12-11.4.5.107 nvidia-cusparse-cu12-12.1.0.106 nvidia-nccl-cu12-2.20.5 nvidia-nvjitlink-cu12-12.5.40 nvidia-nvtx-cu12-12.1.105 ultralytics-8.2.35 ultralytics-thop-2.0.0\n"
          ]
        }
      ],
      "source": [
        "!pip install ultralytics"
      ]
    },
    {
      "cell_type": "code",
      "source": [
        "pip install --upgrade ultralytics\n"
      ],
      "metadata": {
        "colab": {
          "base_uri": "https://localhost:8080/"
        },
        "id": "Ktn8LeAbup_G",
        "outputId": "6b4fd344-0f2a-442b-e47f-13fdee86ee59"
      },
      "execution_count": 3,
      "outputs": [
        {
          "output_type": "stream",
          "name": "stdout",
          "text": [
            "Requirement already satisfied: ultralytics in /usr/local/lib/python3.10/dist-packages (8.2.35)\n",
            "Requirement already satisfied: numpy<2.0.0 in /usr/local/lib/python3.10/dist-packages (from ultralytics) (1.25.2)\n",
            "Requirement already satisfied: matplotlib>=3.3.0 in /usr/local/lib/python3.10/dist-packages (from ultralytics) (3.7.1)\n",
            "Requirement already satisfied: opencv-python>=4.6.0 in /usr/local/lib/python3.10/dist-packages (from ultralytics) (4.8.0.76)\n",
            "Requirement already satisfied: pillow>=7.1.2 in /usr/local/lib/python3.10/dist-packages (from ultralytics) (9.4.0)\n",
            "Requirement already satisfied: pyyaml>=5.3.1 in /usr/local/lib/python3.10/dist-packages (from ultralytics) (6.0.1)\n",
            "Requirement already satisfied: requests>=2.23.0 in /usr/local/lib/python3.10/dist-packages (from ultralytics) (2.31.0)\n",
            "Requirement already satisfied: scipy>=1.4.1 in /usr/local/lib/python3.10/dist-packages (from ultralytics) (1.11.4)\n",
            "Requirement already satisfied: torch>=1.8.0 in /usr/local/lib/python3.10/dist-packages (from ultralytics) (2.3.0+cu121)\n",
            "Requirement already satisfied: torchvision>=0.9.0 in /usr/local/lib/python3.10/dist-packages (from ultralytics) (0.18.0+cu121)\n",
            "Requirement already satisfied: tqdm>=4.64.0 in /usr/local/lib/python3.10/dist-packages (from ultralytics) (4.66.4)\n",
            "Requirement already satisfied: psutil in /usr/local/lib/python3.10/dist-packages (from ultralytics) (5.9.5)\n",
            "Requirement already satisfied: py-cpuinfo in /usr/local/lib/python3.10/dist-packages (from ultralytics) (9.0.0)\n",
            "Requirement already satisfied: pandas>=1.1.4 in /usr/local/lib/python3.10/dist-packages (from ultralytics) (2.0.3)\n",
            "Requirement already satisfied: seaborn>=0.11.0 in /usr/local/lib/python3.10/dist-packages (from ultralytics) (0.13.1)\n",
            "Requirement already satisfied: ultralytics-thop>=2.0.0 in /usr/local/lib/python3.10/dist-packages (from ultralytics) (2.0.0)\n",
            "Requirement already satisfied: contourpy>=1.0.1 in /usr/local/lib/python3.10/dist-packages (from matplotlib>=3.3.0->ultralytics) (1.2.1)\n",
            "Requirement already satisfied: cycler>=0.10 in /usr/local/lib/python3.10/dist-packages (from matplotlib>=3.3.0->ultralytics) (0.12.1)\n",
            "Requirement already satisfied: fonttools>=4.22.0 in /usr/local/lib/python3.10/dist-packages (from matplotlib>=3.3.0->ultralytics) (4.53.0)\n",
            "Requirement already satisfied: kiwisolver>=1.0.1 in /usr/local/lib/python3.10/dist-packages (from matplotlib>=3.3.0->ultralytics) (1.4.5)\n",
            "Requirement already satisfied: packaging>=20.0 in /usr/local/lib/python3.10/dist-packages (from matplotlib>=3.3.0->ultralytics) (24.1)\n",
            "Requirement already satisfied: pyparsing>=2.3.1 in /usr/local/lib/python3.10/dist-packages (from matplotlib>=3.3.0->ultralytics) (3.1.2)\n",
            "Requirement already satisfied: python-dateutil>=2.7 in /usr/local/lib/python3.10/dist-packages (from matplotlib>=3.3.0->ultralytics) (2.8.2)\n",
            "Requirement already satisfied: pytz>=2020.1 in /usr/local/lib/python3.10/dist-packages (from pandas>=1.1.4->ultralytics) (2023.4)\n",
            "Requirement already satisfied: tzdata>=2022.1 in /usr/local/lib/python3.10/dist-packages (from pandas>=1.1.4->ultralytics) (2024.1)\n",
            "Requirement already satisfied: charset-normalizer<4,>=2 in /usr/local/lib/python3.10/dist-packages (from requests>=2.23.0->ultralytics) (3.3.2)\n",
            "Requirement already satisfied: idna<4,>=2.5 in /usr/local/lib/python3.10/dist-packages (from requests>=2.23.0->ultralytics) (3.7)\n",
            "Requirement already satisfied: urllib3<3,>=1.21.1 in /usr/local/lib/python3.10/dist-packages (from requests>=2.23.0->ultralytics) (2.0.7)\n",
            "Requirement already satisfied: certifi>=2017.4.17 in /usr/local/lib/python3.10/dist-packages (from requests>=2.23.0->ultralytics) (2024.6.2)\n",
            "Requirement already satisfied: filelock in /usr/local/lib/python3.10/dist-packages (from torch>=1.8.0->ultralytics) (3.14.0)\n",
            "Requirement already satisfied: typing-extensions>=4.8.0 in /usr/local/lib/python3.10/dist-packages (from torch>=1.8.0->ultralytics) (4.12.2)\n",
            "Requirement already satisfied: sympy in /usr/local/lib/python3.10/dist-packages (from torch>=1.8.0->ultralytics) (1.12.1)\n",
            "Requirement already satisfied: networkx in /usr/local/lib/python3.10/dist-packages (from torch>=1.8.0->ultralytics) (3.3)\n",
            "Requirement already satisfied: jinja2 in /usr/local/lib/python3.10/dist-packages (from torch>=1.8.0->ultralytics) (3.1.4)\n",
            "Requirement already satisfied: fsspec in /usr/local/lib/python3.10/dist-packages (from torch>=1.8.0->ultralytics) (2023.6.0)\n",
            "Requirement already satisfied: nvidia-cuda-nvrtc-cu12==12.1.105 in /usr/local/lib/python3.10/dist-packages (from torch>=1.8.0->ultralytics) (12.1.105)\n",
            "Requirement already satisfied: nvidia-cuda-runtime-cu12==12.1.105 in /usr/local/lib/python3.10/dist-packages (from torch>=1.8.0->ultralytics) (12.1.105)\n",
            "Requirement already satisfied: nvidia-cuda-cupti-cu12==12.1.105 in /usr/local/lib/python3.10/dist-packages (from torch>=1.8.0->ultralytics) (12.1.105)\n",
            "Requirement already satisfied: nvidia-cudnn-cu12==8.9.2.26 in /usr/local/lib/python3.10/dist-packages (from torch>=1.8.0->ultralytics) (8.9.2.26)\n",
            "Requirement already satisfied: nvidia-cublas-cu12==12.1.3.1 in /usr/local/lib/python3.10/dist-packages (from torch>=1.8.0->ultralytics) (12.1.3.1)\n",
            "Requirement already satisfied: nvidia-cufft-cu12==11.0.2.54 in /usr/local/lib/python3.10/dist-packages (from torch>=1.8.0->ultralytics) (11.0.2.54)\n",
            "Requirement already satisfied: nvidia-curand-cu12==10.3.2.106 in /usr/local/lib/python3.10/dist-packages (from torch>=1.8.0->ultralytics) (10.3.2.106)\n",
            "Requirement already satisfied: nvidia-cusolver-cu12==11.4.5.107 in /usr/local/lib/python3.10/dist-packages (from torch>=1.8.0->ultralytics) (11.4.5.107)\n",
            "Requirement already satisfied: nvidia-cusparse-cu12==12.1.0.106 in /usr/local/lib/python3.10/dist-packages (from torch>=1.8.0->ultralytics) (12.1.0.106)\n",
            "Requirement already satisfied: nvidia-nccl-cu12==2.20.5 in /usr/local/lib/python3.10/dist-packages (from torch>=1.8.0->ultralytics) (2.20.5)\n",
            "Requirement already satisfied: nvidia-nvtx-cu12==12.1.105 in /usr/local/lib/python3.10/dist-packages (from torch>=1.8.0->ultralytics) (12.1.105)\n",
            "Requirement already satisfied: triton==2.3.0 in /usr/local/lib/python3.10/dist-packages (from torch>=1.8.0->ultralytics) (2.3.0)\n",
            "Requirement already satisfied: nvidia-nvjitlink-cu12 in /usr/local/lib/python3.10/dist-packages (from nvidia-cusolver-cu12==11.4.5.107->torch>=1.8.0->ultralytics) (12.5.40)\n",
            "Requirement already satisfied: six>=1.5 in /usr/local/lib/python3.10/dist-packages (from python-dateutil>=2.7->matplotlib>=3.3.0->ultralytics) (1.16.0)\n",
            "Requirement already satisfied: MarkupSafe>=2.0 in /usr/local/lib/python3.10/dist-packages (from jinja2->torch>=1.8.0->ultralytics) (2.1.5)\n",
            "Requirement already satisfied: mpmath<1.4.0,>=1.1.0 in /usr/local/lib/python3.10/dist-packages (from sympy->torch>=1.8.0->ultralytics) (1.3.0)\n"
          ]
        }
      ]
    },
    {
      "cell_type": "code",
      "source": [
        "from ultralytics import YOLO\n",
        "import os\n",
        "import shutil\n",
        "from sklearn.model_selection import train_test_split\n",
        "import random"
      ],
      "metadata": {
        "id": "QhIDtwU1pHx8"
      },
      "execution_count": 4,
      "outputs": []
    },
    {
      "cell_type": "code",
      "source": [
        "import os\n",
        "from random import choice\n",
        "\n",
        "#arrays to store file names\n",
        "imgs =[]\n",
        "xmls =[]\n",
        "\n",
        "#setup dir names\n",
        "trainPath =('/content/drive/MyDrive/dataset/images/train')\n",
        "valPath = ('/content/drive/MyDrive/dataset/images/val')\n",
        "crsPath = ('/content/drive/MyDrive/plantation') #dir where images and annotations stored\n",
        "\n",
        "#setup ratio (val ratio = rest of the files in origin dir after splitting into train and test)\n",
        "train_ratio = 0.8\n",
        "val_ratio = 0.2\n",
        "\n",
        "\n",
        "#total count of imgs\n",
        "totalImgCount = len(os.listdir(crsPath))/2\n",
        "\n",
        "#soring files to corresponding arrays\n",
        "for (dirname, dirs, files) in os.walk(crsPath):\n",
        "    for filename in files:\n",
        "        if filename.endswith('.txt'):\n",
        "            xmls.append(filename)\n",
        "        else:\n",
        "            imgs.append(filename)\n",
        "\n",
        "\n",
        "#counting range for cycles\n",
        "countForTrain = int(len(imgs)*train_ratio)\n",
        "countForVal = int(len(imgs)*val_ratio)\n",
        "print(\"Total number of images: \", len(imgs))\n",
        "print(\"training images: \",countForTrain)\n",
        "print(\"Validation images: \",countForVal)"
      ],
      "metadata": {
        "colab": {
          "base_uri": "https://localhost:8080/"
        },
        "id": "eX8ouD09px5C",
        "outputId": "7822ae1e-e524-409f-8e6e-b645103e016b"
      },
      "execution_count": 16,
      "outputs": [
        {
          "output_type": "stream",
          "name": "stdout",
          "text": [
            "Total number of images:  269\n",
            "training images:  215\n",
            "Validation images:  53\n"
          ]
        }
      ]
    },
    {
      "cell_type": "code",
      "source": [
        "import shutil, sys\n",
        "trainimagePath = ('/content/drive/MyDrive/dataset/images/train')\n",
        "trainlabelPath = ('/content/drive/MyDrive/dataset/labels/train')\n",
        "valimagePath = ('/content/drive/MyDrive/dataset/images/val')\n",
        "vallabelPath = ('/content/drive/MyDrive/dataset/labels/val')\n",
        "#cycle for train dir\n",
        "for x in range(countForTrain):\n",
        "\n",
        "    fileJpg = choice(imgs) # get name of random image from origin dir\n",
        "    fileXml = fileJpg[:-4] +'.txt' # get name of corresponding annotation file\n",
        "\n",
        "    #move both files into train dir\n",
        "    #shutil.move(os.path.join(crsPath, fileJpg), os.path.join(trainimagePath, fileJpg))\n",
        "    #shutil.move(os.path.join(crsPath, fileXml), os.path.join(trainlabelPath, fileXml))\n",
        "    shutil.copy(os.path.join(crsPath, fileJpg), os.path.join(trainimagePath, fileJpg))\n",
        "    shutil.copy(os.path.join(crsPath, fileXml), os.path.join(trainlabelPath, fileXml))\n",
        "\n",
        "\n",
        "    #remove files from arrays\n",
        "    imgs.remove(fileJpg)\n",
        "    xmls.remove(fileXml)\n",
        "\n",
        "\n",
        "\n",
        "#cycle for test dir\n",
        "for x in range(countForVal):\n",
        "\n",
        "    fileJpg = choice(imgs) # get name of random image from origin dir\n",
        "    fileXml = fileJpg[:-4] +'.txt' # get name of corresponding annotation file\n",
        "\n",
        "    #move both files into train dir\n",
        "    #shutil.move(os.path.join(crsPath, fileJpg), os.path.join(valimagePath, fileJpg))\n",
        "    #shutil.move(os.path.join(crsPath, fileXml), os.path.join(vallabelPath, fileXml))\n",
        "    shutil.copy(os.path.join(crsPath, fileJpg), os.path.join(valimagePath, fileJpg))\n",
        "    shutil.copy(os.path.join(crsPath, fileXml), os.path.join(vallabelPath, fileXml))\n",
        "\n",
        "    #remove files from arrays\n",
        "    imgs.remove(fileJpg)\n",
        "    xmls.remove(fileXml)\n",
        "\n",
        "#rest of files will be validation files, so rename origin dir to val dir\n",
        "#os.rename(crsPath, valPath)\n",
        "#shutil.move(crsPath, valPath)"
      ],
      "metadata": {
        "id": "lKQxa150qJQ2"
      },
      "execution_count": 17,
      "outputs": []
    },
    {
      "cell_type": "code",
      "source": [
        "# Define the model\n",
        "model = YOLO(\"yolov8n.pt\")\n",
        "\n",
        "# Use the model\n",
        "model.train(data='/content/drive/MyDrive/config.yaml', epochs=50)"
      ],
      "metadata": {
        "colab": {
          "base_uri": "https://localhost:8080/"
        },
        "id": "s3Y_Hb5xqbbC",
        "outputId": "686531d1-b441-421b-a933-1e5de3a06982"
      },
      "execution_count": 6,
      "outputs": [
        {
          "output_type": "stream",
          "name": "stdout",
          "text": [
            "Ultralytics YOLOv8.2.35 🚀 Python-3.10.12 torch-2.3.0+cu121 CUDA:0 (Tesla T4, 15102MiB)\n",
            "\u001b[34m\u001b[1mengine/trainer: \u001b[0mtask=detect, mode=train, model=yolov8n.pt, data=/content/drive/MyDrive/config.yaml, epochs=50, time=None, patience=100, batch=16, imgsz=640, save=True, save_period=-1, cache=False, device=None, workers=8, project=None, name=train2, exist_ok=False, pretrained=True, optimizer=auto, verbose=True, seed=0, deterministic=True, single_cls=False, rect=False, cos_lr=False, close_mosaic=10, resume=False, amp=True, fraction=1.0, profile=False, freeze=None, multi_scale=False, overlap_mask=True, mask_ratio=4, dropout=0.0, val=True, split=val, save_json=False, save_hybrid=False, conf=None, iou=0.7, max_det=300, half=False, dnn=False, plots=True, source=None, vid_stride=1, stream_buffer=False, visualize=False, augment=False, agnostic_nms=False, classes=None, retina_masks=False, embed=None, show=False, save_frames=False, save_txt=False, save_conf=False, save_crop=False, show_labels=True, show_conf=True, show_boxes=True, line_width=None, format=torchscript, keras=False, optimize=False, int8=False, dynamic=False, simplify=False, opset=None, workspace=4, nms=False, lr0=0.01, lrf=0.01, momentum=0.937, weight_decay=0.0005, warmup_epochs=3.0, warmup_momentum=0.8, warmup_bias_lr=0.1, box=7.5, cls=0.5, dfl=1.5, pose=12.0, kobj=1.0, label_smoothing=0.0, nbs=64, hsv_h=0.015, hsv_s=0.7, hsv_v=0.4, degrees=0.0, translate=0.1, scale=0.5, shear=0.0, perspective=0.0, flipud=0.0, fliplr=0.5, bgr=0.0, mosaic=1.0, mixup=0.0, copy_paste=0.0, auto_augment=randaugment, erasing=0.4, crop_fraction=1.0, cfg=None, tracker=botsort.yaml, save_dir=runs/detect/train2\n",
            "Downloading https://ultralytics.com/assets/Arial.ttf to '/root/.config/Ultralytics/Arial.ttf'...\n"
          ]
        },
        {
          "output_type": "stream",
          "name": "stderr",
          "text": [
            "100%|██████████| 755k/755k [00:00<00:00, 101MB/s]\n"
          ]
        },
        {
          "output_type": "stream",
          "name": "stdout",
          "text": [
            "Overriding model.yaml nc=80 with nc=1\n",
            "\n",
            "                   from  n    params  module                                       arguments                     \n",
            "  0                  -1  1       464  ultralytics.nn.modules.conv.Conv             [3, 16, 3, 2]                 \n",
            "  1                  -1  1      4672  ultralytics.nn.modules.conv.Conv             [16, 32, 3, 2]                \n",
            "  2                  -1  1      7360  ultralytics.nn.modules.block.C2f             [32, 32, 1, True]             \n",
            "  3                  -1  1     18560  ultralytics.nn.modules.conv.Conv             [32, 64, 3, 2]                \n",
            "  4                  -1  2     49664  ultralytics.nn.modules.block.C2f             [64, 64, 2, True]             \n",
            "  5                  -1  1     73984  ultralytics.nn.modules.conv.Conv             [64, 128, 3, 2]               \n",
            "  6                  -1  2    197632  ultralytics.nn.modules.block.C2f             [128, 128, 2, True]           \n",
            "  7                  -1  1    295424  ultralytics.nn.modules.conv.Conv             [128, 256, 3, 2]              \n",
            "  8                  -1  1    460288  ultralytics.nn.modules.block.C2f             [256, 256, 1, True]           \n",
            "  9                  -1  1    164608  ultralytics.nn.modules.block.SPPF            [256, 256, 5]                 \n",
            " 10                  -1  1         0  torch.nn.modules.upsampling.Upsample         [None, 2, 'nearest']          \n",
            " 11             [-1, 6]  1         0  ultralytics.nn.modules.conv.Concat           [1]                           \n",
            " 12                  -1  1    148224  ultralytics.nn.modules.block.C2f             [384, 128, 1]                 \n",
            " 13                  -1  1         0  torch.nn.modules.upsampling.Upsample         [None, 2, 'nearest']          \n",
            " 14             [-1, 4]  1         0  ultralytics.nn.modules.conv.Concat           [1]                           \n",
            " 15                  -1  1     37248  ultralytics.nn.modules.block.C2f             [192, 64, 1]                  \n",
            " 16                  -1  1     36992  ultralytics.nn.modules.conv.Conv             [64, 64, 3, 2]                \n",
            " 17            [-1, 12]  1         0  ultralytics.nn.modules.conv.Concat           [1]                           \n",
            " 18                  -1  1    123648  ultralytics.nn.modules.block.C2f             [192, 128, 1]                 \n",
            " 19                  -1  1    147712  ultralytics.nn.modules.conv.Conv             [128, 128, 3, 2]              \n",
            " 20             [-1, 9]  1         0  ultralytics.nn.modules.conv.Concat           [1]                           \n",
            " 21                  -1  1    493056  ultralytics.nn.modules.block.C2f             [384, 256, 1]                 \n",
            " 22        [15, 18, 21]  1    751507  ultralytics.nn.modules.head.Detect           [1, [64, 128, 256]]           \n",
            "Model summary: 225 layers, 3011043 parameters, 3011027 gradients, 8.2 GFLOPs\n",
            "\n",
            "Transferred 319/355 items from pretrained weights\n",
            "\u001b[34m\u001b[1mTensorBoard: \u001b[0mStart with 'tensorboard --logdir runs/detect/train2', view at http://localhost:6006/\n",
            "Freezing layer 'model.22.dfl.conv.weight'\n",
            "\u001b[34m\u001b[1mAMP: \u001b[0mrunning Automatic Mixed Precision (AMP) checks with YOLOv8n...\n"
          ]
        },
        {
          "output_type": "stream",
          "name": "stderr",
          "text": [
            "/usr/local/lib/python3.10/dist-packages/torch/nn/modules/conv.py:456: UserWarning: Plan failed with a cudnnException: CUDNN_BACKEND_EXECUTION_PLAN_DESCRIPTOR: cudnnFinalize Descriptor Failed cudnn_status: CUDNN_STATUS_NOT_SUPPORTED (Triggered internally at ../aten/src/ATen/native/cudnn/Conv_v8.cpp:919.)\n",
            "  return F.conv2d(input, weight, bias, self.stride,\n"
          ]
        },
        {
          "output_type": "stream",
          "name": "stdout",
          "text": [
            "\u001b[34m\u001b[1mAMP: \u001b[0mchecks passed ✅\n"
          ]
        },
        {
          "output_type": "stream",
          "name": "stderr",
          "text": [
            "\u001b[34m\u001b[1mtrain: \u001b[0mScanning /content/drive/MyDrive/dataset/labels/train.cache... 215 images, 4 backgrounds, 1 corrupt: 100%|██████████| 215/215 [00:00<?, ?it/s]"
          ]
        },
        {
          "output_type": "stream",
          "name": "stdout",
          "text": [
            "\u001b[34m\u001b[1mtrain: \u001b[0mWARNING ⚠️ /content/drive/MyDrive/dataset/images/train/DJI_0145.JPG: ignoring corrupt image/label: setting an array element with a sequence. The requested array has an inhomogeneous shape after 1 dimensions. The detected shape was (178,) + inhomogeneous part.\n"
          ]
        },
        {
          "output_type": "stream",
          "name": "stderr",
          "text": [
            "\n"
          ]
        },
        {
          "output_type": "stream",
          "name": "stdout",
          "text": [
            "\u001b[34m\u001b[1malbumentations: \u001b[0mBlur(p=0.01, blur_limit=(3, 7)), MedianBlur(p=0.01, blur_limit=(3, 7)), ToGray(p=0.01), CLAHE(p=0.01, clip_limit=(1, 4.0), tile_grid_size=(8, 8))\n"
          ]
        },
        {
          "output_type": "stream",
          "name": "stderr",
          "text": [
            "/usr/lib/python3.10/multiprocessing/popen_fork.py:66: RuntimeWarning: os.fork() was called. os.fork() is incompatible with multithreaded code, and JAX is multithreaded, so this will likely lead to a deadlock.\n",
            "  self.pid = os.fork()\n",
            "\u001b[34m\u001b[1mval: \u001b[0mScanning /content/drive/MyDrive/dataset/labels/val.cache... 53 images, 2 backgrounds, 1 corrupt: 100%|██████████| 53/53 [00:00<?, ?it/s]"
          ]
        },
        {
          "output_type": "stream",
          "name": "stdout",
          "text": [
            "\u001b[34m\u001b[1mval: \u001b[0mWARNING ⚠️ /content/drive/MyDrive/dataset/images/val/1.JPG: ignoring corrupt image/label: setting an array element with a sequence. The requested array has an inhomogeneous shape after 1 dimensions. The detected shape was (178,) + inhomogeneous part.\n"
          ]
        },
        {
          "output_type": "stream",
          "name": "stderr",
          "text": [
            "\n"
          ]
        },
        {
          "output_type": "stream",
          "name": "stdout",
          "text": [
            "Plotting labels to runs/detect/train2/labels.jpg... \n",
            "\u001b[34m\u001b[1moptimizer:\u001b[0m 'optimizer=auto' found, ignoring 'lr0=0.01' and 'momentum=0.937' and determining best 'optimizer', 'lr0' and 'momentum' automatically... \n",
            "\u001b[34m\u001b[1moptimizer:\u001b[0m AdamW(lr=0.002, momentum=0.9) with parameter groups 57 weight(decay=0.0), 64 weight(decay=0.0005), 63 bias(decay=0.0)\n",
            "\u001b[34m\u001b[1mTensorBoard: \u001b[0mmodel graph visualization added ✅\n",
            "Image sizes 640 train, 640 val\n",
            "Using 2 dataloader workers\n",
            "Logging results to \u001b[1mruns/detect/train2\u001b[0m\n",
            "Starting training for 50 epochs...\n",
            "\n",
            "      Epoch    GPU_mem   box_loss   cls_loss   dfl_loss  Instances       Size\n"
          ]
        },
        {
          "output_type": "stream",
          "name": "stderr",
          "text": [
            "       1/50      4.06G      2.152      3.345      1.435       1194        640:  93%|█████████▎| 13/14 [01:27<00:06,  6.47s/it]/usr/local/lib/python3.10/dist-packages/torch/autograd/graph.py:744: UserWarning: Plan failed with a cudnnException: CUDNN_BACKEND_EXECUTION_PLAN_DESCRIPTOR: cudnnFinalize Descriptor Failed cudnn_status: CUDNN_STATUS_NOT_SUPPORTED (Triggered internally at ../aten/src/ATen/native/cudnn/Conv_v8.cpp:919.)\n",
            "  return Variable._execution_engine.run_backward(  # Calls into the C++ engine to run the backward pass\n",
            "       1/50      4.06G       2.14      3.271       1.42        311        640: 100%|██████████| 14/14 [01:28<00:00,  6.33s/it]\n",
            "                 Class     Images  Instances      Box(P          R      mAP50  mAP50-95): 100%|██████████| 2/2 [00:05<00:00,  2.89s/it]"
          ]
        },
        {
          "output_type": "stream",
          "name": "stdout",
          "text": [
            "                   all         52       2114     0.0889      0.656      0.119     0.0556\n"
          ]
        },
        {
          "output_type": "stream",
          "name": "stderr",
          "text": [
            "\n"
          ]
        },
        {
          "output_type": "stream",
          "name": "stdout",
          "text": [
            "\n",
            "      Epoch    GPU_mem   box_loss   cls_loss   dfl_loss  Instances       Size\n"
          ]
        },
        {
          "output_type": "stream",
          "name": "stderr",
          "text": [
            "       2/50      4.76G      1.853      1.556      1.132        259        640: 100%|██████████| 14/14 [00:37<00:00,  2.69s/it]\n",
            "                 Class     Images  Instances      Box(P          R      mAP50  mAP50-95): 100%|██████████| 2/2 [00:00<00:00,  2.23it/s]"
          ]
        },
        {
          "output_type": "stream",
          "name": "stdout",
          "text": [
            "                   all         52       2114      0.637      0.454      0.477      0.223\n"
          ]
        },
        {
          "output_type": "stream",
          "name": "stderr",
          "text": [
            "\n"
          ]
        },
        {
          "output_type": "stream",
          "name": "stdout",
          "text": [
            "\n",
            "      Epoch    GPU_mem   box_loss   cls_loss   dfl_loss  Instances       Size\n"
          ]
        },
        {
          "output_type": "stream",
          "name": "stderr",
          "text": [
            "       3/50      3.99G      1.774      1.235      1.101        334        640: 100%|██████████| 14/14 [00:39<00:00,  2.83s/it]\n",
            "                 Class     Images  Instances      Box(P          R      mAP50  mAP50-95): 100%|██████████| 2/2 [00:01<00:00,  1.92it/s]"
          ]
        },
        {
          "output_type": "stream",
          "name": "stdout",
          "text": [
            "                   all         52       2114       0.71      0.686      0.691      0.325\n"
          ]
        },
        {
          "output_type": "stream",
          "name": "stderr",
          "text": [
            "\n"
          ]
        },
        {
          "output_type": "stream",
          "name": "stdout",
          "text": [
            "\n",
            "      Epoch    GPU_mem   box_loss   cls_loss   dfl_loss  Instances       Size\n"
          ]
        },
        {
          "output_type": "stream",
          "name": "stderr",
          "text": [
            "       4/50      4.99G      1.688      1.089      1.071        467        640: 100%|██████████| 14/14 [00:35<00:00,  2.51s/it]\n",
            "                 Class     Images  Instances      Box(P          R      mAP50  mAP50-95): 100%|██████████| 2/2 [00:01<00:00,  1.27it/s]"
          ]
        },
        {
          "output_type": "stream",
          "name": "stdout",
          "text": [
            "                   all         52       2114      0.715      0.739      0.714      0.349\n"
          ]
        },
        {
          "output_type": "stream",
          "name": "stderr",
          "text": [
            "\n"
          ]
        },
        {
          "output_type": "stream",
          "name": "stdout",
          "text": [
            "\n",
            "      Epoch    GPU_mem   box_loss   cls_loss   dfl_loss  Instances       Size\n"
          ]
        },
        {
          "output_type": "stream",
          "name": "stderr",
          "text": [
            "       5/50       4.2G      1.665      1.033      1.082        289        640: 100%|██████████| 14/14 [00:42<00:00,  3.02s/it]\n",
            "                 Class     Images  Instances      Box(P          R      mAP50  mAP50-95): 100%|██████████| 2/2 [00:01<00:00,  1.08it/s]"
          ]
        },
        {
          "output_type": "stream",
          "name": "stdout",
          "text": [
            "                   all         52       2114      0.709      0.783      0.748      0.329\n"
          ]
        },
        {
          "output_type": "stream",
          "name": "stderr",
          "text": [
            "\n"
          ]
        },
        {
          "output_type": "stream",
          "name": "stdout",
          "text": [
            "\n",
            "      Epoch    GPU_mem   box_loss   cls_loss   dfl_loss  Instances       Size\n"
          ]
        },
        {
          "output_type": "stream",
          "name": "stderr",
          "text": [
            "       6/50      3.61G       1.72      1.037      1.086        312        640: 100%|██████████| 14/14 [00:44<00:00,  3.17s/it]\n",
            "                 Class     Images  Instances      Box(P          R      mAP50  mAP50-95): 100%|██████████| 2/2 [00:00<00:00,  2.19it/s]"
          ]
        },
        {
          "output_type": "stream",
          "name": "stdout",
          "text": [
            "                   all         52       2114      0.709      0.765      0.748      0.359\n"
          ]
        },
        {
          "output_type": "stream",
          "name": "stderr",
          "text": [
            "\n"
          ]
        },
        {
          "output_type": "stream",
          "name": "stdout",
          "text": [
            "\n",
            "      Epoch    GPU_mem   box_loss   cls_loss   dfl_loss  Instances       Size\n"
          ]
        },
        {
          "output_type": "stream",
          "name": "stderr",
          "text": [
            "       7/50      4.35G      1.695     0.9995      1.094        293        640: 100%|██████████| 14/14 [00:38<00:00,  2.72s/it]\n",
            "                 Class     Images  Instances      Box(P          R      mAP50  mAP50-95): 100%|██████████| 2/2 [00:01<00:00,  1.76it/s]"
          ]
        },
        {
          "output_type": "stream",
          "name": "stdout",
          "text": [
            "                   all         52       2114      0.724       0.84      0.794      0.359\n"
          ]
        },
        {
          "output_type": "stream",
          "name": "stderr",
          "text": [
            "\n"
          ]
        },
        {
          "output_type": "stream",
          "name": "stdout",
          "text": [
            "\n",
            "      Epoch    GPU_mem   box_loss   cls_loss   dfl_loss  Instances       Size\n"
          ]
        },
        {
          "output_type": "stream",
          "name": "stderr",
          "text": [
            "       8/50      4.03G      1.681      0.983      1.067        362        640: 100%|██████████| 14/14 [00:38<00:00,  2.77s/it]\n",
            "                 Class     Images  Instances      Box(P          R      mAP50  mAP50-95): 100%|██████████| 2/2 [00:00<00:00,  2.80it/s]"
          ]
        },
        {
          "output_type": "stream",
          "name": "stdout",
          "text": [
            "                   all         52       2114      0.723      0.814      0.751      0.345\n"
          ]
        },
        {
          "output_type": "stream",
          "name": "stderr",
          "text": [
            "\n"
          ]
        },
        {
          "output_type": "stream",
          "name": "stdout",
          "text": [
            "\n",
            "      Epoch    GPU_mem   box_loss   cls_loss   dfl_loss  Instances       Size\n"
          ]
        },
        {
          "output_type": "stream",
          "name": "stderr",
          "text": [
            "       9/50      3.63G      1.644      1.024      1.065        243        640: 100%|██████████| 14/14 [00:41<00:00,  2.99s/it]\n",
            "                 Class     Images  Instances      Box(P          R      mAP50  mAP50-95): 100%|██████████| 2/2 [00:00<00:00,  2.33it/s]"
          ]
        },
        {
          "output_type": "stream",
          "name": "stdout",
          "text": [
            "                   all         52       2114      0.789      0.823      0.816      0.412\n"
          ]
        },
        {
          "output_type": "stream",
          "name": "stderr",
          "text": [
            "\n"
          ]
        },
        {
          "output_type": "stream",
          "name": "stdout",
          "text": [
            "\n",
            "      Epoch    GPU_mem   box_loss   cls_loss   dfl_loss  Instances       Size\n"
          ]
        },
        {
          "output_type": "stream",
          "name": "stderr",
          "text": [
            "      10/50      3.95G      1.623     0.9561      1.043        495        640: 100%|██████████| 14/14 [00:38<00:00,  2.78s/it]\n",
            "                 Class     Images  Instances      Box(P          R      mAP50  mAP50-95): 100%|██████████| 2/2 [00:01<00:00,  1.30it/s]"
          ]
        },
        {
          "output_type": "stream",
          "name": "stdout",
          "text": [
            "                   all         52       2114      0.767      0.825      0.803      0.396\n"
          ]
        },
        {
          "output_type": "stream",
          "name": "stderr",
          "text": [
            "\n"
          ]
        },
        {
          "output_type": "stream",
          "name": "stdout",
          "text": [
            "\n",
            "      Epoch    GPU_mem   box_loss   cls_loss   dfl_loss  Instances       Size\n"
          ]
        },
        {
          "output_type": "stream",
          "name": "stderr",
          "text": [
            "      11/50      5.46G      1.613     0.9188      1.071        338        640: 100%|██████████| 14/14 [00:43<00:00,  3.14s/it]\n",
            "                 Class     Images  Instances      Box(P          R      mAP50  mAP50-95): 100%|██████████| 2/2 [00:01<00:00,  1.09it/s]"
          ]
        },
        {
          "output_type": "stream",
          "name": "stdout",
          "text": [
            "                   all         52       2114      0.772      0.842      0.796      0.403\n"
          ]
        },
        {
          "output_type": "stream",
          "name": "stderr",
          "text": [
            "\n"
          ]
        },
        {
          "output_type": "stream",
          "name": "stdout",
          "text": [
            "\n",
            "      Epoch    GPU_mem   box_loss   cls_loss   dfl_loss  Instances       Size\n"
          ]
        },
        {
          "output_type": "stream",
          "name": "stderr",
          "text": [
            "      12/50      3.73G      1.617     0.9535      1.067        177        640: 100%|██████████| 14/14 [00:41<00:00,  2.93s/it]\n",
            "                 Class     Images  Instances      Box(P          R      mAP50  mAP50-95): 100%|██████████| 2/2 [00:01<00:00,  1.82it/s]"
          ]
        },
        {
          "output_type": "stream",
          "name": "stdout",
          "text": [
            "                   all         52       2114      0.785      0.827      0.836      0.398\n"
          ]
        },
        {
          "output_type": "stream",
          "name": "stderr",
          "text": [
            "\n"
          ]
        },
        {
          "output_type": "stream",
          "name": "stdout",
          "text": [
            "\n",
            "      Epoch    GPU_mem   box_loss   cls_loss   dfl_loss  Instances       Size\n"
          ]
        },
        {
          "output_type": "stream",
          "name": "stderr",
          "text": [
            "      13/50      3.75G       1.63     0.9268      1.054        432        640: 100%|██████████| 14/14 [00:37<00:00,  2.69s/it]\n",
            "                 Class     Images  Instances      Box(P          R      mAP50  mAP50-95): 100%|██████████| 2/2 [00:01<00:00,  1.55it/s]"
          ]
        },
        {
          "output_type": "stream",
          "name": "stdout",
          "text": [
            "                   all         52       2114      0.818      0.856       0.85      0.426\n"
          ]
        },
        {
          "output_type": "stream",
          "name": "stderr",
          "text": [
            "\n"
          ]
        },
        {
          "output_type": "stream",
          "name": "stdout",
          "text": [
            "\n",
            "      Epoch    GPU_mem   box_loss   cls_loss   dfl_loss  Instances       Size\n"
          ]
        },
        {
          "output_type": "stream",
          "name": "stderr",
          "text": [
            "      14/50      4.38G      1.607     0.8942      1.053        267        640: 100%|██████████| 14/14 [00:38<00:00,  2.78s/it]\n",
            "                 Class     Images  Instances      Box(P          R      mAP50  mAP50-95): 100%|██████████| 2/2 [00:00<00:00,  2.15it/s]"
          ]
        },
        {
          "output_type": "stream",
          "name": "stdout",
          "text": [
            "                   all         52       2114      0.814      0.832      0.835      0.411\n"
          ]
        },
        {
          "output_type": "stream",
          "name": "stderr",
          "text": [
            "\n"
          ]
        },
        {
          "output_type": "stream",
          "name": "stdout",
          "text": [
            "\n",
            "      Epoch    GPU_mem   box_loss   cls_loss   dfl_loss  Instances       Size\n"
          ]
        },
        {
          "output_type": "stream",
          "name": "stderr",
          "text": [
            "      15/50      4.34G      1.578      0.891      1.052        507        640: 100%|██████████| 14/14 [00:37<00:00,  2.64s/it]\n",
            "                 Class     Images  Instances      Box(P          R      mAP50  mAP50-95): 100%|██████████| 2/2 [00:01<00:00,  1.86it/s]"
          ]
        },
        {
          "output_type": "stream",
          "name": "stdout",
          "text": [
            "                   all         52       2114      0.831      0.851      0.866      0.445\n"
          ]
        },
        {
          "output_type": "stream",
          "name": "stderr",
          "text": [
            "\n"
          ]
        },
        {
          "output_type": "stream",
          "name": "stdout",
          "text": [
            "\n",
            "      Epoch    GPU_mem   box_loss   cls_loss   dfl_loss  Instances       Size\n"
          ]
        },
        {
          "output_type": "stream",
          "name": "stderr",
          "text": [
            "      16/50      4.44G       1.55     0.8761      1.027        306        640: 100%|██████████| 14/14 [00:40<00:00,  2.92s/it]\n",
            "                 Class     Images  Instances      Box(P          R      mAP50  mAP50-95): 100%|██████████| 2/2 [00:00<00:00,  2.16it/s]"
          ]
        },
        {
          "output_type": "stream",
          "name": "stdout",
          "text": [
            "                   all         52       2114       0.81      0.847      0.857      0.442\n"
          ]
        },
        {
          "output_type": "stream",
          "name": "stderr",
          "text": [
            "\n"
          ]
        },
        {
          "output_type": "stream",
          "name": "stdout",
          "text": [
            "\n",
            "      Epoch    GPU_mem   box_loss   cls_loss   dfl_loss  Instances       Size\n"
          ]
        },
        {
          "output_type": "stream",
          "name": "stderr",
          "text": [
            "      17/50      4.18G       1.55     0.8802      1.042        283        640: 100%|██████████| 14/14 [00:41<00:00,  2.94s/it]\n",
            "                 Class     Images  Instances      Box(P          R      mAP50  mAP50-95): 100%|██████████| 2/2 [00:01<00:00,  1.86it/s]"
          ]
        },
        {
          "output_type": "stream",
          "name": "stdout",
          "text": [
            "                   all         52       2114      0.833      0.862      0.887      0.459\n"
          ]
        },
        {
          "output_type": "stream",
          "name": "stderr",
          "text": [
            "\n"
          ]
        },
        {
          "output_type": "stream",
          "name": "stdout",
          "text": [
            "\n",
            "      Epoch    GPU_mem   box_loss   cls_loss   dfl_loss  Instances       Size\n"
          ]
        },
        {
          "output_type": "stream",
          "name": "stderr",
          "text": [
            "      18/50       4.5G      1.552     0.8521       1.03        413        640: 100%|██████████| 14/14 [00:38<00:00,  2.77s/it]\n",
            "                 Class     Images  Instances      Box(P          R      mAP50  mAP50-95): 100%|██████████| 2/2 [00:01<00:00,  1.43it/s]"
          ]
        },
        {
          "output_type": "stream",
          "name": "stdout",
          "text": [
            "                   all         52       2114      0.842      0.869      0.879      0.466\n"
          ]
        },
        {
          "output_type": "stream",
          "name": "stderr",
          "text": [
            "\n"
          ]
        },
        {
          "output_type": "stream",
          "name": "stdout",
          "text": [
            "\n",
            "      Epoch    GPU_mem   box_loss   cls_loss   dfl_loss  Instances       Size\n"
          ]
        },
        {
          "output_type": "stream",
          "name": "stderr",
          "text": [
            "      19/50      3.92G       1.56     0.8409      1.025        304        640: 100%|██████████| 14/14 [00:38<00:00,  2.73s/it]\n",
            "                 Class     Images  Instances      Box(P          R      mAP50  mAP50-95): 100%|██████████| 2/2 [00:01<00:00,  1.31it/s]"
          ]
        },
        {
          "output_type": "stream",
          "name": "stdout",
          "text": [
            "                   all         52       2114      0.836      0.851       0.88      0.457\n"
          ]
        },
        {
          "output_type": "stream",
          "name": "stderr",
          "text": [
            "\n"
          ]
        },
        {
          "output_type": "stream",
          "name": "stdout",
          "text": [
            "\n",
            "      Epoch    GPU_mem   box_loss   cls_loss   dfl_loss  Instances       Size\n"
          ]
        },
        {
          "output_type": "stream",
          "name": "stderr",
          "text": [
            "      20/50      3.24G      1.534      0.866      1.051        366        640: 100%|██████████| 14/14 [00:37<00:00,  2.66s/it]\n",
            "                 Class     Images  Instances      Box(P          R      mAP50  mAP50-95): 100%|██████████| 2/2 [00:01<00:00,  1.11it/s]"
          ]
        },
        {
          "output_type": "stream",
          "name": "stdout",
          "text": [
            "                   all         52       2114      0.797      0.839      0.845       0.42\n"
          ]
        },
        {
          "output_type": "stream",
          "name": "stderr",
          "text": [
            "\n"
          ]
        },
        {
          "output_type": "stream",
          "name": "stdout",
          "text": [
            "\n",
            "      Epoch    GPU_mem   box_loss   cls_loss   dfl_loss  Instances       Size\n"
          ]
        },
        {
          "output_type": "stream",
          "name": "stderr",
          "text": [
            "      21/50      5.13G      1.554      0.835      1.029        497        640: 100%|██████████| 14/14 [00:36<00:00,  2.64s/it]\n",
            "                 Class     Images  Instances      Box(P          R      mAP50  mAP50-95): 100%|██████████| 2/2 [00:02<00:00,  1.00s/it]"
          ]
        },
        {
          "output_type": "stream",
          "name": "stdout",
          "text": [
            "                   all         52       2114      0.805      0.833      0.852      0.435\n"
          ]
        },
        {
          "output_type": "stream",
          "name": "stderr",
          "text": [
            "\n"
          ]
        },
        {
          "output_type": "stream",
          "name": "stdout",
          "text": [
            "\n",
            "      Epoch    GPU_mem   box_loss   cls_loss   dfl_loss  Instances       Size\n"
          ]
        },
        {
          "output_type": "stream",
          "name": "stderr",
          "text": [
            "      22/50      5.55G      1.555     0.8268       1.03        327        640: 100%|██████████| 14/14 [00:38<00:00,  2.74s/it]\n",
            "                 Class     Images  Instances      Box(P          R      mAP50  mAP50-95): 100%|██████████| 2/2 [00:01<00:00,  1.15it/s]"
          ]
        },
        {
          "output_type": "stream",
          "name": "stdout",
          "text": [
            "                   all         52       2114      0.807      0.851      0.853      0.436\n"
          ]
        },
        {
          "output_type": "stream",
          "name": "stderr",
          "text": [
            "\n"
          ]
        },
        {
          "output_type": "stream",
          "name": "stdout",
          "text": [
            "\n",
            "      Epoch    GPU_mem   box_loss   cls_loss   dfl_loss  Instances       Size\n"
          ]
        },
        {
          "output_type": "stream",
          "name": "stderr",
          "text": [
            "      23/50      4.46G      1.521     0.8315      1.031        318        640: 100%|██████████| 14/14 [00:39<00:00,  2.81s/it]\n",
            "                 Class     Images  Instances      Box(P          R      mAP50  mAP50-95): 100%|██████████| 2/2 [00:00<00:00,  2.03it/s]"
          ]
        },
        {
          "output_type": "stream",
          "name": "stdout",
          "text": [
            "                   all         52       2114      0.811      0.833      0.871      0.435\n"
          ]
        },
        {
          "output_type": "stream",
          "name": "stderr",
          "text": [
            "\n"
          ]
        },
        {
          "output_type": "stream",
          "name": "stdout",
          "text": [
            "\n",
            "      Epoch    GPU_mem   box_loss   cls_loss   dfl_loss  Instances       Size\n"
          ]
        },
        {
          "output_type": "stream",
          "name": "stderr",
          "text": [
            "      24/50      3.66G      1.502     0.8174      1.019        470        640: 100%|██████████| 14/14 [00:39<00:00,  2.80s/it]\n",
            "                 Class     Images  Instances      Box(P          R      mAP50  mAP50-95): 100%|██████████| 2/2 [00:00<00:00,  2.03it/s]"
          ]
        },
        {
          "output_type": "stream",
          "name": "stdout",
          "text": [
            "                   all         52       2114      0.822      0.862      0.864      0.439\n"
          ]
        },
        {
          "output_type": "stream",
          "name": "stderr",
          "text": [
            "\n"
          ]
        },
        {
          "output_type": "stream",
          "name": "stdout",
          "text": [
            "\n",
            "      Epoch    GPU_mem   box_loss   cls_loss   dfl_loss  Instances       Size\n"
          ]
        },
        {
          "output_type": "stream",
          "name": "stderr",
          "text": [
            "      25/50      3.21G      1.497      0.805      1.028        339        640: 100%|██████████| 14/14 [00:37<00:00,  2.69s/it]\n",
            "                 Class     Images  Instances      Box(P          R      mAP50  mAP50-95): 100%|██████████| 2/2 [00:01<00:00,  1.88it/s]"
          ]
        },
        {
          "output_type": "stream",
          "name": "stdout",
          "text": [
            "                   all         52       2114      0.831      0.875      0.875      0.472\n"
          ]
        },
        {
          "output_type": "stream",
          "name": "stderr",
          "text": [
            "\n"
          ]
        },
        {
          "output_type": "stream",
          "name": "stdout",
          "text": [
            "\n",
            "      Epoch    GPU_mem   box_loss   cls_loss   dfl_loss  Instances       Size\n"
          ]
        },
        {
          "output_type": "stream",
          "name": "stderr",
          "text": [
            "      26/50      3.91G      1.482     0.8149       1.03        209        640: 100%|██████████| 14/14 [00:39<00:00,  2.80s/it]\n",
            "                 Class     Images  Instances      Box(P          R      mAP50  mAP50-95): 100%|██████████| 2/2 [00:00<00:00,  2.10it/s]"
          ]
        },
        {
          "output_type": "stream",
          "name": "stdout",
          "text": [
            "                   all         52       2114      0.851       0.87      0.896      0.483\n"
          ]
        },
        {
          "output_type": "stream",
          "name": "stderr",
          "text": [
            "\n"
          ]
        },
        {
          "output_type": "stream",
          "name": "stdout",
          "text": [
            "\n",
            "      Epoch    GPU_mem   box_loss   cls_loss   dfl_loss  Instances       Size\n"
          ]
        },
        {
          "output_type": "stream",
          "name": "stderr",
          "text": [
            "      27/50      4.24G      1.507     0.7981      1.018        231        640: 100%|██████████| 14/14 [00:44<00:00,  3.19s/it]\n",
            "                 Class     Images  Instances      Box(P          R      mAP50  mAP50-95): 100%|██████████| 2/2 [00:00<00:00,  2.29it/s]"
          ]
        },
        {
          "output_type": "stream",
          "name": "stdout",
          "text": [
            "                   all         52       2114       0.84      0.883      0.891      0.472\n"
          ]
        },
        {
          "output_type": "stream",
          "name": "stderr",
          "text": [
            "\n"
          ]
        },
        {
          "output_type": "stream",
          "name": "stdout",
          "text": [
            "\n",
            "      Epoch    GPU_mem   box_loss   cls_loss   dfl_loss  Instances       Size\n"
          ]
        },
        {
          "output_type": "stream",
          "name": "stderr",
          "text": [
            "      28/50      3.28G      1.507     0.7829      1.025        459        640: 100%|██████████| 14/14 [00:41<00:00,  2.98s/it]\n",
            "                 Class     Images  Instances      Box(P          R      mAP50  mAP50-95): 100%|██████████| 2/2 [00:00<00:00,  2.13it/s]"
          ]
        },
        {
          "output_type": "stream",
          "name": "stdout",
          "text": [
            "                   all         52       2114      0.846      0.894      0.894      0.474\n"
          ]
        },
        {
          "output_type": "stream",
          "name": "stderr",
          "text": [
            "\n"
          ]
        },
        {
          "output_type": "stream",
          "name": "stdout",
          "text": [
            "\n",
            "      Epoch    GPU_mem   box_loss   cls_loss   dfl_loss  Instances       Size\n"
          ]
        },
        {
          "output_type": "stream",
          "name": "stderr",
          "text": [
            "      29/50      4.84G      1.557     0.8023      1.036        244        640: 100%|██████████| 14/14 [00:36<00:00,  2.63s/it]\n",
            "                 Class     Images  Instances      Box(P          R      mAP50  mAP50-95): 100%|██████████| 2/2 [00:01<00:00,  1.20it/s]"
          ]
        },
        {
          "output_type": "stream",
          "name": "stdout",
          "text": [
            "                   all         52       2114      0.853      0.872      0.884      0.458\n"
          ]
        },
        {
          "output_type": "stream",
          "name": "stderr",
          "text": [
            "\n"
          ]
        },
        {
          "output_type": "stream",
          "name": "stdout",
          "text": [
            "\n",
            "      Epoch    GPU_mem   box_loss   cls_loss   dfl_loss  Instances       Size\n"
          ]
        },
        {
          "output_type": "stream",
          "name": "stderr",
          "text": [
            "      30/50      3.49G      1.496     0.7867      1.016        355        640: 100%|██████████| 14/14 [00:38<00:00,  2.74s/it]\n",
            "                 Class     Images  Instances      Box(P          R      mAP50  mAP50-95): 100%|██████████| 2/2 [00:01<00:00,  1.26it/s]"
          ]
        },
        {
          "output_type": "stream",
          "name": "stdout",
          "text": [
            "                   all         52       2114      0.851      0.895      0.899      0.488\n"
          ]
        },
        {
          "output_type": "stream",
          "name": "stderr",
          "text": [
            "\n"
          ]
        },
        {
          "output_type": "stream",
          "name": "stdout",
          "text": [
            "\n",
            "      Epoch    GPU_mem   box_loss   cls_loss   dfl_loss  Instances       Size\n"
          ]
        },
        {
          "output_type": "stream",
          "name": "stderr",
          "text": [
            "      31/50      4.73G      1.511     0.7931      1.031        239        640: 100%|██████████| 14/14 [00:33<00:00,  2.42s/it]\n",
            "                 Class     Images  Instances      Box(P          R      mAP50  mAP50-95): 100%|██████████| 2/2 [00:01<00:00,  1.23it/s]"
          ]
        },
        {
          "output_type": "stream",
          "name": "stdout",
          "text": [
            "                   all         52       2114      0.844      0.892      0.899      0.489\n"
          ]
        },
        {
          "output_type": "stream",
          "name": "stderr",
          "text": [
            "\n"
          ]
        },
        {
          "output_type": "stream",
          "name": "stdout",
          "text": [
            "\n",
            "      Epoch    GPU_mem   box_loss   cls_loss   dfl_loss  Instances       Size\n"
          ]
        },
        {
          "output_type": "stream",
          "name": "stderr",
          "text": [
            "      32/50      4.49G      1.507     0.7676      1.024        394        640: 100%|██████████| 14/14 [00:48<00:00,  3.43s/it]\n",
            "                 Class     Images  Instances      Box(P          R      mAP50  mAP50-95): 100%|██████████| 2/2 [00:00<00:00,  2.03it/s]"
          ]
        },
        {
          "output_type": "stream",
          "name": "stdout",
          "text": [
            "                   all         52       2114      0.851      0.893      0.911      0.493\n"
          ]
        },
        {
          "output_type": "stream",
          "name": "stderr",
          "text": [
            "\n"
          ]
        },
        {
          "output_type": "stream",
          "name": "stdout",
          "text": [
            "\n",
            "      Epoch    GPU_mem   box_loss   cls_loss   dfl_loss  Instances       Size\n"
          ]
        },
        {
          "output_type": "stream",
          "name": "stderr",
          "text": [
            "      33/50      4.25G      1.482     0.7696       1.01        233        640: 100%|██████████| 14/14 [00:38<00:00,  2.72s/it]\n",
            "                 Class     Images  Instances      Box(P          R      mAP50  mAP50-95): 100%|██████████| 2/2 [00:00<00:00,  2.07it/s]"
          ]
        },
        {
          "output_type": "stream",
          "name": "stdout",
          "text": [
            "                   all         52       2114      0.858      0.897      0.913      0.501\n"
          ]
        },
        {
          "output_type": "stream",
          "name": "stderr",
          "text": [
            "\n"
          ]
        },
        {
          "output_type": "stream",
          "name": "stdout",
          "text": [
            "\n",
            "      Epoch    GPU_mem   box_loss   cls_loss   dfl_loss  Instances       Size\n"
          ]
        },
        {
          "output_type": "stream",
          "name": "stderr",
          "text": [
            "      34/50      4.29G      1.482     0.7631      1.012        470        640: 100%|██████████| 14/14 [00:38<00:00,  2.75s/it]\n",
            "                 Class     Images  Instances      Box(P          R      mAP50  mAP50-95): 100%|██████████| 2/2 [00:00<00:00,  2.34it/s]"
          ]
        },
        {
          "output_type": "stream",
          "name": "stdout",
          "text": [
            "                   all         52       2114      0.841      0.895      0.902      0.497\n"
          ]
        },
        {
          "output_type": "stream",
          "name": "stderr",
          "text": [
            "\n"
          ]
        },
        {
          "output_type": "stream",
          "name": "stdout",
          "text": [
            "\n",
            "      Epoch    GPU_mem   box_loss   cls_loss   dfl_loss  Instances       Size\n"
          ]
        },
        {
          "output_type": "stream",
          "name": "stderr",
          "text": [
            "      35/50      3.98G      1.498     0.7552      1.024        280        640: 100%|██████████| 14/14 [00:37<00:00,  2.67s/it]\n",
            "                 Class     Images  Instances      Box(P          R      mAP50  mAP50-95): 100%|██████████| 2/2 [00:01<00:00,  1.99it/s]"
          ]
        },
        {
          "output_type": "stream",
          "name": "stdout",
          "text": [
            "                   all         52       2114      0.853      0.893      0.909      0.497\n"
          ]
        },
        {
          "output_type": "stream",
          "name": "stderr",
          "text": [
            "\n"
          ]
        },
        {
          "output_type": "stream",
          "name": "stdout",
          "text": [
            "\n",
            "      Epoch    GPU_mem   box_loss   cls_loss   dfl_loss  Instances       Size\n"
          ]
        },
        {
          "output_type": "stream",
          "name": "stderr",
          "text": [
            "      36/50      4.49G      1.507     0.7457      1.013        294        640: 100%|██████████| 14/14 [00:38<00:00,  2.78s/it]\n",
            "                 Class     Images  Instances      Box(P          R      mAP50  mAP50-95): 100%|██████████| 2/2 [00:00<00:00,  2.19it/s]"
          ]
        },
        {
          "output_type": "stream",
          "name": "stdout",
          "text": [
            "                   all         52       2114      0.859      0.898      0.914      0.499\n"
          ]
        },
        {
          "output_type": "stream",
          "name": "stderr",
          "text": [
            "\n"
          ]
        },
        {
          "output_type": "stream",
          "name": "stdout",
          "text": [
            "\n",
            "      Epoch    GPU_mem   box_loss   cls_loss   dfl_loss  Instances       Size\n"
          ]
        },
        {
          "output_type": "stream",
          "name": "stderr",
          "text": [
            "      37/50       3.4G      1.444     0.7333      1.013        206        640: 100%|██████████| 14/14 [00:43<00:00,  3.14s/it]\n",
            "                 Class     Images  Instances      Box(P          R      mAP50  mAP50-95): 100%|██████████| 2/2 [00:01<00:00,  1.16it/s]"
          ]
        },
        {
          "output_type": "stream",
          "name": "stdout",
          "text": [
            "                   all         52       2114      0.865       0.89      0.905      0.499\n"
          ]
        },
        {
          "output_type": "stream",
          "name": "stderr",
          "text": [
            "\n"
          ]
        },
        {
          "output_type": "stream",
          "name": "stdout",
          "text": [
            "\n",
            "      Epoch    GPU_mem   box_loss   cls_loss   dfl_loss  Instances       Size\n"
          ]
        },
        {
          "output_type": "stream",
          "name": "stderr",
          "text": [
            "      38/50      3.95G      1.472     0.7296      1.001        444        640: 100%|██████████| 14/14 [00:35<00:00,  2.54s/it]\n",
            "                 Class     Images  Instances      Box(P          R      mAP50  mAP50-95): 100%|██████████| 2/2 [00:01<00:00,  1.15it/s]"
          ]
        },
        {
          "output_type": "stream",
          "name": "stdout",
          "text": [
            "                   all         52       2114      0.865      0.894      0.919      0.506\n"
          ]
        },
        {
          "output_type": "stream",
          "name": "stderr",
          "text": [
            "\n"
          ]
        },
        {
          "output_type": "stream",
          "name": "stdout",
          "text": [
            "\n",
            "      Epoch    GPU_mem   box_loss   cls_loss   dfl_loss  Instances       Size\n"
          ]
        },
        {
          "output_type": "stream",
          "name": "stderr",
          "text": [
            "      39/50      4.44G      1.466     0.7268       1.01        470        640: 100%|██████████| 14/14 [00:32<00:00,  2.31s/it]\n",
            "                 Class     Images  Instances      Box(P          R      mAP50  mAP50-95): 100%|██████████| 2/2 [00:01<00:00,  1.30it/s]"
          ]
        },
        {
          "output_type": "stream",
          "name": "stdout",
          "text": [
            "                   all         52       2114       0.85       0.91       0.91      0.502\n"
          ]
        },
        {
          "output_type": "stream",
          "name": "stderr",
          "text": [
            "\n"
          ]
        },
        {
          "output_type": "stream",
          "name": "stdout",
          "text": [
            "\n",
            "      Epoch    GPU_mem   box_loss   cls_loss   dfl_loss  Instances       Size\n"
          ]
        },
        {
          "output_type": "stream",
          "name": "stderr",
          "text": [
            "      40/50      4.07G      1.466      0.747      1.013        520        640: 100%|██████████| 14/14 [00:37<00:00,  2.66s/it]\n",
            "                 Class     Images  Instances      Box(P          R      mAP50  mAP50-95): 100%|██████████| 2/2 [00:01<00:00,  1.12it/s]"
          ]
        },
        {
          "output_type": "stream",
          "name": "stdout",
          "text": [
            "                   all         52       2114      0.853      0.912      0.914      0.509\n"
          ]
        },
        {
          "output_type": "stream",
          "name": "stderr",
          "text": [
            "\n"
          ]
        },
        {
          "output_type": "stream",
          "name": "stdout",
          "text": [
            "Closing dataloader mosaic\n",
            "\u001b[34m\u001b[1malbumentations: \u001b[0mBlur(p=0.01, blur_limit=(3, 7)), MedianBlur(p=0.01, blur_limit=(3, 7)), ToGray(p=0.01), CLAHE(p=0.01, clip_limit=(1, 4.0), tile_grid_size=(8, 8))\n"
          ]
        },
        {
          "output_type": "stream",
          "name": "stderr",
          "text": [
            "/usr/lib/python3.10/multiprocessing/popen_fork.py:66: RuntimeWarning: os.fork() was called. os.fork() is incompatible with multithreaded code, and JAX is multithreaded, so this will likely lead to a deadlock.\n",
            "  self.pid = os.fork()\n"
          ]
        },
        {
          "output_type": "stream",
          "name": "stdout",
          "text": [
            "\n",
            "      Epoch    GPU_mem   box_loss   cls_loss   dfl_loss  Instances       Size\n"
          ]
        },
        {
          "output_type": "stream",
          "name": "stderr",
          "text": [
            "      41/50      3.83G      1.498     0.8147      1.045        146        640: 100%|██████████| 14/14 [01:20<00:00,  5.73s/it]\n",
            "                 Class     Images  Instances      Box(P          R      mAP50  mAP50-95): 100%|██████████| 2/2 [00:01<00:00,  1.73it/s]"
          ]
        },
        {
          "output_type": "stream",
          "name": "stdout",
          "text": [
            "                   all         52       2114       0.86      0.901      0.911      0.504\n"
          ]
        },
        {
          "output_type": "stream",
          "name": "stderr",
          "text": [
            "\n"
          ]
        },
        {
          "output_type": "stream",
          "name": "stdout",
          "text": [
            "\n",
            "      Epoch    GPU_mem   box_loss   cls_loss   dfl_loss  Instances       Size\n"
          ]
        },
        {
          "output_type": "stream",
          "name": "stderr",
          "text": [
            "      42/50      3.33G      1.502     0.7769       1.04        236        640: 100%|██████████| 14/14 [00:39<00:00,  2.82s/it]\n",
            "                 Class     Images  Instances      Box(P          R      mAP50  mAP50-95): 100%|██████████| 2/2 [00:00<00:00,  2.18it/s]"
          ]
        },
        {
          "output_type": "stream",
          "name": "stdout",
          "text": [
            "                   all         52       2114      0.841      0.901      0.902      0.494\n"
          ]
        },
        {
          "output_type": "stream",
          "name": "stderr",
          "text": [
            "\n"
          ]
        },
        {
          "output_type": "stream",
          "name": "stdout",
          "text": [
            "\n",
            "      Epoch    GPU_mem   box_loss   cls_loss   dfl_loss  Instances       Size\n"
          ]
        },
        {
          "output_type": "stream",
          "name": "stderr",
          "text": [
            "      43/50      3.04G      1.473     0.7549      1.042        231        640: 100%|██████████| 14/14 [00:40<00:00,  2.87s/it]\n",
            "                 Class     Images  Instances      Box(P          R      mAP50  mAP50-95): 100%|██████████| 2/2 [00:00<00:00,  2.01it/s]"
          ]
        },
        {
          "output_type": "stream",
          "name": "stdout",
          "text": [
            "                   all         52       2114      0.835      0.911      0.899      0.498\n"
          ]
        },
        {
          "output_type": "stream",
          "name": "stderr",
          "text": [
            "\n"
          ]
        },
        {
          "output_type": "stream",
          "name": "stdout",
          "text": [
            "\n",
            "      Epoch    GPU_mem   box_loss   cls_loss   dfl_loss  Instances       Size\n"
          ]
        },
        {
          "output_type": "stream",
          "name": "stderr",
          "text": [
            "      44/50      3.85G      1.459     0.7384      1.019        186        640: 100%|██████████| 14/14 [00:37<00:00,  2.66s/it]\n",
            "                 Class     Images  Instances      Box(P          R      mAP50  mAP50-95): 100%|██████████| 2/2 [00:00<00:00,  2.12it/s]"
          ]
        },
        {
          "output_type": "stream",
          "name": "stdout",
          "text": [
            "                   all         52       2114      0.842      0.914       0.91      0.498\n"
          ]
        },
        {
          "output_type": "stream",
          "name": "stderr",
          "text": [
            "\n"
          ]
        },
        {
          "output_type": "stream",
          "name": "stdout",
          "text": [
            "\n",
            "      Epoch    GPU_mem   box_loss   cls_loss   dfl_loss  Instances       Size\n"
          ]
        },
        {
          "output_type": "stream",
          "name": "stderr",
          "text": [
            "      45/50      3.93G      1.448     0.7248     0.9986        433        640: 100%|██████████| 14/14 [00:38<00:00,  2.75s/it]\n",
            "                 Class     Images  Instances      Box(P          R      mAP50  mAP50-95): 100%|██████████| 2/2 [00:01<00:00,  1.34it/s]"
          ]
        },
        {
          "output_type": "stream",
          "name": "stdout",
          "text": [
            "                   all         52       2114      0.862      0.895      0.917      0.498\n"
          ]
        },
        {
          "output_type": "stream",
          "name": "stderr",
          "text": [
            "\n"
          ]
        },
        {
          "output_type": "stream",
          "name": "stdout",
          "text": [
            "\n",
            "      Epoch    GPU_mem   box_loss   cls_loss   dfl_loss  Instances       Size\n"
          ]
        },
        {
          "output_type": "stream",
          "name": "stderr",
          "text": [
            "      46/50      3.29G      1.453     0.7173      1.018        319        640: 100%|██████████| 14/14 [00:43<00:00,  3.09s/it]\n",
            "                 Class     Images  Instances      Box(P          R      mAP50  mAP50-95): 100%|██████████| 2/2 [00:01<00:00,  1.12it/s]"
          ]
        },
        {
          "output_type": "stream",
          "name": "stdout",
          "text": [
            "                   all         52       2114      0.857      0.907      0.915      0.505\n"
          ]
        },
        {
          "output_type": "stream",
          "name": "stderr",
          "text": [
            "\n"
          ]
        },
        {
          "output_type": "stream",
          "name": "stdout",
          "text": [
            "\n",
            "      Epoch    GPU_mem   box_loss   cls_loss   dfl_loss  Instances       Size\n"
          ]
        },
        {
          "output_type": "stream",
          "name": "stderr",
          "text": [
            "      47/50      3.51G      1.437     0.7096      1.016        256        640: 100%|██████████| 14/14 [00:40<00:00,  2.89s/it]\n",
            "                 Class     Images  Instances      Box(P          R      mAP50  mAP50-95): 100%|██████████| 2/2 [00:00<00:00,  2.29it/s]"
          ]
        },
        {
          "output_type": "stream",
          "name": "stdout",
          "text": [
            "                   all         52       2114      0.853       0.91      0.912      0.506\n"
          ]
        },
        {
          "output_type": "stream",
          "name": "stderr",
          "text": [
            "\n"
          ]
        },
        {
          "output_type": "stream",
          "name": "stdout",
          "text": [
            "\n",
            "      Epoch    GPU_mem   box_loss   cls_loss   dfl_loss  Instances       Size\n"
          ]
        },
        {
          "output_type": "stream",
          "name": "stderr",
          "text": [
            "      48/50      3.19G      1.443     0.7017      1.017        153        640: 100%|██████████| 14/14 [00:41<00:00,  2.95s/it]\n",
            "                 Class     Images  Instances      Box(P          R      mAP50  mAP50-95): 100%|██████████| 2/2 [00:00<00:00,  2.10it/s]"
          ]
        },
        {
          "output_type": "stream",
          "name": "stdout",
          "text": [
            "                   all         52       2114      0.859      0.908      0.923       0.51\n"
          ]
        },
        {
          "output_type": "stream",
          "name": "stderr",
          "text": [
            "\n"
          ]
        },
        {
          "output_type": "stream",
          "name": "stdout",
          "text": [
            "\n",
            "      Epoch    GPU_mem   box_loss   cls_loss   dfl_loss  Instances       Size\n"
          ]
        },
        {
          "output_type": "stream",
          "name": "stderr",
          "text": [
            "      49/50      3.88G      1.428     0.7055      1.002        403        640: 100%|██████████| 14/14 [00:38<00:00,  2.72s/it]\n",
            "                 Class     Images  Instances      Box(P          R      mAP50  mAP50-95): 100%|██████████| 2/2 [00:00<00:00,  2.04it/s]"
          ]
        },
        {
          "output_type": "stream",
          "name": "stdout",
          "text": [
            "                   all         52       2114      0.868      0.908      0.931      0.514\n"
          ]
        },
        {
          "output_type": "stream",
          "name": "stderr",
          "text": [
            "\n"
          ]
        },
        {
          "output_type": "stream",
          "name": "stdout",
          "text": [
            "\n",
            "      Epoch    GPU_mem   box_loss   cls_loss   dfl_loss  Instances       Size\n"
          ]
        },
        {
          "output_type": "stream",
          "name": "stderr",
          "text": [
            "      50/50      4.32G      1.427      0.688      1.013        222        640: 100%|██████████| 14/14 [00:37<00:00,  2.71s/it]\n",
            "                 Class     Images  Instances      Box(P          R      mAP50  mAP50-95): 100%|██████████| 2/2 [00:00<00:00,  2.14it/s]"
          ]
        },
        {
          "output_type": "stream",
          "name": "stdout",
          "text": [
            "                   all         52       2114       0.87      0.909      0.932      0.516\n"
          ]
        },
        {
          "output_type": "stream",
          "name": "stderr",
          "text": [
            "\n"
          ]
        },
        {
          "output_type": "stream",
          "name": "stdout",
          "text": [
            "\n",
            "50 epochs completed in 0.634 hours.\n",
            "Optimizer stripped from runs/detect/train2/weights/last.pt, 6.2MB\n",
            "Optimizer stripped from runs/detect/train2/weights/best.pt, 6.2MB\n",
            "\n",
            "Validating runs/detect/train2/weights/best.pt...\n",
            "Ultralytics YOLOv8.2.35 🚀 Python-3.10.12 torch-2.3.0+cu121 CUDA:0 (Tesla T4, 15102MiB)\n",
            "Model summary (fused): 168 layers, 3005843 parameters, 0 gradients, 8.1 GFLOPs\n"
          ]
        },
        {
          "output_type": "stream",
          "name": "stderr",
          "text": [
            "                 Class     Images  Instances      Box(P          R      mAP50  mAP50-95): 100%|██████████| 2/2 [00:03<00:00,  1.81s/it]\n"
          ]
        },
        {
          "output_type": "stream",
          "name": "stdout",
          "text": [
            "                   all         52       2114      0.872      0.909      0.932      0.517\n",
            "Speed: 0.4ms preprocess, 2.6ms inference, 0.0ms loss, 5.4ms postprocess per image\n",
            "Results saved to \u001b[1mruns/detect/train2\u001b[0m\n"
          ]
        },
        {
          "output_type": "execute_result",
          "data": {
            "text/plain": [
              "ultralytics.utils.metrics.DetMetrics object with attributes:\n",
              "\n",
              "ap_class_index: array([0])\n",
              "box: ultralytics.utils.metrics.Metric object\n",
              "confusion_matrix: <ultralytics.utils.metrics.ConfusionMatrix object at 0x7c1c1d598ca0>\n",
              "curves: ['Precision-Recall(B)', 'F1-Confidence(B)', 'Precision-Confidence(B)', 'Recall-Confidence(B)']\n",
              "curves_results: [[array([          0,    0.001001,    0.002002,    0.003003,    0.004004,    0.005005,    0.006006,    0.007007,    0.008008,    0.009009,     0.01001,    0.011011,    0.012012,    0.013013,    0.014014,    0.015015,    0.016016,    0.017017,    0.018018,    0.019019,     0.02002,    0.021021,    0.022022,    0.023023,\n",
              "          0.024024,    0.025025,    0.026026,    0.027027,    0.028028,    0.029029,     0.03003,    0.031031,    0.032032,    0.033033,    0.034034,    0.035035,    0.036036,    0.037037,    0.038038,    0.039039,     0.04004,    0.041041,    0.042042,    0.043043,    0.044044,    0.045045,    0.046046,    0.047047,\n",
              "          0.048048,    0.049049,     0.05005,    0.051051,    0.052052,    0.053053,    0.054054,    0.055055,    0.056056,    0.057057,    0.058058,    0.059059,     0.06006,    0.061061,    0.062062,    0.063063,    0.064064,    0.065065,    0.066066,    0.067067,    0.068068,    0.069069,     0.07007,    0.071071,\n",
              "          0.072072,    0.073073,    0.074074,    0.075075,    0.076076,    0.077077,    0.078078,    0.079079,     0.08008,    0.081081,    0.082082,    0.083083,    0.084084,    0.085085,    0.086086,    0.087087,    0.088088,    0.089089,     0.09009,    0.091091,    0.092092,    0.093093,    0.094094,    0.095095,\n",
              "          0.096096,    0.097097,    0.098098,    0.099099,      0.1001,      0.1011,      0.1021,      0.1031,      0.1041,     0.10511,     0.10611,     0.10711,     0.10811,     0.10911,     0.11011,     0.11111,     0.11211,     0.11311,     0.11411,     0.11512,     0.11612,     0.11712,     0.11812,     0.11912,\n",
              "           0.12012,     0.12112,     0.12212,     0.12312,     0.12412,     0.12513,     0.12613,     0.12713,     0.12813,     0.12913,     0.13013,     0.13113,     0.13213,     0.13313,     0.13413,     0.13514,     0.13614,     0.13714,     0.13814,     0.13914,     0.14014,     0.14114,     0.14214,     0.14314,\n",
              "           0.14414,     0.14515,     0.14615,     0.14715,     0.14815,     0.14915,     0.15015,     0.15115,     0.15215,     0.15315,     0.15415,     0.15516,     0.15616,     0.15716,     0.15816,     0.15916,     0.16016,     0.16116,     0.16216,     0.16316,     0.16416,     0.16517,     0.16617,     0.16717,\n",
              "           0.16817,     0.16917,     0.17017,     0.17117,     0.17217,     0.17317,     0.17417,     0.17518,     0.17618,     0.17718,     0.17818,     0.17918,     0.18018,     0.18118,     0.18218,     0.18318,     0.18418,     0.18519,     0.18619,     0.18719,     0.18819,     0.18919,     0.19019,     0.19119,\n",
              "           0.19219,     0.19319,     0.19419,      0.1952,      0.1962,      0.1972,      0.1982,      0.1992,      0.2002,      0.2012,      0.2022,      0.2032,      0.2042,     0.20521,     0.20621,     0.20721,     0.20821,     0.20921,     0.21021,     0.21121,     0.21221,     0.21321,     0.21421,     0.21522,\n",
              "           0.21622,     0.21722,     0.21822,     0.21922,     0.22022,     0.22122,     0.22222,     0.22322,     0.22422,     0.22523,     0.22623,     0.22723,     0.22823,     0.22923,     0.23023,     0.23123,     0.23223,     0.23323,     0.23423,     0.23524,     0.23624,     0.23724,     0.23824,     0.23924,\n",
              "           0.24024,     0.24124,     0.24224,     0.24324,     0.24424,     0.24525,     0.24625,     0.24725,     0.24825,     0.24925,     0.25025,     0.25125,     0.25225,     0.25325,     0.25425,     0.25526,     0.25626,     0.25726,     0.25826,     0.25926,     0.26026,     0.26126,     0.26226,     0.26326,\n",
              "           0.26426,     0.26527,     0.26627,     0.26727,     0.26827,     0.26927,     0.27027,     0.27127,     0.27227,     0.27327,     0.27427,     0.27528,     0.27628,     0.27728,     0.27828,     0.27928,     0.28028,     0.28128,     0.28228,     0.28328,     0.28428,     0.28529,     0.28629,     0.28729,\n",
              "           0.28829,     0.28929,     0.29029,     0.29129,     0.29229,     0.29329,     0.29429,      0.2953,      0.2963,      0.2973,      0.2983,      0.2993,      0.3003,      0.3013,      0.3023,      0.3033,      0.3043,     0.30531,     0.30631,     0.30731,     0.30831,     0.30931,     0.31031,     0.31131,\n",
              "           0.31231,     0.31331,     0.31431,     0.31532,     0.31632,     0.31732,     0.31832,     0.31932,     0.32032,     0.32132,     0.32232,     0.32332,     0.32432,     0.32533,     0.32633,     0.32733,     0.32833,     0.32933,     0.33033,     0.33133,     0.33233,     0.33333,     0.33433,     0.33534,\n",
              "           0.33634,     0.33734,     0.33834,     0.33934,     0.34034,     0.34134,     0.34234,     0.34334,     0.34434,     0.34535,     0.34635,     0.34735,     0.34835,     0.34935,     0.35035,     0.35135,     0.35235,     0.35335,     0.35435,     0.35536,     0.35636,     0.35736,     0.35836,     0.35936,\n",
              "           0.36036,     0.36136,     0.36236,     0.36336,     0.36436,     0.36537,     0.36637,     0.36737,     0.36837,     0.36937,     0.37037,     0.37137,     0.37237,     0.37337,     0.37437,     0.37538,     0.37638,     0.37738,     0.37838,     0.37938,     0.38038,     0.38138,     0.38238,     0.38338,\n",
              "           0.38438,     0.38539,     0.38639,     0.38739,     0.38839,     0.38939,     0.39039,     0.39139,     0.39239,     0.39339,     0.39439,      0.3954,      0.3964,      0.3974,      0.3984,      0.3994,      0.4004,      0.4014,      0.4024,      0.4034,      0.4044,     0.40541,     0.40641,     0.40741,\n",
              "           0.40841,     0.40941,     0.41041,     0.41141,     0.41241,     0.41341,     0.41441,     0.41542,     0.41642,     0.41742,     0.41842,     0.41942,     0.42042,     0.42142,     0.42242,     0.42342,     0.42442,     0.42543,     0.42643,     0.42743,     0.42843,     0.42943,     0.43043,     0.43143,\n",
              "           0.43243,     0.43343,     0.43443,     0.43544,     0.43644,     0.43744,     0.43844,     0.43944,     0.44044,     0.44144,     0.44244,     0.44344,     0.44444,     0.44545,     0.44645,     0.44745,     0.44845,     0.44945,     0.45045,     0.45145,     0.45245,     0.45345,     0.45445,     0.45546,\n",
              "           0.45646,     0.45746,     0.45846,     0.45946,     0.46046,     0.46146,     0.46246,     0.46346,     0.46446,     0.46547,     0.46647,     0.46747,     0.46847,     0.46947,     0.47047,     0.47147,     0.47247,     0.47347,     0.47447,     0.47548,     0.47648,     0.47748,     0.47848,     0.47948,\n",
              "           0.48048,     0.48148,     0.48248,     0.48348,     0.48448,     0.48549,     0.48649,     0.48749,     0.48849,     0.48949,     0.49049,     0.49149,     0.49249,     0.49349,     0.49449,      0.4955,      0.4965,      0.4975,      0.4985,      0.4995,      0.5005,      0.5015,      0.5025,      0.5035,\n",
              "            0.5045,     0.50551,     0.50651,     0.50751,     0.50851,     0.50951,     0.51051,     0.51151,     0.51251,     0.51351,     0.51451,     0.51552,     0.51652,     0.51752,     0.51852,     0.51952,     0.52052,     0.52152,     0.52252,     0.52352,     0.52452,     0.52553,     0.52653,     0.52753,\n",
              "           0.52853,     0.52953,     0.53053,     0.53153,     0.53253,     0.53353,     0.53453,     0.53554,     0.53654,     0.53754,     0.53854,     0.53954,     0.54054,     0.54154,     0.54254,     0.54354,     0.54454,     0.54555,     0.54655,     0.54755,     0.54855,     0.54955,     0.55055,     0.55155,\n",
              "           0.55255,     0.55355,     0.55455,     0.55556,     0.55656,     0.55756,     0.55856,     0.55956,     0.56056,     0.56156,     0.56256,     0.56356,     0.56456,     0.56557,     0.56657,     0.56757,     0.56857,     0.56957,     0.57057,     0.57157,     0.57257,     0.57357,     0.57457,     0.57558,\n",
              "           0.57658,     0.57758,     0.57858,     0.57958,     0.58058,     0.58158,     0.58258,     0.58358,     0.58458,     0.58559,     0.58659,     0.58759,     0.58859,     0.58959,     0.59059,     0.59159,     0.59259,     0.59359,     0.59459,      0.5956,      0.5966,      0.5976,      0.5986,      0.5996,\n",
              "            0.6006,      0.6016,      0.6026,      0.6036,      0.6046,     0.60561,     0.60661,     0.60761,     0.60861,     0.60961,     0.61061,     0.61161,     0.61261,     0.61361,     0.61461,     0.61562,     0.61662,     0.61762,     0.61862,     0.61962,     0.62062,     0.62162,     0.62262,     0.62362,\n",
              "           0.62462,     0.62563,     0.62663,     0.62763,     0.62863,     0.62963,     0.63063,     0.63163,     0.63263,     0.63363,     0.63463,     0.63564,     0.63664,     0.63764,     0.63864,     0.63964,     0.64064,     0.64164,     0.64264,     0.64364,     0.64464,     0.64565,     0.64665,     0.64765,\n",
              "           0.64865,     0.64965,     0.65065,     0.65165,     0.65265,     0.65365,     0.65465,     0.65566,     0.65666,     0.65766,     0.65866,     0.65966,     0.66066,     0.66166,     0.66266,     0.66366,     0.66466,     0.66567,     0.66667,     0.66767,     0.66867,     0.66967,     0.67067,     0.67167,\n",
              "           0.67267,     0.67367,     0.67467,     0.67568,     0.67668,     0.67768,     0.67868,     0.67968,     0.68068,     0.68168,     0.68268,     0.68368,     0.68468,     0.68569,     0.68669,     0.68769,     0.68869,     0.68969,     0.69069,     0.69169,     0.69269,     0.69369,     0.69469,      0.6957,\n",
              "            0.6967,      0.6977,      0.6987,      0.6997,      0.7007,      0.7017,      0.7027,      0.7037,      0.7047,     0.70571,     0.70671,     0.70771,     0.70871,     0.70971,     0.71071,     0.71171,     0.71271,     0.71371,     0.71471,     0.71572,     0.71672,     0.71772,     0.71872,     0.71972,\n",
              "           0.72072,     0.72172,     0.72272,     0.72372,     0.72472,     0.72573,     0.72673,     0.72773,     0.72873,     0.72973,     0.73073,     0.73173,     0.73273,     0.73373,     0.73473,     0.73574,     0.73674,     0.73774,     0.73874,     0.73974,     0.74074,     0.74174,     0.74274,     0.74374,\n",
              "           0.74474,     0.74575,     0.74675,     0.74775,     0.74875,     0.74975,     0.75075,     0.75175,     0.75275,     0.75375,     0.75475,     0.75576,     0.75676,     0.75776,     0.75876,     0.75976,     0.76076,     0.76176,     0.76276,     0.76376,     0.76476,     0.76577,     0.76677,     0.76777,\n",
              "           0.76877,     0.76977,     0.77077,     0.77177,     0.77277,     0.77377,     0.77477,     0.77578,     0.77678,     0.77778,     0.77878,     0.77978,     0.78078,     0.78178,     0.78278,     0.78378,     0.78478,     0.78579,     0.78679,     0.78779,     0.78879,     0.78979,     0.79079,     0.79179,\n",
              "           0.79279,     0.79379,     0.79479,      0.7958,      0.7968,      0.7978,      0.7988,      0.7998,      0.8008,      0.8018,      0.8028,      0.8038,      0.8048,     0.80581,     0.80681,     0.80781,     0.80881,     0.80981,     0.81081,     0.81181,     0.81281,     0.81381,     0.81481,     0.81582,\n",
              "           0.81682,     0.81782,     0.81882,     0.81982,     0.82082,     0.82182,     0.82282,     0.82382,     0.82482,     0.82583,     0.82683,     0.82783,     0.82883,     0.82983,     0.83083,     0.83183,     0.83283,     0.83383,     0.83483,     0.83584,     0.83684,     0.83784,     0.83884,     0.83984,\n",
              "           0.84084,     0.84184,     0.84284,     0.84384,     0.84484,     0.84585,     0.84685,     0.84785,     0.84885,     0.84985,     0.85085,     0.85185,     0.85285,     0.85385,     0.85485,     0.85586,     0.85686,     0.85786,     0.85886,     0.85986,     0.86086,     0.86186,     0.86286,     0.86386,\n",
              "           0.86486,     0.86587,     0.86687,     0.86787,     0.86887,     0.86987,     0.87087,     0.87187,     0.87287,     0.87387,     0.87487,     0.87588,     0.87688,     0.87788,     0.87888,     0.87988,     0.88088,     0.88188,     0.88288,     0.88388,     0.88488,     0.88589,     0.88689,     0.88789,\n",
              "           0.88889,     0.88989,     0.89089,     0.89189,     0.89289,     0.89389,     0.89489,      0.8959,      0.8969,      0.8979,      0.8989,      0.8999,      0.9009,      0.9019,      0.9029,      0.9039,      0.9049,     0.90591,     0.90691,     0.90791,     0.90891,     0.90991,     0.91091,     0.91191,\n",
              "           0.91291,     0.91391,     0.91491,     0.91592,     0.91692,     0.91792,     0.91892,     0.91992,     0.92092,     0.92192,     0.92292,     0.92392,     0.92492,     0.92593,     0.92693,     0.92793,     0.92893,     0.92993,     0.93093,     0.93193,     0.93293,     0.93393,     0.93493,     0.93594,\n",
              "           0.93694,     0.93794,     0.93894,     0.93994,     0.94094,     0.94194,     0.94294,     0.94394,     0.94494,     0.94595,     0.94695,     0.94795,     0.94895,     0.94995,     0.95095,     0.95195,     0.95295,     0.95395,     0.95495,     0.95596,     0.95696,     0.95796,     0.95896,     0.95996,\n",
              "           0.96096,     0.96196,     0.96296,     0.96396,     0.96496,     0.96597,     0.96697,     0.96797,     0.96897,     0.96997,     0.97097,     0.97197,     0.97297,     0.97397,     0.97497,     0.97598,     0.97698,     0.97798,     0.97898,     0.97998,     0.98098,     0.98198,     0.98298,     0.98398,\n",
              "           0.98498,     0.98599,     0.98699,     0.98799,     0.98899,     0.98999,     0.99099,     0.99199,     0.99299,     0.99399,     0.99499,       0.996,       0.997,       0.998,       0.999,           1]), array([[          1,           1,           1,           1,           1,           1,           1,           1,           1,           1,           1,           1,           1,           1,           1,           1,           1,           1,           1,           1,           1,           1,           1,\n",
              "                  1,           1,           1,           1,           1,           1,           1,           1,           1,           1,           1,           1,           1,           1,           1,           1,           1,           1,           1,           1,           1,           1,           1,\n",
              "                  1,           1,           1,           1,           1,           1,           1,           1,           1,           1,           1,           1,           1,           1,           1,           1,           1,           1,           1,           1,           1,           1,           1,\n",
              "                  1,           1,           1,           1,           1,           1,           1,           1,           1,           1,           1,           1,           1,           1,           1,           1,           1,           1,           1,           1,           1,           1,           1,\n",
              "                  1,           1,           1,           1,           1,           1,           1,           1,           1,           1,           1,           1,           1,           1,           1,           1,           1,           1,           1,           1,           1,           1,           1,\n",
              "                  1,           1,           1,           1,           1,           1,           1,           1,           1,           1,           1,           1,           1,           1,           1,           1,     0.99701,     0.99701,     0.99701,     0.99701,     0.99701,     0.99701,     0.99701,\n",
              "            0.99701,     0.99701,     0.99701,     0.99701,     0.99701,     0.99701,     0.99701,     0.99701,     0.99701,     0.99701,     0.99701,     0.99701,     0.99701,     0.99701,     0.99701,     0.99701,     0.99701,     0.99701,     0.99701,     0.99701,     0.99474,     0.99474,     0.99474,\n",
              "            0.99474,     0.99474,     0.99474,     0.99474,     0.99474,     0.99474,     0.99474,     0.99474,     0.99474,     0.99474,     0.99474,     0.99474,     0.99474,     0.99474,     0.99474,     0.99474,     0.99474,     0.99474,       0.992,       0.992,       0.992,       0.992,       0.992,\n",
              "              0.992,       0.992,       0.992,       0.992,       0.992,       0.992,       0.992,       0.992,       0.992,       0.992,       0.992,       0.992,       0.992,       0.992,       0.992,       0.992,       0.992,       0.992,       0.992,       0.992,       0.992,       0.992,       0.992,\n",
              "              0.992,       0.992,       0.992,       0.992,       0.992,       0.992,       0.992,       0.992,       0.992,       0.992,       0.992,       0.992,       0.992,       0.992,       0.992,       0.992,       0.992,       0.992,       0.992,       0.992,       0.992,       0.992,       0.992,\n",
              "              0.992,       0.992,       0.992,       0.992,       0.992,     0.99096,     0.99096,     0.99096,     0.99096,     0.99096,     0.99096,     0.99096,     0.99096,     0.99096,     0.99096,     0.99096,     0.99096,     0.99096,     0.99096,     0.99096,     0.99096,     0.99096,     0.99096,\n",
              "            0.99096,     0.99096,     0.99096,     0.99096,     0.99096,     0.99096,     0.98971,     0.98971,     0.98971,     0.98971,     0.98971,     0.98971,     0.98971,     0.98971,     0.98971,     0.98971,     0.98971,     0.98971,     0.98971,     0.98971,      0.9892,      0.9892,      0.9892,\n",
              "             0.9892,      0.9892,      0.9892,      0.9892,      0.9892,      0.9892,      0.9892,      0.9892,      0.9892,      0.9892,      0.9892,      0.9892,      0.9892,      0.9892,      0.9892,      0.9892,      0.9892,      0.9892,      0.9892,      0.9892,      0.9892,      0.9892,      0.9892,\n",
              "             0.9892,      0.9892,      0.9892,      0.9892,     0.98784,     0.98784,     0.98784,     0.98784,     0.98784,     0.98649,     0.98649,     0.98649,     0.98561,     0.98561,     0.98561,     0.98561,     0.98561,     0.98561,     0.98561,     0.98561,     0.98561,     0.98561,     0.98561,\n",
              "            0.98561,     0.98561,     0.98422,     0.98288,     0.98182,     0.98182,     0.98182,     0.98182,     0.98182,     0.98182,     0.98056,     0.98056,     0.97956,     0.97956,     0.97956,     0.97956,     0.97956,     0.97956,     0.97889,     0.97889,     0.97889,     0.97889,     0.97889,\n",
              "            0.97889,     0.97889,     0.97889,     0.97889,     0.97889,     0.97889,     0.97826,     0.97826,     0.97826,     0.97826,     0.97826,     0.97826,     0.97826,     0.97826,     0.97826,     0.97826,     0.97826,     0.97756,     0.97756,     0.97756,     0.97756,     0.97756,     0.97756,\n",
              "            0.97756,     0.97756,     0.97756,     0.97643,     0.97579,     0.97579,     0.97579,     0.97579,     0.97579,     0.97579,     0.97579,     0.97579,     0.97579,     0.97476,     0.97476,     0.97476,     0.97378,     0.97378,     0.97378,     0.97327,     0.97327,     0.97327,     0.97327,\n",
              "            0.97327,     0.97327,     0.97327,     0.97327,     0.97327,     0.97327,     0.97327,     0.97327,     0.97327,     0.97327,     0.97327,     0.97327,     0.97327,     0.97327,     0.97327,     0.97327,     0.97327,     0.97327,     0.97327,     0.97327,     0.97327,     0.97327,     0.97327,\n",
              "              0.973,       0.973,       0.973,       0.973,       0.973,       0.973,       0.973,       0.973,       0.973,       0.973,       0.973,       0.973,     0.97246,     0.97246,     0.97246,     0.97246,     0.97246,     0.97246,     0.97246,     0.97246,     0.97155,     0.97155,     0.97111,\n",
              "            0.97111,     0.97111,     0.97111,     0.97111,     0.97111,     0.97111,     0.97111,     0.97111,     0.97111,     0.97111,     0.97111,     0.97111,     0.97111,     0.97111,     0.97111,     0.97111,     0.97111,     0.97111,     0.97111,     0.97111,     0.97111,     0.97111,     0.97111,\n",
              "            0.97111,     0.97111,     0.97111,     0.97111,     0.97111,     0.97111,     0.97111,     0.97111,     0.97111,     0.97111,     0.97111,     0.97111,     0.97111,     0.97111,     0.97111,     0.97111,     0.97111,     0.97111,     0.97111,     0.97111,     0.97111,     0.97111,     0.97111,\n",
              "            0.97111,     0.97111,     0.97111,     0.97111,     0.97111,     0.97111,     0.97111,     0.97111,     0.97111,     0.97111,     0.97104,     0.97104,     0.97104,     0.97104,     0.97104,     0.97104,     0.97104,     0.97104,     0.97104,     0.97104,     0.97104,     0.97104,     0.97104,\n",
              "            0.97104,     0.97104,     0.96951,     0.96951,     0.96951,     0.96938,     0.96938,     0.96938,     0.96938,     0.96938,     0.96938,     0.96938,     0.96938,     0.96938,     0.96938,     0.96938,     0.96938,     0.96938,     0.96875,     0.96875,     0.96875,     0.96875,     0.96875,\n",
              "            0.96875,     0.96875,     0.96875,     0.96875,     0.96875,     0.96875,     0.96875,     0.96875,     0.96875,     0.96875,     0.96875,     0.96875,     0.96875,     0.96875,     0.96875,     0.96875,     0.96875,     0.96875,     0.96875,     0.96875,     0.96875,     0.96875,     0.96875,\n",
              "            0.96875,     0.96875,     0.96875,     0.96875,     0.96875,     0.96853,     0.96853,     0.96853,     0.96853,     0.96853,     0.96853,     0.96853,     0.96853,     0.96853,     0.96853,     0.96853,     0.96853,     0.96853,     0.96853,     0.96853,     0.96853,     0.96853,     0.96853,\n",
              "            0.96853,     0.96853,     0.96853,     0.96853,     0.96853,     0.96853,     0.96853,     0.96716,     0.96716,     0.96716,     0.96576,     0.96576,     0.96514,     0.96514,     0.96456,     0.96456,     0.96456,     0.96383,     0.96383,     0.96383,     0.96383,     0.96383,     0.96383,\n",
              "            0.96383,     0.96383,     0.96383,     0.96383,     0.96383,     0.96383,     0.96383,     0.96277,     0.96277,     0.96277,     0.96277,     0.96277,     0.96277,     0.96277,     0.96214,     0.96174,     0.96174,     0.96174,     0.96174,     0.96174,     0.96117,     0.96117,     0.96117,\n",
              "            0.96064,     0.96064,     0.95997,     0.95997,     0.95997,     0.95997,     0.95997,     0.95997,     0.95997,     0.95997,     0.95997,     0.95997,     0.95997,     0.95997,     0.95955,     0.95955,     0.95955,     0.95955,     0.95895,     0.95895,     0.95877,     0.95877,     0.95877,\n",
              "            0.95877,     0.95877,     0.95877,     0.95877,     0.95877,     0.95816,     0.95761,     0.95761,     0.95643,     0.95643,     0.95598,     0.95598,     0.95598,     0.95539,     0.95483,     0.95483,     0.95387,     0.95387,     0.95387,     0.95387,     0.95387,     0.95199,     0.95137,\n",
              "            0.95137,     0.95137,     0.95137,     0.95137,     0.95137,     0.95137,     0.95137,     0.95137,     0.95083,     0.95083,     0.94862,     0.94862,     0.94862,     0.94862,     0.94771,     0.94771,     0.94771,     0.94771,     0.94771,      0.9475,      0.9475,      0.9475,      0.9475,\n",
              "             0.9475,     0.94713,     0.94713,     0.94713,     0.94713,     0.94669,     0.94669,     0.94626,     0.94626,     0.94572,     0.94519,     0.94514,     0.94514,     0.94514,     0.94514,     0.94514,     0.94514,     0.94514,     0.94514,     0.94514,     0.94514,     0.94514,     0.94514,\n",
              "            0.94514,     0.94514,     0.94514,     0.94514,     0.94489,     0.94489,     0.94489,     0.94489,     0.94489,     0.94444,     0.94444,     0.94397,     0.94298,     0.94298,     0.94251,     0.94251,     0.94228,     0.94228,     0.94228,     0.94228,      0.9422,      0.9422,      0.9422,\n",
              "             0.9422,      0.9422,      0.9422,      0.9422,     0.94216,     0.94216,     0.94216,     0.94216,     0.94216,     0.94216,     0.94216,     0.94174,     0.94174,     0.94139,     0.94139,     0.94139,     0.93988,     0.93988,     0.93988,     0.93988,     0.93988,     0.93988,     0.93988,\n",
              "            0.93988,     0.93988,     0.93988,     0.93988,     0.93988,     0.93988,     0.93988,     0.93988,     0.93988,     0.93988,     0.93948,     0.93948,     0.93858,     0.93858,     0.93761,     0.93761,     0.93718,     0.93629,     0.93629,     0.93587,     0.93587,      0.9355,      0.9355,\n",
              "             0.9355,      0.9355,      0.9355,      0.9355,      0.9355,      0.9355,      0.9355,     0.93505,      0.9346,     0.93423,     0.93423,     0.93337,     0.93337,     0.93248,     0.93248,     0.92999,     0.92704,     0.92674,     0.92674,      0.9258,     0.92484,     0.92442,     0.92416,\n",
              "            0.92416,     0.92416,     0.92328,     0.92283,     0.92192,     0.92114,     0.92114,     0.92081,     0.92081,     0.91991,     0.91906,     0.91862,     0.91773,      0.9149,     0.91412,     0.91382,     0.91382,     0.91343,     0.91252,     0.91236,     0.91236,     0.91236,     0.91108,\n",
              "            0.91088,     0.91088,     0.91088,     0.91046,     0.90965,     0.90947,     0.90947,     0.90947,     0.90909,     0.90881,     0.90881,     0.90849,     0.90812,     0.90784,     0.90784,     0.90752,     0.90587,     0.90587,     0.90469,     0.90469,     0.90433,     0.90407,     0.90407,\n",
              "            0.90371,     0.90331,     0.90224,     0.90224,     0.90194,     0.90194,     0.90089,     0.90089,     0.90089,     0.90059,      0.9003,     0.89911,     0.89911,     0.89887,     0.89887,     0.89853,     0.89834,     0.89834,     0.89795,      0.8964,     0.89602,      0.8953,     0.89492,\n",
              "            0.89377,     0.89263,     0.89263,     0.89246,     0.89246,     0.89171,     0.89011,     0.88868,     0.88868,     0.88704,     0.88663,     0.88663,     0.88663,     0.88663,     0.88606,     0.88606,     0.88436,     0.88436,     0.88436,     0.88323,     0.88252,     0.88233,     0.88233,\n",
              "            0.87998,     0.87939,     0.87939,      0.8791,     0.87799,     0.87689,     0.87586,     0.87437,     0.87255,     0.87221,      0.8716,     0.86986,     0.86986,     0.86931,     0.86931,     0.86625,     0.86256,     0.86089,     0.86089,     0.86063,     0.86037,     0.86012,     0.85872,\n",
              "            0.85847,     0.85708,     0.85583,     0.85558,      0.8534,     0.85242,     0.84885,     0.84678,     0.84262,     0.83376,     0.83326,     0.83305,     0.83249,     0.82983,     0.82616,     0.81954,     0.81927,     0.81538,     0.81219,     0.80846,     0.80177,     0.80064,     0.79601,\n",
              "            0.78862,     0.78292,       0.777,     0.77657,     0.76879,     0.75917,     0.75869,      0.7487,     0.74749,     0.74657,      0.7391,     0.73099,     0.73013,     0.72131,     0.71997,     0.71459,     0.70486,     0.70214,     0.69705,     0.68714,     0.68596,     0.67393,     0.66374,\n",
              "            0.65629,      0.6085,     0.59877,     0.57483,      0.5637,     0.50541,     0.48275,     0.47717,     0.41084,     0.40494,     0.35825,      0.3361,     0.30144,     0.20107,     0.13031,     0.12345,     0.11659,     0.10974,     0.10288,    0.096019,    0.089161,    0.082302,    0.075444,\n",
              "           0.068585,    0.061727,    0.054868,     0.04801,    0.041151,    0.034293,    0.027434,    0.020576,    0.013717,   0.0068585,           0]]), 'Recall', 'Precision'], [array([          0,    0.001001,    0.002002,    0.003003,    0.004004,    0.005005,    0.006006,    0.007007,    0.008008,    0.009009,     0.01001,    0.011011,    0.012012,    0.013013,    0.014014,    0.015015,    0.016016,    0.017017,    0.018018,    0.019019,     0.02002,    0.021021,    0.022022,    0.023023,\n",
              "          0.024024,    0.025025,    0.026026,    0.027027,    0.028028,    0.029029,     0.03003,    0.031031,    0.032032,    0.033033,    0.034034,    0.035035,    0.036036,    0.037037,    0.038038,    0.039039,     0.04004,    0.041041,    0.042042,    0.043043,    0.044044,    0.045045,    0.046046,    0.047047,\n",
              "          0.048048,    0.049049,     0.05005,    0.051051,    0.052052,    0.053053,    0.054054,    0.055055,    0.056056,    0.057057,    0.058058,    0.059059,     0.06006,    0.061061,    0.062062,    0.063063,    0.064064,    0.065065,    0.066066,    0.067067,    0.068068,    0.069069,     0.07007,    0.071071,\n",
              "          0.072072,    0.073073,    0.074074,    0.075075,    0.076076,    0.077077,    0.078078,    0.079079,     0.08008,    0.081081,    0.082082,    0.083083,    0.084084,    0.085085,    0.086086,    0.087087,    0.088088,    0.089089,     0.09009,    0.091091,    0.092092,    0.093093,    0.094094,    0.095095,\n",
              "          0.096096,    0.097097,    0.098098,    0.099099,      0.1001,      0.1011,      0.1021,      0.1031,      0.1041,     0.10511,     0.10611,     0.10711,     0.10811,     0.10911,     0.11011,     0.11111,     0.11211,     0.11311,     0.11411,     0.11512,     0.11612,     0.11712,     0.11812,     0.11912,\n",
              "           0.12012,     0.12112,     0.12212,     0.12312,     0.12412,     0.12513,     0.12613,     0.12713,     0.12813,     0.12913,     0.13013,     0.13113,     0.13213,     0.13313,     0.13413,     0.13514,     0.13614,     0.13714,     0.13814,     0.13914,     0.14014,     0.14114,     0.14214,     0.14314,\n",
              "           0.14414,     0.14515,     0.14615,     0.14715,     0.14815,     0.14915,     0.15015,     0.15115,     0.15215,     0.15315,     0.15415,     0.15516,     0.15616,     0.15716,     0.15816,     0.15916,     0.16016,     0.16116,     0.16216,     0.16316,     0.16416,     0.16517,     0.16617,     0.16717,\n",
              "           0.16817,     0.16917,     0.17017,     0.17117,     0.17217,     0.17317,     0.17417,     0.17518,     0.17618,     0.17718,     0.17818,     0.17918,     0.18018,     0.18118,     0.18218,     0.18318,     0.18418,     0.18519,     0.18619,     0.18719,     0.18819,     0.18919,     0.19019,     0.19119,\n",
              "           0.19219,     0.19319,     0.19419,      0.1952,      0.1962,      0.1972,      0.1982,      0.1992,      0.2002,      0.2012,      0.2022,      0.2032,      0.2042,     0.20521,     0.20621,     0.20721,     0.20821,     0.20921,     0.21021,     0.21121,     0.21221,     0.21321,     0.21421,     0.21522,\n",
              "           0.21622,     0.21722,     0.21822,     0.21922,     0.22022,     0.22122,     0.22222,     0.22322,     0.22422,     0.22523,     0.22623,     0.22723,     0.22823,     0.22923,     0.23023,     0.23123,     0.23223,     0.23323,     0.23423,     0.23524,     0.23624,     0.23724,     0.23824,     0.23924,\n",
              "           0.24024,     0.24124,     0.24224,     0.24324,     0.24424,     0.24525,     0.24625,     0.24725,     0.24825,     0.24925,     0.25025,     0.25125,     0.25225,     0.25325,     0.25425,     0.25526,     0.25626,     0.25726,     0.25826,     0.25926,     0.26026,     0.26126,     0.26226,     0.26326,\n",
              "           0.26426,     0.26527,     0.26627,     0.26727,     0.26827,     0.26927,     0.27027,     0.27127,     0.27227,     0.27327,     0.27427,     0.27528,     0.27628,     0.27728,     0.27828,     0.27928,     0.28028,     0.28128,     0.28228,     0.28328,     0.28428,     0.28529,     0.28629,     0.28729,\n",
              "           0.28829,     0.28929,     0.29029,     0.29129,     0.29229,     0.29329,     0.29429,      0.2953,      0.2963,      0.2973,      0.2983,      0.2993,      0.3003,      0.3013,      0.3023,      0.3033,      0.3043,     0.30531,     0.30631,     0.30731,     0.30831,     0.30931,     0.31031,     0.31131,\n",
              "           0.31231,     0.31331,     0.31431,     0.31532,     0.31632,     0.31732,     0.31832,     0.31932,     0.32032,     0.32132,     0.32232,     0.32332,     0.32432,     0.32533,     0.32633,     0.32733,     0.32833,     0.32933,     0.33033,     0.33133,     0.33233,     0.33333,     0.33433,     0.33534,\n",
              "           0.33634,     0.33734,     0.33834,     0.33934,     0.34034,     0.34134,     0.34234,     0.34334,     0.34434,     0.34535,     0.34635,     0.34735,     0.34835,     0.34935,     0.35035,     0.35135,     0.35235,     0.35335,     0.35435,     0.35536,     0.35636,     0.35736,     0.35836,     0.35936,\n",
              "           0.36036,     0.36136,     0.36236,     0.36336,     0.36436,     0.36537,     0.36637,     0.36737,     0.36837,     0.36937,     0.37037,     0.37137,     0.37237,     0.37337,     0.37437,     0.37538,     0.37638,     0.37738,     0.37838,     0.37938,     0.38038,     0.38138,     0.38238,     0.38338,\n",
              "           0.38438,     0.38539,     0.38639,     0.38739,     0.38839,     0.38939,     0.39039,     0.39139,     0.39239,     0.39339,     0.39439,      0.3954,      0.3964,      0.3974,      0.3984,      0.3994,      0.4004,      0.4014,      0.4024,      0.4034,      0.4044,     0.40541,     0.40641,     0.40741,\n",
              "           0.40841,     0.40941,     0.41041,     0.41141,     0.41241,     0.41341,     0.41441,     0.41542,     0.41642,     0.41742,     0.41842,     0.41942,     0.42042,     0.42142,     0.42242,     0.42342,     0.42442,     0.42543,     0.42643,     0.42743,     0.42843,     0.42943,     0.43043,     0.43143,\n",
              "           0.43243,     0.43343,     0.43443,     0.43544,     0.43644,     0.43744,     0.43844,     0.43944,     0.44044,     0.44144,     0.44244,     0.44344,     0.44444,     0.44545,     0.44645,     0.44745,     0.44845,     0.44945,     0.45045,     0.45145,     0.45245,     0.45345,     0.45445,     0.45546,\n",
              "           0.45646,     0.45746,     0.45846,     0.45946,     0.46046,     0.46146,     0.46246,     0.46346,     0.46446,     0.46547,     0.46647,     0.46747,     0.46847,     0.46947,     0.47047,     0.47147,     0.47247,     0.47347,     0.47447,     0.47548,     0.47648,     0.47748,     0.47848,     0.47948,\n",
              "           0.48048,     0.48148,     0.48248,     0.48348,     0.48448,     0.48549,     0.48649,     0.48749,     0.48849,     0.48949,     0.49049,     0.49149,     0.49249,     0.49349,     0.49449,      0.4955,      0.4965,      0.4975,      0.4985,      0.4995,      0.5005,      0.5015,      0.5025,      0.5035,\n",
              "            0.5045,     0.50551,     0.50651,     0.50751,     0.50851,     0.50951,     0.51051,     0.51151,     0.51251,     0.51351,     0.51451,     0.51552,     0.51652,     0.51752,     0.51852,     0.51952,     0.52052,     0.52152,     0.52252,     0.52352,     0.52452,     0.52553,     0.52653,     0.52753,\n",
              "           0.52853,     0.52953,     0.53053,     0.53153,     0.53253,     0.53353,     0.53453,     0.53554,     0.53654,     0.53754,     0.53854,     0.53954,     0.54054,     0.54154,     0.54254,     0.54354,     0.54454,     0.54555,     0.54655,     0.54755,     0.54855,     0.54955,     0.55055,     0.55155,\n",
              "           0.55255,     0.55355,     0.55455,     0.55556,     0.55656,     0.55756,     0.55856,     0.55956,     0.56056,     0.56156,     0.56256,     0.56356,     0.56456,     0.56557,     0.56657,     0.56757,     0.56857,     0.56957,     0.57057,     0.57157,     0.57257,     0.57357,     0.57457,     0.57558,\n",
              "           0.57658,     0.57758,     0.57858,     0.57958,     0.58058,     0.58158,     0.58258,     0.58358,     0.58458,     0.58559,     0.58659,     0.58759,     0.58859,     0.58959,     0.59059,     0.59159,     0.59259,     0.59359,     0.59459,      0.5956,      0.5966,      0.5976,      0.5986,      0.5996,\n",
              "            0.6006,      0.6016,      0.6026,      0.6036,      0.6046,     0.60561,     0.60661,     0.60761,     0.60861,     0.60961,     0.61061,     0.61161,     0.61261,     0.61361,     0.61461,     0.61562,     0.61662,     0.61762,     0.61862,     0.61962,     0.62062,     0.62162,     0.62262,     0.62362,\n",
              "           0.62462,     0.62563,     0.62663,     0.62763,     0.62863,     0.62963,     0.63063,     0.63163,     0.63263,     0.63363,     0.63463,     0.63564,     0.63664,     0.63764,     0.63864,     0.63964,     0.64064,     0.64164,     0.64264,     0.64364,     0.64464,     0.64565,     0.64665,     0.64765,\n",
              "           0.64865,     0.64965,     0.65065,     0.65165,     0.65265,     0.65365,     0.65465,     0.65566,     0.65666,     0.65766,     0.65866,     0.65966,     0.66066,     0.66166,     0.66266,     0.66366,     0.66466,     0.66567,     0.66667,     0.66767,     0.66867,     0.66967,     0.67067,     0.67167,\n",
              "           0.67267,     0.67367,     0.67467,     0.67568,     0.67668,     0.67768,     0.67868,     0.67968,     0.68068,     0.68168,     0.68268,     0.68368,     0.68468,     0.68569,     0.68669,     0.68769,     0.68869,     0.68969,     0.69069,     0.69169,     0.69269,     0.69369,     0.69469,      0.6957,\n",
              "            0.6967,      0.6977,      0.6987,      0.6997,      0.7007,      0.7017,      0.7027,      0.7037,      0.7047,     0.70571,     0.70671,     0.70771,     0.70871,     0.70971,     0.71071,     0.71171,     0.71271,     0.71371,     0.71471,     0.71572,     0.71672,     0.71772,     0.71872,     0.71972,\n",
              "           0.72072,     0.72172,     0.72272,     0.72372,     0.72472,     0.72573,     0.72673,     0.72773,     0.72873,     0.72973,     0.73073,     0.73173,     0.73273,     0.73373,     0.73473,     0.73574,     0.73674,     0.73774,     0.73874,     0.73974,     0.74074,     0.74174,     0.74274,     0.74374,\n",
              "           0.74474,     0.74575,     0.74675,     0.74775,     0.74875,     0.74975,     0.75075,     0.75175,     0.75275,     0.75375,     0.75475,     0.75576,     0.75676,     0.75776,     0.75876,     0.75976,     0.76076,     0.76176,     0.76276,     0.76376,     0.76476,     0.76577,     0.76677,     0.76777,\n",
              "           0.76877,     0.76977,     0.77077,     0.77177,     0.77277,     0.77377,     0.77477,     0.77578,     0.77678,     0.77778,     0.77878,     0.77978,     0.78078,     0.78178,     0.78278,     0.78378,     0.78478,     0.78579,     0.78679,     0.78779,     0.78879,     0.78979,     0.79079,     0.79179,\n",
              "           0.79279,     0.79379,     0.79479,      0.7958,      0.7968,      0.7978,      0.7988,      0.7998,      0.8008,      0.8018,      0.8028,      0.8038,      0.8048,     0.80581,     0.80681,     0.80781,     0.80881,     0.80981,     0.81081,     0.81181,     0.81281,     0.81381,     0.81481,     0.81582,\n",
              "           0.81682,     0.81782,     0.81882,     0.81982,     0.82082,     0.82182,     0.82282,     0.82382,     0.82482,     0.82583,     0.82683,     0.82783,     0.82883,     0.82983,     0.83083,     0.83183,     0.83283,     0.83383,     0.83483,     0.83584,     0.83684,     0.83784,     0.83884,     0.83984,\n",
              "           0.84084,     0.84184,     0.84284,     0.84384,     0.84484,     0.84585,     0.84685,     0.84785,     0.84885,     0.84985,     0.85085,     0.85185,     0.85285,     0.85385,     0.85485,     0.85586,     0.85686,     0.85786,     0.85886,     0.85986,     0.86086,     0.86186,     0.86286,     0.86386,\n",
              "           0.86486,     0.86587,     0.86687,     0.86787,     0.86887,     0.86987,     0.87087,     0.87187,     0.87287,     0.87387,     0.87487,     0.87588,     0.87688,     0.87788,     0.87888,     0.87988,     0.88088,     0.88188,     0.88288,     0.88388,     0.88488,     0.88589,     0.88689,     0.88789,\n",
              "           0.88889,     0.88989,     0.89089,     0.89189,     0.89289,     0.89389,     0.89489,      0.8959,      0.8969,      0.8979,      0.8989,      0.8999,      0.9009,      0.9019,      0.9029,      0.9039,      0.9049,     0.90591,     0.90691,     0.90791,     0.90891,     0.90991,     0.91091,     0.91191,\n",
              "           0.91291,     0.91391,     0.91491,     0.91592,     0.91692,     0.91792,     0.91892,     0.91992,     0.92092,     0.92192,     0.92292,     0.92392,     0.92492,     0.92593,     0.92693,     0.92793,     0.92893,     0.92993,     0.93093,     0.93193,     0.93293,     0.93393,     0.93493,     0.93594,\n",
              "           0.93694,     0.93794,     0.93894,     0.93994,     0.94094,     0.94194,     0.94294,     0.94394,     0.94494,     0.94595,     0.94695,     0.94795,     0.94895,     0.94995,     0.95095,     0.95195,     0.95295,     0.95395,     0.95495,     0.95596,     0.95696,     0.95796,     0.95896,     0.95996,\n",
              "           0.96096,     0.96196,     0.96296,     0.96396,     0.96496,     0.96597,     0.96697,     0.96797,     0.96897,     0.96997,     0.97097,     0.97197,     0.97297,     0.97397,     0.97497,     0.97598,     0.97698,     0.97798,     0.97898,     0.97998,     0.98098,     0.98198,     0.98298,     0.98398,\n",
              "           0.98498,     0.98599,     0.98699,     0.98799,     0.98899,     0.98999,     0.99099,     0.99199,     0.99299,     0.99399,     0.99499,       0.996,       0.997,       0.998,       0.999,           1]), array([[    0.23405,     0.23405,     0.31056,     0.40953,     0.47313,     0.51761,     0.54855,     0.57257,     0.59345,      0.6083,     0.62172,     0.63137,     0.64034,     0.64663,     0.65469,     0.66205,     0.66818,     0.67472,     0.68046,     0.68663,     0.69135,     0.69607,      0.7004,\n",
              "            0.70398,     0.70836,     0.71234,     0.71458,      0.7168,     0.71979,     0.72182,     0.72425,     0.72636,     0.72995,     0.73228,     0.73469,      0.7358,     0.73813,     0.74006,     0.74204,     0.74402,     0.74616,     0.74716,     0.74928,     0.75071,     0.75223,     0.75334,\n",
              "              0.755,     0.75733,      0.7587,     0.76025,     0.76187,     0.76312,     0.76516,     0.76661,     0.76767,     0.76867,     0.76997,     0.77082,     0.77325,     0.77408,     0.77432,     0.77538,     0.77707,     0.77876,     0.77985,     0.78126,     0.78205,     0.78343,     0.78457,\n",
              "            0.78519,      0.7869,     0.78782,     0.78841,     0.78943,     0.79073,      0.7915,     0.79245,     0.79347,     0.79455,     0.79602,     0.79828,     0.79971,     0.80156,     0.80233,     0.80351,     0.80587,     0.80735,     0.80831,     0.80896,     0.80931,     0.81037,     0.81144,\n",
              "            0.81278,     0.81362,     0.81505,     0.81599,     0.81597,     0.81793,     0.81875,     0.81915,     0.82046,      0.8221,     0.82251,     0.82373,     0.82445,     0.82486,     0.82589,     0.82634,     0.82729,     0.82777,     0.82806,     0.82835,     0.82902,      0.8306,     0.83199,\n",
              "            0.83293,     0.83354,     0.83399,     0.83494,     0.83538,     0.83612,     0.83638,     0.83679,     0.83742,     0.83778,     0.83791,     0.83785,     0.83845,      0.8391,      0.8394,     0.83965,      0.8402,     0.84148,     0.84203,      0.8426,     0.84354,     0.84353,     0.84316,\n",
              "            0.84357,     0.84394,     0.84426,     0.84478,     0.84525,     0.84615,     0.84652,     0.84715,     0.84814,     0.84906,      0.8493,     0.84967,     0.85004,     0.85029,     0.85092,     0.85109,     0.85105,     0.85159,     0.85237,     0.85266,     0.85317,     0.85317,     0.85405,\n",
              "            0.85412,     0.85487,     0.85526,     0.85571,      0.8559,     0.85654,     0.85663,     0.85752,     0.85823,     0.85862,     0.85957,     0.85974,     0.85992,     0.86107,     0.86156,     0.86191,     0.86244,     0.86332,     0.86356,     0.86412,      0.8648,     0.86513,     0.86558,\n",
              "            0.86572,     0.86583,     0.86577,     0.86687,     0.86727,     0.86735,     0.86744,      0.8676,     0.86768,     0.86804,     0.86884,     0.86934,     0.86921,     0.86979,     0.86957,     0.86981,      0.8705,     0.87093,     0.87101,     0.87127,     0.87138,     0.87173,     0.87201,\n",
              "            0.87213,     0.87224,     0.87228,     0.87234,     0.87262,      0.8731,     0.87324,     0.87415,     0.87397,      0.8743,     0.87462,     0.87465,     0.87571,     0.87678,     0.87727,     0.87746,     0.87756,      0.8777,     0.87816,      0.8783,      0.8784,     0.87847,     0.87861,\n",
              "            0.87895,     0.87879,     0.87907,     0.87922,     0.87983,     0.87997,     0.87987,     0.87984,      0.8798,     0.87946,     0.87954,     0.87952,     0.87934,     0.87914,     0.87916,     0.87962,     0.88043,     0.88056,     0.88123,     0.88172,     0.88183,     0.88192,      0.8823,\n",
              "            0.88277,     0.88298,     0.88307,     0.88319,      0.8834,     0.88354,     0.88367,     0.88388,     0.88368,     0.88345,     0.88358,     0.88389,     0.88398,     0.88389,     0.88407,     0.88422,     0.88444,     0.88465,     0.88499,     0.88526,     0.88538,     0.88536,     0.88571,\n",
              "            0.88618,     0.88625,     0.88636,     0.88726,     0.88736,     0.88774,     0.88754,     0.88762,     0.88755,     0.88767,     0.88779,     0.88769,     0.88795,     0.88872,     0.88884,     0.88841,     0.88797,     0.88787,     0.88801,     0.88821,     0.88819,     0.88867,     0.88855,\n",
              "            0.88856,     0.88833,     0.88824,     0.88815,     0.88785,      0.8883,     0.88854,     0.88847,     0.88815,     0.88784,     0.88796,     0.88759,     0.88677,     0.88731,     0.88743,     0.88762,     0.88731,     0.88775,      0.8879,     0.88802,      0.8881,     0.88818,     0.88828,\n",
              "            0.88894,     0.88891,     0.88978,     0.89021,     0.89002,      0.8898,     0.88965,     0.88936,     0.88947,     0.88961,      0.8894,     0.88885,     0.88931,     0.88974,     0.88912,     0.88901,     0.88908,     0.88916,      0.8893,     0.88929,     0.88895,     0.88933,     0.88931,\n",
              "            0.88939,     0.88946,     0.88984,     0.88974,     0.88942,     0.88971,     0.88964,     0.88956,     0.88948,     0.88938,     0.88929,      0.8896,      0.8897,     0.88997,     0.88967,     0.88961,     0.88955,      0.8895,     0.88929,     0.88881,     0.88868,     0.88903,     0.88913,\n",
              "            0.88956,     0.88968,     0.88975,     0.88966,     0.88957,      0.8894,     0.88886,     0.88855,     0.88845,      0.8887,     0.88843,     0.88829,     0.88763,     0.88743,     0.88764,      0.8876,     0.88802,     0.88802,     0.88751,     0.88713,      0.8872,      0.8868,     0.88609,\n",
              "            0.88567,     0.88543,     0.88538,     0.88556,      0.8854,     0.88535,     0.88546,     0.88561,     0.88583,     0.88554,     0.88539,     0.88526,     0.88529,     0.88558,     0.88538,     0.88596,      0.8857,     0.88528,     0.88475,     0.88468,     0.88441,     0.88418,     0.88404,\n",
              "            0.88406,      0.8843,     0.88441,     0.88414,     0.88429,     0.88429,      0.8844,     0.88421,     0.88415,     0.88379,     0.88373,     0.88384,     0.88389,     0.88335,      0.8831,     0.88296,     0.88292,     0.88313,     0.88356,     0.88351,     0.88302,     0.88242,     0.88208,\n",
              "            0.88126,     0.88087,     0.88069,     0.88055,      0.8809,     0.88112,     0.88039,     0.88053,     0.88032,     0.87917,     0.87848,     0.87834,     0.87854,     0.87816,     0.87836,     0.87808,     0.87748,     0.87738,     0.87728,     0.87725,     0.87719,     0.87691,     0.87685,\n",
              "            0.87629,     0.87601,     0.87594,     0.87566,     0.87568,     0.87531,     0.87503,     0.87484,      0.8747,     0.87504,     0.87427,     0.87502,     0.87441,     0.87422,     0.87393,     0.87365,     0.87337,     0.87321,     0.87247,     0.87233,      0.8717,     0.87156,     0.87141,\n",
              "            0.87078,     0.86994,     0.86972,     0.86939,     0.86933,     0.86944,     0.86937,     0.86884,      0.8687,     0.86851,     0.86822,     0.86787,     0.86721,     0.86739,      0.8675,     0.86761,     0.86772,     0.86735,     0.86706,     0.86677,     0.86648,     0.86609,     0.86571,\n",
              "            0.86535,     0.86484,     0.86442,     0.86385,     0.86394,     0.86409,     0.86453,     0.86446,     0.86469,      0.8644,     0.86471,     0.86411,     0.86403,     0.86385,     0.86396,     0.86388,      0.8633,     0.86304,     0.86315,     0.86321,     0.86263,     0.86227,      0.8619,\n",
              "            0.86195,     0.86124,     0.86146,     0.86095,     0.86037,     0.85971,     0.85961,     0.85949,     0.85847,      0.8584,     0.85809,     0.85827,     0.85864,     0.85879,     0.85938,     0.85842,     0.85867,     0.85797,     0.85767,     0.85723,     0.85627,     0.85589,     0.85581,\n",
              "            0.85551,     0.85374,     0.85285,     0.85254,     0.85182,     0.85008,     0.84947,     0.84887,     0.84905,     0.84878,     0.84863,     0.84839,     0.84794,     0.84754,     0.84723,     0.84693,     0.84662,     0.84692,     0.84674,     0.84644,     0.84595,     0.84544,     0.84423,\n",
              "            0.84332,     0.84301,      0.8424,     0.84179,     0.84117,     0.84078,     0.84015,      0.8397,     0.83909,     0.83786,     0.83755,     0.83624,     0.83584,     0.83612,     0.83596,     0.83433,     0.83351,     0.83281,     0.83265,     0.82989,     0.82957,     0.82746,     0.82683,\n",
              "             0.8262,     0.82556,     0.82524,     0.82452,     0.82388,     0.82356,       0.822,     0.82085,     0.82015,     0.81953,     0.81848,     0.81742,     0.81678,     0.81645,     0.81534,     0.81443,      0.8141,     0.81281,     0.81107,     0.81007,      0.8091,      0.8077,     0.80511,\n",
              "            0.80488,     0.80455,     0.80313,     0.80147,     0.80045,     0.79945,     0.79928,     0.79834,     0.79768,     0.79668,     0.79568,      0.7944,      0.7934,     0.79294,     0.79082,     0.79081,     0.78986,     0.78871,     0.78837,     0.78668,     0.78532,     0.78464,     0.78359,\n",
              "            0.78366,     0.78365,     0.78214,     0.78043,     0.78014,     0.77898,     0.77837,     0.77687,     0.77553,     0.77476,     0.77422,     0.77305,      0.7713,     0.76851,     0.76736,      0.7656,     0.76454,     0.76334,     0.76175,     0.76032,     0.75712,     0.75612,     0.75605,\n",
              "            0.75417,     0.75398,     0.75362,     0.75185,      0.7504,     0.74877,      0.7478,     0.74628,     0.74445,     0.74299,     0.74066,     0.73992,     0.73844,     0.73456,     0.73386,     0.73274,     0.73105,     0.73013,      0.7296,     0.72886,     0.72715,     0.72649,     0.72451,\n",
              "            0.72251,     0.71984,     0.71945,     0.71773,     0.71466,     0.71202,     0.71042,     0.70887,     0.70694,     0.70576,     0.70204,     0.70047,     0.70004,     0.69671,     0.69591,     0.69155,     0.68875,     0.68786,     0.68331,      0.6829,     0.67906,      0.6762,     0.67524,\n",
              "            0.67147,     0.67105,     0.66774,     0.66341,     0.66295,     0.65918,     0.65686,     0.65601,     0.65375,     0.64965,     0.64936,     0.64685,     0.64234,     0.64183,     0.63866,      0.6341,     0.63322,     0.63019,     0.62989,      0.6253,     0.62225,     0.62172,      0.6186,\n",
              "            0.61576,     0.61545,     0.61141,     0.60894,     0.60364,     0.60316,     0.59935,     0.59911,     0.59423,     0.59272,      0.5924,     0.58883,     0.58384,     0.58352,     0.58273,     0.57723,     0.57618,     0.57403,     0.57026,     0.56993,     0.56369,        0.56,      0.5539,\n",
              "            0.55333,     0.54957,     0.54565,     0.54182,     0.54026,     0.53798,     0.53557,     0.53487,     0.52771,     0.52453,     0.51903,     0.51867,     0.51333,     0.50725,     0.50689,     0.49945,     0.49615,     0.49579,     0.48994,      0.4881,     0.48557,     0.48229,     0.48093,\n",
              "            0.47437,     0.47244,     0.46552,     0.46474,     0.45876,     0.45551,     0.45344,     0.45305,     0.44229,     0.43654,     0.43109,     0.43069,     0.42512,     0.42327,     0.41766,      0.4124,       0.412,     0.40817,     0.40434,     0.40114,     0.39583,     0.39214,     0.39127,\n",
              "             0.3878,     0.38463,     0.38047,     0.37674,     0.37593,     0.37029,     0.36604,     0.36407,     0.35961,     0.35479,     0.35436,     0.34795,     0.34114,     0.33886,     0.33458,     0.33074,     0.32761,     0.31962,     0.31499,     0.31453,     0.30946,     0.30469,     0.30213,\n",
              "            0.29668,     0.29252,     0.28853,     0.28275,      0.2791,     0.27357,     0.27144,     0.26654,     0.26146,     0.25881,     0.25427,     0.24954,     0.24332,     0.23963,     0.23414,      0.2283,     0.22036,     0.21291,     0.21125,     0.20908,     0.20738,     0.20219,      0.1989,\n",
              "            0.19216,     0.18724,     0.18202,     0.17622,     0.17176,     0.16824,     0.16422,     0.16056,     0.15854,     0.15126,     0.14395,     0.13984,     0.13647,     0.13066,     0.12813,     0.12477,     0.12156,     0.11968,     0.11356,     0.10866,      0.1076,     0.10179,    0.099183,\n",
              "           0.097747,    0.093096,    0.091264,    0.088653,    0.084326,    0.080802,    0.079017,    0.074599,    0.071921,    0.069235,    0.063886,    0.059398,    0.055044,    0.051259,    0.049416,    0.047569,    0.045965,    0.042054,    0.039284,    0.032853,    0.030975,    0.029917,    0.027596,\n",
              "           0.024809,    0.023426,    0.021991,    0.020115,    0.019164,     0.01777,    0.017135,    0.016499,     0.01568,    0.014396,     0.01344,    0.011773,   0.0089517,   0.0079952,   0.0069807,   0.0054668,   0.0052257,   0.0049845,   0.0047432,   0.0038498,   0.0033303,   0.0028469,   0.0017336,\n",
              "          0.0014109,    0.001088,           0,           0,           0,           0,           0,           0,           0,           0,           0,           0,           0,           0,           0,           0,           0,           0,           0,           0,           0,           0,           0,\n",
              "                  0,           0,           0,           0,           0,           0,           0,           0,           0,           0,           0,           0,           0,           0,           0,           0,           0,           0,           0,           0,           0,           0,           0,\n",
              "                  0,           0,           0,           0,           0,           0,           0,           0,           0,           0,           0,           0,           0,           0,           0,           0,           0,           0,           0,           0,           0,           0,           0,\n",
              "                  0,           0,           0,           0,           0,           0,           0,           0,           0,           0,           0]]), 'Confidence', 'F1'], [array([          0,    0.001001,    0.002002,    0.003003,    0.004004,    0.005005,    0.006006,    0.007007,    0.008008,    0.009009,     0.01001,    0.011011,    0.012012,    0.013013,    0.014014,    0.015015,    0.016016,    0.017017,    0.018018,    0.019019,     0.02002,    0.021021,    0.022022,    0.023023,\n",
              "          0.024024,    0.025025,    0.026026,    0.027027,    0.028028,    0.029029,     0.03003,    0.031031,    0.032032,    0.033033,    0.034034,    0.035035,    0.036036,    0.037037,    0.038038,    0.039039,     0.04004,    0.041041,    0.042042,    0.043043,    0.044044,    0.045045,    0.046046,    0.047047,\n",
              "          0.048048,    0.049049,     0.05005,    0.051051,    0.052052,    0.053053,    0.054054,    0.055055,    0.056056,    0.057057,    0.058058,    0.059059,     0.06006,    0.061061,    0.062062,    0.063063,    0.064064,    0.065065,    0.066066,    0.067067,    0.068068,    0.069069,     0.07007,    0.071071,\n",
              "          0.072072,    0.073073,    0.074074,    0.075075,    0.076076,    0.077077,    0.078078,    0.079079,     0.08008,    0.081081,    0.082082,    0.083083,    0.084084,    0.085085,    0.086086,    0.087087,    0.088088,    0.089089,     0.09009,    0.091091,    0.092092,    0.093093,    0.094094,    0.095095,\n",
              "          0.096096,    0.097097,    0.098098,    0.099099,      0.1001,      0.1011,      0.1021,      0.1031,      0.1041,     0.10511,     0.10611,     0.10711,     0.10811,     0.10911,     0.11011,     0.11111,     0.11211,     0.11311,     0.11411,     0.11512,     0.11612,     0.11712,     0.11812,     0.11912,\n",
              "           0.12012,     0.12112,     0.12212,     0.12312,     0.12412,     0.12513,     0.12613,     0.12713,     0.12813,     0.12913,     0.13013,     0.13113,     0.13213,     0.13313,     0.13413,     0.13514,     0.13614,     0.13714,     0.13814,     0.13914,     0.14014,     0.14114,     0.14214,     0.14314,\n",
              "           0.14414,     0.14515,     0.14615,     0.14715,     0.14815,     0.14915,     0.15015,     0.15115,     0.15215,     0.15315,     0.15415,     0.15516,     0.15616,     0.15716,     0.15816,     0.15916,     0.16016,     0.16116,     0.16216,     0.16316,     0.16416,     0.16517,     0.16617,     0.16717,\n",
              "           0.16817,     0.16917,     0.17017,     0.17117,     0.17217,     0.17317,     0.17417,     0.17518,     0.17618,     0.17718,     0.17818,     0.17918,     0.18018,     0.18118,     0.18218,     0.18318,     0.18418,     0.18519,     0.18619,     0.18719,     0.18819,     0.18919,     0.19019,     0.19119,\n",
              "           0.19219,     0.19319,     0.19419,      0.1952,      0.1962,      0.1972,      0.1982,      0.1992,      0.2002,      0.2012,      0.2022,      0.2032,      0.2042,     0.20521,     0.20621,     0.20721,     0.20821,     0.20921,     0.21021,     0.21121,     0.21221,     0.21321,     0.21421,     0.21522,\n",
              "           0.21622,     0.21722,     0.21822,     0.21922,     0.22022,     0.22122,     0.22222,     0.22322,     0.22422,     0.22523,     0.22623,     0.22723,     0.22823,     0.22923,     0.23023,     0.23123,     0.23223,     0.23323,     0.23423,     0.23524,     0.23624,     0.23724,     0.23824,     0.23924,\n",
              "           0.24024,     0.24124,     0.24224,     0.24324,     0.24424,     0.24525,     0.24625,     0.24725,     0.24825,     0.24925,     0.25025,     0.25125,     0.25225,     0.25325,     0.25425,     0.25526,     0.25626,     0.25726,     0.25826,     0.25926,     0.26026,     0.26126,     0.26226,     0.26326,\n",
              "           0.26426,     0.26527,     0.26627,     0.26727,     0.26827,     0.26927,     0.27027,     0.27127,     0.27227,     0.27327,     0.27427,     0.27528,     0.27628,     0.27728,     0.27828,     0.27928,     0.28028,     0.28128,     0.28228,     0.28328,     0.28428,     0.28529,     0.28629,     0.28729,\n",
              "           0.28829,     0.28929,     0.29029,     0.29129,     0.29229,     0.29329,     0.29429,      0.2953,      0.2963,      0.2973,      0.2983,      0.2993,      0.3003,      0.3013,      0.3023,      0.3033,      0.3043,     0.30531,     0.30631,     0.30731,     0.30831,     0.30931,     0.31031,     0.31131,\n",
              "           0.31231,     0.31331,     0.31431,     0.31532,     0.31632,     0.31732,     0.31832,     0.31932,     0.32032,     0.32132,     0.32232,     0.32332,     0.32432,     0.32533,     0.32633,     0.32733,     0.32833,     0.32933,     0.33033,     0.33133,     0.33233,     0.33333,     0.33433,     0.33534,\n",
              "           0.33634,     0.33734,     0.33834,     0.33934,     0.34034,     0.34134,     0.34234,     0.34334,     0.34434,     0.34535,     0.34635,     0.34735,     0.34835,     0.34935,     0.35035,     0.35135,     0.35235,     0.35335,     0.35435,     0.35536,     0.35636,     0.35736,     0.35836,     0.35936,\n",
              "           0.36036,     0.36136,     0.36236,     0.36336,     0.36436,     0.36537,     0.36637,     0.36737,     0.36837,     0.36937,     0.37037,     0.37137,     0.37237,     0.37337,     0.37437,     0.37538,     0.37638,     0.37738,     0.37838,     0.37938,     0.38038,     0.38138,     0.38238,     0.38338,\n",
              "           0.38438,     0.38539,     0.38639,     0.38739,     0.38839,     0.38939,     0.39039,     0.39139,     0.39239,     0.39339,     0.39439,      0.3954,      0.3964,      0.3974,      0.3984,      0.3994,      0.4004,      0.4014,      0.4024,      0.4034,      0.4044,     0.40541,     0.40641,     0.40741,\n",
              "           0.40841,     0.40941,     0.41041,     0.41141,     0.41241,     0.41341,     0.41441,     0.41542,     0.41642,     0.41742,     0.41842,     0.41942,     0.42042,     0.42142,     0.42242,     0.42342,     0.42442,     0.42543,     0.42643,     0.42743,     0.42843,     0.42943,     0.43043,     0.43143,\n",
              "           0.43243,     0.43343,     0.43443,     0.43544,     0.43644,     0.43744,     0.43844,     0.43944,     0.44044,     0.44144,     0.44244,     0.44344,     0.44444,     0.44545,     0.44645,     0.44745,     0.44845,     0.44945,     0.45045,     0.45145,     0.45245,     0.45345,     0.45445,     0.45546,\n",
              "           0.45646,     0.45746,     0.45846,     0.45946,     0.46046,     0.46146,     0.46246,     0.46346,     0.46446,     0.46547,     0.46647,     0.46747,     0.46847,     0.46947,     0.47047,     0.47147,     0.47247,     0.47347,     0.47447,     0.47548,     0.47648,     0.47748,     0.47848,     0.47948,\n",
              "           0.48048,     0.48148,     0.48248,     0.48348,     0.48448,     0.48549,     0.48649,     0.48749,     0.48849,     0.48949,     0.49049,     0.49149,     0.49249,     0.49349,     0.49449,      0.4955,      0.4965,      0.4975,      0.4985,      0.4995,      0.5005,      0.5015,      0.5025,      0.5035,\n",
              "            0.5045,     0.50551,     0.50651,     0.50751,     0.50851,     0.50951,     0.51051,     0.51151,     0.51251,     0.51351,     0.51451,     0.51552,     0.51652,     0.51752,     0.51852,     0.51952,     0.52052,     0.52152,     0.52252,     0.52352,     0.52452,     0.52553,     0.52653,     0.52753,\n",
              "           0.52853,     0.52953,     0.53053,     0.53153,     0.53253,     0.53353,     0.53453,     0.53554,     0.53654,     0.53754,     0.53854,     0.53954,     0.54054,     0.54154,     0.54254,     0.54354,     0.54454,     0.54555,     0.54655,     0.54755,     0.54855,     0.54955,     0.55055,     0.55155,\n",
              "           0.55255,     0.55355,     0.55455,     0.55556,     0.55656,     0.55756,     0.55856,     0.55956,     0.56056,     0.56156,     0.56256,     0.56356,     0.56456,     0.56557,     0.56657,     0.56757,     0.56857,     0.56957,     0.57057,     0.57157,     0.57257,     0.57357,     0.57457,     0.57558,\n",
              "           0.57658,     0.57758,     0.57858,     0.57958,     0.58058,     0.58158,     0.58258,     0.58358,     0.58458,     0.58559,     0.58659,     0.58759,     0.58859,     0.58959,     0.59059,     0.59159,     0.59259,     0.59359,     0.59459,      0.5956,      0.5966,      0.5976,      0.5986,      0.5996,\n",
              "            0.6006,      0.6016,      0.6026,      0.6036,      0.6046,     0.60561,     0.60661,     0.60761,     0.60861,     0.60961,     0.61061,     0.61161,     0.61261,     0.61361,     0.61461,     0.61562,     0.61662,     0.61762,     0.61862,     0.61962,     0.62062,     0.62162,     0.62262,     0.62362,\n",
              "           0.62462,     0.62563,     0.62663,     0.62763,     0.62863,     0.62963,     0.63063,     0.63163,     0.63263,     0.63363,     0.63463,     0.63564,     0.63664,     0.63764,     0.63864,     0.63964,     0.64064,     0.64164,     0.64264,     0.64364,     0.64464,     0.64565,     0.64665,     0.64765,\n",
              "           0.64865,     0.64965,     0.65065,     0.65165,     0.65265,     0.65365,     0.65465,     0.65566,     0.65666,     0.65766,     0.65866,     0.65966,     0.66066,     0.66166,     0.66266,     0.66366,     0.66466,     0.66567,     0.66667,     0.66767,     0.66867,     0.66967,     0.67067,     0.67167,\n",
              "           0.67267,     0.67367,     0.67467,     0.67568,     0.67668,     0.67768,     0.67868,     0.67968,     0.68068,     0.68168,     0.68268,     0.68368,     0.68468,     0.68569,     0.68669,     0.68769,     0.68869,     0.68969,     0.69069,     0.69169,     0.69269,     0.69369,     0.69469,      0.6957,\n",
              "            0.6967,      0.6977,      0.6987,      0.6997,      0.7007,      0.7017,      0.7027,      0.7037,      0.7047,     0.70571,     0.70671,     0.70771,     0.70871,     0.70971,     0.71071,     0.71171,     0.71271,     0.71371,     0.71471,     0.71572,     0.71672,     0.71772,     0.71872,     0.71972,\n",
              "           0.72072,     0.72172,     0.72272,     0.72372,     0.72472,     0.72573,     0.72673,     0.72773,     0.72873,     0.72973,     0.73073,     0.73173,     0.73273,     0.73373,     0.73473,     0.73574,     0.73674,     0.73774,     0.73874,     0.73974,     0.74074,     0.74174,     0.74274,     0.74374,\n",
              "           0.74474,     0.74575,     0.74675,     0.74775,     0.74875,     0.74975,     0.75075,     0.75175,     0.75275,     0.75375,     0.75475,     0.75576,     0.75676,     0.75776,     0.75876,     0.75976,     0.76076,     0.76176,     0.76276,     0.76376,     0.76476,     0.76577,     0.76677,     0.76777,\n",
              "           0.76877,     0.76977,     0.77077,     0.77177,     0.77277,     0.77377,     0.77477,     0.77578,     0.77678,     0.77778,     0.77878,     0.77978,     0.78078,     0.78178,     0.78278,     0.78378,     0.78478,     0.78579,     0.78679,     0.78779,     0.78879,     0.78979,     0.79079,     0.79179,\n",
              "           0.79279,     0.79379,     0.79479,      0.7958,      0.7968,      0.7978,      0.7988,      0.7998,      0.8008,      0.8018,      0.8028,      0.8038,      0.8048,     0.80581,     0.80681,     0.80781,     0.80881,     0.80981,     0.81081,     0.81181,     0.81281,     0.81381,     0.81481,     0.81582,\n",
              "           0.81682,     0.81782,     0.81882,     0.81982,     0.82082,     0.82182,     0.82282,     0.82382,     0.82482,     0.82583,     0.82683,     0.82783,     0.82883,     0.82983,     0.83083,     0.83183,     0.83283,     0.83383,     0.83483,     0.83584,     0.83684,     0.83784,     0.83884,     0.83984,\n",
              "           0.84084,     0.84184,     0.84284,     0.84384,     0.84484,     0.84585,     0.84685,     0.84785,     0.84885,     0.84985,     0.85085,     0.85185,     0.85285,     0.85385,     0.85485,     0.85586,     0.85686,     0.85786,     0.85886,     0.85986,     0.86086,     0.86186,     0.86286,     0.86386,\n",
              "           0.86486,     0.86587,     0.86687,     0.86787,     0.86887,     0.86987,     0.87087,     0.87187,     0.87287,     0.87387,     0.87487,     0.87588,     0.87688,     0.87788,     0.87888,     0.87988,     0.88088,     0.88188,     0.88288,     0.88388,     0.88488,     0.88589,     0.88689,     0.88789,\n",
              "           0.88889,     0.88989,     0.89089,     0.89189,     0.89289,     0.89389,     0.89489,      0.8959,      0.8969,      0.8979,      0.8989,      0.8999,      0.9009,      0.9019,      0.9029,      0.9039,      0.9049,     0.90591,     0.90691,     0.90791,     0.90891,     0.90991,     0.91091,     0.91191,\n",
              "           0.91291,     0.91391,     0.91491,     0.91592,     0.91692,     0.91792,     0.91892,     0.91992,     0.92092,     0.92192,     0.92292,     0.92392,     0.92492,     0.92593,     0.92693,     0.92793,     0.92893,     0.92993,     0.93093,     0.93193,     0.93293,     0.93393,     0.93493,     0.93594,\n",
              "           0.93694,     0.93794,     0.93894,     0.93994,     0.94094,     0.94194,     0.94294,     0.94394,     0.94494,     0.94595,     0.94695,     0.94795,     0.94895,     0.94995,     0.95095,     0.95195,     0.95295,     0.95395,     0.95495,     0.95596,     0.95696,     0.95796,     0.95896,     0.95996,\n",
              "           0.96096,     0.96196,     0.96296,     0.96396,     0.96496,     0.96597,     0.96697,     0.96797,     0.96897,     0.96997,     0.97097,     0.97197,     0.97297,     0.97397,     0.97497,     0.97598,     0.97698,     0.97798,     0.97898,     0.97998,     0.98098,     0.98198,     0.98298,     0.98398,\n",
              "           0.98498,     0.98599,     0.98699,     0.98799,     0.98899,     0.98999,     0.99099,     0.99199,     0.99299,     0.99399,     0.99499,       0.996,       0.997,       0.998,       0.999,           1]), array([[    0.13288,     0.13288,     0.18449,     0.25891,     0.31197,     0.35203,     0.38135,     0.40513,     0.42655,     0.44206,     0.45638,     0.46697,     0.47696,     0.48432,     0.49341,     0.50183,     0.50917,      0.5168,     0.52357,     0.53091,     0.53657,     0.54228,     0.54755,\n",
              "             0.5521,      0.5575,     0.56244,     0.56541,     0.56835,     0.57213,     0.57487,     0.57812,     0.58081,     0.58541,     0.58842,     0.59153,     0.59297,     0.59601,     0.59868,     0.60131,     0.60409,     0.60692,     0.60825,     0.61124,     0.61315,     0.61519,     0.61667,\n",
              "             0.6189,     0.62203,     0.62389,     0.62598,     0.62819,     0.62989,     0.63267,     0.63466,     0.63611,     0.63769,     0.63949,     0.64065,     0.64402,     0.64518,     0.64551,     0.64699,     0.64934,      0.6517,     0.65323,     0.65521,     0.65654,     0.65871,     0.66032,\n",
              "             0.6612,     0.66385,     0.66516,     0.66601,     0.66746,     0.66933,     0.67043,     0.67201,     0.67387,     0.67574,     0.67787,     0.68115,     0.68324,     0.68643,     0.68779,     0.68953,     0.69325,     0.69545,       0.697,      0.6981,     0.69886,     0.70045,      0.7023,\n",
              "            0.70483,     0.70609,     0.70824,     0.70968,      0.7099,     0.71286,      0.7141,     0.71498,     0.71697,     0.71975,     0.72092,     0.72307,     0.72446,     0.72508,     0.72668,     0.72737,     0.72885,     0.73015,     0.73087,     0.73159,     0.73265,     0.73512,     0.73758,\n",
              "            0.73906,     0.74031,     0.74131,     0.74281,     0.74351,     0.74468,     0.74509,     0.74574,     0.74745,     0.74818,      0.7487,     0.74918,     0.75013,     0.75117,     0.75165,     0.75206,     0.75294,     0.75501,     0.75589,      0.7568,     0.75833,     0.75861,     0.75891,\n",
              "            0.75959,     0.76018,      0.7607,     0.76155,     0.76232,     0.76378,     0.76438,     0.76541,     0.76703,     0.76853,     0.76954,     0.77015,     0.77076,     0.77117,     0.77221,     0.77249,     0.77274,     0.77363,     0.77493,     0.77539,     0.77624,      0.7772,     0.77866,\n",
              "            0.77898,     0.78035,       0.781,     0.78175,     0.78206,     0.78346,     0.78394,     0.78543,     0.78662,     0.78727,      0.7892,      0.7895,     0.79004,     0.79208,     0.79291,     0.79349,     0.79439,     0.79598,     0.79663,     0.79759,     0.79875,     0.79931,     0.80043,\n",
              "              0.801,     0.80119,     0.80177,     0.80366,     0.80435,     0.80449,     0.80465,     0.80491,     0.80522,     0.80602,      0.8074,     0.80826,      0.8084,     0.80965,     0.80957,     0.81013,     0.81133,     0.81245,     0.81293,     0.81339,     0.81357,     0.81418,     0.81467,\n",
              "            0.81487,     0.81508,     0.81549,     0.81596,     0.81645,     0.81729,     0.81754,     0.81925,     0.81948,     0.82049,     0.82105,     0.82147,     0.82334,     0.82524,     0.82611,     0.82681,     0.82699,     0.82723,     0.82805,      0.8283,     0.82848,     0.82882,     0.82923,\n",
              "            0.82983,     0.82992,     0.83043,     0.83068,     0.83178,     0.83248,     0.83261,     0.83274,     0.83302,     0.83292,     0.83314,     0.83324,     0.83319,     0.83356,     0.83397,     0.83481,     0.83627,     0.83651,     0.83771,      0.8386,      0.8388,     0.83896,     0.83965,\n",
              "             0.8405,     0.84088,     0.84104,     0.84126,     0.84165,     0.84189,     0.84214,     0.84251,     0.84255,      0.8425,     0.84275,     0.84331,     0.84348,      0.8437,     0.84404,     0.84431,     0.84471,     0.84508,     0.84571,      0.8462,     0.84705,     0.84717,     0.84782,\n",
              "            0.84868,     0.84948,     0.84981,     0.85147,     0.85163,     0.85234,     0.85238,     0.85269,     0.85279,     0.85301,     0.85338,     0.85335,     0.85394,     0.85536,     0.85558,     0.85559,     0.85569,     0.85566,     0.85607,     0.85685,     0.85705,     0.85812,     0.85812,\n",
              "            0.85845,     0.85839,     0.85837,     0.85835,     0.85864,     0.85949,     0.85993,     0.86007,        0.86,     0.86029,     0.86052,     0.86086,     0.86066,      0.8618,     0.86203,     0.86254,     0.86264,     0.86346,     0.86375,     0.86397,     0.86413,     0.86429,      0.8649,\n",
              "            0.86615,     0.86651,     0.86818,     0.86899,     0.86923,     0.86918,     0.86914,     0.86908,      0.8693,     0.86958,     0.86978,     0.86985,     0.87073,     0.87155,     0.87145,     0.87145,      0.8716,     0.87174,     0.87202,     0.87244,      0.8731,     0.87431,     0.87467,\n",
              "            0.87482,     0.87497,     0.87569,     0.87582,     0.87611,     0.87688,     0.87687,     0.87685,     0.87683,     0.87681,     0.87679,     0.87745,     0.87795,     0.87907,     0.87903,     0.87902,       0.879,     0.87899,     0.87931,     0.87921,     0.87918,     0.88071,     0.88106,\n",
              "             0.8819,     0.88215,     0.88232,      0.8823,     0.88228,     0.88225,     0.88236,     0.88267,      0.8834,     0.88431,     0.88426,     0.88423,     0.88409,     0.88416,     0.88458,     0.88495,      0.8858,     0.88604,     0.88618,     0.88623,     0.88651,     0.88654,     0.88639,\n",
              "            0.88631,     0.88628,     0.88666,     0.88704,     0.88701,     0.88708,     0.88729,      0.8876,     0.88804,     0.88856,     0.88852,     0.88881,     0.88927,     0.89042,     0.89044,     0.89167,     0.89211,     0.89235,     0.89224,     0.89262,     0.89257,     0.89252,      0.8925,\n",
              "            0.89269,     0.89318,     0.89374,     0.89368,      0.8945,     0.89464,     0.89486,     0.89488,     0.89526,     0.89562,     0.89599,     0.89621,     0.89639,     0.89629,     0.89624,     0.89622,     0.89631,     0.89676,     0.89765,     0.89805,     0.89822,     0.89832,     0.89845,\n",
              "            0.89898,     0.89903,       0.899,     0.89897,     0.89976,     0.90021,     0.90016,     0.90053,     0.90055,     0.90075,     0.90062,      0.9006,     0.90104,      0.9018,     0.90224,     0.90219,      0.9025,     0.90248,     0.90246,     0.90304,     0.90346,     0.90364,     0.90404,\n",
              "            0.90395,      0.9039,      0.9043,     0.90425,     0.90451,     0.90461,     0.90456,     0.90453,      0.9045,     0.90529,     0.90569,     0.90742,     0.90775,      0.9078,     0.90775,     0.90771,     0.90766,     0.90846,     0.90879,     0.90877,     0.90909,     0.90907,     0.90904,\n",
              "            0.90937,     0.90923,     0.90925,     0.90964,     0.91007,     0.91045,     0.91087,     0.91078,     0.91076,     0.91073,     0.91068,     0.91106,     0.91112,     0.91151,     0.91175,       0.912,     0.91224,     0.91229,     0.91225,      0.9122,     0.91215,     0.91325,     0.91336,\n",
              "            0.91374,     0.91397,     0.91404,     0.91395,     0.91431,     0.91524,     0.91622,     0.91668,     0.91769,     0.91765,     0.91902,     0.91943,     0.91987,     0.92007,     0.92033,     0.92077,     0.92068,     0.92067,     0.92092,     0.92113,     0.92105,     0.92146,     0.92187,\n",
              "            0.92245,     0.92329,      0.9238,     0.92407,     0.92398,     0.92436,     0.92453,     0.92575,     0.92656,     0.92677,     0.92698,     0.92773,     0.92924,     0.93024,     0.93227,     0.93235,     0.93318,     0.93327,     0.93323,     0.93416,     0.93454,     0.93499,     0.93547,\n",
              "            0.93544,     0.93522,     0.93511,     0.93507,     0.93544,     0.93599,      0.9362,     0.93613,     0.93692,     0.93713,     0.93711,     0.93709,     0.93837,     0.93852,     0.93848,     0.93845,     0.93841,     0.93934,     0.93945,     0.93942,     0.93978,     0.93982,     0.93968,\n",
              "            0.93957,     0.93954,     0.93947,      0.9394,     0.93932,      0.9398,     0.93973,     0.93968,      0.9396,     0.93946,     0.93942,      0.9398,     0.94028,     0.94123,     0.94136,     0.94171,     0.94204,     0.94208,     0.94206,     0.94175,     0.94171,     0.94201,     0.94194,\n",
              "            0.94187,      0.9418,     0.94176,     0.94223,     0.94216,     0.94212,     0.94229,     0.94292,     0.94377,     0.94389,     0.94433,     0.94478,     0.94471,     0.94468,     0.94473,     0.94502,     0.94499,     0.94485,     0.94466,     0.94455,     0.94445,     0.94487,      0.9446,\n",
              "            0.94572,     0.94568,     0.94612,     0.94666,     0.94701,     0.94749,     0.94748,     0.94738,     0.94731,      0.9472,      0.9471,     0.94756,     0.94746,     0.94801,      0.9484,     0.94986,     0.95074,     0.95124,      0.9512,     0.95104,     0.95091,     0.95084,     0.95074,\n",
              "            0.95175,     0.95363,     0.95372,     0.95356,     0.95399,     0.95548,     0.95591,     0.95642,     0.95715,     0.95753,     0.95813,     0.95869,     0.95854,     0.95831,     0.95953,     0.95939,      0.9593,     0.95987,     0.95974,     0.95962,     0.95936,     0.95937,     0.96063,\n",
              "            0.96096,     0.96115,     0.96112,     0.96167,     0.96156,     0.96165,     0.96275,     0.96263,     0.96249,     0.96238,     0.96362,     0.96357,     0.96346,     0.96316,     0.96456,     0.96448,     0.96508,     0.96547,     0.96571,     0.96616,     0.96791,     0.96847,     0.96834,\n",
              "            0.96821,     0.96803,       0.968,     0.96789,     0.96768,     0.96827,     0.96817,     0.96806,     0.96871,     0.96863,     0.96839,     0.96828,     0.96825,     0.96802,     0.96797,     0.96848,     0.96829,     0.96823,     0.96792,     0.96789,     0.96929,      0.9691,     0.96904,\n",
              "            0.96878,     0.96875,     0.96939,     0.97083,      0.9708,     0.97056,     0.97041,     0.97036,      0.9711,     0.97084,     0.97082,     0.97065,     0.97036,     0.97033,     0.97011,     0.96981,     0.96975,     0.96954,     0.96952,     0.96921,     0.96995,     0.96991,      0.9697,\n",
              "             0.9695,     0.96948,      0.9692,       0.971,     0.97065,     0.97062,     0.97239,     0.97238,     0.97206,       0.973,     0.97298,     0.97275,     0.97243,     0.97241,     0.97236,     0.97308,     0.97301,     0.97287,     0.97263,      0.9726,     0.97219,     0.97307,     0.97267,\n",
              "            0.97376,      0.9747,     0.97563,      0.9754,      0.9753,     0.97636,     0.97744,      0.9774,     0.97823,     0.97805,     0.97774,     0.97772,     0.97871,     0.97837,     0.97835,     0.97927,     0.98181,     0.98179,     0.98151,     0.98282,     0.98553,      0.9854,     0.98535,\n",
              "            0.98508,     0.98648,     0.98773,      0.9877,     0.98903,     0.98893,     0.98887,     0.98886,     0.98851,     0.98832,     0.98813,     0.98812,     0.98962,     0.98957,     0.98939,     0.98922,     0.98921,     0.99088,     0.99077,     0.99068,     0.99053,     0.99042,     0.99039,\n",
              "            0.99029,     0.99019,     0.99006,     0.99193,     0.99191,     0.99176,     0.99164,     0.99159,     0.99146,     0.99132,     0.99131,     0.99111,      0.9909,     0.99083,     0.99069,     0.99056,     0.99045,     0.99017,        0.99,     0.98998,     0.98979,      0.9896,     0.99472,\n",
              "             0.9946,     0.99451,     0.99442,     0.99429,     0.99421,     0.99407,       0.997,     0.99693,     0.99687,     0.99683,     0.99676,     0.99669,      0.9966,     0.99654,     0.99645,           1,           1,           1,           1,           1,           1,           1,           1,\n",
              "                  1,           1,           1,           1,           1,           1,           1,           1,           1,           1,           1,           1,           1,           1,           1,           1,           1,           1,           1,           1,           1,           1,           1,\n",
              "                  1,           1,           1,           1,           1,           1,           1,           1,           1,           1,           1,           1,           1,           1,           1,           1,           1,           1,           1,           1,           1,           1,           1,\n",
              "                  1,           1,           1,           1,           1,           1,           1,           1,           1,           1,           1,           1,           1,           1,           1,           1,           1,           1,           1,           1,           1,           1,           1,\n",
              "                  1,           1,           1,           1,           1,           1,           1,           1,           1,           1,           1,           1,           1,           1,           1,           1,           1,           1,           1,           1,           1,           1,           1,\n",
              "                  1,           1,           1,           1,           1,           1,           1,           1,           1,           1,           1,           1,           1,           1,           1,           1,           1,           1,           1,           1,           1,           1,           1,\n",
              "                  1,           1,           1,           1,           1,           1,           1,           1,           1,           1,           1,           1,           1,           1,           1,           1,           1,           1,           1,           1,           1,           1,           1,\n",
              "                  1,           1,           1,           1,           1,           1,           1,           1,           1,           1,           1]]), 'Confidence', 'Precision'], [array([          0,    0.001001,    0.002002,    0.003003,    0.004004,    0.005005,    0.006006,    0.007007,    0.008008,    0.009009,     0.01001,    0.011011,    0.012012,    0.013013,    0.014014,    0.015015,    0.016016,    0.017017,    0.018018,    0.019019,     0.02002,    0.021021,    0.022022,    0.023023,\n",
              "          0.024024,    0.025025,    0.026026,    0.027027,    0.028028,    0.029029,     0.03003,    0.031031,    0.032032,    0.033033,    0.034034,    0.035035,    0.036036,    0.037037,    0.038038,    0.039039,     0.04004,    0.041041,    0.042042,    0.043043,    0.044044,    0.045045,    0.046046,    0.047047,\n",
              "          0.048048,    0.049049,     0.05005,    0.051051,    0.052052,    0.053053,    0.054054,    0.055055,    0.056056,    0.057057,    0.058058,    0.059059,     0.06006,    0.061061,    0.062062,    0.063063,    0.064064,    0.065065,    0.066066,    0.067067,    0.068068,    0.069069,     0.07007,    0.071071,\n",
              "          0.072072,    0.073073,    0.074074,    0.075075,    0.076076,    0.077077,    0.078078,    0.079079,     0.08008,    0.081081,    0.082082,    0.083083,    0.084084,    0.085085,    0.086086,    0.087087,    0.088088,    0.089089,     0.09009,    0.091091,    0.092092,    0.093093,    0.094094,    0.095095,\n",
              "          0.096096,    0.097097,    0.098098,    0.099099,      0.1001,      0.1011,      0.1021,      0.1031,      0.1041,     0.10511,     0.10611,     0.10711,     0.10811,     0.10911,     0.11011,     0.11111,     0.11211,     0.11311,     0.11411,     0.11512,     0.11612,     0.11712,     0.11812,     0.11912,\n",
              "           0.12012,     0.12112,     0.12212,     0.12312,     0.12412,     0.12513,     0.12613,     0.12713,     0.12813,     0.12913,     0.13013,     0.13113,     0.13213,     0.13313,     0.13413,     0.13514,     0.13614,     0.13714,     0.13814,     0.13914,     0.14014,     0.14114,     0.14214,     0.14314,\n",
              "           0.14414,     0.14515,     0.14615,     0.14715,     0.14815,     0.14915,     0.15015,     0.15115,     0.15215,     0.15315,     0.15415,     0.15516,     0.15616,     0.15716,     0.15816,     0.15916,     0.16016,     0.16116,     0.16216,     0.16316,     0.16416,     0.16517,     0.16617,     0.16717,\n",
              "           0.16817,     0.16917,     0.17017,     0.17117,     0.17217,     0.17317,     0.17417,     0.17518,     0.17618,     0.17718,     0.17818,     0.17918,     0.18018,     0.18118,     0.18218,     0.18318,     0.18418,     0.18519,     0.18619,     0.18719,     0.18819,     0.18919,     0.19019,     0.19119,\n",
              "           0.19219,     0.19319,     0.19419,      0.1952,      0.1962,      0.1972,      0.1982,      0.1992,      0.2002,      0.2012,      0.2022,      0.2032,      0.2042,     0.20521,     0.20621,     0.20721,     0.20821,     0.20921,     0.21021,     0.21121,     0.21221,     0.21321,     0.21421,     0.21522,\n",
              "           0.21622,     0.21722,     0.21822,     0.21922,     0.22022,     0.22122,     0.22222,     0.22322,     0.22422,     0.22523,     0.22623,     0.22723,     0.22823,     0.22923,     0.23023,     0.23123,     0.23223,     0.23323,     0.23423,     0.23524,     0.23624,     0.23724,     0.23824,     0.23924,\n",
              "           0.24024,     0.24124,     0.24224,     0.24324,     0.24424,     0.24525,     0.24625,     0.24725,     0.24825,     0.24925,     0.25025,     0.25125,     0.25225,     0.25325,     0.25425,     0.25526,     0.25626,     0.25726,     0.25826,     0.25926,     0.26026,     0.26126,     0.26226,     0.26326,\n",
              "           0.26426,     0.26527,     0.26627,     0.26727,     0.26827,     0.26927,     0.27027,     0.27127,     0.27227,     0.27327,     0.27427,     0.27528,     0.27628,     0.27728,     0.27828,     0.27928,     0.28028,     0.28128,     0.28228,     0.28328,     0.28428,     0.28529,     0.28629,     0.28729,\n",
              "           0.28829,     0.28929,     0.29029,     0.29129,     0.29229,     0.29329,     0.29429,      0.2953,      0.2963,      0.2973,      0.2983,      0.2993,      0.3003,      0.3013,      0.3023,      0.3033,      0.3043,     0.30531,     0.30631,     0.30731,     0.30831,     0.30931,     0.31031,     0.31131,\n",
              "           0.31231,     0.31331,     0.31431,     0.31532,     0.31632,     0.31732,     0.31832,     0.31932,     0.32032,     0.32132,     0.32232,     0.32332,     0.32432,     0.32533,     0.32633,     0.32733,     0.32833,     0.32933,     0.33033,     0.33133,     0.33233,     0.33333,     0.33433,     0.33534,\n",
              "           0.33634,     0.33734,     0.33834,     0.33934,     0.34034,     0.34134,     0.34234,     0.34334,     0.34434,     0.34535,     0.34635,     0.34735,     0.34835,     0.34935,     0.35035,     0.35135,     0.35235,     0.35335,     0.35435,     0.35536,     0.35636,     0.35736,     0.35836,     0.35936,\n",
              "           0.36036,     0.36136,     0.36236,     0.36336,     0.36436,     0.36537,     0.36637,     0.36737,     0.36837,     0.36937,     0.37037,     0.37137,     0.37237,     0.37337,     0.37437,     0.37538,     0.37638,     0.37738,     0.37838,     0.37938,     0.38038,     0.38138,     0.38238,     0.38338,\n",
              "           0.38438,     0.38539,     0.38639,     0.38739,     0.38839,     0.38939,     0.39039,     0.39139,     0.39239,     0.39339,     0.39439,      0.3954,      0.3964,      0.3974,      0.3984,      0.3994,      0.4004,      0.4014,      0.4024,      0.4034,      0.4044,     0.40541,     0.40641,     0.40741,\n",
              "           0.40841,     0.40941,     0.41041,     0.41141,     0.41241,     0.41341,     0.41441,     0.41542,     0.41642,     0.41742,     0.41842,     0.41942,     0.42042,     0.42142,     0.42242,     0.42342,     0.42442,     0.42543,     0.42643,     0.42743,     0.42843,     0.42943,     0.43043,     0.43143,\n",
              "           0.43243,     0.43343,     0.43443,     0.43544,     0.43644,     0.43744,     0.43844,     0.43944,     0.44044,     0.44144,     0.44244,     0.44344,     0.44444,     0.44545,     0.44645,     0.44745,     0.44845,     0.44945,     0.45045,     0.45145,     0.45245,     0.45345,     0.45445,     0.45546,\n",
              "           0.45646,     0.45746,     0.45846,     0.45946,     0.46046,     0.46146,     0.46246,     0.46346,     0.46446,     0.46547,     0.46647,     0.46747,     0.46847,     0.46947,     0.47047,     0.47147,     0.47247,     0.47347,     0.47447,     0.47548,     0.47648,     0.47748,     0.47848,     0.47948,\n",
              "           0.48048,     0.48148,     0.48248,     0.48348,     0.48448,     0.48549,     0.48649,     0.48749,     0.48849,     0.48949,     0.49049,     0.49149,     0.49249,     0.49349,     0.49449,      0.4955,      0.4965,      0.4975,      0.4985,      0.4995,      0.5005,      0.5015,      0.5025,      0.5035,\n",
              "            0.5045,     0.50551,     0.50651,     0.50751,     0.50851,     0.50951,     0.51051,     0.51151,     0.51251,     0.51351,     0.51451,     0.51552,     0.51652,     0.51752,     0.51852,     0.51952,     0.52052,     0.52152,     0.52252,     0.52352,     0.52452,     0.52553,     0.52653,     0.52753,\n",
              "           0.52853,     0.52953,     0.53053,     0.53153,     0.53253,     0.53353,     0.53453,     0.53554,     0.53654,     0.53754,     0.53854,     0.53954,     0.54054,     0.54154,     0.54254,     0.54354,     0.54454,     0.54555,     0.54655,     0.54755,     0.54855,     0.54955,     0.55055,     0.55155,\n",
              "           0.55255,     0.55355,     0.55455,     0.55556,     0.55656,     0.55756,     0.55856,     0.55956,     0.56056,     0.56156,     0.56256,     0.56356,     0.56456,     0.56557,     0.56657,     0.56757,     0.56857,     0.56957,     0.57057,     0.57157,     0.57257,     0.57357,     0.57457,     0.57558,\n",
              "           0.57658,     0.57758,     0.57858,     0.57958,     0.58058,     0.58158,     0.58258,     0.58358,     0.58458,     0.58559,     0.58659,     0.58759,     0.58859,     0.58959,     0.59059,     0.59159,     0.59259,     0.59359,     0.59459,      0.5956,      0.5966,      0.5976,      0.5986,      0.5996,\n",
              "            0.6006,      0.6016,      0.6026,      0.6036,      0.6046,     0.60561,     0.60661,     0.60761,     0.60861,     0.60961,     0.61061,     0.61161,     0.61261,     0.61361,     0.61461,     0.61562,     0.61662,     0.61762,     0.61862,     0.61962,     0.62062,     0.62162,     0.62262,     0.62362,\n",
              "           0.62462,     0.62563,     0.62663,     0.62763,     0.62863,     0.62963,     0.63063,     0.63163,     0.63263,     0.63363,     0.63463,     0.63564,     0.63664,     0.63764,     0.63864,     0.63964,     0.64064,     0.64164,     0.64264,     0.64364,     0.64464,     0.64565,     0.64665,     0.64765,\n",
              "           0.64865,     0.64965,     0.65065,     0.65165,     0.65265,     0.65365,     0.65465,     0.65566,     0.65666,     0.65766,     0.65866,     0.65966,     0.66066,     0.66166,     0.66266,     0.66366,     0.66466,     0.66567,     0.66667,     0.66767,     0.66867,     0.66967,     0.67067,     0.67167,\n",
              "           0.67267,     0.67367,     0.67467,     0.67568,     0.67668,     0.67768,     0.67868,     0.67968,     0.68068,     0.68168,     0.68268,     0.68368,     0.68468,     0.68569,     0.68669,     0.68769,     0.68869,     0.68969,     0.69069,     0.69169,     0.69269,     0.69369,     0.69469,      0.6957,\n",
              "            0.6967,      0.6977,      0.6987,      0.6997,      0.7007,      0.7017,      0.7027,      0.7037,      0.7047,     0.70571,     0.70671,     0.70771,     0.70871,     0.70971,     0.71071,     0.71171,     0.71271,     0.71371,     0.71471,     0.71572,     0.71672,     0.71772,     0.71872,     0.71972,\n",
              "           0.72072,     0.72172,     0.72272,     0.72372,     0.72472,     0.72573,     0.72673,     0.72773,     0.72873,     0.72973,     0.73073,     0.73173,     0.73273,     0.73373,     0.73473,     0.73574,     0.73674,     0.73774,     0.73874,     0.73974,     0.74074,     0.74174,     0.74274,     0.74374,\n",
              "           0.74474,     0.74575,     0.74675,     0.74775,     0.74875,     0.74975,     0.75075,     0.75175,     0.75275,     0.75375,     0.75475,     0.75576,     0.75676,     0.75776,     0.75876,     0.75976,     0.76076,     0.76176,     0.76276,     0.76376,     0.76476,     0.76577,     0.76677,     0.76777,\n",
              "           0.76877,     0.76977,     0.77077,     0.77177,     0.77277,     0.77377,     0.77477,     0.77578,     0.77678,     0.77778,     0.77878,     0.77978,     0.78078,     0.78178,     0.78278,     0.78378,     0.78478,     0.78579,     0.78679,     0.78779,     0.78879,     0.78979,     0.79079,     0.79179,\n",
              "           0.79279,     0.79379,     0.79479,      0.7958,      0.7968,      0.7978,      0.7988,      0.7998,      0.8008,      0.8018,      0.8028,      0.8038,      0.8048,     0.80581,     0.80681,     0.80781,     0.80881,     0.80981,     0.81081,     0.81181,     0.81281,     0.81381,     0.81481,     0.81582,\n",
              "           0.81682,     0.81782,     0.81882,     0.81982,     0.82082,     0.82182,     0.82282,     0.82382,     0.82482,     0.82583,     0.82683,     0.82783,     0.82883,     0.82983,     0.83083,     0.83183,     0.83283,     0.83383,     0.83483,     0.83584,     0.83684,     0.83784,     0.83884,     0.83984,\n",
              "           0.84084,     0.84184,     0.84284,     0.84384,     0.84484,     0.84585,     0.84685,     0.84785,     0.84885,     0.84985,     0.85085,     0.85185,     0.85285,     0.85385,     0.85485,     0.85586,     0.85686,     0.85786,     0.85886,     0.85986,     0.86086,     0.86186,     0.86286,     0.86386,\n",
              "           0.86486,     0.86587,     0.86687,     0.86787,     0.86887,     0.86987,     0.87087,     0.87187,     0.87287,     0.87387,     0.87487,     0.87588,     0.87688,     0.87788,     0.87888,     0.87988,     0.88088,     0.88188,     0.88288,     0.88388,     0.88488,     0.88589,     0.88689,     0.88789,\n",
              "           0.88889,     0.88989,     0.89089,     0.89189,     0.89289,     0.89389,     0.89489,      0.8959,      0.8969,      0.8979,      0.8989,      0.8999,      0.9009,      0.9019,      0.9029,      0.9039,      0.9049,     0.90591,     0.90691,     0.90791,     0.90891,     0.90991,     0.91091,     0.91191,\n",
              "           0.91291,     0.91391,     0.91491,     0.91592,     0.91692,     0.91792,     0.91892,     0.91992,     0.92092,     0.92192,     0.92292,     0.92392,     0.92492,     0.92593,     0.92693,     0.92793,     0.92893,     0.92993,     0.93093,     0.93193,     0.93293,     0.93393,     0.93493,     0.93594,\n",
              "           0.93694,     0.93794,     0.93894,     0.93994,     0.94094,     0.94194,     0.94294,     0.94394,     0.94494,     0.94595,     0.94695,     0.94795,     0.94895,     0.94995,     0.95095,     0.95195,     0.95295,     0.95395,     0.95495,     0.95596,     0.95696,     0.95796,     0.95896,     0.95996,\n",
              "           0.96096,     0.96196,     0.96296,     0.96396,     0.96496,     0.96597,     0.96697,     0.96797,     0.96897,     0.96997,     0.97097,     0.97197,     0.97297,     0.97397,     0.97497,     0.97598,     0.97698,     0.97798,     0.97898,     0.97998,     0.98098,     0.98198,     0.98298,     0.98398,\n",
              "           0.98498,     0.98599,     0.98699,     0.98799,     0.98899,     0.98999,     0.99099,     0.99199,     0.99299,     0.99399,     0.99499,       0.996,       0.997,       0.998,       0.999,           1]), array([[    0.98061,     0.98061,     0.98061,     0.97919,     0.97871,     0.97729,     0.97682,     0.97588,     0.97493,     0.97493,     0.97493,     0.97446,     0.97398,     0.97256,     0.97256,     0.97256,     0.97162,     0.97162,     0.97162,     0.97162,     0.97162,     0.97162,     0.97162,\n",
              "            0.97114,     0.97114,     0.97114,     0.97067,      0.9702,      0.9702,     0.96973,     0.96925,     0.96925,     0.96925,     0.96925,     0.96925,     0.96925,     0.96925,     0.96887,     0.96878,     0.96831,     0.96831,     0.96831,     0.96783,     0.96783,     0.96783,     0.96783,\n",
              "            0.96783,     0.96783,     0.96783,     0.96783,     0.96783,     0.96783,     0.96783,     0.96783,     0.96783,     0.96736,     0.96736,     0.96736,     0.96736,     0.96736,     0.96736,     0.96736,     0.96736,     0.96736,     0.96736,     0.96736,     0.96689,     0.96641,     0.96641,\n",
              "            0.96641,     0.96594,     0.96594,     0.96594,     0.96594,     0.96594,     0.96594,     0.96547,     0.96469,     0.96405,     0.96405,     0.96405,     0.96405,      0.9631,     0.96263,     0.96263,     0.96216,     0.96216,     0.96193,     0.96168,     0.96121,     0.96121,     0.96074,\n",
              "            0.95979,     0.95979,     0.95979,     0.95976,     0.95932,     0.95932,     0.95932,     0.95885,     0.95885,     0.95837,     0.95743,     0.95695,     0.95648,     0.95648,     0.95648,     0.95648,     0.95648,     0.95553,     0.95506,     0.95459,     0.95459,     0.95459,     0.95412,\n",
              "            0.95412,     0.95364,     0.95317,     0.95317,     0.95317,     0.95317,     0.95317,     0.95317,       0.952,     0.95175,     0.95127,     0.95033,     0.95033,     0.95033,     0.95033,     0.95033,     0.95033,     0.95033,     0.95033,     0.95033,     0.95033,     0.94986,     0.94844,\n",
              "            0.94844,     0.94844,     0.94844,     0.94844,     0.94844,     0.94844,     0.94844,     0.94844,     0.94844,     0.94844,     0.94749,     0.94749,     0.94749,     0.94749,     0.94749,     0.94749,     0.94702,     0.94702,     0.94702,     0.94702,     0.94702,      0.9456,      0.9456,\n",
              "            0.94529,     0.94513,     0.94513,     0.94513,     0.94513,     0.94465,     0.94418,     0.94418,     0.94418,     0.94418,     0.94371,     0.94371,     0.94336,     0.94324,     0.94324,     0.94324,     0.94324,      0.9431,     0.94276,     0.94276,     0.94276,     0.94276,     0.94229,\n",
              "            0.94182,     0.94182,     0.94087,     0.94087,     0.94087,     0.94087,     0.94087,     0.94087,     0.94064,      0.9404,      0.9404,      0.9404,     0.93992,      0.9396,     0.93917,     0.93898,     0.93898,     0.93848,     0.93803,     0.93803,     0.93803,     0.93803,     0.93803,\n",
              "            0.93803,     0.93803,     0.93756,     0.93709,     0.93709,     0.93709,     0.93709,     0.93694,     0.93623,     0.93567,     0.93567,     0.93519,     0.93519,     0.93519,     0.93519,     0.93472,     0.93472,     0.93472,     0.93472,     0.93472,     0.93472,     0.93446,     0.93425,\n",
              "            0.93424,     0.93377,     0.93377,     0.93377,     0.93377,     0.93322,     0.93283,     0.93259,     0.93215,      0.9315,     0.93141,     0.93124,      0.9309,     0.92999,     0.92952,     0.92952,     0.92952,     0.92952,     0.92952,     0.92952,     0.92952,     0.92952,     0.92952,\n",
              "            0.92952,     0.92952,     0.92952,     0.92952,     0.92952,     0.92952,     0.92952,     0.92952,     0.92903,     0.92857,     0.92857,     0.92857,     0.92857,      0.9281,      0.9281,      0.9281,      0.9281,      0.9281,      0.9281,      0.9281,     0.92735,     0.92715,     0.92715,\n",
              "            0.92715,     0.92636,     0.92621,     0.92621,     0.92621,     0.92621,     0.92573,     0.92552,     0.92526,     0.92526,     0.92509,     0.92489,     0.92479,     0.92479,     0.92478,     0.92384,     0.92279,      0.9226,     0.92242,     0.92195,     0.92169,     0.92148,     0.92122,\n",
              "            0.92086,     0.92044,     0.92027,     0.92009,     0.91911,     0.91911,     0.91911,      0.9188,     0.91821,     0.91722,     0.91722,     0.91603,     0.91452,     0.91438,     0.91438,     0.91421,     0.91343,     0.91343,     0.91343,     0.91343,     0.91343,     0.91343,     0.91296,\n",
              "            0.91296,     0.91249,     0.91249,     0.91249,     0.91182,     0.91143,     0.91115,     0.91061,      0.9106,      0.9106,     0.90993,      0.9087,      0.9087,      0.9087,     0.90751,     0.90728,     0.90728,     0.90728,     0.90728,     0.90681,     0.90539,     0.90488,     0.90445,\n",
              "            0.90445,     0.90445,     0.90445,     0.90411,     0.90315,     0.90292,     0.90279,     0.90265,      0.9025,     0.90232,     0.90214,     0.90208,     0.90176,     0.90114,     0.90056,     0.90046,     0.90036,     0.90026,     0.89951,     0.89863,     0.89838,     0.89751,     0.89735,\n",
              "            0.89735,     0.89735,     0.89731,     0.89715,     0.89699,     0.89667,     0.89546,     0.89451,     0.89357,     0.89314,     0.89264,     0.89239,      0.8912,     0.89073,     0.89073,     0.89026,     0.89026,     0.89001,     0.88884,     0.88804,     0.88789,     0.88707,     0.88579,\n",
              "            0.88504,     0.88458,     0.88411,     0.88408,      0.8838,     0.88363,     0.88363,     0.88363,     0.88363,     0.88255,     0.88227,     0.88174,     0.88135,     0.88079,     0.88038,     0.88032,     0.87938,     0.87833,     0.87737,     0.87689,      0.8764,     0.87599,     0.87575,\n",
              "            0.87559,     0.87559,     0.87528,     0.87479,     0.87431,     0.87417,     0.87417,      0.8738,     0.87332,     0.87228,     0.87181,     0.87181,     0.87173,     0.87077,     0.87034,      0.8701,     0.86991,     0.86991,     0.86991,     0.86944,     0.86833,     0.86708,     0.86629,\n",
              "            0.86424,     0.86343,     0.86312,     0.86288,     0.86282,     0.86282,     0.86148,      0.8614,     0.86098,      0.8586,     0.85739,     0.85715,     0.85714,     0.85572,     0.85571,     0.85522,     0.85382,     0.85364,     0.85346,     0.85289,     0.85241,     0.85172,     0.85124,\n",
              "            0.85028,     0.84979,     0.84931,     0.84882,     0.84863,     0.84785,     0.84737,     0.84705,      0.8468,     0.84674,     0.84496,     0.84484,     0.84342,     0.84303,     0.84254,     0.84206,     0.84157,     0.84059,     0.83894,      0.8387,     0.83727,     0.83703,     0.83677,\n",
              "            0.83534,     0.83391,     0.83349,     0.83254,     0.83207,     0.83197,     0.83149,     0.83059,     0.83035,     0.83003,     0.82955,     0.82859,     0.82734,     0.82734,     0.82734,     0.82734,     0.82734,     0.82663,     0.82614,     0.82566,     0.82517,     0.82356,     0.82278,\n",
              "            0.82182,     0.82072,     0.81991,     0.81895,     0.81883,     0.81835,     0.81835,     0.81788,     0.81747,     0.81699,     0.81646,     0.81507,     0.81459,      0.8141,      0.8141,     0.81361,     0.81265,      0.8122,      0.8122,     0.81214,     0.81118,     0.81022,     0.80927,\n",
              "            0.80889,       0.807,       0.807,     0.80591,     0.80495,     0.80352,     0.80322,     0.80208,      0.7997,     0.79943,     0.79873,     0.79849,     0.79801,     0.79754,     0.79707,     0.79536,     0.79518,     0.79392,     0.79343,       0.792,      0.7901,     0.78914,     0.78865,\n",
              "            0.78817,     0.78532,     0.78389,      0.7834,     0.78193,     0.77862,     0.77745,      0.7765,     0.77625,     0.77565,     0.77541,     0.77503,     0.77342,     0.77264,     0.77216,     0.77167,     0.77119,     0.77105,     0.77069,      0.7702,     0.76916,     0.76829,     0.76638,\n",
              "            0.76495,     0.76447,     0.76351,     0.76255,     0.76159,     0.76064,     0.75966,     0.75896,       0.758,      0.7561,     0.75561,     0.75323,     0.75228,     0.75213,     0.75178,     0.74893,      0.7474,     0.74626,     0.74602,     0.74179,      0.7413,     0.73774,     0.73678,\n",
              "            0.73583,     0.73487,     0.73438,     0.73295,     0.73199,     0.73151,     0.72895,     0.72675,     0.72517,     0.72413,     0.72223,     0.72032,     0.71936,     0.71888,     0.71712,     0.71554,     0.71506,     0.71315,     0.71058,     0.70911,     0.70768,      0.7053,     0.70151,\n",
              "            0.70055,     0.70006,     0.69769,     0.69489,     0.69317,     0.69142,     0.69118,     0.68982,     0.68886,     0.68743,       0.686,     0.68386,     0.68243,     0.68147,     0.67815,     0.67739,     0.67555,     0.67362,     0.67314,     0.67076,     0.66885,      0.6679,     0.66642,\n",
              "            0.66604,     0.66509,     0.66288,     0.66051,     0.65989,     0.65752,     0.65645,     0.65407,     0.65184,     0.65058,     0.64954,     0.64764,     0.64526,     0.64147,     0.63933,     0.63695,     0.63552,     0.63361,     0.63147,     0.62957,      0.6253,     0.62394,      0.6233,\n",
              "            0.62062,     0.62029,      0.6198,     0.61719,     0.61528,     0.61306,     0.61131,     0.60933,     0.60696,     0.60505,     0.60149,     0.60054,     0.59863,     0.59365,     0.59222,     0.59079,     0.58837,     0.58704,     0.58626,     0.58515,     0.58231,     0.58126,     0.57877,\n",
              "            0.57627,     0.57295,     0.57246,     0.57032,     0.56652,     0.56302,     0.56106,     0.55916,     0.55654,     0.55511,     0.55061,      0.5487,     0.54819,     0.54419,     0.54323,     0.53778,     0.53445,      0.5334,     0.52804,     0.52756,     0.52258,     0.51926,     0.51815,\n",
              "            0.51379,     0.51331,     0.50927,     0.50386,     0.50334,     0.49907,     0.49646,      0.4955,     0.49273,     0.48815,     0.48783,     0.48504,     0.48006,      0.4795,     0.47602,     0.47104,     0.47008,      0.4668,     0.46648,     0.46153,     0.45805,     0.45749,     0.45417,\n",
              "            0.45115,     0.45082,     0.44656,     0.44355,     0.43802,     0.43752,     0.43317,     0.43292,      0.4279,     0.42616,     0.42584,      0.4222,     0.41715,     0.41683,     0.41603,     0.41032,     0.40926,     0.40712,     0.40338,     0.40306,     0.39692,     0.39312,      0.3872,\n",
              "            0.38647,     0.38267,     0.37873,     0.37509,     0.37361,     0.37128,     0.36883,     0.36818,     0.36131,     0.35835,     0.35328,     0.35296,      0.3479,     0.34238,     0.34205,     0.33521,     0.33195,     0.33162,     0.32645,     0.32467,     0.32214,     0.31928,      0.3181,\n",
              "            0.31241,      0.3106,     0.30452,     0.30386,     0.29864,      0.2959,     0.29416,     0.29384,     0.28488,     0.28013,     0.27568,     0.27536,      0.2707,     0.26921,      0.2647,      0.2605,     0.26018,     0.25702,       0.254,     0.25148,     0.24733,     0.24447,     0.24379,\n",
              "            0.24111,     0.23867,     0.23548,     0.23253,     0.23191,     0.22764,     0.22444,     0.22297,     0.21964,     0.21606,     0.21574,     0.21101,     0.20603,     0.20438,     0.20128,     0.19851,     0.19627,     0.19057,     0.18729,     0.18697,      0.1834,     0.18007,     0.17812,\n",
              "            0.17434,     0.17148,     0.16875,     0.16481,     0.16234,     0.15861,     0.15711,     0.15384,     0.15046,     0.14871,     0.14572,     0.14262,     0.13858,     0.13619,     0.13265,     0.12886,     0.12382,     0.11914,      0.1181,     0.11675,     0.11568,     0.11247,     0.11043,\n",
              "            0.10629,     0.10329,     0.10012,    0.096621,    0.093947,    0.091843,    0.089455,    0.087289,    0.086096,    0.081815,    0.077556,    0.075179,    0.073229,    0.069894,    0.068452,    0.066536,    0.064713,     0.06365,    0.060195,    0.057453,    0.056861,    0.053622,    0.052179,\n",
              "           0.051385,     0.04882,    0.047814,    0.046383,    0.044019,    0.042102,    0.041133,    0.038745,    0.037302,    0.035859,    0.032997,    0.030608,    0.028301,    0.026304,    0.025334,    0.024364,    0.023523,    0.021478,    0.020036,    0.016701,    0.015731,    0.015186,    0.013991,\n",
              "            0.01256,    0.011852,    0.011118,     0.01016,   0.0096748,   0.0089648,   0.0086416,   0.0083183,   0.0079019,   0.0072504,   0.0067655,   0.0059216,    0.004496,   0.0040136,   0.0035026,   0.0027409,   0.0026197,   0.0024985,   0.0023773,   0.0019286,   0.0016679,   0.0014255,  0.00086755,\n",
              "         0.00070593,   0.0005443,           0,           0,           0,           0,           0,           0,           0,           0,           0,           0,           0,           0,           0,           0,           0,           0,           0,           0,           0,           0,           0,\n",
              "                  0,           0,           0,           0,           0,           0,           0,           0,           0,           0,           0,           0,           0,           0,           0,           0,           0,           0,           0,           0,           0,           0,           0,\n",
              "                  0,           0,           0,           0,           0,           0,           0,           0,           0,           0,           0,           0,           0,           0,           0,           0,           0,           0,           0,           0,           0,           0,           0,\n",
              "                  0,           0,           0,           0,           0,           0,           0,           0,           0,           0,           0]]), 'Confidence', 'Recall']]\n",
              "fitness: 0.5582252451817737\n",
              "keys: ['metrics/precision(B)', 'metrics/recall(B)', 'metrics/mAP50(B)', 'metrics/mAP50-95(B)']\n",
              "maps: array([    0.51671])\n",
              "names: {0: 'tree'}\n",
              "plot: True\n",
              "results_dict: {'metrics/precision(B)': 0.8715509997241625, 'metrics/recall(B)': 0.9087038789025544, 'metrics/mAP50(B)': 0.931822125703593, 'metrics/mAP50-95(B)': 0.5167144806793494, 'fitness': 0.5582252451817737}\n",
              "save_dir: PosixPath('runs/detect/train2')\n",
              "speed: {'preprocess': 0.41770018064058745, 'inference': 2.6297798523536096, 'loss': 0.0005456117483285756, 'postprocess': 5.412032971015344}\n",
              "task: 'detect'"
            ]
          },
          "metadata": {},
          "execution_count": 6
        }
      ]
    },
    {
      "cell_type": "code",
      "source": [],
      "metadata": {
        "id": "4tXSwCgwk_fB"
      },
      "execution_count": null,
      "outputs": []
    }
  ]
}