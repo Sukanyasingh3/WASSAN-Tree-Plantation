{
  "nbformat": 4,
  "nbformat_minor": 0,
  "metadata": {
    "colab": {
      "provenance": []
    },
    "kernelspec": {
      "name": "python3",
      "display_name": "Python 3"
    },
    "language_info": {
      "name": "python"
    }
  },
  "cells": [
    {
      "cell_type": "code",
      "execution_count": 1,
      "metadata": {
        "colab": {
          "base_uri": "https://localhost:8080/"
        },
        "id": "Il41ggkHaH_S",
        "outputId": "d6797a4a-ca44-4988-8751-46ff320103d7"
      },
      "outputs": [
        {
          "output_type": "stream",
          "name": "stdout",
          "text": [
            "Collecting ultralytics\n",
            "  Downloading ultralytics-8.2.38-py3-none-any.whl (792 kB)\n",
            "\u001b[2K     \u001b[90m━━━━━━━━━━━━━━━━━━━━━━━━━━━━━━━━━━━━━━━━\u001b[0m \u001b[32m792.5/792.5 kB\u001b[0m \u001b[31m7.8 MB/s\u001b[0m eta \u001b[36m0:00:00\u001b[0m\n",
            "\u001b[?25hRequirement already satisfied: numpy<2.0.0 in /usr/local/lib/python3.10/dist-packages (from ultralytics) (1.25.2)\n",
            "Requirement already satisfied: matplotlib>=3.3.0 in /usr/local/lib/python3.10/dist-packages (from ultralytics) (3.7.1)\n",
            "Requirement already satisfied: opencv-python>=4.6.0 in /usr/local/lib/python3.10/dist-packages (from ultralytics) (4.8.0.76)\n",
            "Requirement already satisfied: pillow>=7.1.2 in /usr/local/lib/python3.10/dist-packages (from ultralytics) (9.4.0)\n",
            "Requirement already satisfied: pyyaml>=5.3.1 in /usr/local/lib/python3.10/dist-packages (from ultralytics) (6.0.1)\n",
            "Requirement already satisfied: requests>=2.23.0 in /usr/local/lib/python3.10/dist-packages (from ultralytics) (2.31.0)\n",
            "Requirement already satisfied: scipy>=1.4.1 in /usr/local/lib/python3.10/dist-packages (from ultralytics) (1.11.4)\n",
            "Requirement already satisfied: torch>=1.8.0 in /usr/local/lib/python3.10/dist-packages (from ultralytics) (2.3.0+cu121)\n",
            "Requirement already satisfied: torchvision>=0.9.0 in /usr/local/lib/python3.10/dist-packages (from ultralytics) (0.18.0+cu121)\n",
            "Requirement already satisfied: tqdm>=4.64.0 in /usr/local/lib/python3.10/dist-packages (from ultralytics) (4.66.4)\n",
            "Requirement already satisfied: psutil in /usr/local/lib/python3.10/dist-packages (from ultralytics) (5.9.5)\n",
            "Requirement already satisfied: py-cpuinfo in /usr/local/lib/python3.10/dist-packages (from ultralytics) (9.0.0)\n",
            "Requirement already satisfied: pandas>=1.1.4 in /usr/local/lib/python3.10/dist-packages (from ultralytics) (2.0.3)\n",
            "Requirement already satisfied: seaborn>=0.11.0 in /usr/local/lib/python3.10/dist-packages (from ultralytics) (0.13.1)\n",
            "Collecting ultralytics-thop>=2.0.0 (from ultralytics)\n",
            "  Downloading ultralytics_thop-2.0.0-py3-none-any.whl (25 kB)\n",
            "Requirement already satisfied: contourpy>=1.0.1 in /usr/local/lib/python3.10/dist-packages (from matplotlib>=3.3.0->ultralytics) (1.2.1)\n",
            "Requirement already satisfied: cycler>=0.10 in /usr/local/lib/python3.10/dist-packages (from matplotlib>=3.3.0->ultralytics) (0.12.1)\n",
            "Requirement already satisfied: fonttools>=4.22.0 in /usr/local/lib/python3.10/dist-packages (from matplotlib>=3.3.0->ultralytics) (4.53.0)\n",
            "Requirement already satisfied: kiwisolver>=1.0.1 in /usr/local/lib/python3.10/dist-packages (from matplotlib>=3.3.0->ultralytics) (1.4.5)\n",
            "Requirement already satisfied: packaging>=20.0 in /usr/local/lib/python3.10/dist-packages (from matplotlib>=3.3.0->ultralytics) (24.1)\n",
            "Requirement already satisfied: pyparsing>=2.3.1 in /usr/local/lib/python3.10/dist-packages (from matplotlib>=3.3.0->ultralytics) (3.1.2)\n",
            "Requirement already satisfied: python-dateutil>=2.7 in /usr/local/lib/python3.10/dist-packages (from matplotlib>=3.3.0->ultralytics) (2.8.2)\n",
            "Requirement already satisfied: pytz>=2020.1 in /usr/local/lib/python3.10/dist-packages (from pandas>=1.1.4->ultralytics) (2023.4)\n",
            "Requirement already satisfied: tzdata>=2022.1 in /usr/local/lib/python3.10/dist-packages (from pandas>=1.1.4->ultralytics) (2024.1)\n",
            "Requirement already satisfied: charset-normalizer<4,>=2 in /usr/local/lib/python3.10/dist-packages (from requests>=2.23.0->ultralytics) (3.3.2)\n",
            "Requirement already satisfied: idna<4,>=2.5 in /usr/local/lib/python3.10/dist-packages (from requests>=2.23.0->ultralytics) (3.7)\n",
            "Requirement already satisfied: urllib3<3,>=1.21.1 in /usr/local/lib/python3.10/dist-packages (from requests>=2.23.0->ultralytics) (2.0.7)\n",
            "Requirement already satisfied: certifi>=2017.4.17 in /usr/local/lib/python3.10/dist-packages (from requests>=2.23.0->ultralytics) (2024.6.2)\n",
            "Requirement already satisfied: filelock in /usr/local/lib/python3.10/dist-packages (from torch>=1.8.0->ultralytics) (3.15.1)\n",
            "Requirement already satisfied: typing-extensions>=4.8.0 in /usr/local/lib/python3.10/dist-packages (from torch>=1.8.0->ultralytics) (4.12.2)\n",
            "Requirement already satisfied: sympy in /usr/local/lib/python3.10/dist-packages (from torch>=1.8.0->ultralytics) (1.12.1)\n",
            "Requirement already satisfied: networkx in /usr/local/lib/python3.10/dist-packages (from torch>=1.8.0->ultralytics) (3.3)\n",
            "Requirement already satisfied: jinja2 in /usr/local/lib/python3.10/dist-packages (from torch>=1.8.0->ultralytics) (3.1.4)\n",
            "Requirement already satisfied: fsspec in /usr/local/lib/python3.10/dist-packages (from torch>=1.8.0->ultralytics) (2023.6.0)\n",
            "Collecting nvidia-cuda-nvrtc-cu12==12.1.105 (from torch>=1.8.0->ultralytics)\n",
            "  Using cached nvidia_cuda_nvrtc_cu12-12.1.105-py3-none-manylinux1_x86_64.whl (23.7 MB)\n",
            "Collecting nvidia-cuda-runtime-cu12==12.1.105 (from torch>=1.8.0->ultralytics)\n",
            "  Using cached nvidia_cuda_runtime_cu12-12.1.105-py3-none-manylinux1_x86_64.whl (823 kB)\n",
            "Collecting nvidia-cuda-cupti-cu12==12.1.105 (from torch>=1.8.0->ultralytics)\n",
            "  Using cached nvidia_cuda_cupti_cu12-12.1.105-py3-none-manylinux1_x86_64.whl (14.1 MB)\n",
            "Collecting nvidia-cudnn-cu12==8.9.2.26 (from torch>=1.8.0->ultralytics)\n",
            "  Using cached nvidia_cudnn_cu12-8.9.2.26-py3-none-manylinux1_x86_64.whl (731.7 MB)\n",
            "Collecting nvidia-cublas-cu12==12.1.3.1 (from torch>=1.8.0->ultralytics)\n",
            "  Using cached nvidia_cublas_cu12-12.1.3.1-py3-none-manylinux1_x86_64.whl (410.6 MB)\n",
            "Collecting nvidia-cufft-cu12==11.0.2.54 (from torch>=1.8.0->ultralytics)\n",
            "  Using cached nvidia_cufft_cu12-11.0.2.54-py3-none-manylinux1_x86_64.whl (121.6 MB)\n",
            "Collecting nvidia-curand-cu12==10.3.2.106 (from torch>=1.8.0->ultralytics)\n",
            "  Using cached nvidia_curand_cu12-10.3.2.106-py3-none-manylinux1_x86_64.whl (56.5 MB)\n",
            "Collecting nvidia-cusolver-cu12==11.4.5.107 (from torch>=1.8.0->ultralytics)\n",
            "  Using cached nvidia_cusolver_cu12-11.4.5.107-py3-none-manylinux1_x86_64.whl (124.2 MB)\n",
            "Collecting nvidia-cusparse-cu12==12.1.0.106 (from torch>=1.8.0->ultralytics)\n",
            "  Using cached nvidia_cusparse_cu12-12.1.0.106-py3-none-manylinux1_x86_64.whl (196.0 MB)\n",
            "Collecting nvidia-nccl-cu12==2.20.5 (from torch>=1.8.0->ultralytics)\n",
            "  Using cached nvidia_nccl_cu12-2.20.5-py3-none-manylinux2014_x86_64.whl (176.2 MB)\n",
            "Collecting nvidia-nvtx-cu12==12.1.105 (from torch>=1.8.0->ultralytics)\n",
            "  Using cached nvidia_nvtx_cu12-12.1.105-py3-none-manylinux1_x86_64.whl (99 kB)\n",
            "Requirement already satisfied: triton==2.3.0 in /usr/local/lib/python3.10/dist-packages (from torch>=1.8.0->ultralytics) (2.3.0)\n",
            "Collecting nvidia-nvjitlink-cu12 (from nvidia-cusolver-cu12==11.4.5.107->torch>=1.8.0->ultralytics)\n",
            "  Downloading nvidia_nvjitlink_cu12-12.5.40-py3-none-manylinux2014_x86_64.whl (21.3 MB)\n",
            "\u001b[2K     \u001b[90m━━━━━━━━━━━━━━━━━━━━━━━━━━━━━━━━━━━━━━━━\u001b[0m \u001b[32m21.3/21.3 MB\u001b[0m \u001b[31m60.6 MB/s\u001b[0m eta \u001b[36m0:00:00\u001b[0m\n",
            "\u001b[?25hRequirement already satisfied: six>=1.5 in /usr/local/lib/python3.10/dist-packages (from python-dateutil>=2.7->matplotlib>=3.3.0->ultralytics) (1.16.0)\n",
            "Requirement already satisfied: MarkupSafe>=2.0 in /usr/local/lib/python3.10/dist-packages (from jinja2->torch>=1.8.0->ultralytics) (2.1.5)\n",
            "Requirement already satisfied: mpmath<1.4.0,>=1.1.0 in /usr/local/lib/python3.10/dist-packages (from sympy->torch>=1.8.0->ultralytics) (1.3.0)\n",
            "Installing collected packages: nvidia-nvtx-cu12, nvidia-nvjitlink-cu12, nvidia-nccl-cu12, nvidia-curand-cu12, nvidia-cufft-cu12, nvidia-cuda-runtime-cu12, nvidia-cuda-nvrtc-cu12, nvidia-cuda-cupti-cu12, nvidia-cublas-cu12, nvidia-cusparse-cu12, nvidia-cudnn-cu12, nvidia-cusolver-cu12, ultralytics-thop, ultralytics\n",
            "Successfully installed nvidia-cublas-cu12-12.1.3.1 nvidia-cuda-cupti-cu12-12.1.105 nvidia-cuda-nvrtc-cu12-12.1.105 nvidia-cuda-runtime-cu12-12.1.105 nvidia-cudnn-cu12-8.9.2.26 nvidia-cufft-cu12-11.0.2.54 nvidia-curand-cu12-10.3.2.106 nvidia-cusolver-cu12-11.4.5.107 nvidia-cusparse-cu12-12.1.0.106 nvidia-nccl-cu12-2.20.5 nvidia-nvjitlink-cu12-12.5.40 nvidia-nvtx-cu12-12.1.105 ultralytics-8.2.38 ultralytics-thop-2.0.0\n"
          ]
        }
      ],
      "source": [
        "!pip install ultralytics"
      ]
    },
    {
      "cell_type": "code",
      "source": [
        "from google.colab import drive\n",
        "drive.mount('/content/drive')"
      ],
      "metadata": {
        "colab": {
          "base_uri": "https://localhost:8080/"
        },
        "id": "LtBDfwfIaT5T",
        "outputId": "a036fb38-c8f3-4f03-c00d-c139f8306829"
      },
      "execution_count": 2,
      "outputs": [
        {
          "output_type": "stream",
          "name": "stdout",
          "text": [
            "Mounted at /content/drive\n"
          ]
        }
      ]
    },
    {
      "cell_type": "code",
      "source": [
        "from ultralytics import YOLO\n",
        "import os\n",
        "import shutil\n",
        "from sklearn.model_selection import train_test_split\n",
        "import random"
      ],
      "metadata": {
        "id": "kcHNq9cpagIw"
      },
      "execution_count": 3,
      "outputs": []
    },
    {
      "cell_type": "code",
      "source": [
        "import os\n",
        "from random import choice\n",
        "\n",
        "#arrays to store file names\n",
        "imgs =[]\n",
        "xmls =[]\n",
        "\n",
        "#setup dir names\n",
        "trainPath =('/content/drive/MyDrive/canopydataset/images/train')\n",
        "valPath = ('/content/drive/MyDrive/canopydataset/images/val')\n",
        "crsPath = ('/content/drive/MyDrive/newcanopy') #dir where images and annotations stored\n",
        "\n",
        "#setup ratio (val ratio = rest of the files in origin dir after splitting into train and test)\n",
        "train_ratio = 0.8\n",
        "val_ratio = 0.2\n",
        "\n",
        "\n",
        "#total count of imgs\n",
        "totalImgCount = len(os.listdir(crsPath))/2\n",
        "\n",
        "#soring files to corresponding arrays\n",
        "for (dirname, dirs, files) in os.walk(crsPath):\n",
        "    for filename in files:\n",
        "        if filename.endswith('.txt'):\n",
        "            xmls.append(filename)\n",
        "        else:\n",
        "            imgs.append(filename)\n",
        "\n",
        "\n",
        "#counting range for cycles\n",
        "countForTrain = int(len(imgs)*train_ratio)\n",
        "countForVal = int(len(imgs)*val_ratio)\n",
        "print(\"Total number of images: \", len(imgs))\n",
        "print(\"training images: \",countForTrain)\n",
        "print(\"Validation images: \",countForVal)"
      ],
      "metadata": {
        "colab": {
          "base_uri": "https://localhost:8080/"
        },
        "id": "r5y68YcPajPG",
        "outputId": "ae8e697b-e27b-4c13-91ab-e4c5e9093bc8"
      },
      "execution_count": 4,
      "outputs": [
        {
          "output_type": "stream",
          "name": "stdout",
          "text": [
            "Total number of images:  10\n",
            "training images:  8\n",
            "Validation images:  2\n"
          ]
        }
      ]
    },
    {
      "cell_type": "code",
      "source": [
        "import shutil, sys\n",
        "trainimagePath = ('/content/drive/MyDrive/canopydataset/images/train')\n",
        "trainlabelPath = ('/content/drive/MyDrive/canopydataset/labels/train')\n",
        "valimagePath = ('/content/drive/MyDrive/canopydataset/images/val')\n",
        "vallabelPath = ('/content/drive/MyDrive/canopydataset/labels/val')\n",
        "#cycle for train dir\n",
        "for x in range(countForTrain):\n",
        "\n",
        "    fileJpg = choice(imgs) # get name of random image from origin dir\n",
        "    fileXml = fileJpg[:-4] +'.txt' # get name of corresponding annotation file\n",
        "\n",
        "    #move both files into train dir\n",
        "    #shutil.move(os.path.join(crsPath, fileJpg), os.path.join(trainimagePath, fileJpg))\n",
        "    #shutil.move(os.path.join(crsPath, fileXml), os.path.join(trainlabelPath, fileXml))\n",
        "    shutil.copy(os.path.join(crsPath, fileJpg), os.path.join(trainimagePath, fileJpg))\n",
        "    shutil.copy(os.path.join(crsPath, fileXml), os.path.join(trainlabelPath, fileXml))\n",
        "\n",
        "\n",
        "    #remove files from arrays\n",
        "    imgs.remove(fileJpg)\n",
        "    xmls.remove(fileXml)\n",
        "\n",
        "\n",
        "\n",
        "#cycle for test dir\n",
        "for x in range(countForVal):\n",
        "\n",
        "    fileJpg = choice(imgs) # get name of random image from origin dir\n",
        "    fileXml = fileJpg[:-4] +'.txt' # get name of corresponding annotation file\n",
        "\n",
        "    #move both files into train dir\n",
        "    #shutil.move(os.path.join(crsPath, fileJpg), os.path.join(valimagePath, fileJpg))\n",
        "    #shutil.move(os.path.join(crsPath, fileXml), os.path.join(vallabelPath, fileXml))\n",
        "    shutil.copy(os.path.join(crsPath, fileJpg), os.path.join(valimagePath, fileJpg))\n",
        "    shutil.copy(os.path.join(crsPath, fileXml), os.path.join(vallabelPath, fileXml))\n",
        "\n",
        "    #remove files from arrays\n",
        "    imgs.remove(fileJpg)\n",
        "    xmls.remove(fileXml)\n",
        "\n",
        "#rest of files will be validation files, so rename origin dir to val dir\n",
        "#os.rename(crsPath, valPath)\n",
        "#shutil.move(crsPath, valPath)"
      ],
      "metadata": {
        "id": "2gxKQfadalyu"
      },
      "execution_count": 5,
      "outputs": []
    },
    {
      "cell_type": "code",
      "source": [
        "# Define the model\n",
        "model = YOLO(\"yolov8n.pt\")\n",
        "\n",
        "# Use the model\n",
        "model.train(data='/content/drive/MyDrive/data250.yaml', epochs=50)"
      ],
      "metadata": {
        "colab": {
          "base_uri": "https://localhost:8080/"
        },
        "id": "oUscEM6galkh",
        "outputId": "4f8eacf7-a6d3-4f1d-df91-3ea579c81232"
      },
      "execution_count": 6,
      "outputs": [
        {
          "output_type": "stream",
          "name": "stdout",
          "text": [
            "Downloading https://github.com/ultralytics/assets/releases/download/v8.2.0/yolov8n.pt to 'yolov8n.pt'...\n"
          ]
        },
        {
          "output_type": "stream",
          "name": "stderr",
          "text": [
            "100%|██████████| 6.23M/6.23M [00:00<00:00, 128MB/s]\n"
          ]
        },
        {
          "output_type": "stream",
          "name": "stdout",
          "text": [
            "Ultralytics YOLOv8.2.38 🚀 Python-3.10.12 torch-2.3.0+cu121 CPU (Intel Xeon 2.20GHz)\n",
            "\u001b[34m\u001b[1mengine/trainer: \u001b[0mtask=detect, mode=train, model=yolov8n.pt, data=/content/drive/MyDrive/data250.yaml, epochs=50, time=None, patience=100, batch=16, imgsz=640, save=True, save_period=-1, cache=False, device=None, workers=8, project=None, name=train, exist_ok=False, pretrained=True, optimizer=auto, verbose=True, seed=0, deterministic=True, single_cls=False, rect=False, cos_lr=False, close_mosaic=10, resume=False, amp=True, fraction=1.0, profile=False, freeze=None, multi_scale=False, overlap_mask=True, mask_ratio=4, dropout=0.0, val=True, split=val, save_json=False, save_hybrid=False, conf=None, iou=0.7, max_det=300, half=False, dnn=False, plots=True, source=None, vid_stride=1, stream_buffer=False, visualize=False, augment=False, agnostic_nms=False, classes=None, retina_masks=False, embed=None, show=False, save_frames=False, save_txt=False, save_conf=False, save_crop=False, show_labels=True, show_conf=True, show_boxes=True, line_width=None, format=torchscript, keras=False, optimize=False, int8=False, dynamic=False, simplify=False, opset=None, workspace=4, nms=False, lr0=0.01, lrf=0.01, momentum=0.937, weight_decay=0.0005, warmup_epochs=3.0, warmup_momentum=0.8, warmup_bias_lr=0.1, box=7.5, cls=0.5, dfl=1.5, pose=12.0, kobj=1.0, label_smoothing=0.0, nbs=64, hsv_h=0.015, hsv_s=0.7, hsv_v=0.4, degrees=0.0, translate=0.1, scale=0.5, shear=0.0, perspective=0.0, flipud=0.0, fliplr=0.5, bgr=0.0, mosaic=1.0, mixup=0.0, copy_paste=0.0, auto_augment=randaugment, erasing=0.4, crop_fraction=1.0, cfg=None, tracker=botsort.yaml, save_dir=runs/detect/train\n",
            "Downloading https://ultralytics.com/assets/Arial.ttf to '/root/.config/Ultralytics/Arial.ttf'...\n"
          ]
        },
        {
          "output_type": "stream",
          "name": "stderr",
          "text": [
            "100%|██████████| 755k/755k [00:00<00:00, 30.3MB/s]\n"
          ]
        },
        {
          "output_type": "stream",
          "name": "stdout",
          "text": [
            "Overriding model.yaml nc=80 with nc=1\n",
            "\n",
            "                   from  n    params  module                                       arguments                     \n",
            "  0                  -1  1       464  ultralytics.nn.modules.conv.Conv             [3, 16, 3, 2]                 \n",
            "  1                  -1  1      4672  ultralytics.nn.modules.conv.Conv             [16, 32, 3, 2]                \n",
            "  2                  -1  1      7360  ultralytics.nn.modules.block.C2f             [32, 32, 1, True]             \n",
            "  3                  -1  1     18560  ultralytics.nn.modules.conv.Conv             [32, 64, 3, 2]                \n",
            "  4                  -1  2     49664  ultralytics.nn.modules.block.C2f             [64, 64, 2, True]             \n",
            "  5                  -1  1     73984  ultralytics.nn.modules.conv.Conv             [64, 128, 3, 2]               \n",
            "  6                  -1  2    197632  ultralytics.nn.modules.block.C2f             [128, 128, 2, True]           \n",
            "  7                  -1  1    295424  ultralytics.nn.modules.conv.Conv             [128, 256, 3, 2]              \n",
            "  8                  -1  1    460288  ultralytics.nn.modules.block.C2f             [256, 256, 1, True]           \n",
            "  9                  -1  1    164608  ultralytics.nn.modules.block.SPPF            [256, 256, 5]                 \n",
            " 10                  -1  1         0  torch.nn.modules.upsampling.Upsample         [None, 2, 'nearest']          \n",
            " 11             [-1, 6]  1         0  ultralytics.nn.modules.conv.Concat           [1]                           \n",
            " 12                  -1  1    148224  ultralytics.nn.modules.block.C2f             [384, 128, 1]                 \n",
            " 13                  -1  1         0  torch.nn.modules.upsampling.Upsample         [None, 2, 'nearest']          \n",
            " 14             [-1, 4]  1         0  ultralytics.nn.modules.conv.Concat           [1]                           \n",
            " 15                  -1  1     37248  ultralytics.nn.modules.block.C2f             [192, 64, 1]                  \n",
            " 16                  -1  1     36992  ultralytics.nn.modules.conv.Conv             [64, 64, 3, 2]                \n",
            " 17            [-1, 12]  1         0  ultralytics.nn.modules.conv.Concat           [1]                           \n",
            " 18                  -1  1    123648  ultralytics.nn.modules.block.C2f             [192, 128, 1]                 \n",
            " 19                  -1  1    147712  ultralytics.nn.modules.conv.Conv             [128, 128, 3, 2]              \n",
            " 20             [-1, 9]  1         0  ultralytics.nn.modules.conv.Concat           [1]                           \n",
            " 21                  -1  1    493056  ultralytics.nn.modules.block.C2f             [384, 256, 1]                 \n",
            " 22        [15, 18, 21]  1    751507  ultralytics.nn.modules.head.Detect           [1, [64, 128, 256]]           \n",
            "Model summary: 225 layers, 3011043 parameters, 3011027 gradients, 8.2 GFLOPs\n",
            "\n",
            "Transferred 319/355 items from pretrained weights\n",
            "\u001b[34m\u001b[1mTensorBoard: \u001b[0mStart with 'tensorboard --logdir runs/detect/train', view at http://localhost:6006/\n",
            "Freezing layer 'model.22.dfl.conv.weight'\n"
          ]
        },
        {
          "output_type": "stream",
          "name": "stderr",
          "text": [
            "\u001b[34m\u001b[1mtrain: \u001b[0mScanning /content/drive/MyDrive/canopydataset/labels/train... 8 images, 0 backgrounds, 0 corrupt: 100%|██████████| 8/8 [00:00<00:00, 88.30it/s]"
          ]
        },
        {
          "output_type": "stream",
          "name": "stdout",
          "text": [
            "\u001b[34m\u001b[1mtrain: \u001b[0mNew cache created: /content/drive/MyDrive/canopydataset/labels/train.cache\n"
          ]
        },
        {
          "output_type": "stream",
          "name": "stderr",
          "text": [
            "\n"
          ]
        },
        {
          "output_type": "stream",
          "name": "stdout",
          "text": [
            "\u001b[34m\u001b[1malbumentations: \u001b[0mBlur(p=0.01, blur_limit=(3, 7)), MedianBlur(p=0.01, blur_limit=(3, 7)), ToGray(p=0.01), CLAHE(p=0.01, clip_limit=(1, 4.0), tile_grid_size=(8, 8))\n"
          ]
        },
        {
          "output_type": "stream",
          "name": "stderr",
          "text": [
            "\u001b[34m\u001b[1mval: \u001b[0mScanning /content/drive/MyDrive/canopydataset/labels/val... 2 images, 0 backgrounds, 0 corrupt: 100%|██████████| 2/2 [00:00<00:00, 118.46it/s]"
          ]
        },
        {
          "output_type": "stream",
          "name": "stdout",
          "text": [
            "\u001b[34m\u001b[1mval: \u001b[0mNew cache created: /content/drive/MyDrive/canopydataset/labels/val.cache\n"
          ]
        },
        {
          "output_type": "stream",
          "name": "stderr",
          "text": [
            "\n"
          ]
        },
        {
          "output_type": "stream",
          "name": "stdout",
          "text": [
            "Plotting labels to runs/detect/train/labels.jpg... \n",
            "\u001b[34m\u001b[1moptimizer:\u001b[0m 'optimizer=auto' found, ignoring 'lr0=0.01' and 'momentum=0.937' and determining best 'optimizer', 'lr0' and 'momentum' automatically... \n",
            "\u001b[34m\u001b[1moptimizer:\u001b[0m AdamW(lr=0.002, momentum=0.9) with parameter groups 57 weight(decay=0.0), 64 weight(decay=0.0005), 63 bias(decay=0.0)\n",
            "\u001b[34m\u001b[1mTensorBoard: \u001b[0mmodel graph visualization added ✅\n",
            "Image sizes 640 train, 640 val\n",
            "Using 0 dataloader workers\n",
            "Logging results to \u001b[1mruns/detect/train\u001b[0m\n",
            "Starting training for 50 epochs...\n",
            "\n",
            "      Epoch    GPU_mem   box_loss   cls_loss   dfl_loss  Instances       Size\n"
          ]
        },
        {
          "output_type": "stream",
          "name": "stderr",
          "text": [
            "       1/50         0G      2.839      3.579      1.936        910        640: 100%|██████████| 1/1 [00:13<00:00, 13.80s/it]\n",
            "                 Class     Images  Instances      Box(P          R      mAP50  mAP50-95): 100%|██████████| 1/1 [00:06<00:00,  6.74s/it]"
          ]
        },
        {
          "output_type": "stream",
          "name": "stdout",
          "text": [
            "                   all          2        134     0.0167     0.0746    0.00905     0.0022\n"
          ]
        },
        {
          "output_type": "stream",
          "name": "stderr",
          "text": [
            "\n"
          ]
        },
        {
          "output_type": "stream",
          "name": "stdout",
          "text": [
            "\n",
            "      Epoch    GPU_mem   box_loss   cls_loss   dfl_loss  Instances       Size\n"
          ]
        },
        {
          "output_type": "stream",
          "name": "stderr",
          "text": [
            "       2/50         0G      2.642      3.573      1.962        817        640: 100%|██████████| 1/1 [00:10<00:00, 10.77s/it]\n",
            "                 Class     Images  Instances      Box(P          R      mAP50  mAP50-95): 100%|██████████| 1/1 [00:05<00:00,  5.21s/it]"
          ]
        },
        {
          "output_type": "stream",
          "name": "stdout",
          "text": [
            "                   all          2        134     0.0183     0.0821     0.0101    0.00265\n"
          ]
        },
        {
          "output_type": "stream",
          "name": "stderr",
          "text": [
            "\n"
          ]
        },
        {
          "output_type": "stream",
          "name": "stdout",
          "text": [
            "\n",
            "      Epoch    GPU_mem   box_loss   cls_loss   dfl_loss  Instances       Size\n"
          ]
        },
        {
          "output_type": "stream",
          "name": "stderr",
          "text": [
            "       3/50         0G      2.746      3.587      1.881        944        640: 100%|██████████| 1/1 [00:09<00:00,  9.98s/it]\n",
            "                 Class     Images  Instances      Box(P          R      mAP50  mAP50-95): 100%|██████████| 1/1 [00:04<00:00,  4.93s/it]"
          ]
        },
        {
          "output_type": "stream",
          "name": "stdout",
          "text": [
            "                   all          2        134     0.0183     0.0821     0.0101    0.00313\n"
          ]
        },
        {
          "output_type": "stream",
          "name": "stderr",
          "text": [
            "\n"
          ]
        },
        {
          "output_type": "stream",
          "name": "stdout",
          "text": [
            "\n",
            "      Epoch    GPU_mem   box_loss   cls_loss   dfl_loss  Instances       Size\n"
          ]
        },
        {
          "output_type": "stream",
          "name": "stderr",
          "text": [
            "       4/50         0G      2.626      3.551      1.756        986        640: 100%|██████████| 1/1 [00:12<00:00, 12.32s/it]\n",
            "                 Class     Images  Instances      Box(P          R      mAP50  mAP50-95): 100%|██████████| 1/1 [00:03<00:00,  3.38s/it]"
          ]
        },
        {
          "output_type": "stream",
          "name": "stdout",
          "text": [
            "                   all          2        134       0.02     0.0896     0.0114      0.005\n"
          ]
        },
        {
          "output_type": "stream",
          "name": "stderr",
          "text": [
            "\n"
          ]
        },
        {
          "output_type": "stream",
          "name": "stdout",
          "text": [
            "\n",
            "      Epoch    GPU_mem   box_loss   cls_loss   dfl_loss  Instances       Size\n"
          ]
        },
        {
          "output_type": "stream",
          "name": "stderr",
          "text": [
            "       5/50         0G      2.597      3.523      1.833        937        640: 100%|██████████| 1/1 [00:11<00:00, 11.94s/it]\n",
            "                 Class     Images  Instances      Box(P          R      mAP50  mAP50-95): 100%|██████████| 1/1 [00:01<00:00,  1.48s/it]"
          ]
        },
        {
          "output_type": "stream",
          "name": "stdout",
          "text": [
            "                   all          2        134     0.0283      0.127     0.0162    0.00628\n"
          ]
        },
        {
          "output_type": "stream",
          "name": "stderr",
          "text": [
            "\n"
          ]
        },
        {
          "output_type": "stream",
          "name": "stdout",
          "text": [
            "\n",
            "      Epoch    GPU_mem   box_loss   cls_loss   dfl_loss  Instances       Size\n"
          ]
        },
        {
          "output_type": "stream",
          "name": "stderr",
          "text": [
            "       6/50         0G      2.553      3.481      1.774       1093        640: 100%|██████████| 1/1 [00:11<00:00, 11.26s/it]\n",
            "                 Class     Images  Instances      Box(P          R      mAP50  mAP50-95): 100%|██████████| 1/1 [00:01<00:00,  1.05s/it]"
          ]
        },
        {
          "output_type": "stream",
          "name": "stdout",
          "text": [
            "                   all          2        134     0.0333      0.149     0.0195    0.00758\n"
          ]
        },
        {
          "output_type": "stream",
          "name": "stderr",
          "text": [
            "\n"
          ]
        },
        {
          "output_type": "stream",
          "name": "stdout",
          "text": [
            "\n",
            "      Epoch    GPU_mem   box_loss   cls_loss   dfl_loss  Instances       Size\n"
          ]
        },
        {
          "output_type": "stream",
          "name": "stderr",
          "text": [
            "       7/50         0G      2.566      3.452      1.664       1156        640: 100%|██████████| 1/1 [00:15<00:00, 15.70s/it]\n",
            "                 Class     Images  Instances      Box(P          R      mAP50  mAP50-95): 100%|██████████| 1/1 [00:01<00:00,  1.03s/it]"
          ]
        },
        {
          "output_type": "stream",
          "name": "stdout",
          "text": [
            "                   all          2        134       0.04      0.179     0.0249     0.0101\n"
          ]
        },
        {
          "output_type": "stream",
          "name": "stderr",
          "text": [
            "\n"
          ]
        },
        {
          "output_type": "stream",
          "name": "stdout",
          "text": [
            "\n",
            "      Epoch    GPU_mem   box_loss   cls_loss   dfl_loss  Instances       Size\n"
          ]
        },
        {
          "output_type": "stream",
          "name": "stderr",
          "text": [
            "       8/50         0G      2.387       3.37      1.656        923        640: 100%|██████████| 1/1 [00:11<00:00, 11.47s/it]\n",
            "                 Class     Images  Instances      Box(P          R      mAP50  mAP50-95): 100%|██████████| 1/1 [00:01<00:00,  1.09s/it]"
          ]
        },
        {
          "output_type": "stream",
          "name": "stdout",
          "text": [
            "                   all          2        134     0.0417      0.187     0.0274     0.0114\n"
          ]
        },
        {
          "output_type": "stream",
          "name": "stderr",
          "text": [
            "\n"
          ]
        },
        {
          "output_type": "stream",
          "name": "stdout",
          "text": [
            "\n",
            "      Epoch    GPU_mem   box_loss   cls_loss   dfl_loss  Instances       Size\n"
          ]
        },
        {
          "output_type": "stream",
          "name": "stderr",
          "text": [
            "       9/50         0G      2.365      3.356      1.635        994        640: 100%|██████████| 1/1 [00:10<00:00, 10.79s/it]\n",
            "                 Class     Images  Instances      Box(P          R      mAP50  mAP50-95): 100%|██████████| 1/1 [00:01<00:00,  1.03s/it]"
          ]
        },
        {
          "output_type": "stream",
          "name": "stdout",
          "text": [
            "                   all          2        134     0.0517      0.231     0.0362     0.0159\n"
          ]
        },
        {
          "output_type": "stream",
          "name": "stderr",
          "text": [
            "\n"
          ]
        },
        {
          "output_type": "stream",
          "name": "stdout",
          "text": [
            "\n",
            "      Epoch    GPU_mem   box_loss   cls_loss   dfl_loss  Instances       Size\n"
          ]
        },
        {
          "output_type": "stream",
          "name": "stderr",
          "text": [
            "      10/50         0G      2.336      3.269      1.574        989        640: 100%|██████████| 1/1 [00:11<00:00, 11.16s/it]\n",
            "                 Class     Images  Instances      Box(P          R      mAP50  mAP50-95): 100%|██████████| 1/1 [00:01<00:00,  1.39s/it]"
          ]
        },
        {
          "output_type": "stream",
          "name": "stdout",
          "text": [
            "                   all          2        134     0.0517      0.231     0.0403     0.0183\n"
          ]
        },
        {
          "output_type": "stream",
          "name": "stderr",
          "text": [
            "\n"
          ]
        },
        {
          "output_type": "stream",
          "name": "stdout",
          "text": [
            "\n",
            "      Epoch    GPU_mem   box_loss   cls_loss   dfl_loss  Instances       Size\n"
          ]
        },
        {
          "output_type": "stream",
          "name": "stderr",
          "text": [
            "      11/50         0G      2.201      3.148      1.526        918        640: 100%|██████████| 1/1 [00:16<00:00, 16.71s/it]\n",
            "                 Class     Images  Instances      Box(P          R      mAP50  mAP50-95): 100%|██████████| 1/1 [00:01<00:00,  1.08s/it]"
          ]
        },
        {
          "output_type": "stream",
          "name": "stdout",
          "text": [
            "                   all          2        134     0.0533      0.239      0.044     0.0199\n"
          ]
        },
        {
          "output_type": "stream",
          "name": "stderr",
          "text": [
            "\n"
          ]
        },
        {
          "output_type": "stream",
          "name": "stdout",
          "text": [
            "\n",
            "      Epoch    GPU_mem   box_loss   cls_loss   dfl_loss  Instances       Size\n"
          ]
        },
        {
          "output_type": "stream",
          "name": "stderr",
          "text": [
            "      12/50         0G      2.231      3.069      1.503       1003        640: 100%|██████████| 1/1 [00:10<00:00, 10.53s/it]\n",
            "                 Class     Images  Instances      Box(P          R      mAP50  mAP50-95): 100%|██████████| 1/1 [00:01<00:00,  1.68s/it]"
          ]
        },
        {
          "output_type": "stream",
          "name": "stdout",
          "text": [
            "                   all          2        134      0.065      0.291     0.0582     0.0233\n"
          ]
        },
        {
          "output_type": "stream",
          "name": "stderr",
          "text": [
            "\n"
          ]
        },
        {
          "output_type": "stream",
          "name": "stdout",
          "text": [
            "\n",
            "      Epoch    GPU_mem   box_loss   cls_loss   dfl_loss  Instances       Size\n"
          ]
        },
        {
          "output_type": "stream",
          "name": "stderr",
          "text": [
            "      13/50         0G      2.301       2.99      1.455       1148        640: 100%|██████████| 1/1 [00:09<00:00,  9.39s/it]\n",
            "                 Class     Images  Instances      Box(P          R      mAP50  mAP50-95): 100%|██████████| 1/1 [00:03<00:00,  3.71s/it]"
          ]
        },
        {
          "output_type": "stream",
          "name": "stdout",
          "text": [
            "                   all          2        134     0.0767      0.343      0.075     0.0303\n"
          ]
        },
        {
          "output_type": "stream",
          "name": "stderr",
          "text": [
            "\n"
          ]
        },
        {
          "output_type": "stream",
          "name": "stdout",
          "text": [
            "\n",
            "      Epoch    GPU_mem   box_loss   cls_loss   dfl_loss  Instances       Size\n"
          ]
        },
        {
          "output_type": "stream",
          "name": "stderr",
          "text": [
            "      14/50         0G      2.255      2.793      1.492        821        640: 100%|██████████| 1/1 [00:12<00:00, 12.12s/it]\n",
            "                 Class     Images  Instances      Box(P          R      mAP50  mAP50-95): 100%|██████████| 1/1 [00:01<00:00,  1.04s/it]"
          ]
        },
        {
          "output_type": "stream",
          "name": "stdout",
          "text": [
            "                   all          2        134     0.0883      0.396     0.0846     0.0336\n"
          ]
        },
        {
          "output_type": "stream",
          "name": "stderr",
          "text": [
            "\n"
          ]
        },
        {
          "output_type": "stream",
          "name": "stdout",
          "text": [
            "\n",
            "      Epoch    GPU_mem   box_loss   cls_loss   dfl_loss  Instances       Size\n"
          ]
        },
        {
          "output_type": "stream",
          "name": "stderr",
          "text": [
            "      15/50         0G      2.214      2.694      1.432        755        640: 100%|██████████| 1/1 [00:10<00:00, 10.08s/it]\n",
            "                 Class     Images  Instances      Box(P          R      mAP50  mAP50-95): 100%|██████████| 1/1 [00:01<00:00,  1.04s/it]"
          ]
        },
        {
          "output_type": "stream",
          "name": "stdout",
          "text": [
            "                   all          2        134     0.0917       0.41     0.0908     0.0359\n"
          ]
        },
        {
          "output_type": "stream",
          "name": "stderr",
          "text": [
            "\n"
          ]
        },
        {
          "output_type": "stream",
          "name": "stdout",
          "text": [
            "\n",
            "      Epoch    GPU_mem   box_loss   cls_loss   dfl_loss  Instances       Size\n"
          ]
        },
        {
          "output_type": "stream",
          "name": "stderr",
          "text": [
            "      16/50         0G      2.225      2.527      1.558        573        640: 100%|██████████| 1/1 [00:09<00:00,  9.63s/it]\n",
            "                 Class     Images  Instances      Box(P          R      mAP50  mAP50-95): 100%|██████████| 1/1 [00:01<00:00,  1.70s/it]"
          ]
        },
        {
          "output_type": "stream",
          "name": "stdout",
          "text": [
            "                   all          2        134     0.0967      0.433     0.0957     0.0357\n"
          ]
        },
        {
          "output_type": "stream",
          "name": "stderr",
          "text": [
            "\n"
          ]
        },
        {
          "output_type": "stream",
          "name": "stdout",
          "text": [
            "\n",
            "      Epoch    GPU_mem   box_loss   cls_loss   dfl_loss  Instances       Size\n"
          ]
        },
        {
          "output_type": "stream",
          "name": "stderr",
          "text": [
            "      17/50         0G      2.274      2.556      1.356       1256        640: 100%|██████████| 1/1 [00:10<00:00, 10.99s/it]\n",
            "                 Class     Images  Instances      Box(P          R      mAP50  mAP50-95): 100%|██████████| 1/1 [00:01<00:00,  1.61s/it]"
          ]
        },
        {
          "output_type": "stream",
          "name": "stdout",
          "text": [
            "                   all          2        134      0.102      0.455      0.121     0.0494\n"
          ]
        },
        {
          "output_type": "stream",
          "name": "stderr",
          "text": [
            "\n"
          ]
        },
        {
          "output_type": "stream",
          "name": "stdout",
          "text": [
            "\n",
            "      Epoch    GPU_mem   box_loss   cls_loss   dfl_loss  Instances       Size\n"
          ]
        },
        {
          "output_type": "stream",
          "name": "stderr",
          "text": [
            "      18/50         0G      2.295      2.354       1.36        978        640: 100%|██████████| 1/1 [00:10<00:00, 10.01s/it]\n",
            "                 Class     Images  Instances      Box(P          R      mAP50  mAP50-95): 100%|██████████| 1/1 [00:01<00:00,  1.09s/it]"
          ]
        },
        {
          "output_type": "stream",
          "name": "stdout",
          "text": [
            "                   all          2        134      0.102      0.455      0.121     0.0494\n"
          ]
        },
        {
          "output_type": "stream",
          "name": "stderr",
          "text": [
            "\n"
          ]
        },
        {
          "output_type": "stream",
          "name": "stdout",
          "text": [
            "\n",
            "      Epoch    GPU_mem   box_loss   cls_loss   dfl_loss  Instances       Size\n"
          ]
        },
        {
          "output_type": "stream",
          "name": "stderr",
          "text": [
            "      19/50         0G       2.14      2.388      1.402        813        640: 100%|██████████| 1/1 [00:10<00:00, 10.51s/it]\n",
            "                 Class     Images  Instances      Box(P          R      mAP50  mAP50-95): 100%|██████████| 1/1 [00:01<00:00,  1.05s/it]"
          ]
        },
        {
          "output_type": "stream",
          "name": "stdout",
          "text": [
            "                   all          2        134      0.107      0.478      0.205     0.0916\n"
          ]
        },
        {
          "output_type": "stream",
          "name": "stderr",
          "text": [
            "\n"
          ]
        },
        {
          "output_type": "stream",
          "name": "stdout",
          "text": [
            "\n",
            "      Epoch    GPU_mem   box_loss   cls_loss   dfl_loss  Instances       Size\n"
          ]
        },
        {
          "output_type": "stream",
          "name": "stderr",
          "text": [
            "      20/50         0G      2.312      2.331      1.338       1440        640: 100%|██████████| 1/1 [00:12<00:00, 12.53s/it]\n",
            "                 Class     Images  Instances      Box(P          R      mAP50  mAP50-95): 100%|██████████| 1/1 [00:01<00:00,  1.05s/it]"
          ]
        },
        {
          "output_type": "stream",
          "name": "stdout",
          "text": [
            "                   all          2        134      0.107      0.478      0.205     0.0916\n"
          ]
        },
        {
          "output_type": "stream",
          "name": "stderr",
          "text": [
            "\n"
          ]
        },
        {
          "output_type": "stream",
          "name": "stdout",
          "text": [
            "\n",
            "      Epoch    GPU_mem   box_loss   cls_loss   dfl_loss  Instances       Size\n"
          ]
        },
        {
          "output_type": "stream",
          "name": "stderr",
          "text": [
            "      21/50         0G      2.158      2.302      1.352       1055        640: 100%|██████████| 1/1 [00:10<00:00, 10.89s/it]\n",
            "                 Class     Images  Instances      Box(P          R      mAP50  mAP50-95): 100%|██████████| 1/1 [00:01<00:00,  1.66s/it]"
          ]
        },
        {
          "output_type": "stream",
          "name": "stdout",
          "text": [
            "                   all          2        134       0.11      0.493      0.262      0.116\n"
          ]
        },
        {
          "output_type": "stream",
          "name": "stderr",
          "text": [
            "\n"
          ]
        },
        {
          "output_type": "stream",
          "name": "stdout",
          "text": [
            "\n",
            "      Epoch    GPU_mem   box_loss   cls_loss   dfl_loss  Instances       Size\n"
          ]
        },
        {
          "output_type": "stream",
          "name": "stderr",
          "text": [
            "      22/50         0G       2.01      2.063      1.302        726        640: 100%|██████████| 1/1 [00:08<00:00,  8.02s/it]\n",
            "                 Class     Images  Instances      Box(P          R      mAP50  mAP50-95): 100%|██████████| 1/1 [00:01<00:00,  1.06s/it]"
          ]
        },
        {
          "output_type": "stream",
          "name": "stdout",
          "text": [
            "                   all          2        134       0.11      0.493      0.262      0.116\n"
          ]
        },
        {
          "output_type": "stream",
          "name": "stderr",
          "text": [
            "\n"
          ]
        },
        {
          "output_type": "stream",
          "name": "stdout",
          "text": [
            "\n",
            "      Epoch    GPU_mem   box_loss   cls_loss   dfl_loss  Instances       Size\n"
          ]
        },
        {
          "output_type": "stream",
          "name": "stderr",
          "text": [
            "      23/50         0G      2.061      2.115      1.357        748        640: 100%|██████████| 1/1 [00:09<00:00,  9.45s/it]\n",
            "                 Class     Images  Instances      Box(P          R      mAP50  mAP50-95): 100%|██████████| 1/1 [00:01<00:00,  1.12s/it]"
          ]
        },
        {
          "output_type": "stream",
          "name": "stdout",
          "text": [
            "                   all          2        134      0.112        0.5      0.301      0.134\n"
          ]
        },
        {
          "output_type": "stream",
          "name": "stderr",
          "text": [
            "\n"
          ]
        },
        {
          "output_type": "stream",
          "name": "stdout",
          "text": [
            "\n",
            "      Epoch    GPU_mem   box_loss   cls_loss   dfl_loss  Instances       Size\n"
          ]
        },
        {
          "output_type": "stream",
          "name": "stderr",
          "text": [
            "      24/50         0G      2.215      2.173      1.287       1150        640: 100%|██████████| 1/1 [00:13<00:00, 13.05s/it]\n",
            "                 Class     Images  Instances      Box(P          R      mAP50  mAP50-95): 100%|██████████| 1/1 [00:01<00:00,  1.10s/it]"
          ]
        },
        {
          "output_type": "stream",
          "name": "stdout",
          "text": [
            "                   all          2        134      0.112        0.5      0.301      0.134\n"
          ]
        },
        {
          "output_type": "stream",
          "name": "stderr",
          "text": [
            "\n"
          ]
        },
        {
          "output_type": "stream",
          "name": "stdout",
          "text": [
            "\n",
            "      Epoch    GPU_mem   box_loss   cls_loss   dfl_loss  Instances       Size\n"
          ]
        },
        {
          "output_type": "stream",
          "name": "stderr",
          "text": [
            "      25/50         0G      2.164      2.101      1.299        977        640: 100%|██████████| 1/1 [00:10<00:00, 10.40s/it]\n",
            "                 Class     Images  Instances      Box(P          R      mAP50  mAP50-95): 100%|██████████| 1/1 [00:01<00:00,  1.69s/it]"
          ]
        },
        {
          "output_type": "stream",
          "name": "stdout",
          "text": [
            "                   all          2        134      0.122      0.545      0.362      0.149\n"
          ]
        },
        {
          "output_type": "stream",
          "name": "stderr",
          "text": [
            "\n"
          ]
        },
        {
          "output_type": "stream",
          "name": "stdout",
          "text": [
            "\n",
            "      Epoch    GPU_mem   box_loss   cls_loss   dfl_loss  Instances       Size\n"
          ]
        },
        {
          "output_type": "stream",
          "name": "stderr",
          "text": [
            "      26/50         0G      2.065      1.983      1.285        879        640: 100%|██████████| 1/1 [00:08<00:00,  8.73s/it]\n",
            "                 Class     Images  Instances      Box(P          R      mAP50  mAP50-95): 100%|██████████| 1/1 [00:01<00:00,  1.22s/it]"
          ]
        },
        {
          "output_type": "stream",
          "name": "stdout",
          "text": [
            "                   all          2        134      0.122      0.545      0.362      0.149\n"
          ]
        },
        {
          "output_type": "stream",
          "name": "stderr",
          "text": [
            "\n"
          ]
        },
        {
          "output_type": "stream",
          "name": "stdout",
          "text": [
            "\n",
            "      Epoch    GPU_mem   box_loss   cls_loss   dfl_loss  Instances       Size\n"
          ]
        },
        {
          "output_type": "stream",
          "name": "stderr",
          "text": [
            "      27/50         0G      2.074      1.968       1.26        988        640: 100%|██████████| 1/1 [00:11<00:00, 11.02s/it]\n",
            "                 Class     Images  Instances      Box(P          R      mAP50  mAP50-95): 100%|██████████| 1/1 [00:01<00:00,  1.06s/it]"
          ]
        },
        {
          "output_type": "stream",
          "name": "stdout",
          "text": [
            "                   all          2        134      0.158      0.545       0.41      0.168\n"
          ]
        },
        {
          "output_type": "stream",
          "name": "stderr",
          "text": [
            "\n"
          ]
        },
        {
          "output_type": "stream",
          "name": "stdout",
          "text": [
            "\n",
            "      Epoch    GPU_mem   box_loss   cls_loss   dfl_loss  Instances       Size\n"
          ]
        },
        {
          "output_type": "stream",
          "name": "stderr",
          "text": [
            "      28/50         0G      2.111      1.882      1.222       1095        640: 100%|██████████| 1/1 [00:11<00:00, 11.15s/it]\n",
            "                 Class     Images  Instances      Box(P          R      mAP50  mAP50-95): 100%|██████████| 1/1 [00:01<00:00,  1.11s/it]"
          ]
        },
        {
          "output_type": "stream",
          "name": "stdout",
          "text": [
            "                   all          2        134      0.158      0.545       0.41      0.168\n"
          ]
        },
        {
          "output_type": "stream",
          "name": "stderr",
          "text": [
            "\n"
          ]
        },
        {
          "output_type": "stream",
          "name": "stdout",
          "text": [
            "\n",
            "      Epoch    GPU_mem   box_loss   cls_loss   dfl_loss  Instances       Size\n"
          ]
        },
        {
          "output_type": "stream",
          "name": "stderr",
          "text": [
            "      29/50         0G      2.222      2.046      1.278       1474        640: 100%|██████████| 1/1 [00:13<00:00, 13.09s/it]\n",
            "                 Class     Images  Instances      Box(P          R      mAP50  mAP50-95): 100%|██████████| 1/1 [00:01<00:00,  1.06s/it]"
          ]
        },
        {
          "output_type": "stream",
          "name": "stdout",
          "text": [
            "                   all          2        134      0.732      0.261       0.42      0.173\n"
          ]
        },
        {
          "output_type": "stream",
          "name": "stderr",
          "text": [
            "\n"
          ]
        },
        {
          "output_type": "stream",
          "name": "stdout",
          "text": [
            "\n",
            "      Epoch    GPU_mem   box_loss   cls_loss   dfl_loss  Instances       Size\n"
          ]
        },
        {
          "output_type": "stream",
          "name": "stderr",
          "text": [
            "      30/50         0G      2.037      1.787      1.248        857        640: 100%|██████████| 1/1 [00:09<00:00,  9.92s/it]\n",
            "                 Class     Images  Instances      Box(P          R      mAP50  mAP50-95): 100%|██████████| 1/1 [00:01<00:00,  1.70s/it]"
          ]
        },
        {
          "output_type": "stream",
          "name": "stdout",
          "text": [
            "                   all          2        134      0.732      0.261       0.42      0.173\n"
          ]
        },
        {
          "output_type": "stream",
          "name": "stderr",
          "text": [
            "\n"
          ]
        },
        {
          "output_type": "stream",
          "name": "stdout",
          "text": [
            "\n",
            "      Epoch    GPU_mem   box_loss   cls_loss   dfl_loss  Instances       Size\n"
          ]
        },
        {
          "output_type": "stream",
          "name": "stderr",
          "text": [
            "      31/50         0G      2.036       1.86      1.218        959        640: 100%|██████████| 1/1 [00:10<00:00, 10.95s/it]\n",
            "                 Class     Images  Instances      Box(P          R      mAP50  mAP50-95): 100%|██████████| 1/1 [00:01<00:00,  1.84s/it]"
          ]
        },
        {
          "output_type": "stream",
          "name": "stdout",
          "text": [
            "                   all          2        134      0.749      0.224      0.404      0.177\n"
          ]
        },
        {
          "output_type": "stream",
          "name": "stderr",
          "text": [
            "\n"
          ]
        },
        {
          "output_type": "stream",
          "name": "stdout",
          "text": [
            "\n",
            "      Epoch    GPU_mem   box_loss   cls_loss   dfl_loss  Instances       Size\n"
          ]
        },
        {
          "output_type": "stream",
          "name": "stderr",
          "text": [
            "      32/50         0G      1.961      1.715      1.274        747        640: 100%|██████████| 1/1 [00:08<00:00,  8.66s/it]\n",
            "                 Class     Images  Instances      Box(P          R      mAP50  mAP50-95): 100%|██████████| 1/1 [00:01<00:00,  1.05s/it]"
          ]
        },
        {
          "output_type": "stream",
          "name": "stdout",
          "text": [
            "                   all          2        134      0.749      0.224      0.404      0.177\n"
          ]
        },
        {
          "output_type": "stream",
          "name": "stderr",
          "text": [
            "\n"
          ]
        },
        {
          "output_type": "stream",
          "name": "stdout",
          "text": [
            "\n",
            "      Epoch    GPU_mem   box_loss   cls_loss   dfl_loss  Instances       Size\n"
          ]
        },
        {
          "output_type": "stream",
          "name": "stderr",
          "text": [
            "      33/50         0G      2.035      1.796      1.225       1086        640: 100%|██████████| 1/1 [00:11<00:00, 11.25s/it]\n",
            "                 Class     Images  Instances      Box(P          R      mAP50  mAP50-95): 100%|██████████| 1/1 [00:01<00:00,  1.10s/it]"
          ]
        },
        {
          "output_type": "stream",
          "name": "stdout",
          "text": [
            "                   all          2        134      0.705       0.25      0.415      0.178\n"
          ]
        },
        {
          "output_type": "stream",
          "name": "stderr",
          "text": [
            "\n"
          ]
        },
        {
          "output_type": "stream",
          "name": "stdout",
          "text": [
            "\n",
            "      Epoch    GPU_mem   box_loss   cls_loss   dfl_loss  Instances       Size\n"
          ]
        },
        {
          "output_type": "stream",
          "name": "stderr",
          "text": [
            "      34/50         0G      2.144       1.78      1.223       1265        640: 100%|██████████| 1/1 [00:12<00:00, 12.47s/it]\n",
            "                 Class     Images  Instances      Box(P          R      mAP50  mAP50-95): 100%|██████████| 1/1 [00:01<00:00,  1.09s/it]"
          ]
        },
        {
          "output_type": "stream",
          "name": "stdout",
          "text": [
            "                   all          2        134      0.705       0.25      0.415      0.178\n"
          ]
        },
        {
          "output_type": "stream",
          "name": "stderr",
          "text": [
            "\n"
          ]
        },
        {
          "output_type": "stream",
          "name": "stdout",
          "text": [
            "\n",
            "      Epoch    GPU_mem   box_loss   cls_loss   dfl_loss  Instances       Size\n"
          ]
        },
        {
          "output_type": "stream",
          "name": "stderr",
          "text": [
            "      35/50         0G      2.038      1.785      1.255        980        640: 100%|██████████| 1/1 [00:10<00:00, 10.31s/it]\n",
            "                 Class     Images  Instances      Box(P          R      mAP50  mAP50-95): 100%|██████████| 1/1 [00:01<00:00,  1.64s/it]"
          ]
        },
        {
          "output_type": "stream",
          "name": "stdout",
          "text": [
            "                   all          2        134      0.712      0.277      0.441      0.179\n"
          ]
        },
        {
          "output_type": "stream",
          "name": "stderr",
          "text": [
            "\n"
          ]
        },
        {
          "output_type": "stream",
          "name": "stdout",
          "text": [
            "\n",
            "      Epoch    GPU_mem   box_loss   cls_loss   dfl_loss  Instances       Size\n"
          ]
        },
        {
          "output_type": "stream",
          "name": "stderr",
          "text": [
            "      36/50         0G      2.027      1.738      1.238       1007        640: 100%|██████████| 1/1 [00:09<00:00,  9.07s/it]\n",
            "                 Class     Images  Instances      Box(P          R      mAP50  mAP50-95): 100%|██████████| 1/1 [00:01<00:00,  1.06s/it]"
          ]
        },
        {
          "output_type": "stream",
          "name": "stdout",
          "text": [
            "                   all          2        134      0.712      0.277      0.441      0.179\n"
          ]
        },
        {
          "output_type": "stream",
          "name": "stderr",
          "text": [
            "\n"
          ]
        },
        {
          "output_type": "stream",
          "name": "stdout",
          "text": [
            "\n",
            "      Epoch    GPU_mem   box_loss   cls_loss   dfl_loss  Instances       Size\n"
          ]
        },
        {
          "output_type": "stream",
          "name": "stderr",
          "text": [
            "      37/50         0G      2.041      1.605      1.217        899        640: 100%|██████████| 1/1 [00:11<00:00, 11.06s/it]\n",
            "                 Class     Images  Instances      Box(P          R      mAP50  mAP50-95): 100%|██████████| 1/1 [00:01<00:00,  1.05s/it]"
          ]
        },
        {
          "output_type": "stream",
          "name": "stdout",
          "text": [
            "                   all          2        134      0.704      0.319      0.467      0.198\n"
          ]
        },
        {
          "output_type": "stream",
          "name": "stderr",
          "text": [
            "\n"
          ]
        },
        {
          "output_type": "stream",
          "name": "stdout",
          "text": [
            "\n",
            "      Epoch    GPU_mem   box_loss   cls_loss   dfl_loss  Instances       Size\n"
          ]
        },
        {
          "output_type": "stream",
          "name": "stderr",
          "text": [
            "      38/50         0G       1.95      1.631      1.231        934        640: 100%|██████████| 1/1 [00:12<00:00, 12.31s/it]\n",
            "                 Class     Images  Instances      Box(P          R      mAP50  mAP50-95): 100%|██████████| 1/1 [00:01<00:00,  1.56s/it]"
          ]
        },
        {
          "output_type": "stream",
          "name": "stdout",
          "text": [
            "                   all          2        134      0.704      0.319      0.467      0.198\n"
          ]
        },
        {
          "output_type": "stream",
          "name": "stderr",
          "text": [
            "\n"
          ]
        },
        {
          "output_type": "stream",
          "name": "stdout",
          "text": [
            "\n",
            "      Epoch    GPU_mem   box_loss   cls_loss   dfl_loss  Instances       Size\n"
          ]
        },
        {
          "output_type": "stream",
          "name": "stderr",
          "text": [
            "      39/50         0G      2.095      1.703      1.229       1132        640: 100%|██████████| 1/1 [00:12<00:00, 12.04s/it]\n",
            "                 Class     Images  Instances      Box(P          R      mAP50  mAP50-95): 100%|██████████| 1/1 [00:01<00:00,  1.08s/it]"
          ]
        },
        {
          "output_type": "stream",
          "name": "stdout",
          "text": [
            "                   all          2        134      0.731      0.343      0.508      0.214\n"
          ]
        },
        {
          "output_type": "stream",
          "name": "stderr",
          "text": [
            "\n"
          ]
        },
        {
          "output_type": "stream",
          "name": "stdout",
          "text": [
            "\n",
            "      Epoch    GPU_mem   box_loss   cls_loss   dfl_loss  Instances       Size\n"
          ]
        },
        {
          "output_type": "stream",
          "name": "stderr",
          "text": [
            "      40/50         0G      1.977      1.631      1.228        961        640: 100%|██████████| 1/1 [00:10<00:00, 10.17s/it]\n",
            "                 Class     Images  Instances      Box(P          R      mAP50  mAP50-95): 100%|██████████| 1/1 [00:01<00:00,  1.60s/it]"
          ]
        },
        {
          "output_type": "stream",
          "name": "stdout",
          "text": [
            "                   all          2        134      0.731      0.343      0.508      0.214\n"
          ]
        },
        {
          "output_type": "stream",
          "name": "stderr",
          "text": [
            "\n"
          ]
        },
        {
          "output_type": "stream",
          "name": "stdout",
          "text": [
            "Closing dataloader mosaic\n",
            "\u001b[34m\u001b[1malbumentations: \u001b[0mBlur(p=0.01, blur_limit=(3, 7)), MedianBlur(p=0.01, blur_limit=(3, 7)), ToGray(p=0.01), CLAHE(p=0.01, clip_limit=(1, 4.0), tile_grid_size=(8, 8))\n",
            "\n",
            "      Epoch    GPU_mem   box_loss   cls_loss   dfl_loss  Instances       Size\n"
          ]
        },
        {
          "output_type": "stream",
          "name": "stderr",
          "text": [
            "      41/50         0G      1.939      1.405      1.192        628        640: 100%|██████████| 1/1 [00:08<00:00,  8.67s/it]\n",
            "                 Class     Images  Instances      Box(P          R      mAP50  mAP50-95): 100%|██████████| 1/1 [00:02<00:00,  2.81s/it]"
          ]
        },
        {
          "output_type": "stream",
          "name": "stdout",
          "text": [
            "                   all          2        134      0.754      0.396      0.531       0.22\n"
          ]
        },
        {
          "output_type": "stream",
          "name": "stderr",
          "text": [
            "\n"
          ]
        },
        {
          "output_type": "stream",
          "name": "stdout",
          "text": [
            "\n",
            "      Epoch    GPU_mem   box_loss   cls_loss   dfl_loss  Instances       Size\n"
          ]
        },
        {
          "output_type": "stream",
          "name": "stderr",
          "text": [
            "      42/50         0G      2.034      1.428      1.259        574        640: 100%|██████████| 1/1 [00:10<00:00, 10.97s/it]\n",
            "                 Class     Images  Instances      Box(P          R      mAP50  mAP50-95): 100%|██████████| 1/1 [00:03<00:00,  3.08s/it]"
          ]
        },
        {
          "output_type": "stream",
          "name": "stdout",
          "text": [
            "                   all          2        134      0.754      0.396      0.531       0.22\n"
          ]
        },
        {
          "output_type": "stream",
          "name": "stderr",
          "text": [
            "\n"
          ]
        },
        {
          "output_type": "stream",
          "name": "stdout",
          "text": [
            "\n",
            "      Epoch    GPU_mem   box_loss   cls_loss   dfl_loss  Instances       Size\n"
          ]
        },
        {
          "output_type": "stream",
          "name": "stderr",
          "text": [
            "      43/50         0G      2.017       1.34      1.196        609        640: 100%|██████████| 1/1 [00:10<00:00, 10.16s/it]\n",
            "                 Class     Images  Instances      Box(P          R      mAP50  mAP50-95): 100%|██████████| 1/1 [00:03<00:00,  3.88s/it]"
          ]
        },
        {
          "output_type": "stream",
          "name": "stdout",
          "text": [
            "                   all          2        134      0.741      0.433      0.551       0.22\n"
          ]
        },
        {
          "output_type": "stream",
          "name": "stderr",
          "text": [
            "\n"
          ]
        },
        {
          "output_type": "stream",
          "name": "stdout",
          "text": [
            "\n",
            "      Epoch    GPU_mem   box_loss   cls_loss   dfl_loss  Instances       Size\n"
          ]
        },
        {
          "output_type": "stream",
          "name": "stderr",
          "text": [
            "      44/50         0G      1.999      1.409      1.217        614        640: 100%|██████████| 1/1 [00:09<00:00,  9.76s/it]\n",
            "                 Class     Images  Instances      Box(P          R      mAP50  mAP50-95): 100%|██████████| 1/1 [00:01<00:00,  1.06s/it]"
          ]
        },
        {
          "output_type": "stream",
          "name": "stdout",
          "text": [
            "                   all          2        134      0.741      0.433      0.551       0.22\n"
          ]
        },
        {
          "output_type": "stream",
          "name": "stderr",
          "text": [
            "\n"
          ]
        },
        {
          "output_type": "stream",
          "name": "stdout",
          "text": [
            "\n",
            "      Epoch    GPU_mem   box_loss   cls_loss   dfl_loss  Instances       Size\n"
          ]
        },
        {
          "output_type": "stream",
          "name": "stderr",
          "text": [
            "      45/50         0G      1.985      1.322      1.176        613        640: 100%|██████████| 1/1 [00:10<00:00, 10.49s/it]\n",
            "                 Class     Images  Instances      Box(P          R      mAP50  mAP50-95): 100%|██████████| 1/1 [00:01<00:00,  1.07s/it]"
          ]
        },
        {
          "output_type": "stream",
          "name": "stdout",
          "text": [
            "                   all          2        134      0.691       0.45       0.54      0.219\n"
          ]
        },
        {
          "output_type": "stream",
          "name": "stderr",
          "text": [
            "\n"
          ]
        },
        {
          "output_type": "stream",
          "name": "stdout",
          "text": [
            "\n",
            "      Epoch    GPU_mem   box_loss   cls_loss   dfl_loss  Instances       Size\n"
          ]
        },
        {
          "output_type": "stream",
          "name": "stderr",
          "text": [
            "      46/50         0G      1.946      1.316      1.172        621        640: 100%|██████████| 1/1 [00:09<00:00,  9.78s/it]\n",
            "                 Class     Images  Instances      Box(P          R      mAP50  mAP50-95): 100%|██████████| 1/1 [00:01<00:00,  1.53s/it]"
          ]
        },
        {
          "output_type": "stream",
          "name": "stdout",
          "text": [
            "                   all          2        134      0.691       0.45       0.54      0.219\n"
          ]
        },
        {
          "output_type": "stream",
          "name": "stderr",
          "text": [
            "\n"
          ]
        },
        {
          "output_type": "stream",
          "name": "stdout",
          "text": [
            "\n",
            "      Epoch    GPU_mem   box_loss   cls_loss   dfl_loss  Instances       Size\n"
          ]
        },
        {
          "output_type": "stream",
          "name": "stderr",
          "text": [
            "      47/50         0G      1.978      1.372      1.231        612        640: 100%|██████████| 1/1 [00:07<00:00,  7.92s/it]\n",
            "                 Class     Images  Instances      Box(P          R      mAP50  mAP50-95): 100%|██████████| 1/1 [00:01<00:00,  1.08s/it]"
          ]
        },
        {
          "output_type": "stream",
          "name": "stdout",
          "text": [
            "                   all          2        134      0.679      0.455      0.528      0.217\n"
          ]
        },
        {
          "output_type": "stream",
          "name": "stderr",
          "text": [
            "\n"
          ]
        },
        {
          "output_type": "stream",
          "name": "stdout",
          "text": [
            "\n",
            "      Epoch    GPU_mem   box_loss   cls_loss   dfl_loss  Instances       Size\n"
          ]
        },
        {
          "output_type": "stream",
          "name": "stderr",
          "text": [
            "      48/50         0G       1.93      1.302      1.189        616        640: 100%|██████████| 1/1 [00:09<00:00,  9.74s/it]\n",
            "                 Class     Images  Instances      Box(P          R      mAP50  mAP50-95): 100%|██████████| 1/1 [00:01<00:00,  1.09s/it]"
          ]
        },
        {
          "output_type": "stream",
          "name": "stdout",
          "text": [
            "                   all          2        134      0.679      0.455      0.528      0.217\n"
          ]
        },
        {
          "output_type": "stream",
          "name": "stderr",
          "text": [
            "\n"
          ]
        },
        {
          "output_type": "stream",
          "name": "stdout",
          "text": [
            "\n",
            "      Epoch    GPU_mem   box_loss   cls_loss   dfl_loss  Instances       Size\n"
          ]
        },
        {
          "output_type": "stream",
          "name": "stderr",
          "text": [
            "      49/50         0G      2.029      1.303      1.173        645        640: 100%|██████████| 1/1 [00:10<00:00, 10.89s/it]\n",
            "                 Class     Images  Instances      Box(P          R      mAP50  mAP50-95): 100%|██████████| 1/1 [00:01<00:00,  1.79s/it]"
          ]
        },
        {
          "output_type": "stream",
          "name": "stdout",
          "text": [
            "                   all          2        134      0.697      0.485      0.562      0.222\n"
          ]
        },
        {
          "output_type": "stream",
          "name": "stderr",
          "text": [
            "\n"
          ]
        },
        {
          "output_type": "stream",
          "name": "stdout",
          "text": [
            "\n",
            "      Epoch    GPU_mem   box_loss   cls_loss   dfl_loss  Instances       Size\n"
          ]
        },
        {
          "output_type": "stream",
          "name": "stderr",
          "text": [
            "      50/50         0G      1.969      1.338      1.192        628        640: 100%|██████████| 1/1 [00:08<00:00,  8.12s/it]\n",
            "                 Class     Images  Instances      Box(P          R      mAP50  mAP50-95): 100%|██████████| 1/1 [00:01<00:00,  1.05s/it]"
          ]
        },
        {
          "output_type": "stream",
          "name": "stdout",
          "text": [
            "                   all          2        134      0.697      0.485      0.562      0.222\n"
          ]
        },
        {
          "output_type": "stream",
          "name": "stderr",
          "text": [
            "\n"
          ]
        },
        {
          "output_type": "stream",
          "name": "stdout",
          "text": [
            "\n",
            "50 epochs completed in 0.189 hours.\n",
            "Optimizer stripped from runs/detect/train/weights/last.pt, 6.2MB\n",
            "Optimizer stripped from runs/detect/train/weights/best.pt, 6.2MB\n",
            "\n",
            "Validating runs/detect/train/weights/best.pt...\n",
            "Ultralytics YOLOv8.2.38 🚀 Python-3.10.12 torch-2.3.0+cu121 CPU (Intel Xeon 2.20GHz)\n",
            "Model summary (fused): 168 layers, 3005843 parameters, 0 gradients, 8.1 GFLOPs\n"
          ]
        },
        {
          "output_type": "stream",
          "name": "stderr",
          "text": [
            "                 Class     Images  Instances      Box(P          R      mAP50  mAP50-95): 100%|██████████| 1/1 [00:01<00:00,  1.43s/it]\n"
          ]
        },
        {
          "output_type": "stream",
          "name": "stdout",
          "text": [
            "                   all          2        134      0.699      0.485      0.561      0.221\n",
            "Speed: 1.9ms preprocess, 292.0ms inference, 0.0ms loss, 19.7ms postprocess per image\n",
            "Results saved to \u001b[1mruns/detect/train\u001b[0m\n"
          ]
        },
        {
          "output_type": "execute_result",
          "data": {
            "text/plain": [
              "ultralytics.utils.metrics.DetMetrics object with attributes:\n",
              "\n",
              "ap_class_index: array([0])\n",
              "box: ultralytics.utils.metrics.Metric object\n",
              "confusion_matrix: <ultralytics.utils.metrics.ConfusionMatrix object at 0x7dc4bdf0f940>\n",
              "curves: ['Precision-Recall(B)', 'F1-Confidence(B)', 'Precision-Confidence(B)', 'Recall-Confidence(B)']\n",
              "curves_results: [[array([          0,    0.001001,    0.002002,    0.003003,    0.004004,    0.005005,    0.006006,    0.007007,    0.008008,    0.009009,     0.01001,    0.011011,    0.012012,    0.013013,    0.014014,    0.015015,    0.016016,    0.017017,    0.018018,    0.019019,     0.02002,    0.021021,    0.022022,    0.023023,\n",
              "          0.024024,    0.025025,    0.026026,    0.027027,    0.028028,    0.029029,     0.03003,    0.031031,    0.032032,    0.033033,    0.034034,    0.035035,    0.036036,    0.037037,    0.038038,    0.039039,     0.04004,    0.041041,    0.042042,    0.043043,    0.044044,    0.045045,    0.046046,    0.047047,\n",
              "          0.048048,    0.049049,     0.05005,    0.051051,    0.052052,    0.053053,    0.054054,    0.055055,    0.056056,    0.057057,    0.058058,    0.059059,     0.06006,    0.061061,    0.062062,    0.063063,    0.064064,    0.065065,    0.066066,    0.067067,    0.068068,    0.069069,     0.07007,    0.071071,\n",
              "          0.072072,    0.073073,    0.074074,    0.075075,    0.076076,    0.077077,    0.078078,    0.079079,     0.08008,    0.081081,    0.082082,    0.083083,    0.084084,    0.085085,    0.086086,    0.087087,    0.088088,    0.089089,     0.09009,    0.091091,    0.092092,    0.093093,    0.094094,    0.095095,\n",
              "          0.096096,    0.097097,    0.098098,    0.099099,      0.1001,      0.1011,      0.1021,      0.1031,      0.1041,     0.10511,     0.10611,     0.10711,     0.10811,     0.10911,     0.11011,     0.11111,     0.11211,     0.11311,     0.11411,     0.11512,     0.11612,     0.11712,     0.11812,     0.11912,\n",
              "           0.12012,     0.12112,     0.12212,     0.12312,     0.12412,     0.12513,     0.12613,     0.12713,     0.12813,     0.12913,     0.13013,     0.13113,     0.13213,     0.13313,     0.13413,     0.13514,     0.13614,     0.13714,     0.13814,     0.13914,     0.14014,     0.14114,     0.14214,     0.14314,\n",
              "           0.14414,     0.14515,     0.14615,     0.14715,     0.14815,     0.14915,     0.15015,     0.15115,     0.15215,     0.15315,     0.15415,     0.15516,     0.15616,     0.15716,     0.15816,     0.15916,     0.16016,     0.16116,     0.16216,     0.16316,     0.16416,     0.16517,     0.16617,     0.16717,\n",
              "           0.16817,     0.16917,     0.17017,     0.17117,     0.17217,     0.17317,     0.17417,     0.17518,     0.17618,     0.17718,     0.17818,     0.17918,     0.18018,     0.18118,     0.18218,     0.18318,     0.18418,     0.18519,     0.18619,     0.18719,     0.18819,     0.18919,     0.19019,     0.19119,\n",
              "           0.19219,     0.19319,     0.19419,      0.1952,      0.1962,      0.1972,      0.1982,      0.1992,      0.2002,      0.2012,      0.2022,      0.2032,      0.2042,     0.20521,     0.20621,     0.20721,     0.20821,     0.20921,     0.21021,     0.21121,     0.21221,     0.21321,     0.21421,     0.21522,\n",
              "           0.21622,     0.21722,     0.21822,     0.21922,     0.22022,     0.22122,     0.22222,     0.22322,     0.22422,     0.22523,     0.22623,     0.22723,     0.22823,     0.22923,     0.23023,     0.23123,     0.23223,     0.23323,     0.23423,     0.23524,     0.23624,     0.23724,     0.23824,     0.23924,\n",
              "           0.24024,     0.24124,     0.24224,     0.24324,     0.24424,     0.24525,     0.24625,     0.24725,     0.24825,     0.24925,     0.25025,     0.25125,     0.25225,     0.25325,     0.25425,     0.25526,     0.25626,     0.25726,     0.25826,     0.25926,     0.26026,     0.26126,     0.26226,     0.26326,\n",
              "           0.26426,     0.26527,     0.26627,     0.26727,     0.26827,     0.26927,     0.27027,     0.27127,     0.27227,     0.27327,     0.27427,     0.27528,     0.27628,     0.27728,     0.27828,     0.27928,     0.28028,     0.28128,     0.28228,     0.28328,     0.28428,     0.28529,     0.28629,     0.28729,\n",
              "           0.28829,     0.28929,     0.29029,     0.29129,     0.29229,     0.29329,     0.29429,      0.2953,      0.2963,      0.2973,      0.2983,      0.2993,      0.3003,      0.3013,      0.3023,      0.3033,      0.3043,     0.30531,     0.30631,     0.30731,     0.30831,     0.30931,     0.31031,     0.31131,\n",
              "           0.31231,     0.31331,     0.31431,     0.31532,     0.31632,     0.31732,     0.31832,     0.31932,     0.32032,     0.32132,     0.32232,     0.32332,     0.32432,     0.32533,     0.32633,     0.32733,     0.32833,     0.32933,     0.33033,     0.33133,     0.33233,     0.33333,     0.33433,     0.33534,\n",
              "           0.33634,     0.33734,     0.33834,     0.33934,     0.34034,     0.34134,     0.34234,     0.34334,     0.34434,     0.34535,     0.34635,     0.34735,     0.34835,     0.34935,     0.35035,     0.35135,     0.35235,     0.35335,     0.35435,     0.35536,     0.35636,     0.35736,     0.35836,     0.35936,\n",
              "           0.36036,     0.36136,     0.36236,     0.36336,     0.36436,     0.36537,     0.36637,     0.36737,     0.36837,     0.36937,     0.37037,     0.37137,     0.37237,     0.37337,     0.37437,     0.37538,     0.37638,     0.37738,     0.37838,     0.37938,     0.38038,     0.38138,     0.38238,     0.38338,\n",
              "           0.38438,     0.38539,     0.38639,     0.38739,     0.38839,     0.38939,     0.39039,     0.39139,     0.39239,     0.39339,     0.39439,      0.3954,      0.3964,      0.3974,      0.3984,      0.3994,      0.4004,      0.4014,      0.4024,      0.4034,      0.4044,     0.40541,     0.40641,     0.40741,\n",
              "           0.40841,     0.40941,     0.41041,     0.41141,     0.41241,     0.41341,     0.41441,     0.41542,     0.41642,     0.41742,     0.41842,     0.41942,     0.42042,     0.42142,     0.42242,     0.42342,     0.42442,     0.42543,     0.42643,     0.42743,     0.42843,     0.42943,     0.43043,     0.43143,\n",
              "           0.43243,     0.43343,     0.43443,     0.43544,     0.43644,     0.43744,     0.43844,     0.43944,     0.44044,     0.44144,     0.44244,     0.44344,     0.44444,     0.44545,     0.44645,     0.44745,     0.44845,     0.44945,     0.45045,     0.45145,     0.45245,     0.45345,     0.45445,     0.45546,\n",
              "           0.45646,     0.45746,     0.45846,     0.45946,     0.46046,     0.46146,     0.46246,     0.46346,     0.46446,     0.46547,     0.46647,     0.46747,     0.46847,     0.46947,     0.47047,     0.47147,     0.47247,     0.47347,     0.47447,     0.47548,     0.47648,     0.47748,     0.47848,     0.47948,\n",
              "           0.48048,     0.48148,     0.48248,     0.48348,     0.48448,     0.48549,     0.48649,     0.48749,     0.48849,     0.48949,     0.49049,     0.49149,     0.49249,     0.49349,     0.49449,      0.4955,      0.4965,      0.4975,      0.4985,      0.4995,      0.5005,      0.5015,      0.5025,      0.5035,\n",
              "            0.5045,     0.50551,     0.50651,     0.50751,     0.50851,     0.50951,     0.51051,     0.51151,     0.51251,     0.51351,     0.51451,     0.51552,     0.51652,     0.51752,     0.51852,     0.51952,     0.52052,     0.52152,     0.52252,     0.52352,     0.52452,     0.52553,     0.52653,     0.52753,\n",
              "           0.52853,     0.52953,     0.53053,     0.53153,     0.53253,     0.53353,     0.53453,     0.53554,     0.53654,     0.53754,     0.53854,     0.53954,     0.54054,     0.54154,     0.54254,     0.54354,     0.54454,     0.54555,     0.54655,     0.54755,     0.54855,     0.54955,     0.55055,     0.55155,\n",
              "           0.55255,     0.55355,     0.55455,     0.55556,     0.55656,     0.55756,     0.55856,     0.55956,     0.56056,     0.56156,     0.56256,     0.56356,     0.56456,     0.56557,     0.56657,     0.56757,     0.56857,     0.56957,     0.57057,     0.57157,     0.57257,     0.57357,     0.57457,     0.57558,\n",
              "           0.57658,     0.57758,     0.57858,     0.57958,     0.58058,     0.58158,     0.58258,     0.58358,     0.58458,     0.58559,     0.58659,     0.58759,     0.58859,     0.58959,     0.59059,     0.59159,     0.59259,     0.59359,     0.59459,      0.5956,      0.5966,      0.5976,      0.5986,      0.5996,\n",
              "            0.6006,      0.6016,      0.6026,      0.6036,      0.6046,     0.60561,     0.60661,     0.60761,     0.60861,     0.60961,     0.61061,     0.61161,     0.61261,     0.61361,     0.61461,     0.61562,     0.61662,     0.61762,     0.61862,     0.61962,     0.62062,     0.62162,     0.62262,     0.62362,\n",
              "           0.62462,     0.62563,     0.62663,     0.62763,     0.62863,     0.62963,     0.63063,     0.63163,     0.63263,     0.63363,     0.63463,     0.63564,     0.63664,     0.63764,     0.63864,     0.63964,     0.64064,     0.64164,     0.64264,     0.64364,     0.64464,     0.64565,     0.64665,     0.64765,\n",
              "           0.64865,     0.64965,     0.65065,     0.65165,     0.65265,     0.65365,     0.65465,     0.65566,     0.65666,     0.65766,     0.65866,     0.65966,     0.66066,     0.66166,     0.66266,     0.66366,     0.66466,     0.66567,     0.66667,     0.66767,     0.66867,     0.66967,     0.67067,     0.67167,\n",
              "           0.67267,     0.67367,     0.67467,     0.67568,     0.67668,     0.67768,     0.67868,     0.67968,     0.68068,     0.68168,     0.68268,     0.68368,     0.68468,     0.68569,     0.68669,     0.68769,     0.68869,     0.68969,     0.69069,     0.69169,     0.69269,     0.69369,     0.69469,      0.6957,\n",
              "            0.6967,      0.6977,      0.6987,      0.6997,      0.7007,      0.7017,      0.7027,      0.7037,      0.7047,     0.70571,     0.70671,     0.70771,     0.70871,     0.70971,     0.71071,     0.71171,     0.71271,     0.71371,     0.71471,     0.71572,     0.71672,     0.71772,     0.71872,     0.71972,\n",
              "           0.72072,     0.72172,     0.72272,     0.72372,     0.72472,     0.72573,     0.72673,     0.72773,     0.72873,     0.72973,     0.73073,     0.73173,     0.73273,     0.73373,     0.73473,     0.73574,     0.73674,     0.73774,     0.73874,     0.73974,     0.74074,     0.74174,     0.74274,     0.74374,\n",
              "           0.74474,     0.74575,     0.74675,     0.74775,     0.74875,     0.74975,     0.75075,     0.75175,     0.75275,     0.75375,     0.75475,     0.75576,     0.75676,     0.75776,     0.75876,     0.75976,     0.76076,     0.76176,     0.76276,     0.76376,     0.76476,     0.76577,     0.76677,     0.76777,\n",
              "           0.76877,     0.76977,     0.77077,     0.77177,     0.77277,     0.77377,     0.77477,     0.77578,     0.77678,     0.77778,     0.77878,     0.77978,     0.78078,     0.78178,     0.78278,     0.78378,     0.78478,     0.78579,     0.78679,     0.78779,     0.78879,     0.78979,     0.79079,     0.79179,\n",
              "           0.79279,     0.79379,     0.79479,      0.7958,      0.7968,      0.7978,      0.7988,      0.7998,      0.8008,      0.8018,      0.8028,      0.8038,      0.8048,     0.80581,     0.80681,     0.80781,     0.80881,     0.80981,     0.81081,     0.81181,     0.81281,     0.81381,     0.81481,     0.81582,\n",
              "           0.81682,     0.81782,     0.81882,     0.81982,     0.82082,     0.82182,     0.82282,     0.82382,     0.82482,     0.82583,     0.82683,     0.82783,     0.82883,     0.82983,     0.83083,     0.83183,     0.83283,     0.83383,     0.83483,     0.83584,     0.83684,     0.83784,     0.83884,     0.83984,\n",
              "           0.84084,     0.84184,     0.84284,     0.84384,     0.84484,     0.84585,     0.84685,     0.84785,     0.84885,     0.84985,     0.85085,     0.85185,     0.85285,     0.85385,     0.85485,     0.85586,     0.85686,     0.85786,     0.85886,     0.85986,     0.86086,     0.86186,     0.86286,     0.86386,\n",
              "           0.86486,     0.86587,     0.86687,     0.86787,     0.86887,     0.86987,     0.87087,     0.87187,     0.87287,     0.87387,     0.87487,     0.87588,     0.87688,     0.87788,     0.87888,     0.87988,     0.88088,     0.88188,     0.88288,     0.88388,     0.88488,     0.88589,     0.88689,     0.88789,\n",
              "           0.88889,     0.88989,     0.89089,     0.89189,     0.89289,     0.89389,     0.89489,      0.8959,      0.8969,      0.8979,      0.8989,      0.8999,      0.9009,      0.9019,      0.9029,      0.9039,      0.9049,     0.90591,     0.90691,     0.90791,     0.90891,     0.90991,     0.91091,     0.91191,\n",
              "           0.91291,     0.91391,     0.91491,     0.91592,     0.91692,     0.91792,     0.91892,     0.91992,     0.92092,     0.92192,     0.92292,     0.92392,     0.92492,     0.92593,     0.92693,     0.92793,     0.92893,     0.92993,     0.93093,     0.93193,     0.93293,     0.93393,     0.93493,     0.93594,\n",
              "           0.93694,     0.93794,     0.93894,     0.93994,     0.94094,     0.94194,     0.94294,     0.94394,     0.94494,     0.94595,     0.94695,     0.94795,     0.94895,     0.94995,     0.95095,     0.95195,     0.95295,     0.95395,     0.95495,     0.95596,     0.95696,     0.95796,     0.95896,     0.95996,\n",
              "           0.96096,     0.96196,     0.96296,     0.96396,     0.96496,     0.96597,     0.96697,     0.96797,     0.96897,     0.96997,     0.97097,     0.97197,     0.97297,     0.97397,     0.97497,     0.97598,     0.97698,     0.97798,     0.97898,     0.97998,     0.98098,     0.98198,     0.98298,     0.98398,\n",
              "           0.98498,     0.98599,     0.98699,     0.98799,     0.98899,     0.98999,     0.99099,     0.99199,     0.99299,     0.99399,     0.99499,       0.996,       0.997,       0.998,       0.999,           1]), array([[          1,           1,           1,           1,           1,           1,           1,           1,           1,           1,           1,           1,           1,           1,           1,           1,           1,           1,           1,           1,           1,           1,           1,\n",
              "                  1,           1,           1,           1,           1,           1,           1,           1,           1,           1,           1,           1,           1,           1,           1,           1,           1,           1,           1,           1,           1,           1,           1,\n",
              "                  1,           1,           1,           1,           1,           1,           1,           1,           1,           1,           1,           1,           1,           1,           1,           1,           1,           1,           1,           1,           1,           1,           1,\n",
              "                  1,           1,           1,           1,           1,           1,           1,           1,           1,           1,           1,           1,           1,           1,           1,           1,           1,           1,           1,           1,           1,           1,           1,\n",
              "                  1,           1,           1,           1,           1,           1,           1,           1,           1,           1,           1,           1,           1,           1,           1,           1,           1,           1,           1,           1,           1,           1,           1,\n",
              "                  1,           1,           1,           1,           1,     0.96296,     0.96296,     0.96296,     0.96296,     0.96296,     0.96296,     0.96296,     0.96296,     0.96296,     0.96296,     0.96296,     0.96296,     0.96296,     0.96296,     0.96296,     0.96296,     0.96296,     0.96296,\n",
              "            0.96296,     0.96296,     0.96296,     0.96296,     0.96296,     0.96296,     0.96296,     0.96296,     0.96296,     0.96296,     0.96296,     0.96296,     0.96296,     0.96296,     0.96296,     0.96296,     0.96296,     0.96296,     0.96296,     0.96296,     0.96296,     0.96296,     0.96296,\n",
              "            0.96296,     0.96296,     0.96296,     0.96296,     0.96296,     0.96296,     0.96296,     0.96296,     0.96296,     0.96296,     0.96296,     0.96296,     0.96296,     0.96296,     0.96296,     0.96296,     0.96296,     0.96296,     0.96296,     0.96296,     0.96296,     0.96296,     0.96296,\n",
              "            0.96296,     0.96296,     0.96296,     0.96296,     0.96296,     0.96296,     0.96296,     0.96296,     0.96296,     0.96296,     0.93103,     0.93103,     0.93103,     0.93103,     0.93103,     0.93103,     0.93103,     0.93103,     0.91429,     0.91429,     0.91429,     0.91429,     0.91429,\n",
              "            0.91429,     0.91429,     0.91429,     0.91429,     0.91429,     0.91429,     0.91429,     0.91429,     0.91429,     0.91429,     0.91429,     0.91429,     0.91429,     0.91429,     0.91429,     0.91429,     0.91429,     0.91429,     0.91429,     0.91429,     0.91429,     0.91429,     0.91429,\n",
              "            0.91429,     0.91429,     0.91429,     0.91429,     0.91429,     0.91429,     0.91429,     0.91429,     0.91429,     0.89744,     0.89744,     0.89744,     0.89744,     0.89744,     0.89744,     0.89744,     0.89744,     0.89744,     0.89744,     0.89744,     0.89744,     0.89744,     0.89744,\n",
              "            0.89744,     0.89744,     0.89744,     0.89744,     0.89744,     0.89744,     0.89744,     0.89744,     0.88372,     0.88372,     0.88372,     0.88372,     0.88372,     0.88372,     0.88372,     0.88372,     0.88372,     0.88372,     0.88372,     0.88372,     0.88372,     0.88372,     0.88372,\n",
              "            0.88372,     0.88372,     0.88372,     0.88372,     0.88372,     0.88372,     0.88372,     0.88372,     0.86957,     0.86957,     0.86957,     0.86957,     0.86957,     0.86957,     0.86957,     0.86957,     0.86957,     0.86957,     0.86957,     0.86957,     0.86957,     0.86957,     0.86957,\n",
              "            0.84314,     0.84314,     0.84314,     0.84314,     0.84314,     0.84314,     0.84314,     0.84314,     0.84314,     0.84314,     0.84314,     0.84314,     0.84314,     0.84314,     0.84314,     0.84314,     0.84314,     0.84314,     0.84314,     0.84314,     0.84314,     0.84314,     0.83019,\n",
              "            0.83019,     0.83019,     0.83019,     0.83019,     0.83019,     0.83019,     0.83019,     0.81356,     0.81356,     0.81356,     0.81356,     0.81356,     0.81356,     0.81356,     0.81356,     0.81356,     0.81356,     0.81356,     0.81356,     0.81356,     0.81356,     0.81356,     0.81356,\n",
              "            0.81356,     0.81356,     0.81356,     0.81356,     0.81356,     0.81356,     0.81356,     0.81356,     0.81356,     0.81356,     0.81356,     0.81356,     0.81356,     0.79412,     0.79412,     0.79412,     0.79412,     0.79412,     0.79412,     0.79412,     0.79412,     0.79412,     0.79412,\n",
              "            0.79412,     0.79412,     0.79412,     0.79412,     0.79412,     0.79412,     0.79412,     0.79412,     0.79412,     0.79412,     0.79412,     0.79412,     0.79412,     0.79412,     0.79412,     0.79412,     0.79412,     0.79412,     0.79412,     0.79412,     0.79412,     0.79412,     0.79412,\n",
              "            0.79412,     0.79412,     0.79412,     0.79412,     0.79412,     0.79412,     0.79412,     0.79412,     0.79412,     0.79412,     0.79412,     0.79412,     0.77465,     0.77465,     0.77465,     0.77465,     0.77465,     0.77465,     0.77465,     0.77465,     0.75676,     0.75676,     0.75676,\n",
              "            0.75676,     0.75676,     0.75676,     0.75676,        0.75,        0.75,        0.75,        0.75,        0.75,        0.75,        0.75,     0.74359,     0.74359,     0.74359,     0.74359,     0.74359,     0.74359,     0.74359,     0.74359,      0.7375,      0.7375,      0.7375,      0.7375,\n",
              "             0.7375,      0.7375,      0.7375,     0.72619,     0.72619,     0.72619,     0.72619,     0.72619,     0.72619,     0.72619,     0.72619,     0.72619,     0.72619,     0.72619,     0.72619,     0.72619,     0.72619,     0.72619,     0.72093,     0.72093,     0.72093,     0.72093,     0.72093,\n",
              "            0.72093,     0.72093,     0.72093,     0.70787,     0.70787,     0.70787,     0.70787,     0.70787,     0.70787,     0.70787,      0.7033,      0.7033,      0.7033,      0.7033,      0.7033,      0.7033,      0.7033,      0.7033,     0.69892,     0.69892,     0.69892,     0.69892,     0.69892,\n",
              "            0.69892,     0.69892,     0.69072,     0.69072,     0.69072,     0.69072,     0.69072,     0.69072,     0.69072,     0.69072,     0.69072,     0.69072,     0.69072,     0.69072,     0.69072,     0.69072,     0.69072,        0.69,        0.69,        0.69,        0.69,        0.69,        0.69,\n",
              "               0.69,        0.69,        0.69,        0.69,        0.69,        0.69,        0.69,        0.69,        0.69,     0.66038,     0.66038,     0.66038,     0.66038,     0.66038,     0.66038,     0.66038,     0.65741,     0.65741,     0.65741,     0.65741,     0.65741,     0.65741,     0.65741,\n",
              "            0.65741,     0.65455,     0.65455,     0.65455,     0.65455,     0.65455,     0.65455,     0.65455,     0.63478,     0.63478,     0.63478,     0.63478,     0.63478,     0.63478,     0.63478,     0.63478,      0.6129,      0.6129,      0.6129,      0.6129,      0.6129,      0.6129,      0.6129,\n",
              "             0.6129,      0.6129,      0.6129,      0.6129,      0.6129,      0.6129,      0.6129,      0.6129,      0.6129,      0.6129,      0.6129,      0.6129,      0.6129,      0.6129,      0.6129,     0.57778,     0.57778,     0.57778,     0.57778,     0.57778,     0.57778,     0.57778,     0.57778,\n",
              "            0.57778,     0.57778,     0.57778,     0.57778,     0.57778,     0.57778,     0.57778,     0.56429,     0.56429,     0.56429,     0.56429,     0.56429,     0.56429,     0.56429,     0.56338,     0.56338,     0.56338,     0.56338,     0.56338,     0.56338,     0.56338,     0.56338,     0.51923,\n",
              "            0.51923,     0.51923,     0.51923,     0.51923,     0.51923,     0.51923,     0.51899,     0.51899,     0.51899,     0.51899,     0.51899,     0.51899,     0.51899,     0.51899,     0.49405,     0.49405,     0.49405,     0.49405,     0.49405,     0.49405,     0.49405,     0.47191,     0.47191,\n",
              "            0.47191,     0.47191,     0.47191,     0.47191,     0.47191,     0.47191,     0.45699,     0.45699,     0.45699,     0.45699,     0.45699,     0.45699,     0.45699,     0.37719,     0.37719,     0.37719,     0.37719,     0.37719,     0.37719,     0.37719,     0.37719,       0.361,       0.361,\n",
              "              0.361,       0.361,       0.361,       0.361,       0.361,     0.34375,     0.34375,     0.34375,     0.34375,     0.34375,     0.34375,     0.34375,     0.34375,     0.31449,     0.31449,     0.31449,     0.31449,     0.31449,     0.31449,     0.31449,     0.31142,     0.31142,     0.31142,\n",
              "            0.31142,     0.31142,     0.31142,     0.31142,     0.26453,     0.26453,     0.26453,     0.26453,     0.26453,     0.26453,     0.26453,     0.26453,     0.19167,     0.19167,     0.19167,     0.19167,     0.19167,     0.19167,     0.19167,      0.1646,      0.1646,      0.1646,      0.1646,\n",
              "             0.1646,      0.1646,      0.1646,      0.1646,     0.15852,     0.15852,     0.15852,     0.15852,     0.15852,     0.15852,     0.15852,     0.15656,     0.15603,     0.15551,     0.15498,     0.15446,     0.15393,      0.1534,     0.15288,     0.15235,     0.15183,      0.1513,     0.15078,\n",
              "            0.15025,     0.14973,      0.1492,     0.14868,     0.14815,     0.14763,      0.1471,     0.14658,     0.14605,     0.14552,       0.145,     0.14447,     0.14395,     0.14342,      0.1429,     0.14237,     0.14185,     0.14132,      0.1408,     0.14027,     0.13975,     0.13922,     0.13869,\n",
              "            0.13817,     0.13764,     0.13712,     0.13659,     0.13607,     0.13554,     0.13502,     0.13449,     0.13397,     0.13344,     0.13292,     0.13239,     0.13187,     0.13134,     0.13081,     0.13029,     0.12976,     0.12924,     0.12871,     0.12819,     0.12766,     0.12714,     0.12661,\n",
              "            0.12609,     0.12556,     0.12504,     0.12451,     0.12398,     0.12346,     0.12293,     0.12241,     0.12188,     0.12136,     0.12083,     0.12031,     0.11978,     0.11926,     0.11873,     0.11821,     0.11768,     0.11715,     0.11663,      0.1161,     0.11558,     0.11505,     0.11453,\n",
              "              0.114,     0.11348,     0.11295,     0.11243,      0.1119,     0.11138,     0.11085,     0.11033,      0.1098,     0.10927,     0.10875,     0.10822,      0.1077,     0.10717,     0.10665,     0.10612,      0.1056,     0.10507,     0.10455,     0.10402,      0.1035,     0.10297,     0.10244,\n",
              "            0.10192,     0.10139,     0.10087,     0.10034,    0.099818,    0.099293,    0.098767,    0.098242,    0.097717,    0.097191,    0.096666,    0.096141,    0.095615,     0.09509,    0.094565,    0.094039,    0.093514,    0.092988,    0.092463,    0.091938,    0.091412,    0.090887,    0.090362,\n",
              "           0.089836,    0.089311,    0.088786,     0.08826,    0.087735,     0.08721,    0.086684,    0.086159,    0.085633,    0.085108,    0.084583,    0.084057,    0.083532,    0.083007,    0.082481,    0.081956,    0.081431,    0.080905,     0.08038,    0.079855,    0.079329,    0.078804,    0.078278,\n",
              "           0.077753,    0.077228,    0.076702,    0.076177,    0.075652,    0.075126,    0.074601,    0.074076,     0.07355,    0.073025,    0.072499,    0.071974,    0.071449,    0.070923,    0.070398,    0.069873,    0.069347,    0.068822,    0.068297,    0.067771,    0.067246,    0.066721,    0.066195,\n",
              "            0.06567,    0.065144,    0.064619,    0.064094,    0.063568,    0.063043,    0.062518,    0.061992,    0.061467,    0.060942,    0.060416,    0.059891,    0.059366,     0.05884,    0.058315,    0.057789,    0.057264,    0.056739,    0.056213,    0.055688,    0.055163,    0.054637,    0.054112,\n",
              "           0.053587,    0.053061,    0.052536,    0.052011,    0.051485,     0.05096,    0.050434,    0.049909,    0.049384,    0.048858,    0.048333,    0.047808,    0.047282,    0.046757,    0.046232,    0.045706,    0.045181,    0.044655,     0.04413,    0.043605,    0.043079,    0.042554,    0.042029,\n",
              "           0.041503,    0.040978,    0.040453,    0.039927,    0.039402,    0.038877,    0.038351,    0.037826,      0.0373,    0.036775,     0.03625,    0.035724,    0.035199,    0.034674,    0.034148,    0.033623,    0.033098,    0.032572,    0.032047,    0.031522,    0.030996,    0.030471,    0.029945,\n",
              "            0.02942,    0.028895,    0.028369,    0.027844,    0.027319,    0.026793,    0.026268,    0.025743,    0.025217,    0.024692,    0.024166,    0.023641,    0.023116,     0.02259,    0.022065,     0.02154,    0.021014,    0.020489,    0.019964,    0.019438,    0.018913,    0.018388,    0.017862,\n",
              "           0.017337,    0.016811,    0.016286,    0.015761,    0.015235,     0.01471,    0.014185,    0.013659,    0.013134,    0.012609,    0.012083,    0.011558,    0.011033,    0.010507,   0.0099818,   0.0094565,   0.0089311,   0.0084057,   0.0078804,    0.007355,   0.0068297,   0.0063043,   0.0057789,\n",
              "          0.0052536,   0.0047282,   0.0042029,   0.0036775,   0.0031522,   0.0026268,   0.0021014,   0.0015761,   0.0010507,  0.00052536,           0]]), 'Recall', 'Precision'], [array([          0,    0.001001,    0.002002,    0.003003,    0.004004,    0.005005,    0.006006,    0.007007,    0.008008,    0.009009,     0.01001,    0.011011,    0.012012,    0.013013,    0.014014,    0.015015,    0.016016,    0.017017,    0.018018,    0.019019,     0.02002,    0.021021,    0.022022,    0.023023,\n",
              "          0.024024,    0.025025,    0.026026,    0.027027,    0.028028,    0.029029,     0.03003,    0.031031,    0.032032,    0.033033,    0.034034,    0.035035,    0.036036,    0.037037,    0.038038,    0.039039,     0.04004,    0.041041,    0.042042,    0.043043,    0.044044,    0.045045,    0.046046,    0.047047,\n",
              "          0.048048,    0.049049,     0.05005,    0.051051,    0.052052,    0.053053,    0.054054,    0.055055,    0.056056,    0.057057,    0.058058,    0.059059,     0.06006,    0.061061,    0.062062,    0.063063,    0.064064,    0.065065,    0.066066,    0.067067,    0.068068,    0.069069,     0.07007,    0.071071,\n",
              "          0.072072,    0.073073,    0.074074,    0.075075,    0.076076,    0.077077,    0.078078,    0.079079,     0.08008,    0.081081,    0.082082,    0.083083,    0.084084,    0.085085,    0.086086,    0.087087,    0.088088,    0.089089,     0.09009,    0.091091,    0.092092,    0.093093,    0.094094,    0.095095,\n",
              "          0.096096,    0.097097,    0.098098,    0.099099,      0.1001,      0.1011,      0.1021,      0.1031,      0.1041,     0.10511,     0.10611,     0.10711,     0.10811,     0.10911,     0.11011,     0.11111,     0.11211,     0.11311,     0.11411,     0.11512,     0.11612,     0.11712,     0.11812,     0.11912,\n",
              "           0.12012,     0.12112,     0.12212,     0.12312,     0.12412,     0.12513,     0.12613,     0.12713,     0.12813,     0.12913,     0.13013,     0.13113,     0.13213,     0.13313,     0.13413,     0.13514,     0.13614,     0.13714,     0.13814,     0.13914,     0.14014,     0.14114,     0.14214,     0.14314,\n",
              "           0.14414,     0.14515,     0.14615,     0.14715,     0.14815,     0.14915,     0.15015,     0.15115,     0.15215,     0.15315,     0.15415,     0.15516,     0.15616,     0.15716,     0.15816,     0.15916,     0.16016,     0.16116,     0.16216,     0.16316,     0.16416,     0.16517,     0.16617,     0.16717,\n",
              "           0.16817,     0.16917,     0.17017,     0.17117,     0.17217,     0.17317,     0.17417,     0.17518,     0.17618,     0.17718,     0.17818,     0.17918,     0.18018,     0.18118,     0.18218,     0.18318,     0.18418,     0.18519,     0.18619,     0.18719,     0.18819,     0.18919,     0.19019,     0.19119,\n",
              "           0.19219,     0.19319,     0.19419,      0.1952,      0.1962,      0.1972,      0.1982,      0.1992,      0.2002,      0.2012,      0.2022,      0.2032,      0.2042,     0.20521,     0.20621,     0.20721,     0.20821,     0.20921,     0.21021,     0.21121,     0.21221,     0.21321,     0.21421,     0.21522,\n",
              "           0.21622,     0.21722,     0.21822,     0.21922,     0.22022,     0.22122,     0.22222,     0.22322,     0.22422,     0.22523,     0.22623,     0.22723,     0.22823,     0.22923,     0.23023,     0.23123,     0.23223,     0.23323,     0.23423,     0.23524,     0.23624,     0.23724,     0.23824,     0.23924,\n",
              "           0.24024,     0.24124,     0.24224,     0.24324,     0.24424,     0.24525,     0.24625,     0.24725,     0.24825,     0.24925,     0.25025,     0.25125,     0.25225,     0.25325,     0.25425,     0.25526,     0.25626,     0.25726,     0.25826,     0.25926,     0.26026,     0.26126,     0.26226,     0.26326,\n",
              "           0.26426,     0.26527,     0.26627,     0.26727,     0.26827,     0.26927,     0.27027,     0.27127,     0.27227,     0.27327,     0.27427,     0.27528,     0.27628,     0.27728,     0.27828,     0.27928,     0.28028,     0.28128,     0.28228,     0.28328,     0.28428,     0.28529,     0.28629,     0.28729,\n",
              "           0.28829,     0.28929,     0.29029,     0.29129,     0.29229,     0.29329,     0.29429,      0.2953,      0.2963,      0.2973,      0.2983,      0.2993,      0.3003,      0.3013,      0.3023,      0.3033,      0.3043,     0.30531,     0.30631,     0.30731,     0.30831,     0.30931,     0.31031,     0.31131,\n",
              "           0.31231,     0.31331,     0.31431,     0.31532,     0.31632,     0.31732,     0.31832,     0.31932,     0.32032,     0.32132,     0.32232,     0.32332,     0.32432,     0.32533,     0.32633,     0.32733,     0.32833,     0.32933,     0.33033,     0.33133,     0.33233,     0.33333,     0.33433,     0.33534,\n",
              "           0.33634,     0.33734,     0.33834,     0.33934,     0.34034,     0.34134,     0.34234,     0.34334,     0.34434,     0.34535,     0.34635,     0.34735,     0.34835,     0.34935,     0.35035,     0.35135,     0.35235,     0.35335,     0.35435,     0.35536,     0.35636,     0.35736,     0.35836,     0.35936,\n",
              "           0.36036,     0.36136,     0.36236,     0.36336,     0.36436,     0.36537,     0.36637,     0.36737,     0.36837,     0.36937,     0.37037,     0.37137,     0.37237,     0.37337,     0.37437,     0.37538,     0.37638,     0.37738,     0.37838,     0.37938,     0.38038,     0.38138,     0.38238,     0.38338,\n",
              "           0.38438,     0.38539,     0.38639,     0.38739,     0.38839,     0.38939,     0.39039,     0.39139,     0.39239,     0.39339,     0.39439,      0.3954,      0.3964,      0.3974,      0.3984,      0.3994,      0.4004,      0.4014,      0.4024,      0.4034,      0.4044,     0.40541,     0.40641,     0.40741,\n",
              "           0.40841,     0.40941,     0.41041,     0.41141,     0.41241,     0.41341,     0.41441,     0.41542,     0.41642,     0.41742,     0.41842,     0.41942,     0.42042,     0.42142,     0.42242,     0.42342,     0.42442,     0.42543,     0.42643,     0.42743,     0.42843,     0.42943,     0.43043,     0.43143,\n",
              "           0.43243,     0.43343,     0.43443,     0.43544,     0.43644,     0.43744,     0.43844,     0.43944,     0.44044,     0.44144,     0.44244,     0.44344,     0.44444,     0.44545,     0.44645,     0.44745,     0.44845,     0.44945,     0.45045,     0.45145,     0.45245,     0.45345,     0.45445,     0.45546,\n",
              "           0.45646,     0.45746,     0.45846,     0.45946,     0.46046,     0.46146,     0.46246,     0.46346,     0.46446,     0.46547,     0.46647,     0.46747,     0.46847,     0.46947,     0.47047,     0.47147,     0.47247,     0.47347,     0.47447,     0.47548,     0.47648,     0.47748,     0.47848,     0.47948,\n",
              "           0.48048,     0.48148,     0.48248,     0.48348,     0.48448,     0.48549,     0.48649,     0.48749,     0.48849,     0.48949,     0.49049,     0.49149,     0.49249,     0.49349,     0.49449,      0.4955,      0.4965,      0.4975,      0.4985,      0.4995,      0.5005,      0.5015,      0.5025,      0.5035,\n",
              "            0.5045,     0.50551,     0.50651,     0.50751,     0.50851,     0.50951,     0.51051,     0.51151,     0.51251,     0.51351,     0.51451,     0.51552,     0.51652,     0.51752,     0.51852,     0.51952,     0.52052,     0.52152,     0.52252,     0.52352,     0.52452,     0.52553,     0.52653,     0.52753,\n",
              "           0.52853,     0.52953,     0.53053,     0.53153,     0.53253,     0.53353,     0.53453,     0.53554,     0.53654,     0.53754,     0.53854,     0.53954,     0.54054,     0.54154,     0.54254,     0.54354,     0.54454,     0.54555,     0.54655,     0.54755,     0.54855,     0.54955,     0.55055,     0.55155,\n",
              "           0.55255,     0.55355,     0.55455,     0.55556,     0.55656,     0.55756,     0.55856,     0.55956,     0.56056,     0.56156,     0.56256,     0.56356,     0.56456,     0.56557,     0.56657,     0.56757,     0.56857,     0.56957,     0.57057,     0.57157,     0.57257,     0.57357,     0.57457,     0.57558,\n",
              "           0.57658,     0.57758,     0.57858,     0.57958,     0.58058,     0.58158,     0.58258,     0.58358,     0.58458,     0.58559,     0.58659,     0.58759,     0.58859,     0.58959,     0.59059,     0.59159,     0.59259,     0.59359,     0.59459,      0.5956,      0.5966,      0.5976,      0.5986,      0.5996,\n",
              "            0.6006,      0.6016,      0.6026,      0.6036,      0.6046,     0.60561,     0.60661,     0.60761,     0.60861,     0.60961,     0.61061,     0.61161,     0.61261,     0.61361,     0.61461,     0.61562,     0.61662,     0.61762,     0.61862,     0.61962,     0.62062,     0.62162,     0.62262,     0.62362,\n",
              "           0.62462,     0.62563,     0.62663,     0.62763,     0.62863,     0.62963,     0.63063,     0.63163,     0.63263,     0.63363,     0.63463,     0.63564,     0.63664,     0.63764,     0.63864,     0.63964,     0.64064,     0.64164,     0.64264,     0.64364,     0.64464,     0.64565,     0.64665,     0.64765,\n",
              "           0.64865,     0.64965,     0.65065,     0.65165,     0.65265,     0.65365,     0.65465,     0.65566,     0.65666,     0.65766,     0.65866,     0.65966,     0.66066,     0.66166,     0.66266,     0.66366,     0.66466,     0.66567,     0.66667,     0.66767,     0.66867,     0.66967,     0.67067,     0.67167,\n",
              "           0.67267,     0.67367,     0.67467,     0.67568,     0.67668,     0.67768,     0.67868,     0.67968,     0.68068,     0.68168,     0.68268,     0.68368,     0.68468,     0.68569,     0.68669,     0.68769,     0.68869,     0.68969,     0.69069,     0.69169,     0.69269,     0.69369,     0.69469,      0.6957,\n",
              "            0.6967,      0.6977,      0.6987,      0.6997,      0.7007,      0.7017,      0.7027,      0.7037,      0.7047,     0.70571,     0.70671,     0.70771,     0.70871,     0.70971,     0.71071,     0.71171,     0.71271,     0.71371,     0.71471,     0.71572,     0.71672,     0.71772,     0.71872,     0.71972,\n",
              "           0.72072,     0.72172,     0.72272,     0.72372,     0.72472,     0.72573,     0.72673,     0.72773,     0.72873,     0.72973,     0.73073,     0.73173,     0.73273,     0.73373,     0.73473,     0.73574,     0.73674,     0.73774,     0.73874,     0.73974,     0.74074,     0.74174,     0.74274,     0.74374,\n",
              "           0.74474,     0.74575,     0.74675,     0.74775,     0.74875,     0.74975,     0.75075,     0.75175,     0.75275,     0.75375,     0.75475,     0.75576,     0.75676,     0.75776,     0.75876,     0.75976,     0.76076,     0.76176,     0.76276,     0.76376,     0.76476,     0.76577,     0.76677,     0.76777,\n",
              "           0.76877,     0.76977,     0.77077,     0.77177,     0.77277,     0.77377,     0.77477,     0.77578,     0.77678,     0.77778,     0.77878,     0.77978,     0.78078,     0.78178,     0.78278,     0.78378,     0.78478,     0.78579,     0.78679,     0.78779,     0.78879,     0.78979,     0.79079,     0.79179,\n",
              "           0.79279,     0.79379,     0.79479,      0.7958,      0.7968,      0.7978,      0.7988,      0.7998,      0.8008,      0.8018,      0.8028,      0.8038,      0.8048,     0.80581,     0.80681,     0.80781,     0.80881,     0.80981,     0.81081,     0.81181,     0.81281,     0.81381,     0.81481,     0.81582,\n",
              "           0.81682,     0.81782,     0.81882,     0.81982,     0.82082,     0.82182,     0.82282,     0.82382,     0.82482,     0.82583,     0.82683,     0.82783,     0.82883,     0.82983,     0.83083,     0.83183,     0.83283,     0.83383,     0.83483,     0.83584,     0.83684,     0.83784,     0.83884,     0.83984,\n",
              "           0.84084,     0.84184,     0.84284,     0.84384,     0.84484,     0.84585,     0.84685,     0.84785,     0.84885,     0.84985,     0.85085,     0.85185,     0.85285,     0.85385,     0.85485,     0.85586,     0.85686,     0.85786,     0.85886,     0.85986,     0.86086,     0.86186,     0.86286,     0.86386,\n",
              "           0.86486,     0.86587,     0.86687,     0.86787,     0.86887,     0.86987,     0.87087,     0.87187,     0.87287,     0.87387,     0.87487,     0.87588,     0.87688,     0.87788,     0.87888,     0.87988,     0.88088,     0.88188,     0.88288,     0.88388,     0.88488,     0.88589,     0.88689,     0.88789,\n",
              "           0.88889,     0.88989,     0.89089,     0.89189,     0.89289,     0.89389,     0.89489,      0.8959,      0.8969,      0.8979,      0.8989,      0.8999,      0.9009,      0.9019,      0.9029,      0.9039,      0.9049,     0.90591,     0.90691,     0.90791,     0.90891,     0.90991,     0.91091,     0.91191,\n",
              "           0.91291,     0.91391,     0.91491,     0.91592,     0.91692,     0.91792,     0.91892,     0.91992,     0.92092,     0.92192,     0.92292,     0.92392,     0.92492,     0.92593,     0.92693,     0.92793,     0.92893,     0.92993,     0.93093,     0.93193,     0.93293,     0.93393,     0.93493,     0.93594,\n",
              "           0.93694,     0.93794,     0.93894,     0.93994,     0.94094,     0.94194,     0.94294,     0.94394,     0.94494,     0.94595,     0.94695,     0.94795,     0.94895,     0.94995,     0.95095,     0.95195,     0.95295,     0.95395,     0.95495,     0.95596,     0.95696,     0.95796,     0.95896,     0.95996,\n",
              "           0.96096,     0.96196,     0.96296,     0.96396,     0.96496,     0.96597,     0.96697,     0.96797,     0.96897,     0.96997,     0.97097,     0.97197,     0.97297,     0.97397,     0.97497,     0.97598,     0.97698,     0.97798,     0.97898,     0.97998,     0.98098,     0.98198,     0.98298,     0.98398,\n",
              "           0.98498,     0.98599,     0.98699,     0.98799,     0.98899,     0.98999,     0.99099,     0.99199,     0.99299,     0.99399,     0.99499,       0.996,       0.997,       0.998,       0.999,           1]), array([[    0.25613,     0.25613,     0.25613,     0.25613,     0.25613,     0.25613,     0.25613,     0.25684,     0.26133,     0.26439,       0.266,      0.2827,     0.29843,     0.33993,     0.37786,     0.40492,     0.42964,     0.45351,     0.47375,     0.48459,     0.50547,     0.52055,     0.52784,\n",
              "            0.53597,     0.54259,      0.5483,     0.55367,     0.55695,     0.55684,     0.56343,     0.56762,     0.56863,      0.5703,     0.57544,     0.57891,     0.57492,     0.57482,     0.57909,     0.57639,     0.57239,      0.5768,     0.58334,     0.58586,     0.58833,     0.58592,     0.57782,\n",
              "            0.57466,     0.57888,     0.58139,     0.58493,     0.58471,     0.58144,      0.5867,     0.58917,     0.58449,     0.58655,     0.58404,     0.58097,     0.57777,     0.57853,     0.57972,     0.58271,     0.58418,     0.58544,     0.58657,     0.58887,     0.58476,     0.57945,     0.57848,\n",
              "            0.57641,     0.57435,     0.56997,     0.57253,     0.56687,     0.56727,     0.56528,     0.56329,     0.56413,     0.55949,     0.56246,     0.56256,     0.55956,     0.55727,     0.55834,     0.55941,     0.55809,     0.55613,     0.55417,     0.55208,     0.54979,      0.5475,     0.54768,\n",
              "            0.54936,     0.55021,     0.55106,     0.54699,     0.54569,     0.54221,     0.54063,      0.5414,     0.54217,     0.53961,      0.5368,     0.53784,     0.53566,     0.53411,     0.53447,     0.53483,     0.53519,     0.53555,     0.53591,     0.53627,     0.53627,     0.53324,      0.5302,\n",
              "            0.53217,     0.53286,     0.53355,     0.53424,     0.52718,      0.5255,     0.52382,     0.52214,     0.52046,      0.5169,     0.51264,     0.50565,     0.50629,     0.50692,     0.50755,     0.50613,     0.50448,     0.50283,     0.50118,     0.49915,     0.49621,     0.49327,     0.49385,\n",
              "            0.49506,     0.49544,     0.49582,      0.4962,     0.49657,     0.49695,     0.49732,     0.48492,     0.47968,     0.47688,     0.47407,     0.46856,     0.46585,     0.46632,      0.4668,     0.46727,     0.46773,     0.46877,     0.47039,      0.4698,     0.46921,     0.46862,     0.46803,\n",
              "            0.46744,     0.46685,     0.46625,     0.46566,     0.46507,     0.46448,     0.46389,     0.46329,      0.4627,     0.46272,     0.46353,     0.46433,     0.46022,     0.45568,     0.45456,     0.45343,     0.45231,     0.45118,     0.45005,     0.44892,     0.44775,     0.44648,     0.44521,\n",
              "            0.44393,     0.44266,     0.44138,     0.44011,      0.4399,     0.44049,     0.44107,     0.44165,     0.44211,     0.44241,     0.44271,       0.443,     0.44329,     0.44359,     0.44388,     0.44417,     0.44442,     0.44368,     0.44294,      0.4422,     0.44147,     0.44073,     0.43999,\n",
              "            0.43925,     0.43851,     0.43777,     0.43702,     0.43628,     0.43553,     0.43477,     0.43401,     0.43325,     0.43249,     0.43172,     0.43096,     0.43019,     0.42943,     0.42866,     0.42789,     0.42713,       0.428,     0.42614,     0.42428,     0.42241,     0.42054,     0.41929,\n",
              "            0.41807,     0.41684,     0.41561,     0.41439,     0.41316,     0.41192,     0.41023,     0.40823,     0.40622,     0.40421,     0.40231,     0.40254,     0.40277,     0.40299,     0.40322,     0.40344,     0.40366,     0.40388,     0.40411,     0.40433,     0.40455,     0.39817,     0.39443,\n",
              "            0.39316,     0.39189,     0.39061,     0.38933,     0.38805,     0.38677,     0.38555,     0.38442,     0.38329,     0.38217,     0.38104,     0.37991,     0.37877,     0.37764,      0.3765,      0.3769,     0.37733,     0.37777,      0.3782,     0.37862,     0.37614,     0.37301,     0.36987,\n",
              "            0.36832,     0.36733,     0.36633,     0.36534,     0.36435,     0.36335,     0.36236,     0.36136,     0.36036,     0.35936,     0.35775,     0.35608,     0.35441,     0.35274,     0.35106,     0.34939,     0.34902,     0.34865,     0.34827,      0.3479,     0.34753,     0.34715,     0.34678,\n",
              "             0.3464,     0.34603,     0.34566,     0.34528,     0.34491,     0.34453,     0.34416,     0.34378,     0.34341,     0.34303,     0.34265,     0.34228,      0.3419,     0.34153,     0.34115,     0.34077,      0.3404,     0.34002,     0.33964,     0.33774,     0.33282,     0.32933,     0.32955,\n",
              "            0.32976,     0.32998,     0.33019,      0.3304,     0.33061,     0.33082,     0.33103,     0.33124,     0.32242,     0.32129,     0.32016,     0.31903,      0.3179,     0.31677,     0.31564,      0.3145,     0.31337,     0.31232,     0.31156,      0.3108,     0.31004,     0.30928,     0.30852,\n",
              "            0.30776,       0.307,     0.30624,     0.30547,     0.30471,     0.30395,     0.30318,     0.30242,     0.30168,     0.30103,     0.30038,     0.29973,     0.29908,     0.29843,     0.29778,     0.29712,     0.29647,     0.29581,     0.29516,      0.2945,     0.29385,     0.29319,     0.29254,\n",
              "            0.29188,     0.29122,     0.28977,      0.2882,     0.28664,     0.28506,     0.28349,     0.28191,     0.28033,     0.27811,     0.27584,     0.27357,      0.2713,     0.26919,     0.26879,     0.26839,     0.26799,     0.26759,     0.26719,     0.26679,     0.26638,     0.26598,     0.26558,\n",
              "            0.26518,     0.26478,     0.26437,     0.26397,     0.26357,     0.26316,     0.26276,     0.26236,     0.26195,     0.26155,     0.26115,     0.26074,     0.26034,     0.25993,     0.25953,     0.25912,     0.25872,     0.25831,      0.2577,     0.25675,      0.2558,     0.25484,     0.25389,\n",
              "            0.25294,     0.25198,     0.25103,     0.25007,     0.24912,     0.24816,      0.2472,     0.24475,     0.24099,     0.23723,     0.23481,      0.2338,      0.2328,      0.2318,      0.2308,     0.22979,     0.22878,     0.22778,     0.22677,     0.22576,     0.22475,     0.22374,     0.22287,\n",
              "              0.222,     0.22114,     0.22027,      0.2194,     0.21854,     0.21767,      0.2168,     0.21593,     0.21506,     0.21419,     0.21332,     0.21244,     0.21238,     0.21308,     0.21112,     0.20916,      0.2072,     0.20523,     0.20325,     0.20119,      0.1968,     0.19239,     0.18901,\n",
              "            0.18835,      0.1877,     0.18704,     0.18639,     0.18573,     0.18508,     0.18442,     0.18376,     0.18311,     0.18245,     0.18179,     0.18113,     0.18047,     0.17981,     0.17915,     0.17849,     0.17783,     0.17717,     0.17617,     0.17489,     0.17361,     0.17233,     0.17105,\n",
              "            0.16976,     0.16848,     0.16719,      0.1659,     0.16461,     0.16346,     0.16234,     0.16122,     0.16009,     0.15897,     0.15784,     0.15671,     0.15558,     0.15445,     0.15332,     0.15218,     0.15149,     0.15111,     0.15072,     0.15033,     0.14995,     0.14956,     0.14917,\n",
              "            0.14879,      0.1484,     0.14801,     0.14763,     0.14724,     0.14685,     0.14646,     0.14607,     0.14568,      0.1453,     0.14491,     0.14452,     0.14413,     0.14374,     0.14335,     0.14296,     0.14257,     0.14218,     0.14179,      0.1414,     0.14101,     0.14062,     0.14023,\n",
              "            0.13984,     0.13945,     0.13906,     0.13843,     0.13762,     0.13682,     0.13601,      0.1352,     0.13439,     0.13358,     0.13277,     0.13196,     0.13115,     0.13033,     0.12952,     0.12871,     0.12789,     0.12707,     0.12626,     0.11998,     0.11247,     0.11188,     0.11129,\n",
              "             0.1107,     0.11011,     0.10952,     0.10893,     0.10834,     0.10775,     0.10716,     0.10657,     0.10597,     0.10538,     0.10479,     0.10419,      0.1036,       0.103,     0.10241,     0.10181,     0.10122,     0.10062,     0.10003,    0.099429,    0.098931,    0.098463,    0.097994,\n",
              "           0.097525,    0.097056,    0.096586,    0.096117,    0.095647,    0.095177,    0.094706,    0.094236,    0.093765,    0.093294,    0.092822,    0.092351,    0.091879,    0.091407,    0.090935,    0.090463,     0.08999,    0.089517,    0.089044,     0.08857,    0.088097,    0.087623,    0.087149,\n",
              "           0.086674,      0.0862,    0.085725,     0.08515,    0.084573,    0.083996,    0.083418,    0.082839,    0.082261,    0.081682,    0.081103,    0.080523,    0.079943,    0.079363,    0.078782,    0.078201,    0.077619,    0.077038,    0.076456,    0.075873,     0.07529,    0.074707,    0.074124,\n",
              "            0.07354,    0.072956,    0.072371,    0.071885,    0.071672,    0.071459,    0.071246,    0.071033,     0.07082,    0.070606,    0.070393,     0.07018,    0.069966,    0.069753,    0.069539,    0.069326,    0.069112,    0.068898,    0.068684,    0.068471,    0.068257,    0.068043,    0.067829,\n",
              "           0.067615,    0.067401,    0.067187,    0.066973,    0.066759,    0.066545,     0.06633,    0.066116,    0.065902,    0.065687,    0.065473,    0.065258,    0.065044,    0.064829,    0.064615,      0.0644,    0.064185,     0.06397,    0.063756,    0.063541,    0.063326,    0.063111,    0.062896,\n",
              "           0.062681,    0.062466,     0.06225,    0.062035,     0.06182,    0.061605,    0.061389,    0.061174,    0.060958,    0.060743,    0.060527,    0.060312,    0.060096,     0.05988,    0.059665,    0.059449,    0.059233,    0.059017,    0.058801,    0.058585,    0.058369,    0.058153,    0.057515,\n",
              "           0.054598,    0.051671,    0.048736,    0.045793,    0.043732,    0.043537,    0.043342,    0.043146,    0.042951,    0.042755,     0.04256,    0.042364,    0.042169,    0.041973,    0.041778,    0.041582,    0.041386,     0.04119,    0.040994,    0.040799,    0.040603,    0.040407,    0.040211,\n",
              "           0.040015,    0.039819,    0.039623,    0.039426,     0.03923,    0.039034,    0.038838,    0.038641,    0.038445,    0.038249,    0.038052,    0.037856,    0.037659,    0.037463,    0.037266,     0.03707,    0.036873,    0.036676,     0.03648,    0.036283,    0.036086,    0.035889,    0.035692,\n",
              "           0.035495,    0.035298,    0.035101,    0.034904,    0.034707,     0.03451,    0.034313,    0.034116,    0.033919,    0.033721,    0.033524,    0.033327,    0.033129,    0.032932,    0.032734,    0.032537,    0.032339,    0.032142,    0.031944,    0.031746,    0.031548,    0.031351,    0.031153,\n",
              "           0.030955,    0.030757,    0.030559,    0.030361,    0.030163,    0.029965,    0.029767,    0.029569,    0.029375,    0.029199,    0.029022,    0.028845,    0.028668,    0.028491,    0.028315,    0.028138,    0.027961,    0.027784,    0.027607,     0.02743,    0.027253,    0.027076,    0.026899,\n",
              "           0.026721,    0.026544,    0.026367,     0.02619,    0.026012,    0.025835,    0.025658,     0.02548,    0.025303,    0.025126,    0.024948,    0.024771,    0.024593,    0.024415,    0.024238,     0.02406,    0.023883,    0.023705,    0.023527,    0.023349,    0.023172,    0.022994,    0.022816,\n",
              "           0.022638,     0.02246,    0.022282,    0.022104,    0.021926,    0.021748,     0.02157,    0.021392,    0.021214,    0.021035,    0.020857,    0.020679,    0.020501,    0.020322,    0.020144,    0.019966,    0.019787,    0.019609,     0.01943,    0.019252,    0.019073,    0.018895,    0.018716,\n",
              "           0.018538,    0.018359,     0.01818,    0.018002,    0.017823,    0.017644,    0.017465,    0.017286,    0.017107,    0.016928,     0.01675,    0.016571,    0.016392,    0.016212,    0.016033,    0.015854,    0.015675,    0.015496,    0.015317,    0.015138,    0.014958,           0,           0,\n",
              "                  0,           0,           0,           0,           0,           0,           0,           0,           0,           0,           0,           0,           0,           0,           0,           0,           0,           0,           0,           0,           0,           0,           0,\n",
              "                  0,           0,           0,           0,           0,           0,           0,           0,           0,           0,           0,           0,           0,           0,           0,           0,           0,           0,           0,           0,           0,           0,           0,\n",
              "                  0,           0,           0,           0,           0,           0,           0,           0,           0,           0,           0,           0,           0,           0,           0,           0,           0,           0,           0,           0,           0,           0,           0,\n",
              "                  0,           0,           0,           0,           0,           0,           0,           0,           0,           0,           0,           0,           0,           0,           0,           0,           0,           0,           0,           0,           0,           0,           0,\n",
              "                  0,           0,           0,           0,           0,           0,           0,           0,           0,           0,           0,           0,           0,           0,           0,           0,           0,           0,           0,           0,           0,           0,           0,\n",
              "                  0,           0,           0,           0,           0,           0,           0,           0,           0,           0,           0,           0,           0,           0,           0,           0,           0,           0,           0,           0,           0,           0,           0,\n",
              "                  0,           0,           0,           0,           0,           0,           0,           0,           0,           0,           0]]), 'Confidence', 'F1'], [array([          0,    0.001001,    0.002002,    0.003003,    0.004004,    0.005005,    0.006006,    0.007007,    0.008008,    0.009009,     0.01001,    0.011011,    0.012012,    0.013013,    0.014014,    0.015015,    0.016016,    0.017017,    0.018018,    0.019019,     0.02002,    0.021021,    0.022022,    0.023023,\n",
              "          0.024024,    0.025025,    0.026026,    0.027027,    0.028028,    0.029029,     0.03003,    0.031031,    0.032032,    0.033033,    0.034034,    0.035035,    0.036036,    0.037037,    0.038038,    0.039039,     0.04004,    0.041041,    0.042042,    0.043043,    0.044044,    0.045045,    0.046046,    0.047047,\n",
              "          0.048048,    0.049049,     0.05005,    0.051051,    0.052052,    0.053053,    0.054054,    0.055055,    0.056056,    0.057057,    0.058058,    0.059059,     0.06006,    0.061061,    0.062062,    0.063063,    0.064064,    0.065065,    0.066066,    0.067067,    0.068068,    0.069069,     0.07007,    0.071071,\n",
              "          0.072072,    0.073073,    0.074074,    0.075075,    0.076076,    0.077077,    0.078078,    0.079079,     0.08008,    0.081081,    0.082082,    0.083083,    0.084084,    0.085085,    0.086086,    0.087087,    0.088088,    0.089089,     0.09009,    0.091091,    0.092092,    0.093093,    0.094094,    0.095095,\n",
              "          0.096096,    0.097097,    0.098098,    0.099099,      0.1001,      0.1011,      0.1021,      0.1031,      0.1041,     0.10511,     0.10611,     0.10711,     0.10811,     0.10911,     0.11011,     0.11111,     0.11211,     0.11311,     0.11411,     0.11512,     0.11612,     0.11712,     0.11812,     0.11912,\n",
              "           0.12012,     0.12112,     0.12212,     0.12312,     0.12412,     0.12513,     0.12613,     0.12713,     0.12813,     0.12913,     0.13013,     0.13113,     0.13213,     0.13313,     0.13413,     0.13514,     0.13614,     0.13714,     0.13814,     0.13914,     0.14014,     0.14114,     0.14214,     0.14314,\n",
              "           0.14414,     0.14515,     0.14615,     0.14715,     0.14815,     0.14915,     0.15015,     0.15115,     0.15215,     0.15315,     0.15415,     0.15516,     0.15616,     0.15716,     0.15816,     0.15916,     0.16016,     0.16116,     0.16216,     0.16316,     0.16416,     0.16517,     0.16617,     0.16717,\n",
              "           0.16817,     0.16917,     0.17017,     0.17117,     0.17217,     0.17317,     0.17417,     0.17518,     0.17618,     0.17718,     0.17818,     0.17918,     0.18018,     0.18118,     0.18218,     0.18318,     0.18418,     0.18519,     0.18619,     0.18719,     0.18819,     0.18919,     0.19019,     0.19119,\n",
              "           0.19219,     0.19319,     0.19419,      0.1952,      0.1962,      0.1972,      0.1982,      0.1992,      0.2002,      0.2012,      0.2022,      0.2032,      0.2042,     0.20521,     0.20621,     0.20721,     0.20821,     0.20921,     0.21021,     0.21121,     0.21221,     0.21321,     0.21421,     0.21522,\n",
              "           0.21622,     0.21722,     0.21822,     0.21922,     0.22022,     0.22122,     0.22222,     0.22322,     0.22422,     0.22523,     0.22623,     0.22723,     0.22823,     0.22923,     0.23023,     0.23123,     0.23223,     0.23323,     0.23423,     0.23524,     0.23624,     0.23724,     0.23824,     0.23924,\n",
              "           0.24024,     0.24124,     0.24224,     0.24324,     0.24424,     0.24525,     0.24625,     0.24725,     0.24825,     0.24925,     0.25025,     0.25125,     0.25225,     0.25325,     0.25425,     0.25526,     0.25626,     0.25726,     0.25826,     0.25926,     0.26026,     0.26126,     0.26226,     0.26326,\n",
              "           0.26426,     0.26527,     0.26627,     0.26727,     0.26827,     0.26927,     0.27027,     0.27127,     0.27227,     0.27327,     0.27427,     0.27528,     0.27628,     0.27728,     0.27828,     0.27928,     0.28028,     0.28128,     0.28228,     0.28328,     0.28428,     0.28529,     0.28629,     0.28729,\n",
              "           0.28829,     0.28929,     0.29029,     0.29129,     0.29229,     0.29329,     0.29429,      0.2953,      0.2963,      0.2973,      0.2983,      0.2993,      0.3003,      0.3013,      0.3023,      0.3033,      0.3043,     0.30531,     0.30631,     0.30731,     0.30831,     0.30931,     0.31031,     0.31131,\n",
              "           0.31231,     0.31331,     0.31431,     0.31532,     0.31632,     0.31732,     0.31832,     0.31932,     0.32032,     0.32132,     0.32232,     0.32332,     0.32432,     0.32533,     0.32633,     0.32733,     0.32833,     0.32933,     0.33033,     0.33133,     0.33233,     0.33333,     0.33433,     0.33534,\n",
              "           0.33634,     0.33734,     0.33834,     0.33934,     0.34034,     0.34134,     0.34234,     0.34334,     0.34434,     0.34535,     0.34635,     0.34735,     0.34835,     0.34935,     0.35035,     0.35135,     0.35235,     0.35335,     0.35435,     0.35536,     0.35636,     0.35736,     0.35836,     0.35936,\n",
              "           0.36036,     0.36136,     0.36236,     0.36336,     0.36436,     0.36537,     0.36637,     0.36737,     0.36837,     0.36937,     0.37037,     0.37137,     0.37237,     0.37337,     0.37437,     0.37538,     0.37638,     0.37738,     0.37838,     0.37938,     0.38038,     0.38138,     0.38238,     0.38338,\n",
              "           0.38438,     0.38539,     0.38639,     0.38739,     0.38839,     0.38939,     0.39039,     0.39139,     0.39239,     0.39339,     0.39439,      0.3954,      0.3964,      0.3974,      0.3984,      0.3994,      0.4004,      0.4014,      0.4024,      0.4034,      0.4044,     0.40541,     0.40641,     0.40741,\n",
              "           0.40841,     0.40941,     0.41041,     0.41141,     0.41241,     0.41341,     0.41441,     0.41542,     0.41642,     0.41742,     0.41842,     0.41942,     0.42042,     0.42142,     0.42242,     0.42342,     0.42442,     0.42543,     0.42643,     0.42743,     0.42843,     0.42943,     0.43043,     0.43143,\n",
              "           0.43243,     0.43343,     0.43443,     0.43544,     0.43644,     0.43744,     0.43844,     0.43944,     0.44044,     0.44144,     0.44244,     0.44344,     0.44444,     0.44545,     0.44645,     0.44745,     0.44845,     0.44945,     0.45045,     0.45145,     0.45245,     0.45345,     0.45445,     0.45546,\n",
              "           0.45646,     0.45746,     0.45846,     0.45946,     0.46046,     0.46146,     0.46246,     0.46346,     0.46446,     0.46547,     0.46647,     0.46747,     0.46847,     0.46947,     0.47047,     0.47147,     0.47247,     0.47347,     0.47447,     0.47548,     0.47648,     0.47748,     0.47848,     0.47948,\n",
              "           0.48048,     0.48148,     0.48248,     0.48348,     0.48448,     0.48549,     0.48649,     0.48749,     0.48849,     0.48949,     0.49049,     0.49149,     0.49249,     0.49349,     0.49449,      0.4955,      0.4965,      0.4975,      0.4985,      0.4995,      0.5005,      0.5015,      0.5025,      0.5035,\n",
              "            0.5045,     0.50551,     0.50651,     0.50751,     0.50851,     0.50951,     0.51051,     0.51151,     0.51251,     0.51351,     0.51451,     0.51552,     0.51652,     0.51752,     0.51852,     0.51952,     0.52052,     0.52152,     0.52252,     0.52352,     0.52452,     0.52553,     0.52653,     0.52753,\n",
              "           0.52853,     0.52953,     0.53053,     0.53153,     0.53253,     0.53353,     0.53453,     0.53554,     0.53654,     0.53754,     0.53854,     0.53954,     0.54054,     0.54154,     0.54254,     0.54354,     0.54454,     0.54555,     0.54655,     0.54755,     0.54855,     0.54955,     0.55055,     0.55155,\n",
              "           0.55255,     0.55355,     0.55455,     0.55556,     0.55656,     0.55756,     0.55856,     0.55956,     0.56056,     0.56156,     0.56256,     0.56356,     0.56456,     0.56557,     0.56657,     0.56757,     0.56857,     0.56957,     0.57057,     0.57157,     0.57257,     0.57357,     0.57457,     0.57558,\n",
              "           0.57658,     0.57758,     0.57858,     0.57958,     0.58058,     0.58158,     0.58258,     0.58358,     0.58458,     0.58559,     0.58659,     0.58759,     0.58859,     0.58959,     0.59059,     0.59159,     0.59259,     0.59359,     0.59459,      0.5956,      0.5966,      0.5976,      0.5986,      0.5996,\n",
              "            0.6006,      0.6016,      0.6026,      0.6036,      0.6046,     0.60561,     0.60661,     0.60761,     0.60861,     0.60961,     0.61061,     0.61161,     0.61261,     0.61361,     0.61461,     0.61562,     0.61662,     0.61762,     0.61862,     0.61962,     0.62062,     0.62162,     0.62262,     0.62362,\n",
              "           0.62462,     0.62563,     0.62663,     0.62763,     0.62863,     0.62963,     0.63063,     0.63163,     0.63263,     0.63363,     0.63463,     0.63564,     0.63664,     0.63764,     0.63864,     0.63964,     0.64064,     0.64164,     0.64264,     0.64364,     0.64464,     0.64565,     0.64665,     0.64765,\n",
              "           0.64865,     0.64965,     0.65065,     0.65165,     0.65265,     0.65365,     0.65465,     0.65566,     0.65666,     0.65766,     0.65866,     0.65966,     0.66066,     0.66166,     0.66266,     0.66366,     0.66466,     0.66567,     0.66667,     0.66767,     0.66867,     0.66967,     0.67067,     0.67167,\n",
              "           0.67267,     0.67367,     0.67467,     0.67568,     0.67668,     0.67768,     0.67868,     0.67968,     0.68068,     0.68168,     0.68268,     0.68368,     0.68468,     0.68569,     0.68669,     0.68769,     0.68869,     0.68969,     0.69069,     0.69169,     0.69269,     0.69369,     0.69469,      0.6957,\n",
              "            0.6967,      0.6977,      0.6987,      0.6997,      0.7007,      0.7017,      0.7027,      0.7037,      0.7047,     0.70571,     0.70671,     0.70771,     0.70871,     0.70971,     0.71071,     0.71171,     0.71271,     0.71371,     0.71471,     0.71572,     0.71672,     0.71772,     0.71872,     0.71972,\n",
              "           0.72072,     0.72172,     0.72272,     0.72372,     0.72472,     0.72573,     0.72673,     0.72773,     0.72873,     0.72973,     0.73073,     0.73173,     0.73273,     0.73373,     0.73473,     0.73574,     0.73674,     0.73774,     0.73874,     0.73974,     0.74074,     0.74174,     0.74274,     0.74374,\n",
              "           0.74474,     0.74575,     0.74675,     0.74775,     0.74875,     0.74975,     0.75075,     0.75175,     0.75275,     0.75375,     0.75475,     0.75576,     0.75676,     0.75776,     0.75876,     0.75976,     0.76076,     0.76176,     0.76276,     0.76376,     0.76476,     0.76577,     0.76677,     0.76777,\n",
              "           0.76877,     0.76977,     0.77077,     0.77177,     0.77277,     0.77377,     0.77477,     0.77578,     0.77678,     0.77778,     0.77878,     0.77978,     0.78078,     0.78178,     0.78278,     0.78378,     0.78478,     0.78579,     0.78679,     0.78779,     0.78879,     0.78979,     0.79079,     0.79179,\n",
              "           0.79279,     0.79379,     0.79479,      0.7958,      0.7968,      0.7978,      0.7988,      0.7998,      0.8008,      0.8018,      0.8028,      0.8038,      0.8048,     0.80581,     0.80681,     0.80781,     0.80881,     0.80981,     0.81081,     0.81181,     0.81281,     0.81381,     0.81481,     0.81582,\n",
              "           0.81682,     0.81782,     0.81882,     0.81982,     0.82082,     0.82182,     0.82282,     0.82382,     0.82482,     0.82583,     0.82683,     0.82783,     0.82883,     0.82983,     0.83083,     0.83183,     0.83283,     0.83383,     0.83483,     0.83584,     0.83684,     0.83784,     0.83884,     0.83984,\n",
              "           0.84084,     0.84184,     0.84284,     0.84384,     0.84484,     0.84585,     0.84685,     0.84785,     0.84885,     0.84985,     0.85085,     0.85185,     0.85285,     0.85385,     0.85485,     0.85586,     0.85686,     0.85786,     0.85886,     0.85986,     0.86086,     0.86186,     0.86286,     0.86386,\n",
              "           0.86486,     0.86587,     0.86687,     0.86787,     0.86887,     0.86987,     0.87087,     0.87187,     0.87287,     0.87387,     0.87487,     0.87588,     0.87688,     0.87788,     0.87888,     0.87988,     0.88088,     0.88188,     0.88288,     0.88388,     0.88488,     0.88589,     0.88689,     0.88789,\n",
              "           0.88889,     0.88989,     0.89089,     0.89189,     0.89289,     0.89389,     0.89489,      0.8959,      0.8969,      0.8979,      0.8989,      0.8999,      0.9009,      0.9019,      0.9029,      0.9039,      0.9049,     0.90591,     0.90691,     0.90791,     0.90891,     0.90991,     0.91091,     0.91191,\n",
              "           0.91291,     0.91391,     0.91491,     0.91592,     0.91692,     0.91792,     0.91892,     0.91992,     0.92092,     0.92192,     0.92292,     0.92392,     0.92492,     0.92593,     0.92693,     0.92793,     0.92893,     0.92993,     0.93093,     0.93193,     0.93293,     0.93393,     0.93493,     0.93594,\n",
              "           0.93694,     0.93794,     0.93894,     0.93994,     0.94094,     0.94194,     0.94294,     0.94394,     0.94494,     0.94595,     0.94695,     0.94795,     0.94895,     0.94995,     0.95095,     0.95195,     0.95295,     0.95395,     0.95495,     0.95596,     0.95696,     0.95796,     0.95896,     0.95996,\n",
              "           0.96096,     0.96196,     0.96296,     0.96396,     0.96496,     0.96597,     0.96697,     0.96797,     0.96897,     0.96997,     0.97097,     0.97197,     0.97297,     0.97397,     0.97497,     0.97598,     0.97698,     0.97798,     0.97898,     0.97998,     0.98098,     0.98198,     0.98298,     0.98398,\n",
              "           0.98498,     0.98599,     0.98699,     0.98799,     0.98899,     0.98999,     0.99099,     0.99199,     0.99299,     0.99399,     0.99499,       0.996,       0.997,       0.998,       0.999,           1]), array([[    0.15667,     0.15667,     0.15667,     0.15667,     0.15667,     0.15667,     0.15667,      0.1572,     0.16097,      0.1633,     0.16496,       0.178,     0.19065,     0.22671,     0.26175,     0.28982,     0.31926,     0.34845,     0.37544,     0.39204,     0.42012,     0.44138,     0.45583,\n",
              "            0.47234,     0.48273,     0.49184,     0.50553,     0.51635,     0.52173,     0.53342,     0.54098,     0.54282,     0.54587,     0.55536,     0.56187,     0.56325,     0.56773,     0.57611,     0.57567,      0.5777,     0.58677,     0.60046,     0.60583,     0.61243,     0.61105,     0.60638,\n",
              "            0.60801,     0.61754,     0.62327,     0.63148,     0.63386,     0.63347,     0.64607,     0.65209,      0.6517,     0.65685,     0.65591,     0.65424,     0.65734,     0.66007,     0.66317,     0.67105,     0.67496,     0.67833,     0.68137,     0.68955,     0.68742,     0.68891,     0.68988,\n",
              "             0.6888,     0.68773,     0.69089,     0.69884,     0.69591,     0.70246,     0.70143,     0.70041,      0.7074,     0.70753,      0.7171,     0.72039,     0.71889,     0.71827,     0.72185,     0.72543,     0.72542,     0.72445,     0.72347,     0.72243,     0.72127,     0.72012,     0.72435,\n",
              "            0.73022,     0.73326,     0.73629,     0.73534,     0.74287,     0.74119,     0.74157,     0.74448,      0.7474,     0.74844,     0.75024,     0.75431,     0.75543,     0.76441,      0.7659,     0.76738,     0.76887,     0.77035,     0.77184,     0.77332,      0.7745,     0.77314,     0.77178,\n",
              "            0.78324,     0.78626,     0.78928,      0.7923,     0.79096,     0.79024,     0.78952,      0.7888,     0.78807,     0.78652,     0.78465,     0.78415,     0.78722,     0.79028,     0.79335,       0.793,     0.79228,     0.79156,     0.79083,     0.78994,     0.78863,     0.78731,     0.79482,\n",
              "            0.80112,     0.80312,     0.80511,     0.80711,     0.80911,     0.81111,      0.8131,     0.80838,     0.80616,     0.80495,     0.80374,      0.8013,     0.80142,     0.80424,     0.80705,     0.80987,     0.81269,     0.81899,     0.83011,     0.82987,     0.82964,      0.8294,     0.82917,\n",
              "            0.82893,      0.8287,     0.82846,     0.82823,     0.82799,     0.82776,     0.82752,     0.82729,     0.82706,      0.8292,     0.83441,     0.83961,     0.84139,     0.83967,     0.83924,      0.8388,     0.83836,     0.83793,     0.83749,     0.83705,      0.8366,     0.83609,     0.83558,\n",
              "            0.83507,     0.83457,     0.83406,     0.83355,     0.83578,     0.84005,     0.84432,     0.84859,     0.85199,      0.8542,      0.8564,     0.85861,     0.86082,     0.86303,     0.86523,     0.86744,     0.86956,     0.86931,     0.86906,     0.86882,     0.86857,     0.86832,     0.86808,\n",
              "            0.86783,     0.86758,     0.86734,     0.86709,     0.86684,     0.86659,     0.86633,     0.86606,      0.8658,     0.86554,     0.86527,     0.86501,     0.86475,     0.86448,     0.86422,     0.86396,     0.86369,     0.88329,     0.88271,     0.88213,     0.88156,     0.88098,     0.88058,\n",
              "            0.88018,     0.87979,     0.87939,       0.879,      0.8786,     0.87821,     0.87765,     0.87698,     0.87631,     0.87563,     0.87512,     0.87727,     0.87943,     0.88159,     0.88374,      0.8859,     0.88805,     0.89021,     0.89236,     0.89452,     0.89667,     0.89555,     0.89446,\n",
              "            0.89407,     0.89368,      0.8933,     0.89291,     0.89252,     0.89214,     0.89176,      0.8914,     0.89104,     0.89069,     0.89033,     0.88997,     0.88961,     0.88926,      0.8889,     0.89368,     0.89861,     0.90354,     0.90847,     0.91339,     0.91362,      0.9128,     0.91198,\n",
              "            0.91156,     0.91129,     0.91102,     0.91075,     0.91047,      0.9102,     0.90993,     0.90966,     0.90939,     0.90911,     0.90865,     0.90817,     0.90769,     0.90721,     0.90672,     0.90625,     0.90614,     0.90602,     0.90591,      0.9058,     0.90568,     0.90557,     0.90545,\n",
              "            0.90534,     0.90523,     0.90511,       0.905,     0.90489,     0.90477,     0.90466,     0.90455,     0.90443,     0.90432,     0.90421,     0.90409,     0.90398,     0.90387,     0.90375,     0.90364,     0.90353,     0.90341,      0.9033,      0.9027,     0.90113,     0.90091,     0.90416,\n",
              "            0.90742,     0.91067,     0.91393,     0.91718,     0.92044,     0.92369,     0.92695,      0.9302,     0.96289,     0.96273,     0.96258,     0.96242,     0.96227,     0.96212,     0.96196,     0.96181,     0.96166,     0.96151,      0.9614,     0.96129,     0.96118,     0.96107,     0.96096,\n",
              "            0.96085,     0.96074,     0.96063,     0.96052,     0.96041,      0.9603,     0.96019,     0.96008,     0.95997,     0.95987,     0.95977,     0.95966,     0.95956,     0.95946,     0.95936,     0.95926,     0.95916,     0.95906,     0.95895,     0.95885,     0.95875,     0.95865,     0.95855,\n",
              "            0.95845,     0.95835,      0.9581,     0.95784,     0.95758,     0.95732,     0.95706,      0.9568,     0.95653,     0.95614,     0.95573,     0.95532,     0.95491,     0.95454,     0.95446,     0.95438,      0.9543,     0.95423,     0.95415,     0.95407,     0.95399,     0.95391,     0.95383,\n",
              "            0.95376,     0.95368,      0.9536,     0.95352,     0.95344,     0.95337,     0.95329,     0.95321,     0.95313,     0.95305,     0.95298,      0.9529,     0.95282,     0.95274,     0.95266,     0.95258,     0.95251,     0.95243,      0.9523,      0.9521,      0.9519,      0.9517,      0.9515,\n",
              "             0.9513,      0.9511,      0.9509,      0.9507,     0.95049,     0.95029,     0.95009,     0.94954,     0.94867,     0.94781,     0.94724,     0.94699,     0.94674,     0.94648,     0.94623,     0.94598,     0.94572,     0.94547,     0.94522,     0.94496,     0.94471,     0.94446,     0.94422,\n",
              "            0.94397,     0.94373,     0.94349,     0.94325,     0.94301,     0.94277,     0.94253,     0.94229,     0.94204,      0.9418,     0.94156,     0.94132,     0.95974,           1,           1,           1,           1,           1,           1,           1,           1,           1,           1,\n",
              "                  1,           1,           1,           1,           1,           1,           1,           1,           1,           1,           1,           1,           1,           1,           1,           1,           1,           1,           1,           1,           1,           1,           1,\n",
              "                  1,           1,           1,           1,           1,           1,           1,           1,           1,           1,           1,           1,           1,           1,           1,           1,           1,           1,           1,           1,           1,           1,           1,\n",
              "                  1,           1,           1,           1,           1,           1,           1,           1,           1,           1,           1,           1,           1,           1,           1,           1,           1,           1,           1,           1,           1,           1,           1,\n",
              "                  1,           1,           1,           1,           1,           1,           1,           1,           1,           1,           1,           1,           1,           1,           1,           1,           1,           1,           1,           1,           1,           1,           1,\n",
              "                  1,           1,           1,           1,           1,           1,           1,           1,           1,           1,           1,           1,           1,           1,           1,           1,           1,           1,           1,           1,           1,           1,           1,\n",
              "                  1,           1,           1,           1,           1,           1,           1,           1,           1,           1,           1,           1,           1,           1,           1,           1,           1,           1,           1,           1,           1,           1,           1,\n",
              "                  1,           1,           1,           1,           1,           1,           1,           1,           1,           1,           1,           1,           1,           1,           1,           1,           1,           1,           1,           1,           1,           1,           1,\n",
              "                  1,           1,           1,           1,           1,           1,           1,           1,           1,           1,           1,           1,           1,           1,           1,           1,           1,           1,           1,           1,           1,           1,           1,\n",
              "                  1,           1,           1,           1,           1,           1,           1,           1,           1,           1,           1,           1,           1,           1,           1,           1,           1,           1,           1,           1,           1,           1,           1,\n",
              "                  1,           1,           1,           1,           1,           1,           1,           1,           1,           1,           1,           1,           1,           1,           1,           1,           1,           1,           1,           1,           1,           1,           1,\n",
              "                  1,           1,           1,           1,           1,           1,           1,           1,           1,           1,           1,           1,           1,           1,           1,           1,           1,           1,           1,           1,           1,           1,           1,\n",
              "                  1,           1,           1,           1,           1,           1,           1,           1,           1,           1,           1,           1,           1,           1,           1,           1,           1,           1,           1,           1,           1,           1,           1,\n",
              "                  1,           1,           1,           1,           1,           1,           1,           1,           1,           1,           1,           1,           1,           1,           1,           1,           1,           1,           1,           1,           1,           1,           1,\n",
              "                  1,           1,           1,           1,           1,           1,           1,           1,           1,           1,           1,           1,           1,           1,           1,           1,           1,           1,           1,           1,           1,           1,           1,\n",
              "                  1,           1,           1,           1,           1,           1,           1,           1,           1,           1,           1,           1,           1,           1,           1,           1,           1,           1,           1,           1,           1,           1,           1,\n",
              "                  1,           1,           1,           1,           1,           1,           1,           1,           1,           1,           1,           1,           1,           1,           1,           1,           1,           1,           1,           1,           1,           1,           1,\n",
              "                  1,           1,           1,           1,           1,           1,           1,           1,           1,           1,           1,           1,           1,           1,           1,           1,           1,           1,           1,           1,           1,           1,           1,\n",
              "                  1,           1,           1,           1,           1,           1,           1,           1,           1,           1,           1,           1,           1,           1,           1,           1,           1,           1,           1,           1,           1,           1,           1,\n",
              "                  1,           1,           1,           1,           1,           1,           1,           1,           1,           1,           1,           1,           1,           1,           1,           1,           1,           1,           1,           1,           1,           1,           1,\n",
              "                  1,           1,           1,           1,           1,           1,           1,           1,           1,           1,           1,           1,           1,           1,           1,           1,           1,           1,           1,           1,           1,           1,           1,\n",
              "                  1,           1,           1,           1,           1,           1,           1,           1,           1,           1,           1,           1,           1,           1,           1,           1,           1,           1,           1,           1,           1,           1,           1,\n",
              "                  1,           1,           1,           1,           1,           1,           1,           1,           1,           1,           1,           1,           1,           1,           1,           1,           1,           1,           1,           1,           1,           1,           1,\n",
              "                  1,           1,           1,           1,           1,           1,           1,           1,           1,           1,           1,           1,           1,           1,           1,           1,           1,           1,           1,           1,           1,           1,           1,\n",
              "                  1,           1,           1,           1,           1,           1,           1,           1,           1,           1,           1]]), 'Confidence', 'Precision'], [array([          0,    0.001001,    0.002002,    0.003003,    0.004004,    0.005005,    0.006006,    0.007007,    0.008008,    0.009009,     0.01001,    0.011011,    0.012012,    0.013013,    0.014014,    0.015015,    0.016016,    0.017017,    0.018018,    0.019019,     0.02002,    0.021021,    0.022022,    0.023023,\n",
              "          0.024024,    0.025025,    0.026026,    0.027027,    0.028028,    0.029029,     0.03003,    0.031031,    0.032032,    0.033033,    0.034034,    0.035035,    0.036036,    0.037037,    0.038038,    0.039039,     0.04004,    0.041041,    0.042042,    0.043043,    0.044044,    0.045045,    0.046046,    0.047047,\n",
              "          0.048048,    0.049049,     0.05005,    0.051051,    0.052052,    0.053053,    0.054054,    0.055055,    0.056056,    0.057057,    0.058058,    0.059059,     0.06006,    0.061061,    0.062062,    0.063063,    0.064064,    0.065065,    0.066066,    0.067067,    0.068068,    0.069069,     0.07007,    0.071071,\n",
              "          0.072072,    0.073073,    0.074074,    0.075075,    0.076076,    0.077077,    0.078078,    0.079079,     0.08008,    0.081081,    0.082082,    0.083083,    0.084084,    0.085085,    0.086086,    0.087087,    0.088088,    0.089089,     0.09009,    0.091091,    0.092092,    0.093093,    0.094094,    0.095095,\n",
              "          0.096096,    0.097097,    0.098098,    0.099099,      0.1001,      0.1011,      0.1021,      0.1031,      0.1041,     0.10511,     0.10611,     0.10711,     0.10811,     0.10911,     0.11011,     0.11111,     0.11211,     0.11311,     0.11411,     0.11512,     0.11612,     0.11712,     0.11812,     0.11912,\n",
              "           0.12012,     0.12112,     0.12212,     0.12312,     0.12412,     0.12513,     0.12613,     0.12713,     0.12813,     0.12913,     0.13013,     0.13113,     0.13213,     0.13313,     0.13413,     0.13514,     0.13614,     0.13714,     0.13814,     0.13914,     0.14014,     0.14114,     0.14214,     0.14314,\n",
              "           0.14414,     0.14515,     0.14615,     0.14715,     0.14815,     0.14915,     0.15015,     0.15115,     0.15215,     0.15315,     0.15415,     0.15516,     0.15616,     0.15716,     0.15816,     0.15916,     0.16016,     0.16116,     0.16216,     0.16316,     0.16416,     0.16517,     0.16617,     0.16717,\n",
              "           0.16817,     0.16917,     0.17017,     0.17117,     0.17217,     0.17317,     0.17417,     0.17518,     0.17618,     0.17718,     0.17818,     0.17918,     0.18018,     0.18118,     0.18218,     0.18318,     0.18418,     0.18519,     0.18619,     0.18719,     0.18819,     0.18919,     0.19019,     0.19119,\n",
              "           0.19219,     0.19319,     0.19419,      0.1952,      0.1962,      0.1972,      0.1982,      0.1992,      0.2002,      0.2012,      0.2022,      0.2032,      0.2042,     0.20521,     0.20621,     0.20721,     0.20821,     0.20921,     0.21021,     0.21121,     0.21221,     0.21321,     0.21421,     0.21522,\n",
              "           0.21622,     0.21722,     0.21822,     0.21922,     0.22022,     0.22122,     0.22222,     0.22322,     0.22422,     0.22523,     0.22623,     0.22723,     0.22823,     0.22923,     0.23023,     0.23123,     0.23223,     0.23323,     0.23423,     0.23524,     0.23624,     0.23724,     0.23824,     0.23924,\n",
              "           0.24024,     0.24124,     0.24224,     0.24324,     0.24424,     0.24525,     0.24625,     0.24725,     0.24825,     0.24925,     0.25025,     0.25125,     0.25225,     0.25325,     0.25425,     0.25526,     0.25626,     0.25726,     0.25826,     0.25926,     0.26026,     0.26126,     0.26226,     0.26326,\n",
              "           0.26426,     0.26527,     0.26627,     0.26727,     0.26827,     0.26927,     0.27027,     0.27127,     0.27227,     0.27327,     0.27427,     0.27528,     0.27628,     0.27728,     0.27828,     0.27928,     0.28028,     0.28128,     0.28228,     0.28328,     0.28428,     0.28529,     0.28629,     0.28729,\n",
              "           0.28829,     0.28929,     0.29029,     0.29129,     0.29229,     0.29329,     0.29429,      0.2953,      0.2963,      0.2973,      0.2983,      0.2993,      0.3003,      0.3013,      0.3023,      0.3033,      0.3043,     0.30531,     0.30631,     0.30731,     0.30831,     0.30931,     0.31031,     0.31131,\n",
              "           0.31231,     0.31331,     0.31431,     0.31532,     0.31632,     0.31732,     0.31832,     0.31932,     0.32032,     0.32132,     0.32232,     0.32332,     0.32432,     0.32533,     0.32633,     0.32733,     0.32833,     0.32933,     0.33033,     0.33133,     0.33233,     0.33333,     0.33433,     0.33534,\n",
              "           0.33634,     0.33734,     0.33834,     0.33934,     0.34034,     0.34134,     0.34234,     0.34334,     0.34434,     0.34535,     0.34635,     0.34735,     0.34835,     0.34935,     0.35035,     0.35135,     0.35235,     0.35335,     0.35435,     0.35536,     0.35636,     0.35736,     0.35836,     0.35936,\n",
              "           0.36036,     0.36136,     0.36236,     0.36336,     0.36436,     0.36537,     0.36637,     0.36737,     0.36837,     0.36937,     0.37037,     0.37137,     0.37237,     0.37337,     0.37437,     0.37538,     0.37638,     0.37738,     0.37838,     0.37938,     0.38038,     0.38138,     0.38238,     0.38338,\n",
              "           0.38438,     0.38539,     0.38639,     0.38739,     0.38839,     0.38939,     0.39039,     0.39139,     0.39239,     0.39339,     0.39439,      0.3954,      0.3964,      0.3974,      0.3984,      0.3994,      0.4004,      0.4014,      0.4024,      0.4034,      0.4044,     0.40541,     0.40641,     0.40741,\n",
              "           0.40841,     0.40941,     0.41041,     0.41141,     0.41241,     0.41341,     0.41441,     0.41542,     0.41642,     0.41742,     0.41842,     0.41942,     0.42042,     0.42142,     0.42242,     0.42342,     0.42442,     0.42543,     0.42643,     0.42743,     0.42843,     0.42943,     0.43043,     0.43143,\n",
              "           0.43243,     0.43343,     0.43443,     0.43544,     0.43644,     0.43744,     0.43844,     0.43944,     0.44044,     0.44144,     0.44244,     0.44344,     0.44444,     0.44545,     0.44645,     0.44745,     0.44845,     0.44945,     0.45045,     0.45145,     0.45245,     0.45345,     0.45445,     0.45546,\n",
              "           0.45646,     0.45746,     0.45846,     0.45946,     0.46046,     0.46146,     0.46246,     0.46346,     0.46446,     0.46547,     0.46647,     0.46747,     0.46847,     0.46947,     0.47047,     0.47147,     0.47247,     0.47347,     0.47447,     0.47548,     0.47648,     0.47748,     0.47848,     0.47948,\n",
              "           0.48048,     0.48148,     0.48248,     0.48348,     0.48448,     0.48549,     0.48649,     0.48749,     0.48849,     0.48949,     0.49049,     0.49149,     0.49249,     0.49349,     0.49449,      0.4955,      0.4965,      0.4975,      0.4985,      0.4995,      0.5005,      0.5015,      0.5025,      0.5035,\n",
              "            0.5045,     0.50551,     0.50651,     0.50751,     0.50851,     0.50951,     0.51051,     0.51151,     0.51251,     0.51351,     0.51451,     0.51552,     0.51652,     0.51752,     0.51852,     0.51952,     0.52052,     0.52152,     0.52252,     0.52352,     0.52452,     0.52553,     0.52653,     0.52753,\n",
              "           0.52853,     0.52953,     0.53053,     0.53153,     0.53253,     0.53353,     0.53453,     0.53554,     0.53654,     0.53754,     0.53854,     0.53954,     0.54054,     0.54154,     0.54254,     0.54354,     0.54454,     0.54555,     0.54655,     0.54755,     0.54855,     0.54955,     0.55055,     0.55155,\n",
              "           0.55255,     0.55355,     0.55455,     0.55556,     0.55656,     0.55756,     0.55856,     0.55956,     0.56056,     0.56156,     0.56256,     0.56356,     0.56456,     0.56557,     0.56657,     0.56757,     0.56857,     0.56957,     0.57057,     0.57157,     0.57257,     0.57357,     0.57457,     0.57558,\n",
              "           0.57658,     0.57758,     0.57858,     0.57958,     0.58058,     0.58158,     0.58258,     0.58358,     0.58458,     0.58559,     0.58659,     0.58759,     0.58859,     0.58959,     0.59059,     0.59159,     0.59259,     0.59359,     0.59459,      0.5956,      0.5966,      0.5976,      0.5986,      0.5996,\n",
              "            0.6006,      0.6016,      0.6026,      0.6036,      0.6046,     0.60561,     0.60661,     0.60761,     0.60861,     0.60961,     0.61061,     0.61161,     0.61261,     0.61361,     0.61461,     0.61562,     0.61662,     0.61762,     0.61862,     0.61962,     0.62062,     0.62162,     0.62262,     0.62362,\n",
              "           0.62462,     0.62563,     0.62663,     0.62763,     0.62863,     0.62963,     0.63063,     0.63163,     0.63263,     0.63363,     0.63463,     0.63564,     0.63664,     0.63764,     0.63864,     0.63964,     0.64064,     0.64164,     0.64264,     0.64364,     0.64464,     0.64565,     0.64665,     0.64765,\n",
              "           0.64865,     0.64965,     0.65065,     0.65165,     0.65265,     0.65365,     0.65465,     0.65566,     0.65666,     0.65766,     0.65866,     0.65966,     0.66066,     0.66166,     0.66266,     0.66366,     0.66466,     0.66567,     0.66667,     0.66767,     0.66867,     0.66967,     0.67067,     0.67167,\n",
              "           0.67267,     0.67367,     0.67467,     0.67568,     0.67668,     0.67768,     0.67868,     0.67968,     0.68068,     0.68168,     0.68268,     0.68368,     0.68468,     0.68569,     0.68669,     0.68769,     0.68869,     0.68969,     0.69069,     0.69169,     0.69269,     0.69369,     0.69469,      0.6957,\n",
              "            0.6967,      0.6977,      0.6987,      0.6997,      0.7007,      0.7017,      0.7027,      0.7037,      0.7047,     0.70571,     0.70671,     0.70771,     0.70871,     0.70971,     0.71071,     0.71171,     0.71271,     0.71371,     0.71471,     0.71572,     0.71672,     0.71772,     0.71872,     0.71972,\n",
              "           0.72072,     0.72172,     0.72272,     0.72372,     0.72472,     0.72573,     0.72673,     0.72773,     0.72873,     0.72973,     0.73073,     0.73173,     0.73273,     0.73373,     0.73473,     0.73574,     0.73674,     0.73774,     0.73874,     0.73974,     0.74074,     0.74174,     0.74274,     0.74374,\n",
              "           0.74474,     0.74575,     0.74675,     0.74775,     0.74875,     0.74975,     0.75075,     0.75175,     0.75275,     0.75375,     0.75475,     0.75576,     0.75676,     0.75776,     0.75876,     0.75976,     0.76076,     0.76176,     0.76276,     0.76376,     0.76476,     0.76577,     0.76677,     0.76777,\n",
              "           0.76877,     0.76977,     0.77077,     0.77177,     0.77277,     0.77377,     0.77477,     0.77578,     0.77678,     0.77778,     0.77878,     0.77978,     0.78078,     0.78178,     0.78278,     0.78378,     0.78478,     0.78579,     0.78679,     0.78779,     0.78879,     0.78979,     0.79079,     0.79179,\n",
              "           0.79279,     0.79379,     0.79479,      0.7958,      0.7968,      0.7978,      0.7988,      0.7998,      0.8008,      0.8018,      0.8028,      0.8038,      0.8048,     0.80581,     0.80681,     0.80781,     0.80881,     0.80981,     0.81081,     0.81181,     0.81281,     0.81381,     0.81481,     0.81582,\n",
              "           0.81682,     0.81782,     0.81882,     0.81982,     0.82082,     0.82182,     0.82282,     0.82382,     0.82482,     0.82583,     0.82683,     0.82783,     0.82883,     0.82983,     0.83083,     0.83183,     0.83283,     0.83383,     0.83483,     0.83584,     0.83684,     0.83784,     0.83884,     0.83984,\n",
              "           0.84084,     0.84184,     0.84284,     0.84384,     0.84484,     0.84585,     0.84685,     0.84785,     0.84885,     0.84985,     0.85085,     0.85185,     0.85285,     0.85385,     0.85485,     0.85586,     0.85686,     0.85786,     0.85886,     0.85986,     0.86086,     0.86186,     0.86286,     0.86386,\n",
              "           0.86486,     0.86587,     0.86687,     0.86787,     0.86887,     0.86987,     0.87087,     0.87187,     0.87287,     0.87387,     0.87487,     0.87588,     0.87688,     0.87788,     0.87888,     0.87988,     0.88088,     0.88188,     0.88288,     0.88388,     0.88488,     0.88589,     0.88689,     0.88789,\n",
              "           0.88889,     0.88989,     0.89089,     0.89189,     0.89289,     0.89389,     0.89489,      0.8959,      0.8969,      0.8979,      0.8989,      0.8999,      0.9009,      0.9019,      0.9029,      0.9039,      0.9049,     0.90591,     0.90691,     0.90791,     0.90891,     0.90991,     0.91091,     0.91191,\n",
              "           0.91291,     0.91391,     0.91491,     0.91592,     0.91692,     0.91792,     0.91892,     0.91992,     0.92092,     0.92192,     0.92292,     0.92392,     0.92492,     0.92593,     0.92693,     0.92793,     0.92893,     0.92993,     0.93093,     0.93193,     0.93293,     0.93393,     0.93493,     0.93594,\n",
              "           0.93694,     0.93794,     0.93894,     0.93994,     0.94094,     0.94194,     0.94294,     0.94394,     0.94494,     0.94595,     0.94695,     0.94795,     0.94895,     0.94995,     0.95095,     0.95195,     0.95295,     0.95395,     0.95495,     0.95596,     0.95696,     0.95796,     0.95896,     0.95996,\n",
              "           0.96096,     0.96196,     0.96296,     0.96396,     0.96496,     0.96597,     0.96697,     0.96797,     0.96897,     0.96997,     0.97097,     0.97197,     0.97297,     0.97397,     0.97497,     0.97598,     0.97698,     0.97798,     0.97898,     0.97998,     0.98098,     0.98198,     0.98298,     0.98398,\n",
              "           0.98498,     0.98599,     0.98699,     0.98799,     0.98899,     0.98999,     0.99099,     0.99199,     0.99299,     0.99399,     0.99499,       0.996,       0.997,       0.998,       0.999,           1]), array([[    0.70149,     0.70149,     0.70149,     0.70149,     0.70149,     0.70149,     0.70149,     0.70149,     0.69403,     0.69403,     0.68657,     0.68657,     0.68657,      0.6791,      0.6791,     0.67164,     0.65672,     0.64925,     0.64179,     0.63433,     0.63433,     0.63433,     0.62687,\n",
              "             0.6194,      0.6194,      0.6194,     0.61194,     0.60448,     0.59701,     0.59701,     0.59701,     0.59701,     0.59701,     0.59701,     0.59701,     0.58708,     0.58209,     0.58209,      0.5771,     0.56716,     0.56716,     0.56716,     0.56716,     0.56605,     0.56277,     0.55183,\n",
              "            0.54478,     0.54478,     0.54478,     0.54478,     0.54263,     0.53731,     0.53731,     0.53731,     0.52985,     0.52985,     0.52637,     0.52247,     0.51538,     0.51493,     0.51493,     0.51493,     0.51493,     0.51493,     0.51493,     0.51385,     0.50877,         0.5,     0.49805,\n",
              "            0.49556,     0.49306,     0.48507,     0.48489,      0.4782,     0.47571,     0.47339,     0.47107,     0.46911,     0.46269,     0.46269,     0.46146,     0.45804,     0.45522,     0.45522,     0.45522,     0.45349,     0.45128,     0.44908,     0.44674,     0.44419,     0.44164,      0.4403,\n",
              "             0.4403,      0.4403,      0.4403,     0.43546,     0.43122,     0.42745,     0.42537,     0.42537,     0.42537,     0.42189,     0.41791,     0.41791,     0.41495,     0.41045,     0.41045,     0.41045,     0.41045,     0.41045,     0.41045,     0.41045,     0.41011,     0.40696,     0.40381,\n",
              "            0.40299,     0.40299,     0.40299,     0.40299,     0.39533,     0.39363,     0.39193,     0.39022,     0.38852,     0.38494,     0.38067,     0.37313,     0.37313,     0.37313,     0.37313,     0.37168,     0.37006,     0.36844,     0.36682,     0.36484,     0.36199,     0.35914,     0.35821,\n",
              "            0.35821,     0.35821,     0.35821,     0.35821,     0.35821,     0.35821,     0.35821,     0.34634,     0.34142,      0.3388,     0.33618,     0.33108,     0.32836,     0.32836,     0.32836,     0.32836,     0.32836,     0.32836,     0.32817,     0.32764,      0.3271,     0.32656,     0.32603,\n",
              "            0.32549,     0.32495,     0.32442,     0.32388,     0.32334,     0.32281,     0.32227,     0.32173,      0.3212,      0.3209,      0.3209,      0.3209,     0.31674,     0.31269,     0.31169,     0.31069,     0.30969,      0.3087,      0.3077,      0.3067,     0.30567,     0.30456,     0.30344,\n",
              "            0.30233,     0.30121,      0.3001,     0.29898,     0.29851,     0.29851,     0.29851,     0.29851,     0.29851,     0.29851,     0.29851,     0.29851,     0.29851,     0.29851,     0.29851,     0.29851,     0.29848,     0.29785,     0.29721,     0.29658,     0.29594,     0.29531,     0.29467,\n",
              "            0.29404,      0.2934,     0.29277,     0.29213,      0.2915,     0.29086,     0.29021,     0.28956,     0.28891,     0.28826,     0.28761,     0.28696,     0.28631,     0.28567,     0.28502,     0.28437,     0.28372,     0.28242,     0.28086,     0.27931,     0.27775,     0.27619,     0.27515,\n",
              "            0.27414,     0.27312,     0.27211,     0.27109,     0.27008,     0.26906,     0.26767,     0.26603,     0.26439,     0.26275,     0.26119,     0.26119,     0.26119,     0.26119,     0.26119,     0.26119,     0.26119,     0.26119,     0.26119,     0.26119,     0.26119,     0.25599,       0.253,\n",
              "            0.25199,     0.25097,     0.24995,     0.24894,     0.24792,     0.24691,     0.24594,     0.24505,     0.24416,     0.24327,     0.24239,      0.2415,     0.24061,     0.23972,     0.23883,     0.23881,     0.23881,     0.23881,     0.23881,     0.23881,     0.23682,      0.2344,     0.23198,\n",
              "            0.23078,     0.23002,     0.22926,      0.2285,     0.22774,     0.22698,     0.22622,     0.22546,      0.2247,     0.22394,     0.22272,     0.22146,     0.22019,     0.21893,     0.21767,     0.21641,     0.21613,     0.21585,     0.21557,      0.2153,     0.21502,     0.21474,     0.21446,\n",
              "            0.21418,      0.2139,     0.21362,     0.21334,     0.21306,     0.21278,      0.2125,     0.21222,     0.21194,     0.21166,     0.21138,      0.2111,     0.21082,     0.21054,     0.21026,     0.20998,      0.2097,     0.20942,     0.20914,     0.20773,      0.2041,     0.20149,     0.20149,\n",
              "            0.20149,     0.20149,     0.20149,     0.20149,     0.20149,     0.20149,     0.20149,     0.20149,     0.19363,     0.19282,     0.19201,     0.19121,      0.1904,      0.1896,     0.18879,     0.18799,     0.18718,     0.18644,      0.1859,     0.18537,     0.18483,      0.1843,     0.18376,\n",
              "            0.18322,     0.18269,     0.18215,     0.18162,     0.18108,     0.18055,     0.18001,     0.17947,     0.17896,     0.17851,     0.17806,      0.1776,     0.17715,     0.17669,     0.17624,     0.17578,     0.17533,     0.17488,     0.17442,     0.17397,     0.17351,     0.17306,     0.17261,\n",
              "            0.17215,      0.1717,      0.1707,     0.16962,     0.16854,     0.16747,     0.16639,     0.16531,     0.16423,     0.16272,     0.16118,     0.15965,     0.15811,     0.15669,     0.15642,     0.15615,     0.15588,     0.15561,     0.15534,     0.15507,     0.15481,     0.15454,     0.15427,\n",
              "              0.154,     0.15373,     0.15346,     0.15319,     0.15292,     0.15265,     0.15238,     0.15211,     0.15184,     0.15157,      0.1513,     0.15103,     0.15077,      0.1505,     0.15023,     0.14996,     0.14969,     0.14942,     0.14901,     0.14838,     0.14775,     0.14712,     0.14649,\n",
              "            0.14586,     0.14523,      0.1446,     0.14397,     0.14334,     0.14271,     0.14208,     0.14048,     0.13803,     0.13558,     0.13401,     0.13337,     0.13272,     0.13207,     0.13143,     0.13078,     0.13013,     0.12949,     0.12884,     0.12819,     0.12755,      0.1269,     0.12634,\n",
              "            0.12579,     0.12524,     0.12469,     0.12414,     0.12359,     0.12304,     0.12249,     0.12194,     0.12139,     0.12083,     0.12028,     0.11973,      0.1194,     0.11924,     0.11802,     0.11679,     0.11557,     0.11435,     0.11312,     0.11185,     0.10914,     0.10643,     0.10437,\n",
              "            0.10397,     0.10357,     0.10317,     0.10277,     0.10237,     0.10198,     0.10158,     0.10118,     0.10078,     0.10038,    0.099983,    0.099584,    0.099186,    0.098787,    0.098389,     0.09799,    0.097592,    0.097193,    0.096591,    0.095824,    0.095057,     0.09429,    0.093523,\n",
              "           0.092755,    0.091988,    0.091221,    0.090454,    0.089687,    0.089004,    0.088339,    0.087675,     0.08701,    0.086346,    0.085681,    0.085016,    0.084352,    0.083687,    0.083022,    0.082358,    0.081955,    0.081729,    0.081503,    0.081277,    0.081051,    0.080825,    0.080599,\n",
              "           0.080373,    0.080147,    0.079921,    0.079695,    0.079469,    0.079243,    0.079017,    0.078791,    0.078565,    0.078339,    0.078113,    0.077887,    0.077661,    0.077436,     0.07721,    0.076984,    0.076758,    0.076532,    0.076306,     0.07608,    0.075854,    0.075628,    0.075402,\n",
              "           0.075176,     0.07495,    0.074724,    0.074362,    0.073896,    0.073431,    0.072966,    0.072501,    0.072035,     0.07157,    0.071105,     0.07064,    0.070175,    0.069709,    0.069244,    0.068779,    0.068314,    0.067848,    0.067383,    0.063816,    0.059586,    0.059256,    0.058925,\n",
              "           0.058595,    0.058264,    0.057934,    0.057603,    0.057273,    0.056942,    0.056612,    0.056281,    0.055951,     0.05562,     0.05529,    0.054959,    0.054629,    0.054298,    0.053968,    0.053637,    0.053307,    0.052977,    0.052646,    0.052316,     0.05204,    0.051781,    0.051521,\n",
              "           0.051262,    0.051003,    0.050744,    0.050485,    0.050225,    0.049966,    0.049707,    0.049448,    0.049189,    0.048929,     0.04867,    0.048411,    0.048152,    0.047892,    0.047633,    0.047374,    0.047115,    0.046856,    0.046596,    0.046337,    0.046078,    0.045819,     0.04556,\n",
              "             0.0453,    0.045041,    0.044782,    0.044468,    0.044154,    0.043839,    0.043524,    0.043209,    0.042895,     0.04258,    0.042265,     0.04195,    0.041636,    0.041321,    0.041006,    0.040692,    0.040377,    0.040062,    0.039747,    0.039433,    0.039118,    0.038803,    0.038488,\n",
              "           0.038174,    0.037859,    0.037544,    0.037283,    0.037168,    0.037054,    0.036939,    0.036824,     0.03671,    0.036595,     0.03648,    0.036366,    0.036251,    0.036137,    0.036022,    0.035907,    0.035793,    0.035678,    0.035564,    0.035449,    0.035334,     0.03522,    0.035105,\n",
              "            0.03499,    0.034876,    0.034761,    0.034647,    0.034532,    0.034417,    0.034303,    0.034188,    0.034074,    0.033959,    0.033844,     0.03373,    0.033615,      0.0335,    0.033386,    0.033271,    0.033157,    0.033042,    0.032927,    0.032813,    0.032698,    0.032584,    0.032469,\n",
              "           0.032354,     0.03224,    0.032125,     0.03201,    0.031896,    0.031781,    0.031667,    0.031552,    0.031437,    0.031323,    0.031208,    0.031094,    0.030979,    0.030864,     0.03075,    0.030635,     0.03052,    0.030406,    0.030291,    0.030177,    0.030062,    0.029947,    0.029609,\n",
              "           0.028065,    0.026521,    0.024977,    0.023433,    0.022355,    0.022253,    0.022151,    0.022049,    0.021947,    0.021845,    0.021743,    0.021641,    0.021539,    0.021436,    0.021334,    0.021232,     0.02113,    0.021028,    0.020926,    0.020824,    0.020722,     0.02062,    0.020518,\n",
              "           0.020416,    0.020314,    0.020212,     0.02011,    0.020008,    0.019906,    0.019803,    0.019701,    0.019599,    0.019497,    0.019395,    0.019293,    0.019191,    0.019089,    0.018987,    0.018885,    0.018783,    0.018681,    0.018579,    0.018477,    0.018375,    0.018272,     0.01817,\n",
              "           0.018068,    0.017966,    0.017864,    0.017762,     0.01766,    0.017558,    0.017456,    0.017354,    0.017252,     0.01715,    0.017048,    0.016946,    0.016844,    0.016742,    0.016639,    0.016537,    0.016435,    0.016333,    0.016231,    0.016129,    0.016027,    0.015925,    0.015823,\n",
              "           0.015721,    0.015619,    0.015517,    0.015415,    0.015313,    0.015211,    0.015108,    0.015006,    0.014907,    0.014816,    0.014725,    0.014634,    0.014543,    0.014452,    0.014361,     0.01427,    0.014179,    0.014088,    0.013997,    0.013906,    0.013815,    0.013724,    0.013633,\n",
              "           0.013542,    0.013451,     0.01336,    0.013269,    0.013178,    0.013087,    0.012996,    0.012905,    0.012814,    0.012723,    0.012632,    0.012541,     0.01245,    0.012359,    0.012268,    0.012177,    0.012086,    0.011995,    0.011904,    0.011813,    0.011722,    0.011631,     0.01154,\n",
              "           0.011449,    0.011358,    0.011267,    0.011176,    0.011085,    0.010994,    0.010903,    0.010812,    0.010721,     0.01063,    0.010539,    0.010448,    0.010357,    0.010266,    0.010175,    0.010084,   0.0099925,   0.0099015,   0.0098105,   0.0097195,   0.0096285,   0.0095375,   0.0094465,\n",
              "          0.0093555,   0.0092645,   0.0091735,   0.0090825,   0.0089915,   0.0089005,   0.0088095,   0.0087185,   0.0086275,   0.0085365,   0.0084455,   0.0083545,   0.0082635,   0.0081725,   0.0080815,   0.0079905,   0.0078995,   0.0078085,   0.0077175,   0.0076265,   0.0075355,           0,           0,\n",
              "                  0,           0,           0,           0,           0,           0,           0,           0,           0,           0,           0,           0,           0,           0,           0,           0,           0,           0,           0,           0,           0,           0,           0,\n",
              "                  0,           0,           0,           0,           0,           0,           0,           0,           0,           0,           0,           0,           0,           0,           0,           0,           0,           0,           0,           0,           0,           0,           0,\n",
              "                  0,           0,           0,           0,           0,           0,           0,           0,           0,           0,           0,           0,           0,           0,           0,           0,           0,           0,           0,           0,           0,           0,           0,\n",
              "                  0,           0,           0,           0,           0,           0,           0,           0,           0,           0,           0,           0,           0,           0,           0,           0,           0,           0,           0,           0,           0,           0,           0,\n",
              "                  0,           0,           0,           0,           0,           0,           0,           0,           0,           0,           0,           0,           0,           0,           0,           0,           0,           0,           0,           0,           0,           0,           0,\n",
              "                  0,           0,           0,           0,           0,           0,           0,           0,           0,           0,           0,           0,           0,           0,           0,           0,           0,           0,           0,           0,           0,           0,           0,\n",
              "                  0,           0,           0,           0,           0,           0,           0,           0,           0,           0,           0]]), 'Confidence', 'Recall']]\n",
              "fitness: 0.2551782230267603\n",
              "keys: ['metrics/precision(B)', 'metrics/recall(B)', 'metrics/mAP50(B)', 'metrics/mAP50-95(B)']\n",
              "maps: array([    0.22122])\n",
              "names: {0: 'tree'}\n",
              "plot: True\n",
              "results_dict: {'metrics/precision(B)': 0.6988426280314882, 'metrics/recall(B)': 0.484887400169886, 'metrics/mAP50(B)': 0.5608418189261914, 'metrics/mAP50-95(B)': 0.22121560126015685, 'fitness': 0.2551782230267603}\n",
              "save_dir: PosixPath('runs/detect/train')\n",
              "speed: {'preprocess': 1.9330978393554688, 'inference': 291.97144508361816, 'loss': 0.00286102294921875, 'postprocess': 19.683837890625}\n",
              "task: 'detect'"
            ]
          },
          "metadata": {},
          "execution_count": 6
        }
      ]
    },
    {
      "cell_type": "code",
      "source": [
        "model.val(save_json=True)"
      ],
      "metadata": {
        "colab": {
          "base_uri": "https://localhost:8080/"
        },
        "id": "aEh41KmZalWU",
        "outputId": "f90d2009-871d-4436-af23-5905ae9b436f"
      },
      "execution_count": 7,
      "outputs": [
        {
          "output_type": "stream",
          "name": "stdout",
          "text": [
            "Ultralytics YOLOv8.2.38 🚀 Python-3.10.12 torch-2.3.0+cu121 CPU (Intel Xeon 2.20GHz)\n",
            "Model summary (fused): 168 layers, 3005843 parameters, 0 gradients, 8.1 GFLOPs\n"
          ]
        },
        {
          "output_type": "stream",
          "name": "stderr",
          "text": [
            "\u001b[34m\u001b[1mval: \u001b[0mScanning /content/drive/MyDrive/canopydataset/labels/val.cache... 2 images, 0 backgrounds, 0 corrupt: 100%|██████████| 2/2 [00:00<?, ?it/s]\n",
            "                 Class     Images  Instances      Box(P          R      mAP50  mAP50-95): 100%|██████████| 1/1 [00:01<00:00,  1.43s/it]\n"
          ]
        },
        {
          "output_type": "stream",
          "name": "stdout",
          "text": [
            "                   all          2        134      0.699      0.485      0.561      0.221\n",
            "Speed: 1.8ms preprocess, 272.7ms inference, 0.0ms loss, 20.3ms postprocess per image\n",
            "Saving runs/detect/train2/predictions.json...\n",
            "Results saved to \u001b[1mruns/detect/train2\u001b[0m\n"
          ]
        },
        {
          "output_type": "execute_result",
          "data": {
            "text/plain": [
              "ultralytics.utils.metrics.DetMetrics object with attributes:\n",
              "\n",
              "ap_class_index: array([0])\n",
              "box: ultralytics.utils.metrics.Metric object\n",
              "confusion_matrix: <ultralytics.utils.metrics.ConfusionMatrix object at 0x7dc4bdc91960>\n",
              "curves: ['Precision-Recall(B)', 'F1-Confidence(B)', 'Precision-Confidence(B)', 'Recall-Confidence(B)']\n",
              "curves_results: [[array([          0,    0.001001,    0.002002,    0.003003,    0.004004,    0.005005,    0.006006,    0.007007,    0.008008,    0.009009,     0.01001,    0.011011,    0.012012,    0.013013,    0.014014,    0.015015,    0.016016,    0.017017,    0.018018,    0.019019,     0.02002,    0.021021,    0.022022,    0.023023,\n",
              "          0.024024,    0.025025,    0.026026,    0.027027,    0.028028,    0.029029,     0.03003,    0.031031,    0.032032,    0.033033,    0.034034,    0.035035,    0.036036,    0.037037,    0.038038,    0.039039,     0.04004,    0.041041,    0.042042,    0.043043,    0.044044,    0.045045,    0.046046,    0.047047,\n",
              "          0.048048,    0.049049,     0.05005,    0.051051,    0.052052,    0.053053,    0.054054,    0.055055,    0.056056,    0.057057,    0.058058,    0.059059,     0.06006,    0.061061,    0.062062,    0.063063,    0.064064,    0.065065,    0.066066,    0.067067,    0.068068,    0.069069,     0.07007,    0.071071,\n",
              "          0.072072,    0.073073,    0.074074,    0.075075,    0.076076,    0.077077,    0.078078,    0.079079,     0.08008,    0.081081,    0.082082,    0.083083,    0.084084,    0.085085,    0.086086,    0.087087,    0.088088,    0.089089,     0.09009,    0.091091,    0.092092,    0.093093,    0.094094,    0.095095,\n",
              "          0.096096,    0.097097,    0.098098,    0.099099,      0.1001,      0.1011,      0.1021,      0.1031,      0.1041,     0.10511,     0.10611,     0.10711,     0.10811,     0.10911,     0.11011,     0.11111,     0.11211,     0.11311,     0.11411,     0.11512,     0.11612,     0.11712,     0.11812,     0.11912,\n",
              "           0.12012,     0.12112,     0.12212,     0.12312,     0.12412,     0.12513,     0.12613,     0.12713,     0.12813,     0.12913,     0.13013,     0.13113,     0.13213,     0.13313,     0.13413,     0.13514,     0.13614,     0.13714,     0.13814,     0.13914,     0.14014,     0.14114,     0.14214,     0.14314,\n",
              "           0.14414,     0.14515,     0.14615,     0.14715,     0.14815,     0.14915,     0.15015,     0.15115,     0.15215,     0.15315,     0.15415,     0.15516,     0.15616,     0.15716,     0.15816,     0.15916,     0.16016,     0.16116,     0.16216,     0.16316,     0.16416,     0.16517,     0.16617,     0.16717,\n",
              "           0.16817,     0.16917,     0.17017,     0.17117,     0.17217,     0.17317,     0.17417,     0.17518,     0.17618,     0.17718,     0.17818,     0.17918,     0.18018,     0.18118,     0.18218,     0.18318,     0.18418,     0.18519,     0.18619,     0.18719,     0.18819,     0.18919,     0.19019,     0.19119,\n",
              "           0.19219,     0.19319,     0.19419,      0.1952,      0.1962,      0.1972,      0.1982,      0.1992,      0.2002,      0.2012,      0.2022,      0.2032,      0.2042,     0.20521,     0.20621,     0.20721,     0.20821,     0.20921,     0.21021,     0.21121,     0.21221,     0.21321,     0.21421,     0.21522,\n",
              "           0.21622,     0.21722,     0.21822,     0.21922,     0.22022,     0.22122,     0.22222,     0.22322,     0.22422,     0.22523,     0.22623,     0.22723,     0.22823,     0.22923,     0.23023,     0.23123,     0.23223,     0.23323,     0.23423,     0.23524,     0.23624,     0.23724,     0.23824,     0.23924,\n",
              "           0.24024,     0.24124,     0.24224,     0.24324,     0.24424,     0.24525,     0.24625,     0.24725,     0.24825,     0.24925,     0.25025,     0.25125,     0.25225,     0.25325,     0.25425,     0.25526,     0.25626,     0.25726,     0.25826,     0.25926,     0.26026,     0.26126,     0.26226,     0.26326,\n",
              "           0.26426,     0.26527,     0.26627,     0.26727,     0.26827,     0.26927,     0.27027,     0.27127,     0.27227,     0.27327,     0.27427,     0.27528,     0.27628,     0.27728,     0.27828,     0.27928,     0.28028,     0.28128,     0.28228,     0.28328,     0.28428,     0.28529,     0.28629,     0.28729,\n",
              "           0.28829,     0.28929,     0.29029,     0.29129,     0.29229,     0.29329,     0.29429,      0.2953,      0.2963,      0.2973,      0.2983,      0.2993,      0.3003,      0.3013,      0.3023,      0.3033,      0.3043,     0.30531,     0.30631,     0.30731,     0.30831,     0.30931,     0.31031,     0.31131,\n",
              "           0.31231,     0.31331,     0.31431,     0.31532,     0.31632,     0.31732,     0.31832,     0.31932,     0.32032,     0.32132,     0.32232,     0.32332,     0.32432,     0.32533,     0.32633,     0.32733,     0.32833,     0.32933,     0.33033,     0.33133,     0.33233,     0.33333,     0.33433,     0.33534,\n",
              "           0.33634,     0.33734,     0.33834,     0.33934,     0.34034,     0.34134,     0.34234,     0.34334,     0.34434,     0.34535,     0.34635,     0.34735,     0.34835,     0.34935,     0.35035,     0.35135,     0.35235,     0.35335,     0.35435,     0.35536,     0.35636,     0.35736,     0.35836,     0.35936,\n",
              "           0.36036,     0.36136,     0.36236,     0.36336,     0.36436,     0.36537,     0.36637,     0.36737,     0.36837,     0.36937,     0.37037,     0.37137,     0.37237,     0.37337,     0.37437,     0.37538,     0.37638,     0.37738,     0.37838,     0.37938,     0.38038,     0.38138,     0.38238,     0.38338,\n",
              "           0.38438,     0.38539,     0.38639,     0.38739,     0.38839,     0.38939,     0.39039,     0.39139,     0.39239,     0.39339,     0.39439,      0.3954,      0.3964,      0.3974,      0.3984,      0.3994,      0.4004,      0.4014,      0.4024,      0.4034,      0.4044,     0.40541,     0.40641,     0.40741,\n",
              "           0.40841,     0.40941,     0.41041,     0.41141,     0.41241,     0.41341,     0.41441,     0.41542,     0.41642,     0.41742,     0.41842,     0.41942,     0.42042,     0.42142,     0.42242,     0.42342,     0.42442,     0.42543,     0.42643,     0.42743,     0.42843,     0.42943,     0.43043,     0.43143,\n",
              "           0.43243,     0.43343,     0.43443,     0.43544,     0.43644,     0.43744,     0.43844,     0.43944,     0.44044,     0.44144,     0.44244,     0.44344,     0.44444,     0.44545,     0.44645,     0.44745,     0.44845,     0.44945,     0.45045,     0.45145,     0.45245,     0.45345,     0.45445,     0.45546,\n",
              "           0.45646,     0.45746,     0.45846,     0.45946,     0.46046,     0.46146,     0.46246,     0.46346,     0.46446,     0.46547,     0.46647,     0.46747,     0.46847,     0.46947,     0.47047,     0.47147,     0.47247,     0.47347,     0.47447,     0.47548,     0.47648,     0.47748,     0.47848,     0.47948,\n",
              "           0.48048,     0.48148,     0.48248,     0.48348,     0.48448,     0.48549,     0.48649,     0.48749,     0.48849,     0.48949,     0.49049,     0.49149,     0.49249,     0.49349,     0.49449,      0.4955,      0.4965,      0.4975,      0.4985,      0.4995,      0.5005,      0.5015,      0.5025,      0.5035,\n",
              "            0.5045,     0.50551,     0.50651,     0.50751,     0.50851,     0.50951,     0.51051,     0.51151,     0.51251,     0.51351,     0.51451,     0.51552,     0.51652,     0.51752,     0.51852,     0.51952,     0.52052,     0.52152,     0.52252,     0.52352,     0.52452,     0.52553,     0.52653,     0.52753,\n",
              "           0.52853,     0.52953,     0.53053,     0.53153,     0.53253,     0.53353,     0.53453,     0.53554,     0.53654,     0.53754,     0.53854,     0.53954,     0.54054,     0.54154,     0.54254,     0.54354,     0.54454,     0.54555,     0.54655,     0.54755,     0.54855,     0.54955,     0.55055,     0.55155,\n",
              "           0.55255,     0.55355,     0.55455,     0.55556,     0.55656,     0.55756,     0.55856,     0.55956,     0.56056,     0.56156,     0.56256,     0.56356,     0.56456,     0.56557,     0.56657,     0.56757,     0.56857,     0.56957,     0.57057,     0.57157,     0.57257,     0.57357,     0.57457,     0.57558,\n",
              "           0.57658,     0.57758,     0.57858,     0.57958,     0.58058,     0.58158,     0.58258,     0.58358,     0.58458,     0.58559,     0.58659,     0.58759,     0.58859,     0.58959,     0.59059,     0.59159,     0.59259,     0.59359,     0.59459,      0.5956,      0.5966,      0.5976,      0.5986,      0.5996,\n",
              "            0.6006,      0.6016,      0.6026,      0.6036,      0.6046,     0.60561,     0.60661,     0.60761,     0.60861,     0.60961,     0.61061,     0.61161,     0.61261,     0.61361,     0.61461,     0.61562,     0.61662,     0.61762,     0.61862,     0.61962,     0.62062,     0.62162,     0.62262,     0.62362,\n",
              "           0.62462,     0.62563,     0.62663,     0.62763,     0.62863,     0.62963,     0.63063,     0.63163,     0.63263,     0.63363,     0.63463,     0.63564,     0.63664,     0.63764,     0.63864,     0.63964,     0.64064,     0.64164,     0.64264,     0.64364,     0.64464,     0.64565,     0.64665,     0.64765,\n",
              "           0.64865,     0.64965,     0.65065,     0.65165,     0.65265,     0.65365,     0.65465,     0.65566,     0.65666,     0.65766,     0.65866,     0.65966,     0.66066,     0.66166,     0.66266,     0.66366,     0.66466,     0.66567,     0.66667,     0.66767,     0.66867,     0.66967,     0.67067,     0.67167,\n",
              "           0.67267,     0.67367,     0.67467,     0.67568,     0.67668,     0.67768,     0.67868,     0.67968,     0.68068,     0.68168,     0.68268,     0.68368,     0.68468,     0.68569,     0.68669,     0.68769,     0.68869,     0.68969,     0.69069,     0.69169,     0.69269,     0.69369,     0.69469,      0.6957,\n",
              "            0.6967,      0.6977,      0.6987,      0.6997,      0.7007,      0.7017,      0.7027,      0.7037,      0.7047,     0.70571,     0.70671,     0.70771,     0.70871,     0.70971,     0.71071,     0.71171,     0.71271,     0.71371,     0.71471,     0.71572,     0.71672,     0.71772,     0.71872,     0.71972,\n",
              "           0.72072,     0.72172,     0.72272,     0.72372,     0.72472,     0.72573,     0.72673,     0.72773,     0.72873,     0.72973,     0.73073,     0.73173,     0.73273,     0.73373,     0.73473,     0.73574,     0.73674,     0.73774,     0.73874,     0.73974,     0.74074,     0.74174,     0.74274,     0.74374,\n",
              "           0.74474,     0.74575,     0.74675,     0.74775,     0.74875,     0.74975,     0.75075,     0.75175,     0.75275,     0.75375,     0.75475,     0.75576,     0.75676,     0.75776,     0.75876,     0.75976,     0.76076,     0.76176,     0.76276,     0.76376,     0.76476,     0.76577,     0.76677,     0.76777,\n",
              "           0.76877,     0.76977,     0.77077,     0.77177,     0.77277,     0.77377,     0.77477,     0.77578,     0.77678,     0.77778,     0.77878,     0.77978,     0.78078,     0.78178,     0.78278,     0.78378,     0.78478,     0.78579,     0.78679,     0.78779,     0.78879,     0.78979,     0.79079,     0.79179,\n",
              "           0.79279,     0.79379,     0.79479,      0.7958,      0.7968,      0.7978,      0.7988,      0.7998,      0.8008,      0.8018,      0.8028,      0.8038,      0.8048,     0.80581,     0.80681,     0.80781,     0.80881,     0.80981,     0.81081,     0.81181,     0.81281,     0.81381,     0.81481,     0.81582,\n",
              "           0.81682,     0.81782,     0.81882,     0.81982,     0.82082,     0.82182,     0.82282,     0.82382,     0.82482,     0.82583,     0.82683,     0.82783,     0.82883,     0.82983,     0.83083,     0.83183,     0.83283,     0.83383,     0.83483,     0.83584,     0.83684,     0.83784,     0.83884,     0.83984,\n",
              "           0.84084,     0.84184,     0.84284,     0.84384,     0.84484,     0.84585,     0.84685,     0.84785,     0.84885,     0.84985,     0.85085,     0.85185,     0.85285,     0.85385,     0.85485,     0.85586,     0.85686,     0.85786,     0.85886,     0.85986,     0.86086,     0.86186,     0.86286,     0.86386,\n",
              "           0.86486,     0.86587,     0.86687,     0.86787,     0.86887,     0.86987,     0.87087,     0.87187,     0.87287,     0.87387,     0.87487,     0.87588,     0.87688,     0.87788,     0.87888,     0.87988,     0.88088,     0.88188,     0.88288,     0.88388,     0.88488,     0.88589,     0.88689,     0.88789,\n",
              "           0.88889,     0.88989,     0.89089,     0.89189,     0.89289,     0.89389,     0.89489,      0.8959,      0.8969,      0.8979,      0.8989,      0.8999,      0.9009,      0.9019,      0.9029,      0.9039,      0.9049,     0.90591,     0.90691,     0.90791,     0.90891,     0.90991,     0.91091,     0.91191,\n",
              "           0.91291,     0.91391,     0.91491,     0.91592,     0.91692,     0.91792,     0.91892,     0.91992,     0.92092,     0.92192,     0.92292,     0.92392,     0.92492,     0.92593,     0.92693,     0.92793,     0.92893,     0.92993,     0.93093,     0.93193,     0.93293,     0.93393,     0.93493,     0.93594,\n",
              "           0.93694,     0.93794,     0.93894,     0.93994,     0.94094,     0.94194,     0.94294,     0.94394,     0.94494,     0.94595,     0.94695,     0.94795,     0.94895,     0.94995,     0.95095,     0.95195,     0.95295,     0.95395,     0.95495,     0.95596,     0.95696,     0.95796,     0.95896,     0.95996,\n",
              "           0.96096,     0.96196,     0.96296,     0.96396,     0.96496,     0.96597,     0.96697,     0.96797,     0.96897,     0.96997,     0.97097,     0.97197,     0.97297,     0.97397,     0.97497,     0.97598,     0.97698,     0.97798,     0.97898,     0.97998,     0.98098,     0.98198,     0.98298,     0.98398,\n",
              "           0.98498,     0.98599,     0.98699,     0.98799,     0.98899,     0.98999,     0.99099,     0.99199,     0.99299,     0.99399,     0.99499,       0.996,       0.997,       0.998,       0.999,           1]), array([[          1,           1,           1,           1,           1,           1,           1,           1,           1,           1,           1,           1,           1,           1,           1,           1,           1,           1,           1,           1,           1,           1,           1,\n",
              "                  1,           1,           1,           1,           1,           1,           1,           1,           1,           1,           1,           1,           1,           1,           1,           1,           1,           1,           1,           1,           1,           1,           1,\n",
              "                  1,           1,           1,           1,           1,           1,           1,           1,           1,           1,           1,           1,           1,           1,           1,           1,           1,           1,           1,           1,           1,           1,           1,\n",
              "                  1,           1,           1,           1,           1,           1,           1,           1,           1,           1,           1,           1,           1,           1,           1,           1,           1,           1,           1,           1,           1,           1,           1,\n",
              "                  1,           1,           1,           1,           1,           1,           1,           1,           1,           1,           1,           1,           1,           1,           1,           1,           1,           1,           1,           1,           1,           1,           1,\n",
              "                  1,           1,           1,           1,           1,     0.96296,     0.96296,     0.96296,     0.96296,     0.96296,     0.96296,     0.96296,     0.96296,     0.96296,     0.96296,     0.96296,     0.96296,     0.96296,     0.96296,     0.96296,     0.96296,     0.96296,     0.96296,\n",
              "            0.96296,     0.96296,     0.96296,     0.96296,     0.96296,     0.96296,     0.96296,     0.96296,     0.96296,     0.96296,     0.96296,     0.96296,     0.96296,     0.96296,     0.96296,     0.96296,     0.96296,     0.96296,     0.96296,     0.96296,     0.96296,     0.96296,     0.96296,\n",
              "            0.96296,     0.96296,     0.96296,     0.96296,     0.96296,     0.96296,     0.96296,     0.96296,     0.96296,     0.96296,     0.96296,     0.96296,     0.96296,     0.96296,     0.96296,     0.96296,     0.96296,     0.96296,     0.96296,     0.96296,     0.96296,     0.96296,     0.96296,\n",
              "            0.96296,     0.96296,     0.96296,     0.96296,     0.96296,     0.96296,     0.96296,     0.96296,     0.96296,     0.96296,     0.93103,     0.93103,     0.93103,     0.93103,     0.93103,     0.93103,     0.93103,     0.93103,     0.91429,     0.91429,     0.91429,     0.91429,     0.91429,\n",
              "            0.91429,     0.91429,     0.91429,     0.91429,     0.91429,     0.91429,     0.91429,     0.91429,     0.91429,     0.91429,     0.91429,     0.91429,     0.91429,     0.91429,     0.91429,     0.91429,     0.91429,     0.91429,     0.91429,     0.91429,     0.91429,     0.91429,     0.91429,\n",
              "            0.91429,     0.91429,     0.91429,     0.91429,     0.91429,     0.91429,     0.91429,     0.91429,     0.91429,     0.89744,     0.89744,     0.89744,     0.89744,     0.89744,     0.89744,     0.89744,     0.89744,     0.89744,     0.89744,     0.89744,     0.89744,     0.89744,     0.89744,\n",
              "            0.89744,     0.89744,     0.89744,     0.89744,     0.89744,     0.89744,     0.89744,     0.89744,     0.88372,     0.88372,     0.88372,     0.88372,     0.88372,     0.88372,     0.88372,     0.88372,     0.88372,     0.88372,     0.88372,     0.88372,     0.88372,     0.88372,     0.88372,\n",
              "            0.88372,     0.88372,     0.88372,     0.88372,     0.88372,     0.88372,     0.88372,     0.88372,     0.86957,     0.86957,     0.86957,     0.86957,     0.86957,     0.86957,     0.86957,     0.86957,     0.86957,     0.86957,     0.86957,     0.86957,     0.86957,     0.86957,     0.86957,\n",
              "            0.84314,     0.84314,     0.84314,     0.84314,     0.84314,     0.84314,     0.84314,     0.84314,     0.84314,     0.84314,     0.84314,     0.84314,     0.84314,     0.84314,     0.84314,     0.84314,     0.84314,     0.84314,     0.84314,     0.84314,     0.84314,     0.84314,     0.83019,\n",
              "            0.83019,     0.83019,     0.83019,     0.83019,     0.83019,     0.83019,     0.83019,     0.81356,     0.81356,     0.81356,     0.81356,     0.81356,     0.81356,     0.81356,     0.81356,     0.81356,     0.81356,     0.81356,     0.81356,     0.81356,     0.81356,     0.81356,     0.81356,\n",
              "            0.81356,     0.81356,     0.81356,     0.81356,     0.81356,     0.81356,     0.81356,     0.81356,     0.81356,     0.81356,     0.81356,     0.81356,     0.81356,     0.79412,     0.79412,     0.79412,     0.79412,     0.79412,     0.79412,     0.79412,     0.79412,     0.79412,     0.79412,\n",
              "            0.79412,     0.79412,     0.79412,     0.79412,     0.79412,     0.79412,     0.79412,     0.79412,     0.79412,     0.79412,     0.79412,     0.79412,     0.79412,     0.79412,     0.79412,     0.79412,     0.79412,     0.79412,     0.79412,     0.79412,     0.79412,     0.79412,     0.79412,\n",
              "            0.79412,     0.79412,     0.79412,     0.79412,     0.79412,     0.79412,     0.79412,     0.79412,     0.79412,     0.79412,     0.79412,     0.79412,     0.77465,     0.77465,     0.77465,     0.77465,     0.77465,     0.77465,     0.77465,     0.77465,     0.75676,     0.75676,     0.75676,\n",
              "            0.75676,     0.75676,     0.75676,     0.75676,        0.75,        0.75,        0.75,        0.75,        0.75,        0.75,        0.75,     0.74359,     0.74359,     0.74359,     0.74359,     0.74359,     0.74359,     0.74359,     0.74359,      0.7375,      0.7375,      0.7375,      0.7375,\n",
              "             0.7375,      0.7375,      0.7375,     0.72619,     0.72619,     0.72619,     0.72619,     0.72619,     0.72619,     0.72619,     0.72619,     0.72619,     0.72619,     0.72619,     0.72619,     0.72619,     0.72619,     0.72619,     0.72093,     0.72093,     0.72093,     0.72093,     0.72093,\n",
              "            0.72093,     0.72093,     0.72093,     0.70787,     0.70787,     0.70787,     0.70787,     0.70787,     0.70787,     0.70787,      0.7033,      0.7033,      0.7033,      0.7033,      0.7033,      0.7033,      0.7033,      0.7033,     0.69892,     0.69892,     0.69892,     0.69892,     0.69892,\n",
              "            0.69892,     0.69892,     0.69072,     0.69072,     0.69072,     0.69072,     0.69072,     0.69072,     0.69072,     0.69072,     0.69072,     0.69072,     0.69072,     0.69072,     0.69072,     0.69072,     0.69072,        0.69,        0.69,        0.69,        0.69,        0.69,        0.69,\n",
              "               0.69,        0.69,        0.69,        0.69,        0.69,        0.69,        0.69,        0.69,        0.69,     0.66038,     0.66038,     0.66038,     0.66038,     0.66038,     0.66038,     0.66038,     0.65741,     0.65741,     0.65741,     0.65741,     0.65741,     0.65741,     0.65741,\n",
              "            0.65741,     0.65455,     0.65455,     0.65455,     0.65455,     0.65455,     0.65455,     0.65455,     0.63478,     0.63478,     0.63478,     0.63478,     0.63478,     0.63478,     0.63478,     0.63478,      0.6129,      0.6129,      0.6129,      0.6129,      0.6129,      0.6129,      0.6129,\n",
              "             0.6129,      0.6129,      0.6129,      0.6129,      0.6129,      0.6129,      0.6129,      0.6129,      0.6129,      0.6129,      0.6129,      0.6129,      0.6129,      0.6129,      0.6129,     0.57778,     0.57778,     0.57778,     0.57778,     0.57778,     0.57778,     0.57778,     0.57778,\n",
              "            0.57778,     0.57778,     0.57778,     0.57778,     0.57778,     0.57778,     0.57778,     0.56429,     0.56429,     0.56429,     0.56429,     0.56429,     0.56429,     0.56429,     0.56338,     0.56338,     0.56338,     0.56338,     0.56338,     0.56338,     0.56338,     0.56338,     0.51923,\n",
              "            0.51923,     0.51923,     0.51923,     0.51923,     0.51923,     0.51923,     0.51899,     0.51899,     0.51899,     0.51899,     0.51899,     0.51899,     0.51899,     0.51899,     0.49405,     0.49405,     0.49405,     0.49405,     0.49405,     0.49405,     0.49405,     0.47191,     0.47191,\n",
              "            0.47191,     0.47191,     0.47191,     0.47191,     0.47191,     0.47191,     0.45699,     0.45699,     0.45699,     0.45699,     0.45699,     0.45699,     0.45699,     0.37719,     0.37719,     0.37719,     0.37719,     0.37719,     0.37719,     0.37719,     0.37719,       0.361,       0.361,\n",
              "              0.361,       0.361,       0.361,       0.361,       0.361,     0.34375,     0.34375,     0.34375,     0.34375,     0.34375,     0.34375,     0.34375,     0.34375,     0.31449,     0.31449,     0.31449,     0.31449,     0.31449,     0.31449,     0.31449,     0.31142,     0.31142,     0.31142,\n",
              "            0.31142,     0.31142,     0.31142,     0.31142,     0.26453,     0.26453,     0.26453,     0.26453,     0.26453,     0.26453,     0.26453,     0.26453,     0.19167,     0.19167,     0.19167,     0.19167,     0.19167,     0.19167,     0.19167,      0.1646,      0.1646,      0.1646,      0.1646,\n",
              "             0.1646,      0.1646,      0.1646,      0.1646,     0.15852,     0.15852,     0.15852,     0.15852,     0.15852,     0.15852,     0.15852,     0.15656,     0.15603,     0.15551,     0.15498,     0.15446,     0.15393,      0.1534,     0.15288,     0.15235,     0.15183,      0.1513,     0.15078,\n",
              "            0.15025,     0.14973,      0.1492,     0.14868,     0.14815,     0.14763,      0.1471,     0.14658,     0.14605,     0.14552,       0.145,     0.14447,     0.14395,     0.14342,      0.1429,     0.14237,     0.14185,     0.14132,      0.1408,     0.14027,     0.13975,     0.13922,     0.13869,\n",
              "            0.13817,     0.13764,     0.13712,     0.13659,     0.13607,     0.13554,     0.13502,     0.13449,     0.13397,     0.13344,     0.13292,     0.13239,     0.13187,     0.13134,     0.13081,     0.13029,     0.12976,     0.12924,     0.12871,     0.12819,     0.12766,     0.12714,     0.12661,\n",
              "            0.12609,     0.12556,     0.12504,     0.12451,     0.12398,     0.12346,     0.12293,     0.12241,     0.12188,     0.12136,     0.12083,     0.12031,     0.11978,     0.11926,     0.11873,     0.11821,     0.11768,     0.11715,     0.11663,      0.1161,     0.11558,     0.11505,     0.11453,\n",
              "              0.114,     0.11348,     0.11295,     0.11243,      0.1119,     0.11138,     0.11085,     0.11033,      0.1098,     0.10927,     0.10875,     0.10822,      0.1077,     0.10717,     0.10665,     0.10612,      0.1056,     0.10507,     0.10455,     0.10402,      0.1035,     0.10297,     0.10244,\n",
              "            0.10192,     0.10139,     0.10087,     0.10034,    0.099818,    0.099293,    0.098767,    0.098242,    0.097717,    0.097191,    0.096666,    0.096141,    0.095615,     0.09509,    0.094565,    0.094039,    0.093514,    0.092988,    0.092463,    0.091938,    0.091412,    0.090887,    0.090362,\n",
              "           0.089836,    0.089311,    0.088786,     0.08826,    0.087735,     0.08721,    0.086684,    0.086159,    0.085633,    0.085108,    0.084583,    0.084057,    0.083532,    0.083007,    0.082481,    0.081956,    0.081431,    0.080905,     0.08038,    0.079855,    0.079329,    0.078804,    0.078278,\n",
              "           0.077753,    0.077228,    0.076702,    0.076177,    0.075652,    0.075126,    0.074601,    0.074076,     0.07355,    0.073025,    0.072499,    0.071974,    0.071449,    0.070923,    0.070398,    0.069873,    0.069347,    0.068822,    0.068297,    0.067771,    0.067246,    0.066721,    0.066195,\n",
              "            0.06567,    0.065144,    0.064619,    0.064094,    0.063568,    0.063043,    0.062518,    0.061992,    0.061467,    0.060942,    0.060416,    0.059891,    0.059366,     0.05884,    0.058315,    0.057789,    0.057264,    0.056739,    0.056213,    0.055688,    0.055163,    0.054637,    0.054112,\n",
              "           0.053587,    0.053061,    0.052536,    0.052011,    0.051485,     0.05096,    0.050434,    0.049909,    0.049384,    0.048858,    0.048333,    0.047808,    0.047282,    0.046757,    0.046232,    0.045706,    0.045181,    0.044655,     0.04413,    0.043605,    0.043079,    0.042554,    0.042029,\n",
              "           0.041503,    0.040978,    0.040453,    0.039927,    0.039402,    0.038877,    0.038351,    0.037826,      0.0373,    0.036775,     0.03625,    0.035724,    0.035199,    0.034674,    0.034148,    0.033623,    0.033098,    0.032572,    0.032047,    0.031522,    0.030996,    0.030471,    0.029945,\n",
              "            0.02942,    0.028895,    0.028369,    0.027844,    0.027319,    0.026793,    0.026268,    0.025743,    0.025217,    0.024692,    0.024166,    0.023641,    0.023116,     0.02259,    0.022065,     0.02154,    0.021014,    0.020489,    0.019964,    0.019438,    0.018913,    0.018388,    0.017862,\n",
              "           0.017337,    0.016811,    0.016286,    0.015761,    0.015235,     0.01471,    0.014185,    0.013659,    0.013134,    0.012609,    0.012083,    0.011558,    0.011033,    0.010507,   0.0099818,   0.0094565,   0.0089311,   0.0084057,   0.0078804,    0.007355,   0.0068297,   0.0063043,   0.0057789,\n",
              "          0.0052536,   0.0047282,   0.0042029,   0.0036775,   0.0031522,   0.0026268,   0.0021014,   0.0015761,   0.0010507,  0.00052536,           0]]), 'Recall', 'Precision'], [array([          0,    0.001001,    0.002002,    0.003003,    0.004004,    0.005005,    0.006006,    0.007007,    0.008008,    0.009009,     0.01001,    0.011011,    0.012012,    0.013013,    0.014014,    0.015015,    0.016016,    0.017017,    0.018018,    0.019019,     0.02002,    0.021021,    0.022022,    0.023023,\n",
              "          0.024024,    0.025025,    0.026026,    0.027027,    0.028028,    0.029029,     0.03003,    0.031031,    0.032032,    0.033033,    0.034034,    0.035035,    0.036036,    0.037037,    0.038038,    0.039039,     0.04004,    0.041041,    0.042042,    0.043043,    0.044044,    0.045045,    0.046046,    0.047047,\n",
              "          0.048048,    0.049049,     0.05005,    0.051051,    0.052052,    0.053053,    0.054054,    0.055055,    0.056056,    0.057057,    0.058058,    0.059059,     0.06006,    0.061061,    0.062062,    0.063063,    0.064064,    0.065065,    0.066066,    0.067067,    0.068068,    0.069069,     0.07007,    0.071071,\n",
              "          0.072072,    0.073073,    0.074074,    0.075075,    0.076076,    0.077077,    0.078078,    0.079079,     0.08008,    0.081081,    0.082082,    0.083083,    0.084084,    0.085085,    0.086086,    0.087087,    0.088088,    0.089089,     0.09009,    0.091091,    0.092092,    0.093093,    0.094094,    0.095095,\n",
              "          0.096096,    0.097097,    0.098098,    0.099099,      0.1001,      0.1011,      0.1021,      0.1031,      0.1041,     0.10511,     0.10611,     0.10711,     0.10811,     0.10911,     0.11011,     0.11111,     0.11211,     0.11311,     0.11411,     0.11512,     0.11612,     0.11712,     0.11812,     0.11912,\n",
              "           0.12012,     0.12112,     0.12212,     0.12312,     0.12412,     0.12513,     0.12613,     0.12713,     0.12813,     0.12913,     0.13013,     0.13113,     0.13213,     0.13313,     0.13413,     0.13514,     0.13614,     0.13714,     0.13814,     0.13914,     0.14014,     0.14114,     0.14214,     0.14314,\n",
              "           0.14414,     0.14515,     0.14615,     0.14715,     0.14815,     0.14915,     0.15015,     0.15115,     0.15215,     0.15315,     0.15415,     0.15516,     0.15616,     0.15716,     0.15816,     0.15916,     0.16016,     0.16116,     0.16216,     0.16316,     0.16416,     0.16517,     0.16617,     0.16717,\n",
              "           0.16817,     0.16917,     0.17017,     0.17117,     0.17217,     0.17317,     0.17417,     0.17518,     0.17618,     0.17718,     0.17818,     0.17918,     0.18018,     0.18118,     0.18218,     0.18318,     0.18418,     0.18519,     0.18619,     0.18719,     0.18819,     0.18919,     0.19019,     0.19119,\n",
              "           0.19219,     0.19319,     0.19419,      0.1952,      0.1962,      0.1972,      0.1982,      0.1992,      0.2002,      0.2012,      0.2022,      0.2032,      0.2042,     0.20521,     0.20621,     0.20721,     0.20821,     0.20921,     0.21021,     0.21121,     0.21221,     0.21321,     0.21421,     0.21522,\n",
              "           0.21622,     0.21722,     0.21822,     0.21922,     0.22022,     0.22122,     0.22222,     0.22322,     0.22422,     0.22523,     0.22623,     0.22723,     0.22823,     0.22923,     0.23023,     0.23123,     0.23223,     0.23323,     0.23423,     0.23524,     0.23624,     0.23724,     0.23824,     0.23924,\n",
              "           0.24024,     0.24124,     0.24224,     0.24324,     0.24424,     0.24525,     0.24625,     0.24725,     0.24825,     0.24925,     0.25025,     0.25125,     0.25225,     0.25325,     0.25425,     0.25526,     0.25626,     0.25726,     0.25826,     0.25926,     0.26026,     0.26126,     0.26226,     0.26326,\n",
              "           0.26426,     0.26527,     0.26627,     0.26727,     0.26827,     0.26927,     0.27027,     0.27127,     0.27227,     0.27327,     0.27427,     0.27528,     0.27628,     0.27728,     0.27828,     0.27928,     0.28028,     0.28128,     0.28228,     0.28328,     0.28428,     0.28529,     0.28629,     0.28729,\n",
              "           0.28829,     0.28929,     0.29029,     0.29129,     0.29229,     0.29329,     0.29429,      0.2953,      0.2963,      0.2973,      0.2983,      0.2993,      0.3003,      0.3013,      0.3023,      0.3033,      0.3043,     0.30531,     0.30631,     0.30731,     0.30831,     0.30931,     0.31031,     0.31131,\n",
              "           0.31231,     0.31331,     0.31431,     0.31532,     0.31632,     0.31732,     0.31832,     0.31932,     0.32032,     0.32132,     0.32232,     0.32332,     0.32432,     0.32533,     0.32633,     0.32733,     0.32833,     0.32933,     0.33033,     0.33133,     0.33233,     0.33333,     0.33433,     0.33534,\n",
              "           0.33634,     0.33734,     0.33834,     0.33934,     0.34034,     0.34134,     0.34234,     0.34334,     0.34434,     0.34535,     0.34635,     0.34735,     0.34835,     0.34935,     0.35035,     0.35135,     0.35235,     0.35335,     0.35435,     0.35536,     0.35636,     0.35736,     0.35836,     0.35936,\n",
              "           0.36036,     0.36136,     0.36236,     0.36336,     0.36436,     0.36537,     0.36637,     0.36737,     0.36837,     0.36937,     0.37037,     0.37137,     0.37237,     0.37337,     0.37437,     0.37538,     0.37638,     0.37738,     0.37838,     0.37938,     0.38038,     0.38138,     0.38238,     0.38338,\n",
              "           0.38438,     0.38539,     0.38639,     0.38739,     0.38839,     0.38939,     0.39039,     0.39139,     0.39239,     0.39339,     0.39439,      0.3954,      0.3964,      0.3974,      0.3984,      0.3994,      0.4004,      0.4014,      0.4024,      0.4034,      0.4044,     0.40541,     0.40641,     0.40741,\n",
              "           0.40841,     0.40941,     0.41041,     0.41141,     0.41241,     0.41341,     0.41441,     0.41542,     0.41642,     0.41742,     0.41842,     0.41942,     0.42042,     0.42142,     0.42242,     0.42342,     0.42442,     0.42543,     0.42643,     0.42743,     0.42843,     0.42943,     0.43043,     0.43143,\n",
              "           0.43243,     0.43343,     0.43443,     0.43544,     0.43644,     0.43744,     0.43844,     0.43944,     0.44044,     0.44144,     0.44244,     0.44344,     0.44444,     0.44545,     0.44645,     0.44745,     0.44845,     0.44945,     0.45045,     0.45145,     0.45245,     0.45345,     0.45445,     0.45546,\n",
              "           0.45646,     0.45746,     0.45846,     0.45946,     0.46046,     0.46146,     0.46246,     0.46346,     0.46446,     0.46547,     0.46647,     0.46747,     0.46847,     0.46947,     0.47047,     0.47147,     0.47247,     0.47347,     0.47447,     0.47548,     0.47648,     0.47748,     0.47848,     0.47948,\n",
              "           0.48048,     0.48148,     0.48248,     0.48348,     0.48448,     0.48549,     0.48649,     0.48749,     0.48849,     0.48949,     0.49049,     0.49149,     0.49249,     0.49349,     0.49449,      0.4955,      0.4965,      0.4975,      0.4985,      0.4995,      0.5005,      0.5015,      0.5025,      0.5035,\n",
              "            0.5045,     0.50551,     0.50651,     0.50751,     0.50851,     0.50951,     0.51051,     0.51151,     0.51251,     0.51351,     0.51451,     0.51552,     0.51652,     0.51752,     0.51852,     0.51952,     0.52052,     0.52152,     0.52252,     0.52352,     0.52452,     0.52553,     0.52653,     0.52753,\n",
              "           0.52853,     0.52953,     0.53053,     0.53153,     0.53253,     0.53353,     0.53453,     0.53554,     0.53654,     0.53754,     0.53854,     0.53954,     0.54054,     0.54154,     0.54254,     0.54354,     0.54454,     0.54555,     0.54655,     0.54755,     0.54855,     0.54955,     0.55055,     0.55155,\n",
              "           0.55255,     0.55355,     0.55455,     0.55556,     0.55656,     0.55756,     0.55856,     0.55956,     0.56056,     0.56156,     0.56256,     0.56356,     0.56456,     0.56557,     0.56657,     0.56757,     0.56857,     0.56957,     0.57057,     0.57157,     0.57257,     0.57357,     0.57457,     0.57558,\n",
              "           0.57658,     0.57758,     0.57858,     0.57958,     0.58058,     0.58158,     0.58258,     0.58358,     0.58458,     0.58559,     0.58659,     0.58759,     0.58859,     0.58959,     0.59059,     0.59159,     0.59259,     0.59359,     0.59459,      0.5956,      0.5966,      0.5976,      0.5986,      0.5996,\n",
              "            0.6006,      0.6016,      0.6026,      0.6036,      0.6046,     0.60561,     0.60661,     0.60761,     0.60861,     0.60961,     0.61061,     0.61161,     0.61261,     0.61361,     0.61461,     0.61562,     0.61662,     0.61762,     0.61862,     0.61962,     0.62062,     0.62162,     0.62262,     0.62362,\n",
              "           0.62462,     0.62563,     0.62663,     0.62763,     0.62863,     0.62963,     0.63063,     0.63163,     0.63263,     0.63363,     0.63463,     0.63564,     0.63664,     0.63764,     0.63864,     0.63964,     0.64064,     0.64164,     0.64264,     0.64364,     0.64464,     0.64565,     0.64665,     0.64765,\n",
              "           0.64865,     0.64965,     0.65065,     0.65165,     0.65265,     0.65365,     0.65465,     0.65566,     0.65666,     0.65766,     0.65866,     0.65966,     0.66066,     0.66166,     0.66266,     0.66366,     0.66466,     0.66567,     0.66667,     0.66767,     0.66867,     0.66967,     0.67067,     0.67167,\n",
              "           0.67267,     0.67367,     0.67467,     0.67568,     0.67668,     0.67768,     0.67868,     0.67968,     0.68068,     0.68168,     0.68268,     0.68368,     0.68468,     0.68569,     0.68669,     0.68769,     0.68869,     0.68969,     0.69069,     0.69169,     0.69269,     0.69369,     0.69469,      0.6957,\n",
              "            0.6967,      0.6977,      0.6987,      0.6997,      0.7007,      0.7017,      0.7027,      0.7037,      0.7047,     0.70571,     0.70671,     0.70771,     0.70871,     0.70971,     0.71071,     0.71171,     0.71271,     0.71371,     0.71471,     0.71572,     0.71672,     0.71772,     0.71872,     0.71972,\n",
              "           0.72072,     0.72172,     0.72272,     0.72372,     0.72472,     0.72573,     0.72673,     0.72773,     0.72873,     0.72973,     0.73073,     0.73173,     0.73273,     0.73373,     0.73473,     0.73574,     0.73674,     0.73774,     0.73874,     0.73974,     0.74074,     0.74174,     0.74274,     0.74374,\n",
              "           0.74474,     0.74575,     0.74675,     0.74775,     0.74875,     0.74975,     0.75075,     0.75175,     0.75275,     0.75375,     0.75475,     0.75576,     0.75676,     0.75776,     0.75876,     0.75976,     0.76076,     0.76176,     0.76276,     0.76376,     0.76476,     0.76577,     0.76677,     0.76777,\n",
              "           0.76877,     0.76977,     0.77077,     0.77177,     0.77277,     0.77377,     0.77477,     0.77578,     0.77678,     0.77778,     0.77878,     0.77978,     0.78078,     0.78178,     0.78278,     0.78378,     0.78478,     0.78579,     0.78679,     0.78779,     0.78879,     0.78979,     0.79079,     0.79179,\n",
              "           0.79279,     0.79379,     0.79479,      0.7958,      0.7968,      0.7978,      0.7988,      0.7998,      0.8008,      0.8018,      0.8028,      0.8038,      0.8048,     0.80581,     0.80681,     0.80781,     0.80881,     0.80981,     0.81081,     0.81181,     0.81281,     0.81381,     0.81481,     0.81582,\n",
              "           0.81682,     0.81782,     0.81882,     0.81982,     0.82082,     0.82182,     0.82282,     0.82382,     0.82482,     0.82583,     0.82683,     0.82783,     0.82883,     0.82983,     0.83083,     0.83183,     0.83283,     0.83383,     0.83483,     0.83584,     0.83684,     0.83784,     0.83884,     0.83984,\n",
              "           0.84084,     0.84184,     0.84284,     0.84384,     0.84484,     0.84585,     0.84685,     0.84785,     0.84885,     0.84985,     0.85085,     0.85185,     0.85285,     0.85385,     0.85485,     0.85586,     0.85686,     0.85786,     0.85886,     0.85986,     0.86086,     0.86186,     0.86286,     0.86386,\n",
              "           0.86486,     0.86587,     0.86687,     0.86787,     0.86887,     0.86987,     0.87087,     0.87187,     0.87287,     0.87387,     0.87487,     0.87588,     0.87688,     0.87788,     0.87888,     0.87988,     0.88088,     0.88188,     0.88288,     0.88388,     0.88488,     0.88589,     0.88689,     0.88789,\n",
              "           0.88889,     0.88989,     0.89089,     0.89189,     0.89289,     0.89389,     0.89489,      0.8959,      0.8969,      0.8979,      0.8989,      0.8999,      0.9009,      0.9019,      0.9029,      0.9039,      0.9049,     0.90591,     0.90691,     0.90791,     0.90891,     0.90991,     0.91091,     0.91191,\n",
              "           0.91291,     0.91391,     0.91491,     0.91592,     0.91692,     0.91792,     0.91892,     0.91992,     0.92092,     0.92192,     0.92292,     0.92392,     0.92492,     0.92593,     0.92693,     0.92793,     0.92893,     0.92993,     0.93093,     0.93193,     0.93293,     0.93393,     0.93493,     0.93594,\n",
              "           0.93694,     0.93794,     0.93894,     0.93994,     0.94094,     0.94194,     0.94294,     0.94394,     0.94494,     0.94595,     0.94695,     0.94795,     0.94895,     0.94995,     0.95095,     0.95195,     0.95295,     0.95395,     0.95495,     0.95596,     0.95696,     0.95796,     0.95896,     0.95996,\n",
              "           0.96096,     0.96196,     0.96296,     0.96396,     0.96496,     0.96597,     0.96697,     0.96797,     0.96897,     0.96997,     0.97097,     0.97197,     0.97297,     0.97397,     0.97497,     0.97598,     0.97698,     0.97798,     0.97898,     0.97998,     0.98098,     0.98198,     0.98298,     0.98398,\n",
              "           0.98498,     0.98599,     0.98699,     0.98799,     0.98899,     0.98999,     0.99099,     0.99199,     0.99299,     0.99399,     0.99499,       0.996,       0.997,       0.998,       0.999,           1]), array([[    0.25613,     0.25613,     0.25613,     0.25613,     0.25613,     0.25613,     0.25613,     0.25684,     0.26133,     0.26439,       0.266,      0.2827,     0.29843,     0.33993,     0.37786,     0.40492,     0.42964,     0.45351,     0.47375,     0.48459,     0.50547,     0.52055,     0.52784,\n",
              "            0.53597,     0.54259,      0.5483,     0.55367,     0.55695,     0.55684,     0.56343,     0.56762,     0.56863,      0.5703,     0.57544,     0.57891,     0.57492,     0.57482,     0.57909,     0.57639,     0.57239,      0.5768,     0.58334,     0.58586,     0.58833,     0.58592,     0.57782,\n",
              "            0.57466,     0.57888,     0.58139,     0.58493,     0.58471,     0.58144,      0.5867,     0.58917,     0.58449,     0.58655,     0.58404,     0.58097,     0.57777,     0.57853,     0.57972,     0.58271,     0.58418,     0.58544,     0.58657,     0.58887,     0.58476,     0.57945,     0.57848,\n",
              "            0.57641,     0.57435,     0.56997,     0.57253,     0.56687,     0.56727,     0.56528,     0.56329,     0.56413,     0.55949,     0.56246,     0.56256,     0.55956,     0.55727,     0.55834,     0.55941,     0.55809,     0.55613,     0.55417,     0.55208,     0.54979,      0.5475,     0.54768,\n",
              "            0.54936,     0.55021,     0.55106,     0.54699,     0.54569,     0.54221,     0.54063,      0.5414,     0.54217,     0.53961,      0.5368,     0.53784,     0.53566,     0.53411,     0.53447,     0.53483,     0.53519,     0.53555,     0.53591,     0.53627,     0.53627,     0.53324,      0.5302,\n",
              "            0.53217,     0.53286,     0.53355,     0.53424,     0.52718,      0.5255,     0.52382,     0.52214,     0.52046,      0.5169,     0.51264,     0.50565,     0.50629,     0.50692,     0.50755,     0.50613,     0.50448,     0.50283,     0.50118,     0.49915,     0.49621,     0.49327,     0.49385,\n",
              "            0.49506,     0.49544,     0.49582,      0.4962,     0.49657,     0.49695,     0.49732,     0.48492,     0.47968,     0.47688,     0.47407,     0.46856,     0.46585,     0.46632,      0.4668,     0.46727,     0.46773,     0.46877,     0.47039,      0.4698,     0.46921,     0.46862,     0.46803,\n",
              "            0.46744,     0.46685,     0.46625,     0.46566,     0.46507,     0.46448,     0.46389,     0.46329,      0.4627,     0.46272,     0.46353,     0.46433,     0.46022,     0.45568,     0.45456,     0.45343,     0.45231,     0.45118,     0.45005,     0.44892,     0.44775,     0.44648,     0.44521,\n",
              "            0.44393,     0.44266,     0.44138,     0.44011,      0.4399,     0.44049,     0.44107,     0.44165,     0.44211,     0.44241,     0.44271,       0.443,     0.44329,     0.44359,     0.44388,     0.44417,     0.44442,     0.44368,     0.44294,      0.4422,     0.44147,     0.44073,     0.43999,\n",
              "            0.43925,     0.43851,     0.43777,     0.43702,     0.43628,     0.43553,     0.43477,     0.43401,     0.43325,     0.43249,     0.43172,     0.43096,     0.43019,     0.42943,     0.42866,     0.42789,     0.42713,       0.428,     0.42614,     0.42428,     0.42241,     0.42054,     0.41929,\n",
              "            0.41807,     0.41684,     0.41561,     0.41439,     0.41316,     0.41192,     0.41023,     0.40823,     0.40622,     0.40421,     0.40231,     0.40254,     0.40277,     0.40299,     0.40322,     0.40344,     0.40366,     0.40388,     0.40411,     0.40433,     0.40455,     0.39817,     0.39443,\n",
              "            0.39316,     0.39189,     0.39061,     0.38933,     0.38805,     0.38677,     0.38555,     0.38442,     0.38329,     0.38217,     0.38104,     0.37991,     0.37877,     0.37764,      0.3765,      0.3769,     0.37733,     0.37777,      0.3782,     0.37862,     0.37614,     0.37301,     0.36987,\n",
              "            0.36832,     0.36733,     0.36633,     0.36534,     0.36435,     0.36335,     0.36236,     0.36136,     0.36036,     0.35936,     0.35775,     0.35608,     0.35441,     0.35274,     0.35106,     0.34939,     0.34902,     0.34865,     0.34827,      0.3479,     0.34753,     0.34715,     0.34678,\n",
              "             0.3464,     0.34603,     0.34566,     0.34528,     0.34491,     0.34453,     0.34416,     0.34378,     0.34341,     0.34303,     0.34265,     0.34228,      0.3419,     0.34153,     0.34115,     0.34077,      0.3404,     0.34002,     0.33964,     0.33774,     0.33282,     0.32933,     0.32955,\n",
              "            0.32976,     0.32998,     0.33019,      0.3304,     0.33061,     0.33082,     0.33103,     0.33124,     0.32242,     0.32129,     0.32016,     0.31903,      0.3179,     0.31677,     0.31564,      0.3145,     0.31337,     0.31232,     0.31156,      0.3108,     0.31004,     0.30928,     0.30852,\n",
              "            0.30776,       0.307,     0.30624,     0.30547,     0.30471,     0.30395,     0.30318,     0.30242,     0.30168,     0.30103,     0.30038,     0.29973,     0.29908,     0.29843,     0.29778,     0.29712,     0.29647,     0.29581,     0.29516,      0.2945,     0.29385,     0.29319,     0.29254,\n",
              "            0.29188,     0.29122,     0.28977,      0.2882,     0.28664,     0.28506,     0.28349,     0.28191,     0.28033,     0.27811,     0.27584,     0.27357,      0.2713,     0.26919,     0.26879,     0.26839,     0.26799,     0.26759,     0.26719,     0.26679,     0.26638,     0.26598,     0.26558,\n",
              "            0.26518,     0.26478,     0.26437,     0.26397,     0.26357,     0.26316,     0.26276,     0.26236,     0.26195,     0.26155,     0.26115,     0.26074,     0.26034,     0.25993,     0.25953,     0.25912,     0.25872,     0.25831,      0.2577,     0.25675,      0.2558,     0.25484,     0.25389,\n",
              "            0.25294,     0.25198,     0.25103,     0.25007,     0.24912,     0.24816,      0.2472,     0.24475,     0.24099,     0.23723,     0.23481,      0.2338,      0.2328,      0.2318,      0.2308,     0.22979,     0.22878,     0.22778,     0.22677,     0.22576,     0.22475,     0.22374,     0.22287,\n",
              "              0.222,     0.22114,     0.22027,      0.2194,     0.21854,     0.21767,      0.2168,     0.21593,     0.21506,     0.21419,     0.21332,     0.21244,     0.21238,     0.21308,     0.21112,     0.20916,      0.2072,     0.20523,     0.20325,     0.20119,      0.1968,     0.19239,     0.18901,\n",
              "            0.18835,      0.1877,     0.18704,     0.18639,     0.18573,     0.18508,     0.18442,     0.18376,     0.18311,     0.18245,     0.18179,     0.18113,     0.18047,     0.17981,     0.17915,     0.17849,     0.17783,     0.17717,     0.17617,     0.17489,     0.17361,     0.17233,     0.17105,\n",
              "            0.16976,     0.16848,     0.16719,      0.1659,     0.16461,     0.16346,     0.16234,     0.16122,     0.16009,     0.15897,     0.15784,     0.15671,     0.15558,     0.15445,     0.15332,     0.15218,     0.15149,     0.15111,     0.15072,     0.15033,     0.14995,     0.14956,     0.14917,\n",
              "            0.14879,      0.1484,     0.14801,     0.14763,     0.14724,     0.14685,     0.14646,     0.14607,     0.14568,      0.1453,     0.14491,     0.14452,     0.14413,     0.14374,     0.14335,     0.14296,     0.14257,     0.14218,     0.14179,      0.1414,     0.14101,     0.14062,     0.14023,\n",
              "            0.13984,     0.13945,     0.13906,     0.13843,     0.13762,     0.13682,     0.13601,      0.1352,     0.13439,     0.13358,     0.13277,     0.13196,     0.13115,     0.13033,     0.12952,     0.12871,     0.12789,     0.12707,     0.12626,     0.11998,     0.11247,     0.11188,     0.11129,\n",
              "             0.1107,     0.11011,     0.10952,     0.10893,     0.10834,     0.10775,     0.10716,     0.10657,     0.10597,     0.10538,     0.10479,     0.10419,      0.1036,       0.103,     0.10241,     0.10181,     0.10122,     0.10062,     0.10003,    0.099429,    0.098931,    0.098463,    0.097994,\n",
              "           0.097525,    0.097056,    0.096586,    0.096117,    0.095647,    0.095177,    0.094706,    0.094236,    0.093765,    0.093294,    0.092822,    0.092351,    0.091879,    0.091407,    0.090935,    0.090463,     0.08999,    0.089517,    0.089044,     0.08857,    0.088097,    0.087623,    0.087149,\n",
              "           0.086674,      0.0862,    0.085725,     0.08515,    0.084573,    0.083996,    0.083418,    0.082839,    0.082261,    0.081682,    0.081103,    0.080523,    0.079943,    0.079363,    0.078782,    0.078201,    0.077619,    0.077038,    0.076456,    0.075873,     0.07529,    0.074707,    0.074124,\n",
              "            0.07354,    0.072956,    0.072371,    0.071885,    0.071672,    0.071459,    0.071246,    0.071033,     0.07082,    0.070606,    0.070393,     0.07018,    0.069966,    0.069753,    0.069539,    0.069326,    0.069112,    0.068898,    0.068684,    0.068471,    0.068257,    0.068043,    0.067829,\n",
              "           0.067615,    0.067401,    0.067187,    0.066973,    0.066759,    0.066545,     0.06633,    0.066116,    0.065902,    0.065687,    0.065473,    0.065258,    0.065044,    0.064829,    0.064615,      0.0644,    0.064185,     0.06397,    0.063756,    0.063541,    0.063326,    0.063111,    0.062896,\n",
              "           0.062681,    0.062466,     0.06225,    0.062035,     0.06182,    0.061605,    0.061389,    0.061174,    0.060958,    0.060743,    0.060527,    0.060312,    0.060096,     0.05988,    0.059665,    0.059449,    0.059233,    0.059017,    0.058801,    0.058585,    0.058369,    0.058153,    0.057515,\n",
              "           0.054598,    0.051671,    0.048736,    0.045793,    0.043732,    0.043537,    0.043342,    0.043146,    0.042951,    0.042755,     0.04256,    0.042364,    0.042169,    0.041973,    0.041778,    0.041582,    0.041386,     0.04119,    0.040994,    0.040799,    0.040603,    0.040407,    0.040211,\n",
              "           0.040015,    0.039819,    0.039623,    0.039426,     0.03923,    0.039034,    0.038838,    0.038641,    0.038445,    0.038249,    0.038052,    0.037856,    0.037659,    0.037463,    0.037266,     0.03707,    0.036873,    0.036676,     0.03648,    0.036283,    0.036086,    0.035889,    0.035692,\n",
              "           0.035495,    0.035298,    0.035101,    0.034904,    0.034707,     0.03451,    0.034313,    0.034116,    0.033919,    0.033721,    0.033524,    0.033327,    0.033129,    0.032932,    0.032734,    0.032537,    0.032339,    0.032142,    0.031944,    0.031746,    0.031548,    0.031351,    0.031153,\n",
              "           0.030955,    0.030757,    0.030559,    0.030361,    0.030163,    0.029965,    0.029767,    0.029569,    0.029375,    0.029199,    0.029022,    0.028845,    0.028668,    0.028491,    0.028315,    0.028138,    0.027961,    0.027784,    0.027607,     0.02743,    0.027253,    0.027076,    0.026899,\n",
              "           0.026721,    0.026544,    0.026367,     0.02619,    0.026012,    0.025835,    0.025658,     0.02548,    0.025303,    0.025126,    0.024948,    0.024771,    0.024593,    0.024415,    0.024238,     0.02406,    0.023883,    0.023705,    0.023527,    0.023349,    0.023172,    0.022994,    0.022816,\n",
              "           0.022638,     0.02246,    0.022282,    0.022104,    0.021926,    0.021748,     0.02157,    0.021392,    0.021214,    0.021035,    0.020857,    0.020679,    0.020501,    0.020322,    0.020144,    0.019966,    0.019787,    0.019609,     0.01943,    0.019252,    0.019073,    0.018895,    0.018716,\n",
              "           0.018538,    0.018359,     0.01818,    0.018002,    0.017823,    0.017644,    0.017465,    0.017286,    0.017107,    0.016928,     0.01675,    0.016571,    0.016392,    0.016212,    0.016033,    0.015854,    0.015675,    0.015496,    0.015317,    0.015138,    0.014958,           0,           0,\n",
              "                  0,           0,           0,           0,           0,           0,           0,           0,           0,           0,           0,           0,           0,           0,           0,           0,           0,           0,           0,           0,           0,           0,           0,\n",
              "                  0,           0,           0,           0,           0,           0,           0,           0,           0,           0,           0,           0,           0,           0,           0,           0,           0,           0,           0,           0,           0,           0,           0,\n",
              "                  0,           0,           0,           0,           0,           0,           0,           0,           0,           0,           0,           0,           0,           0,           0,           0,           0,           0,           0,           0,           0,           0,           0,\n",
              "                  0,           0,           0,           0,           0,           0,           0,           0,           0,           0,           0,           0,           0,           0,           0,           0,           0,           0,           0,           0,           0,           0,           0,\n",
              "                  0,           0,           0,           0,           0,           0,           0,           0,           0,           0,           0,           0,           0,           0,           0,           0,           0,           0,           0,           0,           0,           0,           0,\n",
              "                  0,           0,           0,           0,           0,           0,           0,           0,           0,           0,           0,           0,           0,           0,           0,           0,           0,           0,           0,           0,           0,           0,           0,\n",
              "                  0,           0,           0,           0,           0,           0,           0,           0,           0,           0,           0]]), 'Confidence', 'F1'], [array([          0,    0.001001,    0.002002,    0.003003,    0.004004,    0.005005,    0.006006,    0.007007,    0.008008,    0.009009,     0.01001,    0.011011,    0.012012,    0.013013,    0.014014,    0.015015,    0.016016,    0.017017,    0.018018,    0.019019,     0.02002,    0.021021,    0.022022,    0.023023,\n",
              "          0.024024,    0.025025,    0.026026,    0.027027,    0.028028,    0.029029,     0.03003,    0.031031,    0.032032,    0.033033,    0.034034,    0.035035,    0.036036,    0.037037,    0.038038,    0.039039,     0.04004,    0.041041,    0.042042,    0.043043,    0.044044,    0.045045,    0.046046,    0.047047,\n",
              "          0.048048,    0.049049,     0.05005,    0.051051,    0.052052,    0.053053,    0.054054,    0.055055,    0.056056,    0.057057,    0.058058,    0.059059,     0.06006,    0.061061,    0.062062,    0.063063,    0.064064,    0.065065,    0.066066,    0.067067,    0.068068,    0.069069,     0.07007,    0.071071,\n",
              "          0.072072,    0.073073,    0.074074,    0.075075,    0.076076,    0.077077,    0.078078,    0.079079,     0.08008,    0.081081,    0.082082,    0.083083,    0.084084,    0.085085,    0.086086,    0.087087,    0.088088,    0.089089,     0.09009,    0.091091,    0.092092,    0.093093,    0.094094,    0.095095,\n",
              "          0.096096,    0.097097,    0.098098,    0.099099,      0.1001,      0.1011,      0.1021,      0.1031,      0.1041,     0.10511,     0.10611,     0.10711,     0.10811,     0.10911,     0.11011,     0.11111,     0.11211,     0.11311,     0.11411,     0.11512,     0.11612,     0.11712,     0.11812,     0.11912,\n",
              "           0.12012,     0.12112,     0.12212,     0.12312,     0.12412,     0.12513,     0.12613,     0.12713,     0.12813,     0.12913,     0.13013,     0.13113,     0.13213,     0.13313,     0.13413,     0.13514,     0.13614,     0.13714,     0.13814,     0.13914,     0.14014,     0.14114,     0.14214,     0.14314,\n",
              "           0.14414,     0.14515,     0.14615,     0.14715,     0.14815,     0.14915,     0.15015,     0.15115,     0.15215,     0.15315,     0.15415,     0.15516,     0.15616,     0.15716,     0.15816,     0.15916,     0.16016,     0.16116,     0.16216,     0.16316,     0.16416,     0.16517,     0.16617,     0.16717,\n",
              "           0.16817,     0.16917,     0.17017,     0.17117,     0.17217,     0.17317,     0.17417,     0.17518,     0.17618,     0.17718,     0.17818,     0.17918,     0.18018,     0.18118,     0.18218,     0.18318,     0.18418,     0.18519,     0.18619,     0.18719,     0.18819,     0.18919,     0.19019,     0.19119,\n",
              "           0.19219,     0.19319,     0.19419,      0.1952,      0.1962,      0.1972,      0.1982,      0.1992,      0.2002,      0.2012,      0.2022,      0.2032,      0.2042,     0.20521,     0.20621,     0.20721,     0.20821,     0.20921,     0.21021,     0.21121,     0.21221,     0.21321,     0.21421,     0.21522,\n",
              "           0.21622,     0.21722,     0.21822,     0.21922,     0.22022,     0.22122,     0.22222,     0.22322,     0.22422,     0.22523,     0.22623,     0.22723,     0.22823,     0.22923,     0.23023,     0.23123,     0.23223,     0.23323,     0.23423,     0.23524,     0.23624,     0.23724,     0.23824,     0.23924,\n",
              "           0.24024,     0.24124,     0.24224,     0.24324,     0.24424,     0.24525,     0.24625,     0.24725,     0.24825,     0.24925,     0.25025,     0.25125,     0.25225,     0.25325,     0.25425,     0.25526,     0.25626,     0.25726,     0.25826,     0.25926,     0.26026,     0.26126,     0.26226,     0.26326,\n",
              "           0.26426,     0.26527,     0.26627,     0.26727,     0.26827,     0.26927,     0.27027,     0.27127,     0.27227,     0.27327,     0.27427,     0.27528,     0.27628,     0.27728,     0.27828,     0.27928,     0.28028,     0.28128,     0.28228,     0.28328,     0.28428,     0.28529,     0.28629,     0.28729,\n",
              "           0.28829,     0.28929,     0.29029,     0.29129,     0.29229,     0.29329,     0.29429,      0.2953,      0.2963,      0.2973,      0.2983,      0.2993,      0.3003,      0.3013,      0.3023,      0.3033,      0.3043,     0.30531,     0.30631,     0.30731,     0.30831,     0.30931,     0.31031,     0.31131,\n",
              "           0.31231,     0.31331,     0.31431,     0.31532,     0.31632,     0.31732,     0.31832,     0.31932,     0.32032,     0.32132,     0.32232,     0.32332,     0.32432,     0.32533,     0.32633,     0.32733,     0.32833,     0.32933,     0.33033,     0.33133,     0.33233,     0.33333,     0.33433,     0.33534,\n",
              "           0.33634,     0.33734,     0.33834,     0.33934,     0.34034,     0.34134,     0.34234,     0.34334,     0.34434,     0.34535,     0.34635,     0.34735,     0.34835,     0.34935,     0.35035,     0.35135,     0.35235,     0.35335,     0.35435,     0.35536,     0.35636,     0.35736,     0.35836,     0.35936,\n",
              "           0.36036,     0.36136,     0.36236,     0.36336,     0.36436,     0.36537,     0.36637,     0.36737,     0.36837,     0.36937,     0.37037,     0.37137,     0.37237,     0.37337,     0.37437,     0.37538,     0.37638,     0.37738,     0.37838,     0.37938,     0.38038,     0.38138,     0.38238,     0.38338,\n",
              "           0.38438,     0.38539,     0.38639,     0.38739,     0.38839,     0.38939,     0.39039,     0.39139,     0.39239,     0.39339,     0.39439,      0.3954,      0.3964,      0.3974,      0.3984,      0.3994,      0.4004,      0.4014,      0.4024,      0.4034,      0.4044,     0.40541,     0.40641,     0.40741,\n",
              "           0.40841,     0.40941,     0.41041,     0.41141,     0.41241,     0.41341,     0.41441,     0.41542,     0.41642,     0.41742,     0.41842,     0.41942,     0.42042,     0.42142,     0.42242,     0.42342,     0.42442,     0.42543,     0.42643,     0.42743,     0.42843,     0.42943,     0.43043,     0.43143,\n",
              "           0.43243,     0.43343,     0.43443,     0.43544,     0.43644,     0.43744,     0.43844,     0.43944,     0.44044,     0.44144,     0.44244,     0.44344,     0.44444,     0.44545,     0.44645,     0.44745,     0.44845,     0.44945,     0.45045,     0.45145,     0.45245,     0.45345,     0.45445,     0.45546,\n",
              "           0.45646,     0.45746,     0.45846,     0.45946,     0.46046,     0.46146,     0.46246,     0.46346,     0.46446,     0.46547,     0.46647,     0.46747,     0.46847,     0.46947,     0.47047,     0.47147,     0.47247,     0.47347,     0.47447,     0.47548,     0.47648,     0.47748,     0.47848,     0.47948,\n",
              "           0.48048,     0.48148,     0.48248,     0.48348,     0.48448,     0.48549,     0.48649,     0.48749,     0.48849,     0.48949,     0.49049,     0.49149,     0.49249,     0.49349,     0.49449,      0.4955,      0.4965,      0.4975,      0.4985,      0.4995,      0.5005,      0.5015,      0.5025,      0.5035,\n",
              "            0.5045,     0.50551,     0.50651,     0.50751,     0.50851,     0.50951,     0.51051,     0.51151,     0.51251,     0.51351,     0.51451,     0.51552,     0.51652,     0.51752,     0.51852,     0.51952,     0.52052,     0.52152,     0.52252,     0.52352,     0.52452,     0.52553,     0.52653,     0.52753,\n",
              "           0.52853,     0.52953,     0.53053,     0.53153,     0.53253,     0.53353,     0.53453,     0.53554,     0.53654,     0.53754,     0.53854,     0.53954,     0.54054,     0.54154,     0.54254,     0.54354,     0.54454,     0.54555,     0.54655,     0.54755,     0.54855,     0.54955,     0.55055,     0.55155,\n",
              "           0.55255,     0.55355,     0.55455,     0.55556,     0.55656,     0.55756,     0.55856,     0.55956,     0.56056,     0.56156,     0.56256,     0.56356,     0.56456,     0.56557,     0.56657,     0.56757,     0.56857,     0.56957,     0.57057,     0.57157,     0.57257,     0.57357,     0.57457,     0.57558,\n",
              "           0.57658,     0.57758,     0.57858,     0.57958,     0.58058,     0.58158,     0.58258,     0.58358,     0.58458,     0.58559,     0.58659,     0.58759,     0.58859,     0.58959,     0.59059,     0.59159,     0.59259,     0.59359,     0.59459,      0.5956,      0.5966,      0.5976,      0.5986,      0.5996,\n",
              "            0.6006,      0.6016,      0.6026,      0.6036,      0.6046,     0.60561,     0.60661,     0.60761,     0.60861,     0.60961,     0.61061,     0.61161,     0.61261,     0.61361,     0.61461,     0.61562,     0.61662,     0.61762,     0.61862,     0.61962,     0.62062,     0.62162,     0.62262,     0.62362,\n",
              "           0.62462,     0.62563,     0.62663,     0.62763,     0.62863,     0.62963,     0.63063,     0.63163,     0.63263,     0.63363,     0.63463,     0.63564,     0.63664,     0.63764,     0.63864,     0.63964,     0.64064,     0.64164,     0.64264,     0.64364,     0.64464,     0.64565,     0.64665,     0.64765,\n",
              "           0.64865,     0.64965,     0.65065,     0.65165,     0.65265,     0.65365,     0.65465,     0.65566,     0.65666,     0.65766,     0.65866,     0.65966,     0.66066,     0.66166,     0.66266,     0.66366,     0.66466,     0.66567,     0.66667,     0.66767,     0.66867,     0.66967,     0.67067,     0.67167,\n",
              "           0.67267,     0.67367,     0.67467,     0.67568,     0.67668,     0.67768,     0.67868,     0.67968,     0.68068,     0.68168,     0.68268,     0.68368,     0.68468,     0.68569,     0.68669,     0.68769,     0.68869,     0.68969,     0.69069,     0.69169,     0.69269,     0.69369,     0.69469,      0.6957,\n",
              "            0.6967,      0.6977,      0.6987,      0.6997,      0.7007,      0.7017,      0.7027,      0.7037,      0.7047,     0.70571,     0.70671,     0.70771,     0.70871,     0.70971,     0.71071,     0.71171,     0.71271,     0.71371,     0.71471,     0.71572,     0.71672,     0.71772,     0.71872,     0.71972,\n",
              "           0.72072,     0.72172,     0.72272,     0.72372,     0.72472,     0.72573,     0.72673,     0.72773,     0.72873,     0.72973,     0.73073,     0.73173,     0.73273,     0.73373,     0.73473,     0.73574,     0.73674,     0.73774,     0.73874,     0.73974,     0.74074,     0.74174,     0.74274,     0.74374,\n",
              "           0.74474,     0.74575,     0.74675,     0.74775,     0.74875,     0.74975,     0.75075,     0.75175,     0.75275,     0.75375,     0.75475,     0.75576,     0.75676,     0.75776,     0.75876,     0.75976,     0.76076,     0.76176,     0.76276,     0.76376,     0.76476,     0.76577,     0.76677,     0.76777,\n",
              "           0.76877,     0.76977,     0.77077,     0.77177,     0.77277,     0.77377,     0.77477,     0.77578,     0.77678,     0.77778,     0.77878,     0.77978,     0.78078,     0.78178,     0.78278,     0.78378,     0.78478,     0.78579,     0.78679,     0.78779,     0.78879,     0.78979,     0.79079,     0.79179,\n",
              "           0.79279,     0.79379,     0.79479,      0.7958,      0.7968,      0.7978,      0.7988,      0.7998,      0.8008,      0.8018,      0.8028,      0.8038,      0.8048,     0.80581,     0.80681,     0.80781,     0.80881,     0.80981,     0.81081,     0.81181,     0.81281,     0.81381,     0.81481,     0.81582,\n",
              "           0.81682,     0.81782,     0.81882,     0.81982,     0.82082,     0.82182,     0.82282,     0.82382,     0.82482,     0.82583,     0.82683,     0.82783,     0.82883,     0.82983,     0.83083,     0.83183,     0.83283,     0.83383,     0.83483,     0.83584,     0.83684,     0.83784,     0.83884,     0.83984,\n",
              "           0.84084,     0.84184,     0.84284,     0.84384,     0.84484,     0.84585,     0.84685,     0.84785,     0.84885,     0.84985,     0.85085,     0.85185,     0.85285,     0.85385,     0.85485,     0.85586,     0.85686,     0.85786,     0.85886,     0.85986,     0.86086,     0.86186,     0.86286,     0.86386,\n",
              "           0.86486,     0.86587,     0.86687,     0.86787,     0.86887,     0.86987,     0.87087,     0.87187,     0.87287,     0.87387,     0.87487,     0.87588,     0.87688,     0.87788,     0.87888,     0.87988,     0.88088,     0.88188,     0.88288,     0.88388,     0.88488,     0.88589,     0.88689,     0.88789,\n",
              "           0.88889,     0.88989,     0.89089,     0.89189,     0.89289,     0.89389,     0.89489,      0.8959,      0.8969,      0.8979,      0.8989,      0.8999,      0.9009,      0.9019,      0.9029,      0.9039,      0.9049,     0.90591,     0.90691,     0.90791,     0.90891,     0.90991,     0.91091,     0.91191,\n",
              "           0.91291,     0.91391,     0.91491,     0.91592,     0.91692,     0.91792,     0.91892,     0.91992,     0.92092,     0.92192,     0.92292,     0.92392,     0.92492,     0.92593,     0.92693,     0.92793,     0.92893,     0.92993,     0.93093,     0.93193,     0.93293,     0.93393,     0.93493,     0.93594,\n",
              "           0.93694,     0.93794,     0.93894,     0.93994,     0.94094,     0.94194,     0.94294,     0.94394,     0.94494,     0.94595,     0.94695,     0.94795,     0.94895,     0.94995,     0.95095,     0.95195,     0.95295,     0.95395,     0.95495,     0.95596,     0.95696,     0.95796,     0.95896,     0.95996,\n",
              "           0.96096,     0.96196,     0.96296,     0.96396,     0.96496,     0.96597,     0.96697,     0.96797,     0.96897,     0.96997,     0.97097,     0.97197,     0.97297,     0.97397,     0.97497,     0.97598,     0.97698,     0.97798,     0.97898,     0.97998,     0.98098,     0.98198,     0.98298,     0.98398,\n",
              "           0.98498,     0.98599,     0.98699,     0.98799,     0.98899,     0.98999,     0.99099,     0.99199,     0.99299,     0.99399,     0.99499,       0.996,       0.997,       0.998,       0.999,           1]), array([[    0.15667,     0.15667,     0.15667,     0.15667,     0.15667,     0.15667,     0.15667,      0.1572,     0.16097,      0.1633,     0.16496,       0.178,     0.19065,     0.22671,     0.26175,     0.28982,     0.31926,     0.34845,     0.37544,     0.39204,     0.42012,     0.44138,     0.45583,\n",
              "            0.47234,     0.48273,     0.49184,     0.50553,     0.51635,     0.52173,     0.53342,     0.54098,     0.54282,     0.54587,     0.55536,     0.56187,     0.56325,     0.56773,     0.57611,     0.57567,      0.5777,     0.58677,     0.60046,     0.60583,     0.61243,     0.61105,     0.60638,\n",
              "            0.60801,     0.61754,     0.62327,     0.63148,     0.63386,     0.63347,     0.64607,     0.65209,      0.6517,     0.65685,     0.65591,     0.65424,     0.65734,     0.66007,     0.66317,     0.67105,     0.67496,     0.67833,     0.68137,     0.68955,     0.68742,     0.68891,     0.68988,\n",
              "             0.6888,     0.68773,     0.69089,     0.69884,     0.69591,     0.70246,     0.70143,     0.70041,      0.7074,     0.70753,      0.7171,     0.72039,     0.71889,     0.71827,     0.72185,     0.72543,     0.72542,     0.72445,     0.72347,     0.72243,     0.72127,     0.72012,     0.72435,\n",
              "            0.73022,     0.73326,     0.73629,     0.73534,     0.74287,     0.74119,     0.74157,     0.74448,      0.7474,     0.74844,     0.75024,     0.75431,     0.75543,     0.76441,      0.7659,     0.76738,     0.76887,     0.77035,     0.77184,     0.77332,      0.7745,     0.77314,     0.77178,\n",
              "            0.78324,     0.78626,     0.78928,      0.7923,     0.79096,     0.79024,     0.78952,      0.7888,     0.78807,     0.78652,     0.78465,     0.78415,     0.78722,     0.79028,     0.79335,       0.793,     0.79228,     0.79156,     0.79083,     0.78994,     0.78863,     0.78731,     0.79482,\n",
              "            0.80112,     0.80312,     0.80511,     0.80711,     0.80911,     0.81111,      0.8131,     0.80838,     0.80616,     0.80495,     0.80374,      0.8013,     0.80142,     0.80424,     0.80705,     0.80987,     0.81269,     0.81899,     0.83011,     0.82987,     0.82964,      0.8294,     0.82917,\n",
              "            0.82893,      0.8287,     0.82846,     0.82823,     0.82799,     0.82776,     0.82752,     0.82729,     0.82706,      0.8292,     0.83441,     0.83961,     0.84139,     0.83967,     0.83924,      0.8388,     0.83836,     0.83793,     0.83749,     0.83705,      0.8366,     0.83609,     0.83558,\n",
              "            0.83507,     0.83457,     0.83406,     0.83355,     0.83578,     0.84005,     0.84432,     0.84859,     0.85199,      0.8542,      0.8564,     0.85861,     0.86082,     0.86303,     0.86523,     0.86744,     0.86956,     0.86931,     0.86906,     0.86882,     0.86857,     0.86832,     0.86808,\n",
              "            0.86783,     0.86758,     0.86734,     0.86709,     0.86684,     0.86659,     0.86633,     0.86606,      0.8658,     0.86554,     0.86527,     0.86501,     0.86475,     0.86448,     0.86422,     0.86396,     0.86369,     0.88329,     0.88271,     0.88213,     0.88156,     0.88098,     0.88058,\n",
              "            0.88018,     0.87979,     0.87939,       0.879,      0.8786,     0.87821,     0.87765,     0.87698,     0.87631,     0.87563,     0.87512,     0.87727,     0.87943,     0.88159,     0.88374,      0.8859,     0.88805,     0.89021,     0.89236,     0.89452,     0.89667,     0.89555,     0.89446,\n",
              "            0.89407,     0.89368,      0.8933,     0.89291,     0.89252,     0.89214,     0.89176,      0.8914,     0.89104,     0.89069,     0.89033,     0.88997,     0.88961,     0.88926,      0.8889,     0.89368,     0.89861,     0.90354,     0.90847,     0.91339,     0.91362,      0.9128,     0.91198,\n",
              "            0.91156,     0.91129,     0.91102,     0.91075,     0.91047,      0.9102,     0.90993,     0.90966,     0.90939,     0.90911,     0.90865,     0.90817,     0.90769,     0.90721,     0.90672,     0.90625,     0.90614,     0.90602,     0.90591,      0.9058,     0.90568,     0.90557,     0.90545,\n",
              "            0.90534,     0.90523,     0.90511,       0.905,     0.90489,     0.90477,     0.90466,     0.90455,     0.90443,     0.90432,     0.90421,     0.90409,     0.90398,     0.90387,     0.90375,     0.90364,     0.90353,     0.90341,      0.9033,      0.9027,     0.90113,     0.90091,     0.90416,\n",
              "            0.90742,     0.91067,     0.91393,     0.91718,     0.92044,     0.92369,     0.92695,      0.9302,     0.96289,     0.96273,     0.96258,     0.96242,     0.96227,     0.96212,     0.96196,     0.96181,     0.96166,     0.96151,      0.9614,     0.96129,     0.96118,     0.96107,     0.96096,\n",
              "            0.96085,     0.96074,     0.96063,     0.96052,     0.96041,      0.9603,     0.96019,     0.96008,     0.95997,     0.95987,     0.95977,     0.95966,     0.95956,     0.95946,     0.95936,     0.95926,     0.95916,     0.95906,     0.95895,     0.95885,     0.95875,     0.95865,     0.95855,\n",
              "            0.95845,     0.95835,      0.9581,     0.95784,     0.95758,     0.95732,     0.95706,      0.9568,     0.95653,     0.95614,     0.95573,     0.95532,     0.95491,     0.95454,     0.95446,     0.95438,      0.9543,     0.95423,     0.95415,     0.95407,     0.95399,     0.95391,     0.95383,\n",
              "            0.95376,     0.95368,      0.9536,     0.95352,     0.95344,     0.95337,     0.95329,     0.95321,     0.95313,     0.95305,     0.95298,      0.9529,     0.95282,     0.95274,     0.95266,     0.95258,     0.95251,     0.95243,      0.9523,      0.9521,      0.9519,      0.9517,      0.9515,\n",
              "             0.9513,      0.9511,      0.9509,      0.9507,     0.95049,     0.95029,     0.95009,     0.94954,     0.94867,     0.94781,     0.94724,     0.94699,     0.94674,     0.94648,     0.94623,     0.94598,     0.94572,     0.94547,     0.94522,     0.94496,     0.94471,     0.94446,     0.94422,\n",
              "            0.94397,     0.94373,     0.94349,     0.94325,     0.94301,     0.94277,     0.94253,     0.94229,     0.94204,      0.9418,     0.94156,     0.94132,     0.95974,           1,           1,           1,           1,           1,           1,           1,           1,           1,           1,\n",
              "                  1,           1,           1,           1,           1,           1,           1,           1,           1,           1,           1,           1,           1,           1,           1,           1,           1,           1,           1,           1,           1,           1,           1,\n",
              "                  1,           1,           1,           1,           1,           1,           1,           1,           1,           1,           1,           1,           1,           1,           1,           1,           1,           1,           1,           1,           1,           1,           1,\n",
              "                  1,           1,           1,           1,           1,           1,           1,           1,           1,           1,           1,           1,           1,           1,           1,           1,           1,           1,           1,           1,           1,           1,           1,\n",
              "                  1,           1,           1,           1,           1,           1,           1,           1,           1,           1,           1,           1,           1,           1,           1,           1,           1,           1,           1,           1,           1,           1,           1,\n",
              "                  1,           1,           1,           1,           1,           1,           1,           1,           1,           1,           1,           1,           1,           1,           1,           1,           1,           1,           1,           1,           1,           1,           1,\n",
              "                  1,           1,           1,           1,           1,           1,           1,           1,           1,           1,           1,           1,           1,           1,           1,           1,           1,           1,           1,           1,           1,           1,           1,\n",
              "                  1,           1,           1,           1,           1,           1,           1,           1,           1,           1,           1,           1,           1,           1,           1,           1,           1,           1,           1,           1,           1,           1,           1,\n",
              "                  1,           1,           1,           1,           1,           1,           1,           1,           1,           1,           1,           1,           1,           1,           1,           1,           1,           1,           1,           1,           1,           1,           1,\n",
              "                  1,           1,           1,           1,           1,           1,           1,           1,           1,           1,           1,           1,           1,           1,           1,           1,           1,           1,           1,           1,           1,           1,           1,\n",
              "                  1,           1,           1,           1,           1,           1,           1,           1,           1,           1,           1,           1,           1,           1,           1,           1,           1,           1,           1,           1,           1,           1,           1,\n",
              "                  1,           1,           1,           1,           1,           1,           1,           1,           1,           1,           1,           1,           1,           1,           1,           1,           1,           1,           1,           1,           1,           1,           1,\n",
              "                  1,           1,           1,           1,           1,           1,           1,           1,           1,           1,           1,           1,           1,           1,           1,           1,           1,           1,           1,           1,           1,           1,           1,\n",
              "                  1,           1,           1,           1,           1,           1,           1,           1,           1,           1,           1,           1,           1,           1,           1,           1,           1,           1,           1,           1,           1,           1,           1,\n",
              "                  1,           1,           1,           1,           1,           1,           1,           1,           1,           1,           1,           1,           1,           1,           1,           1,           1,           1,           1,           1,           1,           1,           1,\n",
              "                  1,           1,           1,           1,           1,           1,           1,           1,           1,           1,           1,           1,           1,           1,           1,           1,           1,           1,           1,           1,           1,           1,           1,\n",
              "                  1,           1,           1,           1,           1,           1,           1,           1,           1,           1,           1,           1,           1,           1,           1,           1,           1,           1,           1,           1,           1,           1,           1,\n",
              "                  1,           1,           1,           1,           1,           1,           1,           1,           1,           1,           1,           1,           1,           1,           1,           1,           1,           1,           1,           1,           1,           1,           1,\n",
              "                  1,           1,           1,           1,           1,           1,           1,           1,           1,           1,           1,           1,           1,           1,           1,           1,           1,           1,           1,           1,           1,           1,           1,\n",
              "                  1,           1,           1,           1,           1,           1,           1,           1,           1,           1,           1,           1,           1,           1,           1,           1,           1,           1,           1,           1,           1,           1,           1,\n",
              "                  1,           1,           1,           1,           1,           1,           1,           1,           1,           1,           1,           1,           1,           1,           1,           1,           1,           1,           1,           1,           1,           1,           1,\n",
              "                  1,           1,           1,           1,           1,           1,           1,           1,           1,           1,           1,           1,           1,           1,           1,           1,           1,           1,           1,           1,           1,           1,           1,\n",
              "                  1,           1,           1,           1,           1,           1,           1,           1,           1,           1,           1,           1,           1,           1,           1,           1,           1,           1,           1,           1,           1,           1,           1,\n",
              "                  1,           1,           1,           1,           1,           1,           1,           1,           1,           1,           1,           1,           1,           1,           1,           1,           1,           1,           1,           1,           1,           1,           1,\n",
              "                  1,           1,           1,           1,           1,           1,           1,           1,           1,           1,           1]]), 'Confidence', 'Precision'], [array([          0,    0.001001,    0.002002,    0.003003,    0.004004,    0.005005,    0.006006,    0.007007,    0.008008,    0.009009,     0.01001,    0.011011,    0.012012,    0.013013,    0.014014,    0.015015,    0.016016,    0.017017,    0.018018,    0.019019,     0.02002,    0.021021,    0.022022,    0.023023,\n",
              "          0.024024,    0.025025,    0.026026,    0.027027,    0.028028,    0.029029,     0.03003,    0.031031,    0.032032,    0.033033,    0.034034,    0.035035,    0.036036,    0.037037,    0.038038,    0.039039,     0.04004,    0.041041,    0.042042,    0.043043,    0.044044,    0.045045,    0.046046,    0.047047,\n",
              "          0.048048,    0.049049,     0.05005,    0.051051,    0.052052,    0.053053,    0.054054,    0.055055,    0.056056,    0.057057,    0.058058,    0.059059,     0.06006,    0.061061,    0.062062,    0.063063,    0.064064,    0.065065,    0.066066,    0.067067,    0.068068,    0.069069,     0.07007,    0.071071,\n",
              "          0.072072,    0.073073,    0.074074,    0.075075,    0.076076,    0.077077,    0.078078,    0.079079,     0.08008,    0.081081,    0.082082,    0.083083,    0.084084,    0.085085,    0.086086,    0.087087,    0.088088,    0.089089,     0.09009,    0.091091,    0.092092,    0.093093,    0.094094,    0.095095,\n",
              "          0.096096,    0.097097,    0.098098,    0.099099,      0.1001,      0.1011,      0.1021,      0.1031,      0.1041,     0.10511,     0.10611,     0.10711,     0.10811,     0.10911,     0.11011,     0.11111,     0.11211,     0.11311,     0.11411,     0.11512,     0.11612,     0.11712,     0.11812,     0.11912,\n",
              "           0.12012,     0.12112,     0.12212,     0.12312,     0.12412,     0.12513,     0.12613,     0.12713,     0.12813,     0.12913,     0.13013,     0.13113,     0.13213,     0.13313,     0.13413,     0.13514,     0.13614,     0.13714,     0.13814,     0.13914,     0.14014,     0.14114,     0.14214,     0.14314,\n",
              "           0.14414,     0.14515,     0.14615,     0.14715,     0.14815,     0.14915,     0.15015,     0.15115,     0.15215,     0.15315,     0.15415,     0.15516,     0.15616,     0.15716,     0.15816,     0.15916,     0.16016,     0.16116,     0.16216,     0.16316,     0.16416,     0.16517,     0.16617,     0.16717,\n",
              "           0.16817,     0.16917,     0.17017,     0.17117,     0.17217,     0.17317,     0.17417,     0.17518,     0.17618,     0.17718,     0.17818,     0.17918,     0.18018,     0.18118,     0.18218,     0.18318,     0.18418,     0.18519,     0.18619,     0.18719,     0.18819,     0.18919,     0.19019,     0.19119,\n",
              "           0.19219,     0.19319,     0.19419,      0.1952,      0.1962,      0.1972,      0.1982,      0.1992,      0.2002,      0.2012,      0.2022,      0.2032,      0.2042,     0.20521,     0.20621,     0.20721,     0.20821,     0.20921,     0.21021,     0.21121,     0.21221,     0.21321,     0.21421,     0.21522,\n",
              "           0.21622,     0.21722,     0.21822,     0.21922,     0.22022,     0.22122,     0.22222,     0.22322,     0.22422,     0.22523,     0.22623,     0.22723,     0.22823,     0.22923,     0.23023,     0.23123,     0.23223,     0.23323,     0.23423,     0.23524,     0.23624,     0.23724,     0.23824,     0.23924,\n",
              "           0.24024,     0.24124,     0.24224,     0.24324,     0.24424,     0.24525,     0.24625,     0.24725,     0.24825,     0.24925,     0.25025,     0.25125,     0.25225,     0.25325,     0.25425,     0.25526,     0.25626,     0.25726,     0.25826,     0.25926,     0.26026,     0.26126,     0.26226,     0.26326,\n",
              "           0.26426,     0.26527,     0.26627,     0.26727,     0.26827,     0.26927,     0.27027,     0.27127,     0.27227,     0.27327,     0.27427,     0.27528,     0.27628,     0.27728,     0.27828,     0.27928,     0.28028,     0.28128,     0.28228,     0.28328,     0.28428,     0.28529,     0.28629,     0.28729,\n",
              "           0.28829,     0.28929,     0.29029,     0.29129,     0.29229,     0.29329,     0.29429,      0.2953,      0.2963,      0.2973,      0.2983,      0.2993,      0.3003,      0.3013,      0.3023,      0.3033,      0.3043,     0.30531,     0.30631,     0.30731,     0.30831,     0.30931,     0.31031,     0.31131,\n",
              "           0.31231,     0.31331,     0.31431,     0.31532,     0.31632,     0.31732,     0.31832,     0.31932,     0.32032,     0.32132,     0.32232,     0.32332,     0.32432,     0.32533,     0.32633,     0.32733,     0.32833,     0.32933,     0.33033,     0.33133,     0.33233,     0.33333,     0.33433,     0.33534,\n",
              "           0.33634,     0.33734,     0.33834,     0.33934,     0.34034,     0.34134,     0.34234,     0.34334,     0.34434,     0.34535,     0.34635,     0.34735,     0.34835,     0.34935,     0.35035,     0.35135,     0.35235,     0.35335,     0.35435,     0.35536,     0.35636,     0.35736,     0.35836,     0.35936,\n",
              "           0.36036,     0.36136,     0.36236,     0.36336,     0.36436,     0.36537,     0.36637,     0.36737,     0.36837,     0.36937,     0.37037,     0.37137,     0.37237,     0.37337,     0.37437,     0.37538,     0.37638,     0.37738,     0.37838,     0.37938,     0.38038,     0.38138,     0.38238,     0.38338,\n",
              "           0.38438,     0.38539,     0.38639,     0.38739,     0.38839,     0.38939,     0.39039,     0.39139,     0.39239,     0.39339,     0.39439,      0.3954,      0.3964,      0.3974,      0.3984,      0.3994,      0.4004,      0.4014,      0.4024,      0.4034,      0.4044,     0.40541,     0.40641,     0.40741,\n",
              "           0.40841,     0.40941,     0.41041,     0.41141,     0.41241,     0.41341,     0.41441,     0.41542,     0.41642,     0.41742,     0.41842,     0.41942,     0.42042,     0.42142,     0.42242,     0.42342,     0.42442,     0.42543,     0.42643,     0.42743,     0.42843,     0.42943,     0.43043,     0.43143,\n",
              "           0.43243,     0.43343,     0.43443,     0.43544,     0.43644,     0.43744,     0.43844,     0.43944,     0.44044,     0.44144,     0.44244,     0.44344,     0.44444,     0.44545,     0.44645,     0.44745,     0.44845,     0.44945,     0.45045,     0.45145,     0.45245,     0.45345,     0.45445,     0.45546,\n",
              "           0.45646,     0.45746,     0.45846,     0.45946,     0.46046,     0.46146,     0.46246,     0.46346,     0.46446,     0.46547,     0.46647,     0.46747,     0.46847,     0.46947,     0.47047,     0.47147,     0.47247,     0.47347,     0.47447,     0.47548,     0.47648,     0.47748,     0.47848,     0.47948,\n",
              "           0.48048,     0.48148,     0.48248,     0.48348,     0.48448,     0.48549,     0.48649,     0.48749,     0.48849,     0.48949,     0.49049,     0.49149,     0.49249,     0.49349,     0.49449,      0.4955,      0.4965,      0.4975,      0.4985,      0.4995,      0.5005,      0.5015,      0.5025,      0.5035,\n",
              "            0.5045,     0.50551,     0.50651,     0.50751,     0.50851,     0.50951,     0.51051,     0.51151,     0.51251,     0.51351,     0.51451,     0.51552,     0.51652,     0.51752,     0.51852,     0.51952,     0.52052,     0.52152,     0.52252,     0.52352,     0.52452,     0.52553,     0.52653,     0.52753,\n",
              "           0.52853,     0.52953,     0.53053,     0.53153,     0.53253,     0.53353,     0.53453,     0.53554,     0.53654,     0.53754,     0.53854,     0.53954,     0.54054,     0.54154,     0.54254,     0.54354,     0.54454,     0.54555,     0.54655,     0.54755,     0.54855,     0.54955,     0.55055,     0.55155,\n",
              "           0.55255,     0.55355,     0.55455,     0.55556,     0.55656,     0.55756,     0.55856,     0.55956,     0.56056,     0.56156,     0.56256,     0.56356,     0.56456,     0.56557,     0.56657,     0.56757,     0.56857,     0.56957,     0.57057,     0.57157,     0.57257,     0.57357,     0.57457,     0.57558,\n",
              "           0.57658,     0.57758,     0.57858,     0.57958,     0.58058,     0.58158,     0.58258,     0.58358,     0.58458,     0.58559,     0.58659,     0.58759,     0.58859,     0.58959,     0.59059,     0.59159,     0.59259,     0.59359,     0.59459,      0.5956,      0.5966,      0.5976,      0.5986,      0.5996,\n",
              "            0.6006,      0.6016,      0.6026,      0.6036,      0.6046,     0.60561,     0.60661,     0.60761,     0.60861,     0.60961,     0.61061,     0.61161,     0.61261,     0.61361,     0.61461,     0.61562,     0.61662,     0.61762,     0.61862,     0.61962,     0.62062,     0.62162,     0.62262,     0.62362,\n",
              "           0.62462,     0.62563,     0.62663,     0.62763,     0.62863,     0.62963,     0.63063,     0.63163,     0.63263,     0.63363,     0.63463,     0.63564,     0.63664,     0.63764,     0.63864,     0.63964,     0.64064,     0.64164,     0.64264,     0.64364,     0.64464,     0.64565,     0.64665,     0.64765,\n",
              "           0.64865,     0.64965,     0.65065,     0.65165,     0.65265,     0.65365,     0.65465,     0.65566,     0.65666,     0.65766,     0.65866,     0.65966,     0.66066,     0.66166,     0.66266,     0.66366,     0.66466,     0.66567,     0.66667,     0.66767,     0.66867,     0.66967,     0.67067,     0.67167,\n",
              "           0.67267,     0.67367,     0.67467,     0.67568,     0.67668,     0.67768,     0.67868,     0.67968,     0.68068,     0.68168,     0.68268,     0.68368,     0.68468,     0.68569,     0.68669,     0.68769,     0.68869,     0.68969,     0.69069,     0.69169,     0.69269,     0.69369,     0.69469,      0.6957,\n",
              "            0.6967,      0.6977,      0.6987,      0.6997,      0.7007,      0.7017,      0.7027,      0.7037,      0.7047,     0.70571,     0.70671,     0.70771,     0.70871,     0.70971,     0.71071,     0.71171,     0.71271,     0.71371,     0.71471,     0.71572,     0.71672,     0.71772,     0.71872,     0.71972,\n",
              "           0.72072,     0.72172,     0.72272,     0.72372,     0.72472,     0.72573,     0.72673,     0.72773,     0.72873,     0.72973,     0.73073,     0.73173,     0.73273,     0.73373,     0.73473,     0.73574,     0.73674,     0.73774,     0.73874,     0.73974,     0.74074,     0.74174,     0.74274,     0.74374,\n",
              "           0.74474,     0.74575,     0.74675,     0.74775,     0.74875,     0.74975,     0.75075,     0.75175,     0.75275,     0.75375,     0.75475,     0.75576,     0.75676,     0.75776,     0.75876,     0.75976,     0.76076,     0.76176,     0.76276,     0.76376,     0.76476,     0.76577,     0.76677,     0.76777,\n",
              "           0.76877,     0.76977,     0.77077,     0.77177,     0.77277,     0.77377,     0.77477,     0.77578,     0.77678,     0.77778,     0.77878,     0.77978,     0.78078,     0.78178,     0.78278,     0.78378,     0.78478,     0.78579,     0.78679,     0.78779,     0.78879,     0.78979,     0.79079,     0.79179,\n",
              "           0.79279,     0.79379,     0.79479,      0.7958,      0.7968,      0.7978,      0.7988,      0.7998,      0.8008,      0.8018,      0.8028,      0.8038,      0.8048,     0.80581,     0.80681,     0.80781,     0.80881,     0.80981,     0.81081,     0.81181,     0.81281,     0.81381,     0.81481,     0.81582,\n",
              "           0.81682,     0.81782,     0.81882,     0.81982,     0.82082,     0.82182,     0.82282,     0.82382,     0.82482,     0.82583,     0.82683,     0.82783,     0.82883,     0.82983,     0.83083,     0.83183,     0.83283,     0.83383,     0.83483,     0.83584,     0.83684,     0.83784,     0.83884,     0.83984,\n",
              "           0.84084,     0.84184,     0.84284,     0.84384,     0.84484,     0.84585,     0.84685,     0.84785,     0.84885,     0.84985,     0.85085,     0.85185,     0.85285,     0.85385,     0.85485,     0.85586,     0.85686,     0.85786,     0.85886,     0.85986,     0.86086,     0.86186,     0.86286,     0.86386,\n",
              "           0.86486,     0.86587,     0.86687,     0.86787,     0.86887,     0.86987,     0.87087,     0.87187,     0.87287,     0.87387,     0.87487,     0.87588,     0.87688,     0.87788,     0.87888,     0.87988,     0.88088,     0.88188,     0.88288,     0.88388,     0.88488,     0.88589,     0.88689,     0.88789,\n",
              "           0.88889,     0.88989,     0.89089,     0.89189,     0.89289,     0.89389,     0.89489,      0.8959,      0.8969,      0.8979,      0.8989,      0.8999,      0.9009,      0.9019,      0.9029,      0.9039,      0.9049,     0.90591,     0.90691,     0.90791,     0.90891,     0.90991,     0.91091,     0.91191,\n",
              "           0.91291,     0.91391,     0.91491,     0.91592,     0.91692,     0.91792,     0.91892,     0.91992,     0.92092,     0.92192,     0.92292,     0.92392,     0.92492,     0.92593,     0.92693,     0.92793,     0.92893,     0.92993,     0.93093,     0.93193,     0.93293,     0.93393,     0.93493,     0.93594,\n",
              "           0.93694,     0.93794,     0.93894,     0.93994,     0.94094,     0.94194,     0.94294,     0.94394,     0.94494,     0.94595,     0.94695,     0.94795,     0.94895,     0.94995,     0.95095,     0.95195,     0.95295,     0.95395,     0.95495,     0.95596,     0.95696,     0.95796,     0.95896,     0.95996,\n",
              "           0.96096,     0.96196,     0.96296,     0.96396,     0.96496,     0.96597,     0.96697,     0.96797,     0.96897,     0.96997,     0.97097,     0.97197,     0.97297,     0.97397,     0.97497,     0.97598,     0.97698,     0.97798,     0.97898,     0.97998,     0.98098,     0.98198,     0.98298,     0.98398,\n",
              "           0.98498,     0.98599,     0.98699,     0.98799,     0.98899,     0.98999,     0.99099,     0.99199,     0.99299,     0.99399,     0.99499,       0.996,       0.997,       0.998,       0.999,           1]), array([[    0.70149,     0.70149,     0.70149,     0.70149,     0.70149,     0.70149,     0.70149,     0.70149,     0.69403,     0.69403,     0.68657,     0.68657,     0.68657,      0.6791,      0.6791,     0.67164,     0.65672,     0.64925,     0.64179,     0.63433,     0.63433,     0.63433,     0.62687,\n",
              "             0.6194,      0.6194,      0.6194,     0.61194,     0.60448,     0.59701,     0.59701,     0.59701,     0.59701,     0.59701,     0.59701,     0.59701,     0.58708,     0.58209,     0.58209,      0.5771,     0.56716,     0.56716,     0.56716,     0.56716,     0.56605,     0.56277,     0.55183,\n",
              "            0.54478,     0.54478,     0.54478,     0.54478,     0.54263,     0.53731,     0.53731,     0.53731,     0.52985,     0.52985,     0.52637,     0.52247,     0.51538,     0.51493,     0.51493,     0.51493,     0.51493,     0.51493,     0.51493,     0.51385,     0.50877,         0.5,     0.49805,\n",
              "            0.49556,     0.49306,     0.48507,     0.48489,      0.4782,     0.47571,     0.47339,     0.47107,     0.46911,     0.46269,     0.46269,     0.46146,     0.45804,     0.45522,     0.45522,     0.45522,     0.45349,     0.45128,     0.44908,     0.44674,     0.44419,     0.44164,      0.4403,\n",
              "             0.4403,      0.4403,      0.4403,     0.43546,     0.43122,     0.42745,     0.42537,     0.42537,     0.42537,     0.42189,     0.41791,     0.41791,     0.41495,     0.41045,     0.41045,     0.41045,     0.41045,     0.41045,     0.41045,     0.41045,     0.41011,     0.40696,     0.40381,\n",
              "            0.40299,     0.40299,     0.40299,     0.40299,     0.39533,     0.39363,     0.39193,     0.39022,     0.38852,     0.38494,     0.38067,     0.37313,     0.37313,     0.37313,     0.37313,     0.37168,     0.37006,     0.36844,     0.36682,     0.36484,     0.36199,     0.35914,     0.35821,\n",
              "            0.35821,     0.35821,     0.35821,     0.35821,     0.35821,     0.35821,     0.35821,     0.34634,     0.34142,      0.3388,     0.33618,     0.33108,     0.32836,     0.32836,     0.32836,     0.32836,     0.32836,     0.32836,     0.32817,     0.32764,      0.3271,     0.32656,     0.32603,\n",
              "            0.32549,     0.32495,     0.32442,     0.32388,     0.32334,     0.32281,     0.32227,     0.32173,      0.3212,      0.3209,      0.3209,      0.3209,     0.31674,     0.31269,     0.31169,     0.31069,     0.30969,      0.3087,      0.3077,      0.3067,     0.30567,     0.30456,     0.30344,\n",
              "            0.30233,     0.30121,      0.3001,     0.29898,     0.29851,     0.29851,     0.29851,     0.29851,     0.29851,     0.29851,     0.29851,     0.29851,     0.29851,     0.29851,     0.29851,     0.29851,     0.29848,     0.29785,     0.29721,     0.29658,     0.29594,     0.29531,     0.29467,\n",
              "            0.29404,      0.2934,     0.29277,     0.29213,      0.2915,     0.29086,     0.29021,     0.28956,     0.28891,     0.28826,     0.28761,     0.28696,     0.28631,     0.28567,     0.28502,     0.28437,     0.28372,     0.28242,     0.28086,     0.27931,     0.27775,     0.27619,     0.27515,\n",
              "            0.27414,     0.27312,     0.27211,     0.27109,     0.27008,     0.26906,     0.26767,     0.26603,     0.26439,     0.26275,     0.26119,     0.26119,     0.26119,     0.26119,     0.26119,     0.26119,     0.26119,     0.26119,     0.26119,     0.26119,     0.26119,     0.25599,       0.253,\n",
              "            0.25199,     0.25097,     0.24995,     0.24894,     0.24792,     0.24691,     0.24594,     0.24505,     0.24416,     0.24327,     0.24239,      0.2415,     0.24061,     0.23972,     0.23883,     0.23881,     0.23881,     0.23881,     0.23881,     0.23881,     0.23682,      0.2344,     0.23198,\n",
              "            0.23078,     0.23002,     0.22926,      0.2285,     0.22774,     0.22698,     0.22622,     0.22546,      0.2247,     0.22394,     0.22272,     0.22146,     0.22019,     0.21893,     0.21767,     0.21641,     0.21613,     0.21585,     0.21557,      0.2153,     0.21502,     0.21474,     0.21446,\n",
              "            0.21418,      0.2139,     0.21362,     0.21334,     0.21306,     0.21278,      0.2125,     0.21222,     0.21194,     0.21166,     0.21138,      0.2111,     0.21082,     0.21054,     0.21026,     0.20998,      0.2097,     0.20942,     0.20914,     0.20773,      0.2041,     0.20149,     0.20149,\n",
              "            0.20149,     0.20149,     0.20149,     0.20149,     0.20149,     0.20149,     0.20149,     0.20149,     0.19363,     0.19282,     0.19201,     0.19121,      0.1904,      0.1896,     0.18879,     0.18799,     0.18718,     0.18644,      0.1859,     0.18537,     0.18483,      0.1843,     0.18376,\n",
              "            0.18322,     0.18269,     0.18215,     0.18162,     0.18108,     0.18055,     0.18001,     0.17947,     0.17896,     0.17851,     0.17806,      0.1776,     0.17715,     0.17669,     0.17624,     0.17578,     0.17533,     0.17488,     0.17442,     0.17397,     0.17351,     0.17306,     0.17261,\n",
              "            0.17215,      0.1717,      0.1707,     0.16962,     0.16854,     0.16747,     0.16639,     0.16531,     0.16423,     0.16272,     0.16118,     0.15965,     0.15811,     0.15669,     0.15642,     0.15615,     0.15588,     0.15561,     0.15534,     0.15507,     0.15481,     0.15454,     0.15427,\n",
              "              0.154,     0.15373,     0.15346,     0.15319,     0.15292,     0.15265,     0.15238,     0.15211,     0.15184,     0.15157,      0.1513,     0.15103,     0.15077,      0.1505,     0.15023,     0.14996,     0.14969,     0.14942,     0.14901,     0.14838,     0.14775,     0.14712,     0.14649,\n",
              "            0.14586,     0.14523,      0.1446,     0.14397,     0.14334,     0.14271,     0.14208,     0.14048,     0.13803,     0.13558,     0.13401,     0.13337,     0.13272,     0.13207,     0.13143,     0.13078,     0.13013,     0.12949,     0.12884,     0.12819,     0.12755,      0.1269,     0.12634,\n",
              "            0.12579,     0.12524,     0.12469,     0.12414,     0.12359,     0.12304,     0.12249,     0.12194,     0.12139,     0.12083,     0.12028,     0.11973,      0.1194,     0.11924,     0.11802,     0.11679,     0.11557,     0.11435,     0.11312,     0.11185,     0.10914,     0.10643,     0.10437,\n",
              "            0.10397,     0.10357,     0.10317,     0.10277,     0.10237,     0.10198,     0.10158,     0.10118,     0.10078,     0.10038,    0.099983,    0.099584,    0.099186,    0.098787,    0.098389,     0.09799,    0.097592,    0.097193,    0.096591,    0.095824,    0.095057,     0.09429,    0.093523,\n",
              "           0.092755,    0.091988,    0.091221,    0.090454,    0.089687,    0.089004,    0.088339,    0.087675,     0.08701,    0.086346,    0.085681,    0.085016,    0.084352,    0.083687,    0.083022,    0.082358,    0.081955,    0.081729,    0.081503,    0.081277,    0.081051,    0.080825,    0.080599,\n",
              "           0.080373,    0.080147,    0.079921,    0.079695,    0.079469,    0.079243,    0.079017,    0.078791,    0.078565,    0.078339,    0.078113,    0.077887,    0.077661,    0.077436,     0.07721,    0.076984,    0.076758,    0.076532,    0.076306,     0.07608,    0.075854,    0.075628,    0.075402,\n",
              "           0.075176,     0.07495,    0.074724,    0.074362,    0.073896,    0.073431,    0.072966,    0.072501,    0.072035,     0.07157,    0.071105,     0.07064,    0.070175,    0.069709,    0.069244,    0.068779,    0.068314,    0.067848,    0.067383,    0.063816,    0.059586,    0.059256,    0.058925,\n",
              "           0.058595,    0.058264,    0.057934,    0.057603,    0.057273,    0.056942,    0.056612,    0.056281,    0.055951,     0.05562,     0.05529,    0.054959,    0.054629,    0.054298,    0.053968,    0.053637,    0.053307,    0.052977,    0.052646,    0.052316,     0.05204,    0.051781,    0.051521,\n",
              "           0.051262,    0.051003,    0.050744,    0.050485,    0.050225,    0.049966,    0.049707,    0.049448,    0.049189,    0.048929,     0.04867,    0.048411,    0.048152,    0.047892,    0.047633,    0.047374,    0.047115,    0.046856,    0.046596,    0.046337,    0.046078,    0.045819,     0.04556,\n",
              "             0.0453,    0.045041,    0.044782,    0.044468,    0.044154,    0.043839,    0.043524,    0.043209,    0.042895,     0.04258,    0.042265,     0.04195,    0.041636,    0.041321,    0.041006,    0.040692,    0.040377,    0.040062,    0.039747,    0.039433,    0.039118,    0.038803,    0.038488,\n",
              "           0.038174,    0.037859,    0.037544,    0.037283,    0.037168,    0.037054,    0.036939,    0.036824,     0.03671,    0.036595,     0.03648,    0.036366,    0.036251,    0.036137,    0.036022,    0.035907,    0.035793,    0.035678,    0.035564,    0.035449,    0.035334,     0.03522,    0.035105,\n",
              "            0.03499,    0.034876,    0.034761,    0.034647,    0.034532,    0.034417,    0.034303,    0.034188,    0.034074,    0.033959,    0.033844,     0.03373,    0.033615,      0.0335,    0.033386,    0.033271,    0.033157,    0.033042,    0.032927,    0.032813,    0.032698,    0.032584,    0.032469,\n",
              "           0.032354,     0.03224,    0.032125,     0.03201,    0.031896,    0.031781,    0.031667,    0.031552,    0.031437,    0.031323,    0.031208,    0.031094,    0.030979,    0.030864,     0.03075,    0.030635,     0.03052,    0.030406,    0.030291,    0.030177,    0.030062,    0.029947,    0.029609,\n",
              "           0.028065,    0.026521,    0.024977,    0.023433,    0.022355,    0.022253,    0.022151,    0.022049,    0.021947,    0.021845,    0.021743,    0.021641,    0.021539,    0.021436,    0.021334,    0.021232,     0.02113,    0.021028,    0.020926,    0.020824,    0.020722,     0.02062,    0.020518,\n",
              "           0.020416,    0.020314,    0.020212,     0.02011,    0.020008,    0.019906,    0.019803,    0.019701,    0.019599,    0.019497,    0.019395,    0.019293,    0.019191,    0.019089,    0.018987,    0.018885,    0.018783,    0.018681,    0.018579,    0.018477,    0.018375,    0.018272,     0.01817,\n",
              "           0.018068,    0.017966,    0.017864,    0.017762,     0.01766,    0.017558,    0.017456,    0.017354,    0.017252,     0.01715,    0.017048,    0.016946,    0.016844,    0.016742,    0.016639,    0.016537,    0.016435,    0.016333,    0.016231,    0.016129,    0.016027,    0.015925,    0.015823,\n",
              "           0.015721,    0.015619,    0.015517,    0.015415,    0.015313,    0.015211,    0.015108,    0.015006,    0.014907,    0.014816,    0.014725,    0.014634,    0.014543,    0.014452,    0.014361,     0.01427,    0.014179,    0.014088,    0.013997,    0.013906,    0.013815,    0.013724,    0.013633,\n",
              "           0.013542,    0.013451,     0.01336,    0.013269,    0.013178,    0.013087,    0.012996,    0.012905,    0.012814,    0.012723,    0.012632,    0.012541,     0.01245,    0.012359,    0.012268,    0.012177,    0.012086,    0.011995,    0.011904,    0.011813,    0.011722,    0.011631,     0.01154,\n",
              "           0.011449,    0.011358,    0.011267,    0.011176,    0.011085,    0.010994,    0.010903,    0.010812,    0.010721,     0.01063,    0.010539,    0.010448,    0.010357,    0.010266,    0.010175,    0.010084,   0.0099925,   0.0099015,   0.0098105,   0.0097195,   0.0096285,   0.0095375,   0.0094465,\n",
              "          0.0093555,   0.0092645,   0.0091735,   0.0090825,   0.0089915,   0.0089005,   0.0088095,   0.0087185,   0.0086275,   0.0085365,   0.0084455,   0.0083545,   0.0082635,   0.0081725,   0.0080815,   0.0079905,   0.0078995,   0.0078085,   0.0077175,   0.0076265,   0.0075355,           0,           0,\n",
              "                  0,           0,           0,           0,           0,           0,           0,           0,           0,           0,           0,           0,           0,           0,           0,           0,           0,           0,           0,           0,           0,           0,           0,\n",
              "                  0,           0,           0,           0,           0,           0,           0,           0,           0,           0,           0,           0,           0,           0,           0,           0,           0,           0,           0,           0,           0,           0,           0,\n",
              "                  0,           0,           0,           0,           0,           0,           0,           0,           0,           0,           0,           0,           0,           0,           0,           0,           0,           0,           0,           0,           0,           0,           0,\n",
              "                  0,           0,           0,           0,           0,           0,           0,           0,           0,           0,           0,           0,           0,           0,           0,           0,           0,           0,           0,           0,           0,           0,           0,\n",
              "                  0,           0,           0,           0,           0,           0,           0,           0,           0,           0,           0,           0,           0,           0,           0,           0,           0,           0,           0,           0,           0,           0,           0,\n",
              "                  0,           0,           0,           0,           0,           0,           0,           0,           0,           0,           0,           0,           0,           0,           0,           0,           0,           0,           0,           0,           0,           0,           0,\n",
              "                  0,           0,           0,           0,           0,           0,           0,           0,           0,           0,           0]]), 'Confidence', 'Recall']]\n",
              "fitness: 0.2551782230267603\n",
              "keys: ['metrics/precision(B)', 'metrics/recall(B)', 'metrics/mAP50(B)', 'metrics/mAP50-95(B)']\n",
              "maps: array([    0.22122])\n",
              "names: {0: 'tree'}\n",
              "plot: True\n",
              "results_dict: {'metrics/precision(B)': 0.6988426280314882, 'metrics/recall(B)': 0.484887400169886, 'metrics/mAP50(B)': 0.5608418189261914, 'metrics/mAP50-95(B)': 0.22121560126015685, 'fitness': 0.2551782230267603}\n",
              "save_dir: PosixPath('runs/detect/train2')\n",
              "speed: {'preprocess': 1.8067359924316406, 'inference': 272.74906635284424, 'loss': 0.0013113021850585938, 'postprocess': 20.328640937805176}\n",
              "task: 'detect'"
            ]
          },
          "metadata": {},
          "execution_count": 7
        }
      ]
    },
    {
      "cell_type": "code",
      "source": [
        "model.save('/content/drive/MyDrive/tree_data_new.pt')"
      ],
      "metadata": {
        "id": "YDSQGce6cEt7"
      },
      "execution_count": 8,
      "outputs": []
    },
    {
      "cell_type": "code",
      "source": [
        "##moving file into google drive\n",
        "\n",
        "# Step 1: Mount Google Drive\n",
        "from google.colab import drive\n",
        "drive.mount('/content/drive')\n",
        "\n",
        "# Step 2: Move the file\n",
        "import shutil\n",
        "\n",
        "# Define the source and destination paths\n",
        "source = '/content/runs'  # Replace with your file path\n",
        "destination = '/content/drive/MyDrive/runs'  # Replace with your destination path in Google Drive\n",
        "\n",
        "# Move the file\n",
        "shutil.move(source, destination)"
      ],
      "metadata": {
        "colab": {
          "base_uri": "https://localhost:8080/",
          "height": 54
        },
        "id": "MiiMOUPlcNDF",
        "outputId": "2bfc10d7-10eb-4eed-8f22-7bc225f19777"
      },
      "execution_count": 9,
      "outputs": [
        {
          "output_type": "stream",
          "name": "stdout",
          "text": [
            "Drive already mounted at /content/drive; to attempt to forcibly remount, call drive.mount(\"/content/drive\", force_remount=True).\n"
          ]
        },
        {
          "output_type": "execute_result",
          "data": {
            "text/plain": [
              "'/content/drive/MyDrive/runs/runs'"
            ],
            "application/vnd.google.colaboratory.intrinsic+json": {
              "type": "string"
            }
          },
          "metadata": {},
          "execution_count": 9
        }
      ]
    },
    {
      "cell_type": "code",
      "source": [],
      "metadata": {
        "id": "TvS-8aOtemLH"
      },
      "execution_count": null,
      "outputs": []
    }
  ]
}