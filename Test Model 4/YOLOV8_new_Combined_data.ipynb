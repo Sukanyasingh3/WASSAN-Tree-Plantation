{
  "nbformat": 4,
  "nbformat_minor": 0,
  "metadata": {
    "colab": {
      "provenance": [],
      "gpuType": "T4"
    },
    "kernelspec": {
      "name": "python3",
      "display_name": "Python 3"
    },
    "language_info": {
      "name": "python"
    },
    "accelerator": "GPU"
  },
  "cells": [
    {
      "cell_type": "code",
      "execution_count": 1,
      "metadata": {
        "colab": {
          "base_uri": "https://localhost:8080/"
        },
        "id": "uhYFeQVVgo0M",
        "outputId": "db0f4cf0-2856-4876-b819-f1c6478fce75"
      },
      "outputs": [
        {
          "output_type": "stream",
          "name": "stdout",
          "text": [
            "Collecting ultralytics\n",
            "  Downloading ultralytics-8.2.36-py3-none-any.whl (783 kB)\n",
            "\u001b[?25l     \u001b[90m━━━━━━━━━━━━━━━━━━━━━━━━━━━━━━━━━━━━━━━━\u001b[0m \u001b[32m0.0/783.5 kB\u001b[0m \u001b[31m?\u001b[0m eta \u001b[36m-:--:--\u001b[0m\r\u001b[2K     \u001b[91m━━━━━━━━━━━━━━\u001b[0m\u001b[91m╸\u001b[0m\u001b[90m━━━━━━━━━━━━━━━━━━━━━━━━━\u001b[0m \u001b[32m286.7/783.5 kB\u001b[0m \u001b[31m8.1 MB/s\u001b[0m eta \u001b[36m0:00:01\u001b[0m\r\u001b[2K     \u001b[91m━━━━━━━━━━━━━━━━━━━━━━━━━━━━━━━━━━━━━━━\u001b[0m\u001b[91m╸\u001b[0m \u001b[32m778.2/783.5 kB\u001b[0m \u001b[31m11.2 MB/s\u001b[0m eta \u001b[36m0:00:01\u001b[0m\r\u001b[2K     \u001b[90m━━━━━━━━━━━━━━━━━━━━━━━━━━━━━━━━━━━━━━━━\u001b[0m \u001b[32m783.5/783.5 kB\u001b[0m \u001b[31m9.4 MB/s\u001b[0m eta \u001b[36m0:00:00\u001b[0m\n",
            "\u001b[?25hRequirement already satisfied: numpy<2.0.0 in /usr/local/lib/python3.10/dist-packages (from ultralytics) (1.25.2)\n",
            "Requirement already satisfied: matplotlib>=3.3.0 in /usr/local/lib/python3.10/dist-packages (from ultralytics) (3.7.1)\n",
            "Requirement already satisfied: opencv-python>=4.6.0 in /usr/local/lib/python3.10/dist-packages (from ultralytics) (4.8.0.76)\n",
            "Requirement already satisfied: pillow>=7.1.2 in /usr/local/lib/python3.10/dist-packages (from ultralytics) (9.4.0)\n",
            "Requirement already satisfied: pyyaml>=5.3.1 in /usr/local/lib/python3.10/dist-packages (from ultralytics) (6.0.1)\n",
            "Requirement already satisfied: requests>=2.23.0 in /usr/local/lib/python3.10/dist-packages (from ultralytics) (2.31.0)\n",
            "Requirement already satisfied: scipy>=1.4.1 in /usr/local/lib/python3.10/dist-packages (from ultralytics) (1.11.4)\n",
            "Requirement already satisfied: torch>=1.8.0 in /usr/local/lib/python3.10/dist-packages (from ultralytics) (2.3.0+cu121)\n",
            "Requirement already satisfied: torchvision>=0.9.0 in /usr/local/lib/python3.10/dist-packages (from ultralytics) (0.18.0+cu121)\n",
            "Requirement already satisfied: tqdm>=4.64.0 in /usr/local/lib/python3.10/dist-packages (from ultralytics) (4.66.4)\n",
            "Requirement already satisfied: psutil in /usr/local/lib/python3.10/dist-packages (from ultralytics) (5.9.5)\n",
            "Requirement already satisfied: py-cpuinfo in /usr/local/lib/python3.10/dist-packages (from ultralytics) (9.0.0)\n",
            "Requirement already satisfied: pandas>=1.1.4 in /usr/local/lib/python3.10/dist-packages (from ultralytics) (2.0.3)\n",
            "Requirement already satisfied: seaborn>=0.11.0 in /usr/local/lib/python3.10/dist-packages (from ultralytics) (0.13.1)\n",
            "Collecting ultralytics-thop>=2.0.0 (from ultralytics)\n",
            "  Downloading ultralytics_thop-2.0.0-py3-none-any.whl (25 kB)\n",
            "Requirement already satisfied: contourpy>=1.0.1 in /usr/local/lib/python3.10/dist-packages (from matplotlib>=3.3.0->ultralytics) (1.2.1)\n",
            "Requirement already satisfied: cycler>=0.10 in /usr/local/lib/python3.10/dist-packages (from matplotlib>=3.3.0->ultralytics) (0.12.1)\n",
            "Requirement already satisfied: fonttools>=4.22.0 in /usr/local/lib/python3.10/dist-packages (from matplotlib>=3.3.0->ultralytics) (4.53.0)\n",
            "Requirement already satisfied: kiwisolver>=1.0.1 in /usr/local/lib/python3.10/dist-packages (from matplotlib>=3.3.0->ultralytics) (1.4.5)\n",
            "Requirement already satisfied: packaging>=20.0 in /usr/local/lib/python3.10/dist-packages (from matplotlib>=3.3.0->ultralytics) (24.1)\n",
            "Requirement already satisfied: pyparsing>=2.3.1 in /usr/local/lib/python3.10/dist-packages (from matplotlib>=3.3.0->ultralytics) (3.1.2)\n",
            "Requirement already satisfied: python-dateutil>=2.7 in /usr/local/lib/python3.10/dist-packages (from matplotlib>=3.3.0->ultralytics) (2.8.2)\n",
            "Requirement already satisfied: pytz>=2020.1 in /usr/local/lib/python3.10/dist-packages (from pandas>=1.1.4->ultralytics) (2023.4)\n",
            "Requirement already satisfied: tzdata>=2022.1 in /usr/local/lib/python3.10/dist-packages (from pandas>=1.1.4->ultralytics) (2024.1)\n",
            "Requirement already satisfied: charset-normalizer<4,>=2 in /usr/local/lib/python3.10/dist-packages (from requests>=2.23.0->ultralytics) (3.3.2)\n",
            "Requirement already satisfied: idna<4,>=2.5 in /usr/local/lib/python3.10/dist-packages (from requests>=2.23.0->ultralytics) (3.7)\n",
            "Requirement already satisfied: urllib3<3,>=1.21.1 in /usr/local/lib/python3.10/dist-packages (from requests>=2.23.0->ultralytics) (2.0.7)\n",
            "Requirement already satisfied: certifi>=2017.4.17 in /usr/local/lib/python3.10/dist-packages (from requests>=2.23.0->ultralytics) (2024.6.2)\n",
            "Requirement already satisfied: filelock in /usr/local/lib/python3.10/dist-packages (from torch>=1.8.0->ultralytics) (3.14.0)\n",
            "Requirement already satisfied: typing-extensions>=4.8.0 in /usr/local/lib/python3.10/dist-packages (from torch>=1.8.0->ultralytics) (4.12.2)\n",
            "Requirement already satisfied: sympy in /usr/local/lib/python3.10/dist-packages (from torch>=1.8.0->ultralytics) (1.12.1)\n",
            "Requirement already satisfied: networkx in /usr/local/lib/python3.10/dist-packages (from torch>=1.8.0->ultralytics) (3.3)\n",
            "Requirement already satisfied: jinja2 in /usr/local/lib/python3.10/dist-packages (from torch>=1.8.0->ultralytics) (3.1.4)\n",
            "Requirement already satisfied: fsspec in /usr/local/lib/python3.10/dist-packages (from torch>=1.8.0->ultralytics) (2023.6.0)\n",
            "Collecting nvidia-cuda-nvrtc-cu12==12.1.105 (from torch>=1.8.0->ultralytics)\n",
            "  Using cached nvidia_cuda_nvrtc_cu12-12.1.105-py3-none-manylinux1_x86_64.whl (23.7 MB)\n",
            "Collecting nvidia-cuda-runtime-cu12==12.1.105 (from torch>=1.8.0->ultralytics)\n",
            "  Using cached nvidia_cuda_runtime_cu12-12.1.105-py3-none-manylinux1_x86_64.whl (823 kB)\n",
            "Collecting nvidia-cuda-cupti-cu12==12.1.105 (from torch>=1.8.0->ultralytics)\n",
            "  Using cached nvidia_cuda_cupti_cu12-12.1.105-py3-none-manylinux1_x86_64.whl (14.1 MB)\n",
            "Collecting nvidia-cudnn-cu12==8.9.2.26 (from torch>=1.8.0->ultralytics)\n",
            "  Using cached nvidia_cudnn_cu12-8.9.2.26-py3-none-manylinux1_x86_64.whl (731.7 MB)\n",
            "Collecting nvidia-cublas-cu12==12.1.3.1 (from torch>=1.8.0->ultralytics)\n",
            "  Using cached nvidia_cublas_cu12-12.1.3.1-py3-none-manylinux1_x86_64.whl (410.6 MB)\n",
            "Collecting nvidia-cufft-cu12==11.0.2.54 (from torch>=1.8.0->ultralytics)\n",
            "  Using cached nvidia_cufft_cu12-11.0.2.54-py3-none-manylinux1_x86_64.whl (121.6 MB)\n",
            "Collecting nvidia-curand-cu12==10.3.2.106 (from torch>=1.8.0->ultralytics)\n",
            "  Using cached nvidia_curand_cu12-10.3.2.106-py3-none-manylinux1_x86_64.whl (56.5 MB)\n",
            "Collecting nvidia-cusolver-cu12==11.4.5.107 (from torch>=1.8.0->ultralytics)\n",
            "  Using cached nvidia_cusolver_cu12-11.4.5.107-py3-none-manylinux1_x86_64.whl (124.2 MB)\n",
            "Collecting nvidia-cusparse-cu12==12.1.0.106 (from torch>=1.8.0->ultralytics)\n",
            "  Using cached nvidia_cusparse_cu12-12.1.0.106-py3-none-manylinux1_x86_64.whl (196.0 MB)\n",
            "Collecting nvidia-nccl-cu12==2.20.5 (from torch>=1.8.0->ultralytics)\n",
            "  Using cached nvidia_nccl_cu12-2.20.5-py3-none-manylinux2014_x86_64.whl (176.2 MB)\n",
            "Collecting nvidia-nvtx-cu12==12.1.105 (from torch>=1.8.0->ultralytics)\n",
            "  Using cached nvidia_nvtx_cu12-12.1.105-py3-none-manylinux1_x86_64.whl (99 kB)\n",
            "Requirement already satisfied: triton==2.3.0 in /usr/local/lib/python3.10/dist-packages (from torch>=1.8.0->ultralytics) (2.3.0)\n",
            "Collecting nvidia-nvjitlink-cu12 (from nvidia-cusolver-cu12==11.4.5.107->torch>=1.8.0->ultralytics)\n",
            "  Downloading nvidia_nvjitlink_cu12-12.5.40-py3-none-manylinux2014_x86_64.whl (21.3 MB)\n",
            "\u001b[2K     \u001b[90m━━━━━━━━━━━━━━━━━━━━━━━━━━━━━━━━━━━━━━━━\u001b[0m \u001b[32m21.3/21.3 MB\u001b[0m \u001b[31m68.6 MB/s\u001b[0m eta \u001b[36m0:00:00\u001b[0m\n",
            "\u001b[?25hRequirement already satisfied: six>=1.5 in /usr/local/lib/python3.10/dist-packages (from python-dateutil>=2.7->matplotlib>=3.3.0->ultralytics) (1.16.0)\n",
            "Requirement already satisfied: MarkupSafe>=2.0 in /usr/local/lib/python3.10/dist-packages (from jinja2->torch>=1.8.0->ultralytics) (2.1.5)\n",
            "Requirement already satisfied: mpmath<1.4.0,>=1.1.0 in /usr/local/lib/python3.10/dist-packages (from sympy->torch>=1.8.0->ultralytics) (1.3.0)\n",
            "Installing collected packages: nvidia-nvtx-cu12, nvidia-nvjitlink-cu12, nvidia-nccl-cu12, nvidia-curand-cu12, nvidia-cufft-cu12, nvidia-cuda-runtime-cu12, nvidia-cuda-nvrtc-cu12, nvidia-cuda-cupti-cu12, nvidia-cublas-cu12, nvidia-cusparse-cu12, nvidia-cudnn-cu12, nvidia-cusolver-cu12, ultralytics-thop, ultralytics\n",
            "Successfully installed nvidia-cublas-cu12-12.1.3.1 nvidia-cuda-cupti-cu12-12.1.105 nvidia-cuda-nvrtc-cu12-12.1.105 nvidia-cuda-runtime-cu12-12.1.105 nvidia-cudnn-cu12-8.9.2.26 nvidia-cufft-cu12-11.0.2.54 nvidia-curand-cu12-10.3.2.106 nvidia-cusolver-cu12-11.4.5.107 nvidia-cusparse-cu12-12.1.0.106 nvidia-nccl-cu12-2.20.5 nvidia-nvjitlink-cu12-12.5.40 nvidia-nvtx-cu12-12.1.105 ultralytics-8.2.36 ultralytics-thop-2.0.0\n"
          ]
        }
      ],
      "source": [
        "!pip install ultralytics"
      ]
    },
    {
      "cell_type": "code",
      "source": [
        "pip install --upgrade ultralytics\n"
      ],
      "metadata": {
        "colab": {
          "base_uri": "https://localhost:8080/"
        },
        "id": "Ktn8LeAbup_G",
        "outputId": "6b4fd344-0f2a-442b-e47f-13fdee86ee59"
      },
      "execution_count": null,
      "outputs": [
        {
          "output_type": "stream",
          "name": "stdout",
          "text": [
            "Requirement already satisfied: ultralytics in /usr/local/lib/python3.10/dist-packages (8.2.35)\n",
            "Requirement already satisfied: numpy<2.0.0 in /usr/local/lib/python3.10/dist-packages (from ultralytics) (1.25.2)\n",
            "Requirement already satisfied: matplotlib>=3.3.0 in /usr/local/lib/python3.10/dist-packages (from ultralytics) (3.7.1)\n",
            "Requirement already satisfied: opencv-python>=4.6.0 in /usr/local/lib/python3.10/dist-packages (from ultralytics) (4.8.0.76)\n",
            "Requirement already satisfied: pillow>=7.1.2 in /usr/local/lib/python3.10/dist-packages (from ultralytics) (9.4.0)\n",
            "Requirement already satisfied: pyyaml>=5.3.1 in /usr/local/lib/python3.10/dist-packages (from ultralytics) (6.0.1)\n",
            "Requirement already satisfied: requests>=2.23.0 in /usr/local/lib/python3.10/dist-packages (from ultralytics) (2.31.0)\n",
            "Requirement already satisfied: scipy>=1.4.1 in /usr/local/lib/python3.10/dist-packages (from ultralytics) (1.11.4)\n",
            "Requirement already satisfied: torch>=1.8.0 in /usr/local/lib/python3.10/dist-packages (from ultralytics) (2.3.0+cu121)\n",
            "Requirement already satisfied: torchvision>=0.9.0 in /usr/local/lib/python3.10/dist-packages (from ultralytics) (0.18.0+cu121)\n",
            "Requirement already satisfied: tqdm>=4.64.0 in /usr/local/lib/python3.10/dist-packages (from ultralytics) (4.66.4)\n",
            "Requirement already satisfied: psutil in /usr/local/lib/python3.10/dist-packages (from ultralytics) (5.9.5)\n",
            "Requirement already satisfied: py-cpuinfo in /usr/local/lib/python3.10/dist-packages (from ultralytics) (9.0.0)\n",
            "Requirement already satisfied: pandas>=1.1.4 in /usr/local/lib/python3.10/dist-packages (from ultralytics) (2.0.3)\n",
            "Requirement already satisfied: seaborn>=0.11.0 in /usr/local/lib/python3.10/dist-packages (from ultralytics) (0.13.1)\n",
            "Requirement already satisfied: ultralytics-thop>=2.0.0 in /usr/local/lib/python3.10/dist-packages (from ultralytics) (2.0.0)\n",
            "Requirement already satisfied: contourpy>=1.0.1 in /usr/local/lib/python3.10/dist-packages (from matplotlib>=3.3.0->ultralytics) (1.2.1)\n",
            "Requirement already satisfied: cycler>=0.10 in /usr/local/lib/python3.10/dist-packages (from matplotlib>=3.3.0->ultralytics) (0.12.1)\n",
            "Requirement already satisfied: fonttools>=4.22.0 in /usr/local/lib/python3.10/dist-packages (from matplotlib>=3.3.0->ultralytics) (4.53.0)\n",
            "Requirement already satisfied: kiwisolver>=1.0.1 in /usr/local/lib/python3.10/dist-packages (from matplotlib>=3.3.0->ultralytics) (1.4.5)\n",
            "Requirement already satisfied: packaging>=20.0 in /usr/local/lib/python3.10/dist-packages (from matplotlib>=3.3.0->ultralytics) (24.1)\n",
            "Requirement already satisfied: pyparsing>=2.3.1 in /usr/local/lib/python3.10/dist-packages (from matplotlib>=3.3.0->ultralytics) (3.1.2)\n",
            "Requirement already satisfied: python-dateutil>=2.7 in /usr/local/lib/python3.10/dist-packages (from matplotlib>=3.3.0->ultralytics) (2.8.2)\n",
            "Requirement already satisfied: pytz>=2020.1 in /usr/local/lib/python3.10/dist-packages (from pandas>=1.1.4->ultralytics) (2023.4)\n",
            "Requirement already satisfied: tzdata>=2022.1 in /usr/local/lib/python3.10/dist-packages (from pandas>=1.1.4->ultralytics) (2024.1)\n",
            "Requirement already satisfied: charset-normalizer<4,>=2 in /usr/local/lib/python3.10/dist-packages (from requests>=2.23.0->ultralytics) (3.3.2)\n",
            "Requirement already satisfied: idna<4,>=2.5 in /usr/local/lib/python3.10/dist-packages (from requests>=2.23.0->ultralytics) (3.7)\n",
            "Requirement already satisfied: urllib3<3,>=1.21.1 in /usr/local/lib/python3.10/dist-packages (from requests>=2.23.0->ultralytics) (2.0.7)\n",
            "Requirement already satisfied: certifi>=2017.4.17 in /usr/local/lib/python3.10/dist-packages (from requests>=2.23.0->ultralytics) (2024.6.2)\n",
            "Requirement already satisfied: filelock in /usr/local/lib/python3.10/dist-packages (from torch>=1.8.0->ultralytics) (3.14.0)\n",
            "Requirement already satisfied: typing-extensions>=4.8.0 in /usr/local/lib/python3.10/dist-packages (from torch>=1.8.0->ultralytics) (4.12.2)\n",
            "Requirement already satisfied: sympy in /usr/local/lib/python3.10/dist-packages (from torch>=1.8.0->ultralytics) (1.12.1)\n",
            "Requirement already satisfied: networkx in /usr/local/lib/python3.10/dist-packages (from torch>=1.8.0->ultralytics) (3.3)\n",
            "Requirement already satisfied: jinja2 in /usr/local/lib/python3.10/dist-packages (from torch>=1.8.0->ultralytics) (3.1.4)\n",
            "Requirement already satisfied: fsspec in /usr/local/lib/python3.10/dist-packages (from torch>=1.8.0->ultralytics) (2023.6.0)\n",
            "Requirement already satisfied: nvidia-cuda-nvrtc-cu12==12.1.105 in /usr/local/lib/python3.10/dist-packages (from torch>=1.8.0->ultralytics) (12.1.105)\n",
            "Requirement already satisfied: nvidia-cuda-runtime-cu12==12.1.105 in /usr/local/lib/python3.10/dist-packages (from torch>=1.8.0->ultralytics) (12.1.105)\n",
            "Requirement already satisfied: nvidia-cuda-cupti-cu12==12.1.105 in /usr/local/lib/python3.10/dist-packages (from torch>=1.8.0->ultralytics) (12.1.105)\n",
            "Requirement already satisfied: nvidia-cudnn-cu12==8.9.2.26 in /usr/local/lib/python3.10/dist-packages (from torch>=1.8.0->ultralytics) (8.9.2.26)\n",
            "Requirement already satisfied: nvidia-cublas-cu12==12.1.3.1 in /usr/local/lib/python3.10/dist-packages (from torch>=1.8.0->ultralytics) (12.1.3.1)\n",
            "Requirement already satisfied: nvidia-cufft-cu12==11.0.2.54 in /usr/local/lib/python3.10/dist-packages (from torch>=1.8.0->ultralytics) (11.0.2.54)\n",
            "Requirement already satisfied: nvidia-curand-cu12==10.3.2.106 in /usr/local/lib/python3.10/dist-packages (from torch>=1.8.0->ultralytics) (10.3.2.106)\n",
            "Requirement already satisfied: nvidia-cusolver-cu12==11.4.5.107 in /usr/local/lib/python3.10/dist-packages (from torch>=1.8.0->ultralytics) (11.4.5.107)\n",
            "Requirement already satisfied: nvidia-cusparse-cu12==12.1.0.106 in /usr/local/lib/python3.10/dist-packages (from torch>=1.8.0->ultralytics) (12.1.0.106)\n",
            "Requirement already satisfied: nvidia-nccl-cu12==2.20.5 in /usr/local/lib/python3.10/dist-packages (from torch>=1.8.0->ultralytics) (2.20.5)\n",
            "Requirement already satisfied: nvidia-nvtx-cu12==12.1.105 in /usr/local/lib/python3.10/dist-packages (from torch>=1.8.0->ultralytics) (12.1.105)\n",
            "Requirement already satisfied: triton==2.3.0 in /usr/local/lib/python3.10/dist-packages (from torch>=1.8.0->ultralytics) (2.3.0)\n",
            "Requirement already satisfied: nvidia-nvjitlink-cu12 in /usr/local/lib/python3.10/dist-packages (from nvidia-cusolver-cu12==11.4.5.107->torch>=1.8.0->ultralytics) (12.5.40)\n",
            "Requirement already satisfied: six>=1.5 in /usr/local/lib/python3.10/dist-packages (from python-dateutil>=2.7->matplotlib>=3.3.0->ultralytics) (1.16.0)\n",
            "Requirement already satisfied: MarkupSafe>=2.0 in /usr/local/lib/python3.10/dist-packages (from jinja2->torch>=1.8.0->ultralytics) (2.1.5)\n",
            "Requirement already satisfied: mpmath<1.4.0,>=1.1.0 in /usr/local/lib/python3.10/dist-packages (from sympy->torch>=1.8.0->ultralytics) (1.3.0)\n"
          ]
        }
      ]
    },
    {
      "cell_type": "code",
      "source": [
        "from ultralytics import YOLO\n",
        "import os\n",
        "import shutil\n",
        "from sklearn.model_selection import train_test_split\n",
        "import random"
      ],
      "metadata": {
        "id": "QhIDtwU1pHx8"
      },
      "execution_count": 2,
      "outputs": []
    },
    {
      "cell_type": "code",
      "source": [
        "import os\n",
        "from random import choice\n",
        "\n",
        "#arrays to store file names\n",
        "imgs =[]\n",
        "xmls =[]\n",
        "\n",
        "#setup dir names\n",
        "trainPath =('/content/drive/MyDrive/dataset/images/train')\n",
        "valPath = ('/content/drive/MyDrive/dataset/images/val')\n",
        "crsPath = ('/content/drive/MyDrive/plantation') #dir where images and annotations stored\n",
        "\n",
        "#setup ratio (val ratio = rest of the files in origin dir after splitting into train and test)\n",
        "train_ratio = 0.8\n",
        "val_ratio = 0.2\n",
        "\n",
        "\n",
        "#total count of imgs\n",
        "totalImgCount = len(os.listdir(crsPath))/2\n",
        "\n",
        "#soring files to corresponding arrays\n",
        "for (dirname, dirs, files) in os.walk(crsPath):\n",
        "    for filename in files:\n",
        "        if filename.endswith('.txt'):\n",
        "            xmls.append(filename)\n",
        "        else:\n",
        "            imgs.append(filename)\n",
        "\n",
        "\n",
        "#counting range for cycles\n",
        "countForTrain = int(len(imgs)*train_ratio)\n",
        "countForVal = int(len(imgs)*val_ratio)\n",
        "print(\"Total number of images: \", len(imgs))\n",
        "print(\"training images: \",countForTrain)\n",
        "print(\"Validation images: \",countForVal)"
      ],
      "metadata": {
        "colab": {
          "base_uri": "https://localhost:8080/"
        },
        "id": "eX8ouD09px5C",
        "outputId": "b4ebec43-c650-400e-b7c1-86bbfac52310"
      },
      "execution_count": 5,
      "outputs": [
        {
          "output_type": "stream",
          "name": "stdout",
          "text": [
            "Total number of images:  293\n",
            "training images:  234\n",
            "Validation images:  58\n"
          ]
        }
      ]
    },
    {
      "cell_type": "code",
      "source": [
        "import shutil, sys\n",
        "trainimagePath = ('/content/drive/MyDrive/dataset/images/train')\n",
        "trainlabelPath = ('/content/drive/MyDrive/dataset/labels/train')\n",
        "valimagePath = ('/content/drive/MyDrive/dataset/images/val')\n",
        "vallabelPath = ('/content/drive/MyDrive/dataset/labels/val')\n",
        "#cycle for train dir\n",
        "for x in range(countForTrain):\n",
        "\n",
        "    fileJpg = choice(imgs) # get name of random image from origin dir\n",
        "    fileXml = fileJpg[:-4] +'.txt' # get name of corresponding annotation file\n",
        "\n",
        "    #move both files into train dir\n",
        "    #shutil.move(os.path.join(crsPath, fileJpg), os.path.join(trainimagePath, fileJpg))\n",
        "    #shutil.move(os.path.join(crsPath, fileXml), os.path.join(trainlabelPath, fileXml))\n",
        "    shutil.copy(os.path.join(crsPath, fileJpg), os.path.join(trainimagePath, fileJpg))\n",
        "    shutil.copy(os.path.join(crsPath, fileXml), os.path.join(trainlabelPath, fileXml))\n",
        "\n",
        "\n",
        "    #remove files from arrays\n",
        "    imgs.remove(fileJpg)\n",
        "    xmls.remove(fileXml)\n",
        "\n",
        "\n",
        "\n",
        "#cycle for test dir\n",
        "for x in range(countForVal):\n",
        "\n",
        "    fileJpg = choice(imgs) # get name of random image from origin dir\n",
        "    fileXml = fileJpg[:-4] +'.txt' # get name of corresponding annotation file\n",
        "\n",
        "    #move both files into train dir\n",
        "    #shutil.move(os.path.join(crsPath, fileJpg), os.path.join(valimagePath, fileJpg))\n",
        "    #shutil.move(os.path.join(crsPath, fileXml), os.path.join(vallabelPath, fileXml))\n",
        "    shutil.copy(os.path.join(crsPath, fileJpg), os.path.join(valimagePath, fileJpg))\n",
        "    shutil.copy(os.path.join(crsPath, fileXml), os.path.join(vallabelPath, fileXml))\n",
        "\n",
        "    #remove files from arrays\n",
        "    imgs.remove(fileJpg)\n",
        "    xmls.remove(fileXml)\n",
        "\n",
        "#rest of files will be validation files, so rename origin dir to val dir\n",
        "#os.rename(crsPath, valPath)\n",
        "#shutil.move(crsPath, valPath)"
      ],
      "metadata": {
        "id": "lKQxa150qJQ2"
      },
      "execution_count": 6,
      "outputs": []
    },
    {
      "cell_type": "code",
      "source": [
        "# Define the model\n",
        "model = YOLO(\"yolov8n.pt\")\n",
        "\n",
        "# Use the model\n",
        "model.train(data='/content/drive/MyDrive/config.yaml', epochs=50)"
      ],
      "metadata": {
        "colab": {
          "base_uri": "https://localhost:8080/"
        },
        "id": "s3Y_Hb5xqbbC",
        "outputId": "f321f12c-4c95-469d-90f6-588ac094ba8d"
      },
      "execution_count": 7,
      "outputs": [
        {
          "output_type": "stream",
          "name": "stdout",
          "text": [
            "Downloading https://github.com/ultralytics/assets/releases/download/v8.2.0/yolov8n.pt to 'yolov8n.pt'...\n"
          ]
        },
        {
          "output_type": "stream",
          "name": "stderr",
          "text": [
            "100%|██████████| 6.23M/6.23M [00:00<00:00, 132MB/s]\n"
          ]
        },
        {
          "output_type": "stream",
          "name": "stdout",
          "text": [
            "Ultralytics YOLOv8.2.36 🚀 Python-3.10.12 torch-2.3.0+cu121 CUDA:0 (Tesla T4, 15102MiB)\n",
            "\u001b[34m\u001b[1mengine/trainer: \u001b[0mtask=detect, mode=train, model=yolov8n.pt, data=/content/drive/MyDrive/config.yaml, epochs=50, time=None, patience=100, batch=16, imgsz=640, save=True, save_period=-1, cache=False, device=None, workers=8, project=None, name=train, exist_ok=False, pretrained=True, optimizer=auto, verbose=True, seed=0, deterministic=True, single_cls=False, rect=False, cos_lr=False, close_mosaic=10, resume=False, amp=True, fraction=1.0, profile=False, freeze=None, multi_scale=False, overlap_mask=True, mask_ratio=4, dropout=0.0, val=True, split=val, save_json=False, save_hybrid=False, conf=None, iou=0.7, max_det=300, half=False, dnn=False, plots=True, source=None, vid_stride=1, stream_buffer=False, visualize=False, augment=False, agnostic_nms=False, classes=None, retina_masks=False, embed=None, show=False, save_frames=False, save_txt=False, save_conf=False, save_crop=False, show_labels=True, show_conf=True, show_boxes=True, line_width=None, format=torchscript, keras=False, optimize=False, int8=False, dynamic=False, simplify=False, opset=None, workspace=4, nms=False, lr0=0.01, lrf=0.01, momentum=0.937, weight_decay=0.0005, warmup_epochs=3.0, warmup_momentum=0.8, warmup_bias_lr=0.1, box=7.5, cls=0.5, dfl=1.5, pose=12.0, kobj=1.0, label_smoothing=0.0, nbs=64, hsv_h=0.015, hsv_s=0.7, hsv_v=0.4, degrees=0.0, translate=0.1, scale=0.5, shear=0.0, perspective=0.0, flipud=0.0, fliplr=0.5, bgr=0.0, mosaic=1.0, mixup=0.0, copy_paste=0.0, auto_augment=randaugment, erasing=0.4, crop_fraction=1.0, cfg=None, tracker=botsort.yaml, save_dir=runs/detect/train\n",
            "Downloading https://ultralytics.com/assets/Arial.ttf to '/root/.config/Ultralytics/Arial.ttf'...\n"
          ]
        },
        {
          "output_type": "stream",
          "name": "stderr",
          "text": [
            "100%|██████████| 755k/755k [00:00<00:00, 46.9MB/s]\n"
          ]
        },
        {
          "output_type": "stream",
          "name": "stdout",
          "text": [
            "Overriding model.yaml nc=80 with nc=1\n",
            "\n",
            "                   from  n    params  module                                       arguments                     \n",
            "  0                  -1  1       464  ultralytics.nn.modules.conv.Conv             [3, 16, 3, 2]                 \n",
            "  1                  -1  1      4672  ultralytics.nn.modules.conv.Conv             [16, 32, 3, 2]                \n",
            "  2                  -1  1      7360  ultralytics.nn.modules.block.C2f             [32, 32, 1, True]             \n",
            "  3                  -1  1     18560  ultralytics.nn.modules.conv.Conv             [32, 64, 3, 2]                \n",
            "  4                  -1  2     49664  ultralytics.nn.modules.block.C2f             [64, 64, 2, True]             \n",
            "  5                  -1  1     73984  ultralytics.nn.modules.conv.Conv             [64, 128, 3, 2]               \n",
            "  6                  -1  2    197632  ultralytics.nn.modules.block.C2f             [128, 128, 2, True]           \n",
            "  7                  -1  1    295424  ultralytics.nn.modules.conv.Conv             [128, 256, 3, 2]              \n",
            "  8                  -1  1    460288  ultralytics.nn.modules.block.C2f             [256, 256, 1, True]           \n",
            "  9                  -1  1    164608  ultralytics.nn.modules.block.SPPF            [256, 256, 5]                 \n",
            " 10                  -1  1         0  torch.nn.modules.upsampling.Upsample         [None, 2, 'nearest']          \n",
            " 11             [-1, 6]  1         0  ultralytics.nn.modules.conv.Concat           [1]                           \n",
            " 12                  -1  1    148224  ultralytics.nn.modules.block.C2f             [384, 128, 1]                 \n",
            " 13                  -1  1         0  torch.nn.modules.upsampling.Upsample         [None, 2, 'nearest']          \n",
            " 14             [-1, 4]  1         0  ultralytics.nn.modules.conv.Concat           [1]                           \n",
            " 15                  -1  1     37248  ultralytics.nn.modules.block.C2f             [192, 64, 1]                  \n",
            " 16                  -1  1     36992  ultralytics.nn.modules.conv.Conv             [64, 64, 3, 2]                \n",
            " 17            [-1, 12]  1         0  ultralytics.nn.modules.conv.Concat           [1]                           \n",
            " 18                  -1  1    123648  ultralytics.nn.modules.block.C2f             [192, 128, 1]                 \n",
            " 19                  -1  1    147712  ultralytics.nn.modules.conv.Conv             [128, 128, 3, 2]              \n",
            " 20             [-1, 9]  1         0  ultralytics.nn.modules.conv.Concat           [1]                           \n",
            " 21                  -1  1    493056  ultralytics.nn.modules.block.C2f             [384, 256, 1]                 \n",
            " 22        [15, 18, 21]  1    751507  ultralytics.nn.modules.head.Detect           [1, [64, 128, 256]]           \n",
            "Model summary: 225 layers, 3011043 parameters, 3011027 gradients, 8.2 GFLOPs\n",
            "\n",
            "Transferred 319/355 items from pretrained weights\n",
            "\u001b[34m\u001b[1mTensorBoard: \u001b[0mStart with 'tensorboard --logdir runs/detect/train', view at http://localhost:6006/\n",
            "Freezing layer 'model.22.dfl.conv.weight'\n",
            "\u001b[34m\u001b[1mAMP: \u001b[0mrunning Automatic Mixed Precision (AMP) checks with YOLOv8n...\n"
          ]
        },
        {
          "output_type": "stream",
          "name": "stderr",
          "text": [
            "/usr/local/lib/python3.10/dist-packages/torch/nn/modules/conv.py:456: UserWarning: Plan failed with a cudnnException: CUDNN_BACKEND_EXECUTION_PLAN_DESCRIPTOR: cudnnFinalize Descriptor Failed cudnn_status: CUDNN_STATUS_NOT_SUPPORTED (Triggered internally at ../aten/src/ATen/native/cudnn/Conv_v8.cpp:919.)\n",
            "  return F.conv2d(input, weight, bias, self.stride,\n"
          ]
        },
        {
          "output_type": "stream",
          "name": "stdout",
          "text": [
            "\u001b[34m\u001b[1mAMP: \u001b[0mchecks passed ✅\n"
          ]
        },
        {
          "output_type": "stream",
          "name": "stderr",
          "text": [
            "\u001b[34m\u001b[1mtrain: \u001b[0mScanning /content/drive/MyDrive/dataset/labels/train... 234 images, 5 backgrounds, 2 corrupt: 100%|██████████| 234/234 [00:02<00:00, 106.72it/s]"
          ]
        },
        {
          "output_type": "stream",
          "name": "stdout",
          "text": [
            "\u001b[34m\u001b[1mtrain: \u001b[0mWARNING ⚠️ /content/drive/MyDrive/dataset/images/train/1.JPG: ignoring corrupt image/label: setting an array element with a sequence. The requested array has an inhomogeneous shape after 1 dimensions. The detected shape was (178,) + inhomogeneous part.\n",
            "\u001b[34m\u001b[1mtrain: \u001b[0mWARNING ⚠️ /content/drive/MyDrive/dataset/images/train/DJI_0145.JPG: ignoring corrupt image/label: setting an array element with a sequence. The requested array has an inhomogeneous shape after 1 dimensions. The detected shape was (178,) + inhomogeneous part.\n"
          ]
        },
        {
          "output_type": "stream",
          "name": "stderr",
          "text": [
            "\n"
          ]
        },
        {
          "output_type": "stream",
          "name": "stdout",
          "text": [
            "\u001b[34m\u001b[1mtrain: \u001b[0mNew cache created: /content/drive/MyDrive/dataset/labels/train.cache\n",
            "\u001b[34m\u001b[1malbumentations: \u001b[0mBlur(p=0.01, blur_limit=(3, 7)), MedianBlur(p=0.01, blur_limit=(3, 7)), ToGray(p=0.01), CLAHE(p=0.01, clip_limit=(1, 4.0), tile_grid_size=(8, 8))\n"
          ]
        },
        {
          "output_type": "stream",
          "name": "stderr",
          "text": [
            "/usr/lib/python3.10/multiprocessing/popen_fork.py:66: RuntimeWarning: os.fork() was called. os.fork() is incompatible with multithreaded code, and JAX is multithreaded, so this will likely lead to a deadlock.\n",
            "  self.pid = os.fork()\n",
            "\u001b[34m\u001b[1mval: \u001b[0mScanning /content/drive/MyDrive/dataset/labels/val... 58 images, 1 backgrounds, 0 corrupt: 100%|██████████| 58/58 [00:00<00:00, 65.78it/s]\n"
          ]
        },
        {
          "output_type": "stream",
          "name": "stdout",
          "text": [
            "\u001b[34m\u001b[1mval: \u001b[0mNew cache created: /content/drive/MyDrive/dataset/labels/val.cache\n",
            "Plotting labels to runs/detect/train/labels.jpg... \n",
            "\u001b[34m\u001b[1moptimizer:\u001b[0m 'optimizer=auto' found, ignoring 'lr0=0.01' and 'momentum=0.937' and determining best 'optimizer', 'lr0' and 'momentum' automatically... \n",
            "\u001b[34m\u001b[1moptimizer:\u001b[0m AdamW(lr=0.002, momentum=0.9) with parameter groups 57 weight(decay=0.0), 64 weight(decay=0.0005), 63 bias(decay=0.0)\n",
            "\u001b[34m\u001b[1mTensorBoard: \u001b[0mmodel graph visualization added ✅\n",
            "Image sizes 640 train, 640 val\n",
            "Using 2 dataloader workers\n",
            "Logging results to \u001b[1mruns/detect/train\u001b[0m\n",
            "Starting training for 50 epochs...\n",
            "\n",
            "      Epoch    GPU_mem   box_loss   cls_loss   dfl_loss  Instances       Size\n"
          ]
        },
        {
          "output_type": "stream",
          "name": "stderr",
          "text": [
            "       1/50      3.69G      2.134       3.15      1.391        524        640: 100%|██████████| 15/15 [01:20<00:00,  5.34s/it]\n",
            "                 Class     Images  Instances      Box(P          R      mAP50  mAP50-95): 100%|██████████| 2/2 [00:06<00:00,  3.15s/it]"
          ]
        },
        {
          "output_type": "stream",
          "name": "stdout",
          "text": [
            "                   all         58       2741     0.0974      0.618      0.212     0.0759\n"
          ]
        },
        {
          "output_type": "stream",
          "name": "stderr",
          "text": [
            "\n"
          ]
        },
        {
          "output_type": "stream",
          "name": "stdout",
          "text": [
            "\n",
            "      Epoch    GPU_mem   box_loss   cls_loss   dfl_loss  Instances       Size\n"
          ]
        },
        {
          "output_type": "stream",
          "name": "stderr",
          "text": [
            "       2/50      4.96G      1.858      1.452      1.117        448        640: 100%|██████████| 15/15 [00:44<00:00,  2.99s/it]\n",
            "                 Class     Images  Instances      Box(P          R      mAP50  mAP50-95): 100%|██████████| 2/2 [00:01<00:00,  1.15it/s]"
          ]
        },
        {
          "output_type": "stream",
          "name": "stdout",
          "text": [
            "                   all         58       2741      0.731      0.595      0.643      0.303\n"
          ]
        },
        {
          "output_type": "stream",
          "name": "stderr",
          "text": [
            "\n"
          ]
        },
        {
          "output_type": "stream",
          "name": "stdout",
          "text": [
            "\n",
            "      Epoch    GPU_mem   box_loss   cls_loss   dfl_loss  Instances       Size\n"
          ]
        },
        {
          "output_type": "stream",
          "name": "stderr",
          "text": [
            "       3/50      4.78G      1.737      1.133      1.091        444        640: 100%|██████████| 15/15 [00:47<00:00,  3.20s/it]\n",
            "                 Class     Images  Instances      Box(P          R      mAP50  mAP50-95): 100%|██████████| 2/2 [00:01<00:00,  1.31it/s]"
          ]
        },
        {
          "output_type": "stream",
          "name": "stdout",
          "text": [
            "                   all         58       2741      0.797      0.793      0.813      0.373\n"
          ]
        },
        {
          "output_type": "stream",
          "name": "stderr",
          "text": [
            "\n"
          ]
        },
        {
          "output_type": "stream",
          "name": "stdout",
          "text": [
            "\n",
            "      Epoch    GPU_mem   box_loss   cls_loss   dfl_loss  Instances       Size\n"
          ]
        },
        {
          "output_type": "stream",
          "name": "stderr",
          "text": [
            "       4/50      3.63G      1.706      1.067      1.082        706        640: 100%|██████████| 15/15 [00:53<00:00,  3.58s/it]\n",
            "                 Class     Images  Instances      Box(P          R      mAP50  mAP50-95): 100%|██████████| 2/2 [00:01<00:00,  1.85it/s]"
          ]
        },
        {
          "output_type": "stream",
          "name": "stdout",
          "text": [
            "                   all         58       2741      0.741      0.753      0.739      0.324\n"
          ]
        },
        {
          "output_type": "stream",
          "name": "stderr",
          "text": [
            "\n"
          ]
        },
        {
          "output_type": "stream",
          "name": "stdout",
          "text": [
            "\n",
            "      Epoch    GPU_mem   box_loss   cls_loss   dfl_loss  Instances       Size\n"
          ]
        },
        {
          "output_type": "stream",
          "name": "stderr",
          "text": [
            "       5/50         5G      1.733        1.1      1.095        591        640: 100%|██████████| 15/15 [00:51<00:00,  3.46s/it]\n",
            "                 Class     Images  Instances      Box(P          R      mAP50  mAP50-95): 100%|██████████| 2/2 [00:00<00:00,  2.13it/s]"
          ]
        },
        {
          "output_type": "stream",
          "name": "stdout",
          "text": [
            "                   all         58       2741      0.815      0.788      0.829      0.384\n"
          ]
        },
        {
          "output_type": "stream",
          "name": "stderr",
          "text": [
            "\n"
          ]
        },
        {
          "output_type": "stream",
          "name": "stdout",
          "text": [
            "\n",
            "      Epoch    GPU_mem   box_loss   cls_loss   dfl_loss  Instances       Size\n"
          ]
        },
        {
          "output_type": "stream",
          "name": "stderr",
          "text": [
            "       6/50      3.64G      1.702      1.053      1.075        428        640: 100%|██████████| 15/15 [00:47<00:00,  3.15s/it]\n",
            "                 Class     Images  Instances      Box(P          R      mAP50  mAP50-95): 100%|██████████| 2/2 [00:01<00:00,  1.09it/s]"
          ]
        },
        {
          "output_type": "stream",
          "name": "stdout",
          "text": [
            "                   all         58       2741       0.79      0.785       0.81      0.376\n"
          ]
        },
        {
          "output_type": "stream",
          "name": "stderr",
          "text": [
            "\n"
          ]
        },
        {
          "output_type": "stream",
          "name": "stdout",
          "text": [
            "\n",
            "      Epoch    GPU_mem   box_loss   cls_loss   dfl_loss  Instances       Size\n"
          ]
        },
        {
          "output_type": "stream",
          "name": "stderr",
          "text": [
            "       7/50         5G      1.716      1.053      1.079        368        640: 100%|██████████| 15/15 [00:52<00:00,  3.52s/it]\n",
            "                 Class     Images  Instances      Box(P          R      mAP50  mAP50-95): 100%|██████████| 2/2 [00:01<00:00,  1.69it/s]"
          ]
        },
        {
          "output_type": "stream",
          "name": "stdout",
          "text": [
            "                   all         58       2741      0.734      0.745      0.758       0.37\n"
          ]
        },
        {
          "output_type": "stream",
          "name": "stderr",
          "text": [
            "\n"
          ]
        },
        {
          "output_type": "stream",
          "name": "stdout",
          "text": [
            "\n",
            "      Epoch    GPU_mem   box_loss   cls_loss   dfl_loss  Instances       Size\n"
          ]
        },
        {
          "output_type": "stream",
          "name": "stderr",
          "text": [
            "       8/50      3.51G      1.648     0.9968      1.064        489        640: 100%|██████████| 15/15 [00:50<00:00,  3.39s/it]\n",
            "                 Class     Images  Instances      Box(P          R      mAP50  mAP50-95): 100%|██████████| 2/2 [00:01<00:00,  1.09it/s]"
          ]
        },
        {
          "output_type": "stream",
          "name": "stdout",
          "text": [
            "                   all         58       2741      0.774      0.822      0.814      0.405\n"
          ]
        },
        {
          "output_type": "stream",
          "name": "stderr",
          "text": [
            "\n"
          ]
        },
        {
          "output_type": "stream",
          "name": "stdout",
          "text": [
            "\n",
            "      Epoch    GPU_mem   box_loss   cls_loss   dfl_loss  Instances       Size\n"
          ]
        },
        {
          "output_type": "stream",
          "name": "stderr",
          "text": [
            "       9/50      3.77G      1.679     0.9865      1.058        380        640: 100%|██████████| 15/15 [00:48<00:00,  3.25s/it]\n",
            "                 Class     Images  Instances      Box(P          R      mAP50  mAP50-95): 100%|██████████| 2/2 [00:01<00:00,  1.72it/s]"
          ]
        },
        {
          "output_type": "stream",
          "name": "stdout",
          "text": [
            "                   all         58       2741      0.795      0.811      0.835      0.392\n"
          ]
        },
        {
          "output_type": "stream",
          "name": "stderr",
          "text": [
            "\n"
          ]
        },
        {
          "output_type": "stream",
          "name": "stdout",
          "text": [
            "\n",
            "      Epoch    GPU_mem   box_loss   cls_loss   dfl_loss  Instances       Size\n"
          ]
        },
        {
          "output_type": "stream",
          "name": "stderr",
          "text": [
            "      10/50      4.55G      1.652      1.002       1.07        644        640: 100%|██████████| 15/15 [00:52<00:00,  3.51s/it]\n",
            "                 Class     Images  Instances      Box(P          R      mAP50  mAP50-95): 100%|██████████| 2/2 [00:01<00:00,  1.85it/s]"
          ]
        },
        {
          "output_type": "stream",
          "name": "stdout",
          "text": [
            "                   all         58       2741      0.841      0.837       0.87      0.432\n"
          ]
        },
        {
          "output_type": "stream",
          "name": "stderr",
          "text": [
            "\n"
          ]
        },
        {
          "output_type": "stream",
          "name": "stdout",
          "text": [
            "\n",
            "      Epoch    GPU_mem   box_loss   cls_loss   dfl_loss  Instances       Size\n"
          ]
        },
        {
          "output_type": "stream",
          "name": "stderr",
          "text": [
            "      11/50      5.35G      1.644      0.977      1.062        411        640: 100%|██████████| 15/15 [00:48<00:00,  3.21s/it]\n",
            "                 Class     Images  Instances      Box(P          R      mAP50  mAP50-95): 100%|██████████| 2/2 [00:02<00:00,  1.11s/it]"
          ]
        },
        {
          "output_type": "stream",
          "name": "stdout",
          "text": [
            "                   all         58       2741      0.832      0.846      0.867      0.431\n"
          ]
        },
        {
          "output_type": "stream",
          "name": "stderr",
          "text": [
            "\n"
          ]
        },
        {
          "output_type": "stream",
          "name": "stdout",
          "text": [
            "\n",
            "      Epoch    GPU_mem   box_loss   cls_loss   dfl_loss  Instances       Size\n"
          ]
        },
        {
          "output_type": "stream",
          "name": "stderr",
          "text": [
            "      12/50      3.93G      1.671     0.9582      1.054        765        640: 100%|██████████| 15/15 [00:47<00:00,  3.18s/it]\n",
            "                 Class     Images  Instances      Box(P          R      mAP50  mAP50-95): 100%|██████████| 2/2 [00:01<00:00,  1.69it/s]"
          ]
        },
        {
          "output_type": "stream",
          "name": "stdout",
          "text": [
            "                   all         58       2741      0.866      0.861      0.894      0.439\n"
          ]
        },
        {
          "output_type": "stream",
          "name": "stderr",
          "text": [
            "\n"
          ]
        },
        {
          "output_type": "stream",
          "name": "stdout",
          "text": [
            "\n",
            "      Epoch    GPU_mem   box_loss   cls_loss   dfl_loss  Instances       Size\n"
          ]
        },
        {
          "output_type": "stream",
          "name": "stderr",
          "text": [
            "      13/50      3.61G       1.62     0.9457      1.054        520        640: 100%|██████████| 15/15 [00:49<00:00,  3.32s/it]\n",
            "                 Class     Images  Instances      Box(P          R      mAP50  mAP50-95): 100%|██████████| 2/2 [00:01<00:00,  1.57it/s]"
          ]
        },
        {
          "output_type": "stream",
          "name": "stdout",
          "text": [
            "                   all         58       2741      0.859      0.882      0.892       0.44\n"
          ]
        },
        {
          "output_type": "stream",
          "name": "stderr",
          "text": [
            "\n"
          ]
        },
        {
          "output_type": "stream",
          "name": "stdout",
          "text": [
            "\n",
            "      Epoch    GPU_mem   box_loss   cls_loss   dfl_loss  Instances       Size\n"
          ]
        },
        {
          "output_type": "stream",
          "name": "stderr",
          "text": [
            "      14/50      4.01G      1.629     0.9257      1.053        738        640: 100%|██████████| 15/15 [00:46<00:00,  3.13s/it]\n",
            "                 Class     Images  Instances      Box(P          R      mAP50  mAP50-95): 100%|██████████| 2/2 [00:01<00:00,  1.16it/s]"
          ]
        },
        {
          "output_type": "stream",
          "name": "stdout",
          "text": [
            "                   all         58       2741      0.866       0.88      0.906      0.454\n"
          ]
        },
        {
          "output_type": "stream",
          "name": "stderr",
          "text": [
            "\n"
          ]
        },
        {
          "output_type": "stream",
          "name": "stdout",
          "text": [
            "\n",
            "      Epoch    GPU_mem   box_loss   cls_loss   dfl_loss  Instances       Size\n"
          ]
        },
        {
          "output_type": "stream",
          "name": "stderr",
          "text": [
            "      15/50      4.57G      1.628     0.9336      1.044        409        640: 100%|██████████| 15/15 [00:49<00:00,  3.32s/it]\n",
            "                 Class     Images  Instances      Box(P          R      mAP50  mAP50-95): 100%|██████████| 2/2 [00:01<00:00,  1.57it/s]"
          ]
        },
        {
          "output_type": "stream",
          "name": "stdout",
          "text": [
            "                   all         58       2741      0.859      0.875      0.896      0.452\n"
          ]
        },
        {
          "output_type": "stream",
          "name": "stderr",
          "text": [
            "\n"
          ]
        },
        {
          "output_type": "stream",
          "name": "stdout",
          "text": [
            "\n",
            "      Epoch    GPU_mem   box_loss   cls_loss   dfl_loss  Instances       Size\n"
          ]
        },
        {
          "output_type": "stream",
          "name": "stderr",
          "text": [
            "      16/50      3.89G      1.579     0.9187      1.045        494        640: 100%|██████████| 15/15 [00:47<00:00,  3.17s/it]\n",
            "                 Class     Images  Instances      Box(P          R      mAP50  mAP50-95): 100%|██████████| 2/2 [00:01<00:00,  1.06it/s]"
          ]
        },
        {
          "output_type": "stream",
          "name": "stdout",
          "text": [
            "                   all         58       2741      0.862      0.873      0.901      0.469\n"
          ]
        },
        {
          "output_type": "stream",
          "name": "stderr",
          "text": [
            "\n"
          ]
        },
        {
          "output_type": "stream",
          "name": "stdout",
          "text": [
            "\n",
            "      Epoch    GPU_mem   box_loss   cls_loss   dfl_loss  Instances       Size\n"
          ]
        },
        {
          "output_type": "stream",
          "name": "stderr",
          "text": [
            "      17/50      5.71G      1.604      0.891       1.04        629        640: 100%|██████████| 15/15 [00:47<00:00,  3.14s/it]\n",
            "                 Class     Images  Instances      Box(P          R      mAP50  mAP50-95): 100%|██████████| 2/2 [00:01<00:00,  1.28it/s]"
          ]
        },
        {
          "output_type": "stream",
          "name": "stdout",
          "text": [
            "                   all         58       2741      0.864      0.872      0.904      0.437\n"
          ]
        },
        {
          "output_type": "stream",
          "name": "stderr",
          "text": [
            "\n"
          ]
        },
        {
          "output_type": "stream",
          "name": "stdout",
          "text": [
            "\n",
            "      Epoch    GPU_mem   box_loss   cls_loss   dfl_loss  Instances       Size\n"
          ]
        },
        {
          "output_type": "stream",
          "name": "stderr",
          "text": [
            "      18/50      4.51G      1.614     0.8875      1.058        521        640: 100%|██████████| 15/15 [00:51<00:00,  3.47s/it]\n",
            "                 Class     Images  Instances      Box(P          R      mAP50  mAP50-95): 100%|██████████| 2/2 [00:01<00:00,  1.61it/s]"
          ]
        },
        {
          "output_type": "stream",
          "name": "stdout",
          "text": [
            "                   all         58       2741      0.822      0.894      0.874      0.422\n"
          ]
        },
        {
          "output_type": "stream",
          "name": "stderr",
          "text": [
            "\n"
          ]
        },
        {
          "output_type": "stream",
          "name": "stdout",
          "text": [
            "\n",
            "      Epoch    GPU_mem   box_loss   cls_loss   dfl_loss  Instances       Size\n"
          ]
        },
        {
          "output_type": "stream",
          "name": "stderr",
          "text": [
            "      19/50      5.76G      1.614     0.9147      1.036        570        640: 100%|██████████| 15/15 [00:48<00:00,  3.23s/it]\n",
            "                 Class     Images  Instances      Box(P          R      mAP50  mAP50-95): 100%|██████████| 2/2 [00:01<00:00,  1.44it/s]"
          ]
        },
        {
          "output_type": "stream",
          "name": "stdout",
          "text": [
            "                   all         58       2741      0.845      0.884      0.892      0.423\n"
          ]
        },
        {
          "output_type": "stream",
          "name": "stderr",
          "text": [
            "\n"
          ]
        },
        {
          "output_type": "stream",
          "name": "stdout",
          "text": [
            "\n",
            "      Epoch    GPU_mem   box_loss   cls_loss   dfl_loss  Instances       Size\n"
          ]
        },
        {
          "output_type": "stream",
          "name": "stderr",
          "text": [
            "      20/50      4.67G      1.602     0.9072      1.039        607        640: 100%|██████████| 15/15 [00:49<00:00,  3.28s/it]\n",
            "                 Class     Images  Instances      Box(P          R      mAP50  mAP50-95): 100%|██████████| 2/2 [00:01<00:00,  1.03it/s]"
          ]
        },
        {
          "output_type": "stream",
          "name": "stdout",
          "text": [
            "                   all         58       2741      0.863      0.899      0.907      0.478\n"
          ]
        },
        {
          "output_type": "stream",
          "name": "stderr",
          "text": [
            "\n"
          ]
        },
        {
          "output_type": "stream",
          "name": "stdout",
          "text": [
            "\n",
            "      Epoch    GPU_mem   box_loss   cls_loss   dfl_loss  Instances       Size\n"
          ]
        },
        {
          "output_type": "stream",
          "name": "stderr",
          "text": [
            "      21/50       3.8G      1.574     0.8774      1.053        278        640: 100%|██████████| 15/15 [00:47<00:00,  3.17s/it]\n",
            "                 Class     Images  Instances      Box(P          R      mAP50  mAP50-95): 100%|██████████| 2/2 [00:00<00:00,  2.06it/s]"
          ]
        },
        {
          "output_type": "stream",
          "name": "stdout",
          "text": [
            "                   all         58       2741      0.845      0.889      0.892      0.462\n"
          ]
        },
        {
          "output_type": "stream",
          "name": "stderr",
          "text": [
            "\n"
          ]
        },
        {
          "output_type": "stream",
          "name": "stdout",
          "text": [
            "\n",
            "      Epoch    GPU_mem   box_loss   cls_loss   dfl_loss  Instances       Size\n"
          ]
        },
        {
          "output_type": "stream",
          "name": "stderr",
          "text": [
            "      22/50      4.28G      1.598      0.855      1.038        499        640: 100%|██████████| 15/15 [00:53<00:00,  3.57s/it]\n",
            "                 Class     Images  Instances      Box(P          R      mAP50  mAP50-95): 100%|██████████| 2/2 [00:01<00:00,  1.32it/s]"
          ]
        },
        {
          "output_type": "stream",
          "name": "stdout",
          "text": [
            "                   all         58       2741      0.876      0.892      0.918      0.477\n"
          ]
        },
        {
          "output_type": "stream",
          "name": "stderr",
          "text": [
            "\n"
          ]
        },
        {
          "output_type": "stream",
          "name": "stdout",
          "text": [
            "\n",
            "      Epoch    GPU_mem   box_loss   cls_loss   dfl_loss  Instances       Size\n"
          ]
        },
        {
          "output_type": "stream",
          "name": "stderr",
          "text": [
            "      23/50      5.03G      1.578     0.8606      1.031        609        640: 100%|██████████| 15/15 [00:50<00:00,  3.39s/it]\n",
            "                 Class     Images  Instances      Box(P          R      mAP50  mAP50-95): 100%|██████████| 2/2 [00:01<00:00,  1.03it/s]"
          ]
        },
        {
          "output_type": "stream",
          "name": "stdout",
          "text": [
            "                   all         58       2741      0.859      0.887      0.907      0.472\n"
          ]
        },
        {
          "output_type": "stream",
          "name": "stderr",
          "text": [
            "\n"
          ]
        },
        {
          "output_type": "stream",
          "name": "stdout",
          "text": [
            "\n",
            "      Epoch    GPU_mem   box_loss   cls_loss   dfl_loss  Instances       Size\n"
          ]
        },
        {
          "output_type": "stream",
          "name": "stderr",
          "text": [
            "      24/50      4.12G       1.53      0.828      1.028        446        640: 100%|██████████| 15/15 [00:51<00:00,  3.41s/it]\n",
            "                 Class     Images  Instances      Box(P          R      mAP50  mAP50-95): 100%|██████████| 2/2 [00:01<00:00,  1.63it/s]"
          ]
        },
        {
          "output_type": "stream",
          "name": "stdout",
          "text": [
            "                   all         58       2741      0.876      0.896      0.919      0.485\n"
          ]
        },
        {
          "output_type": "stream",
          "name": "stderr",
          "text": [
            "\n"
          ]
        },
        {
          "output_type": "stream",
          "name": "stdout",
          "text": [
            "\n",
            "      Epoch    GPU_mem   box_loss   cls_loss   dfl_loss  Instances       Size\n"
          ]
        },
        {
          "output_type": "stream",
          "name": "stderr",
          "text": [
            "      25/50      4.33G       1.55     0.8295      1.024        350        640: 100%|██████████| 15/15 [00:50<00:00,  3.34s/it]\n",
            "                 Class     Images  Instances      Box(P          R      mAP50  mAP50-95): 100%|██████████| 2/2 [00:02<00:00,  1.04s/it]"
          ]
        },
        {
          "output_type": "stream",
          "name": "stdout",
          "text": [
            "                   all         58       2741      0.876      0.887      0.918      0.463\n"
          ]
        },
        {
          "output_type": "stream",
          "name": "stderr",
          "text": [
            "\n"
          ]
        },
        {
          "output_type": "stream",
          "name": "stdout",
          "text": [
            "\n",
            "      Epoch    GPU_mem   box_loss   cls_loss   dfl_loss  Instances       Size\n"
          ]
        },
        {
          "output_type": "stream",
          "name": "stderr",
          "text": [
            "      26/50      4.31G      1.532     0.8228      1.039        355        640: 100%|██████████| 15/15 [00:49<00:00,  3.28s/it]\n",
            "                 Class     Images  Instances      Box(P          R      mAP50  mAP50-95): 100%|██████████| 2/2 [00:01<00:00,  1.51it/s]"
          ]
        },
        {
          "output_type": "stream",
          "name": "stdout",
          "text": [
            "                   all         58       2741      0.864      0.878      0.894      0.451\n"
          ]
        },
        {
          "output_type": "stream",
          "name": "stderr",
          "text": [
            "\n"
          ]
        },
        {
          "output_type": "stream",
          "name": "stdout",
          "text": [
            "\n",
            "      Epoch    GPU_mem   box_loss   cls_loss   dfl_loss  Instances       Size\n"
          ]
        },
        {
          "output_type": "stream",
          "name": "stderr",
          "text": [
            "      27/50      4.61G      1.557     0.8369       1.03        322        640: 100%|██████████| 15/15 [00:44<00:00,  2.97s/it]\n",
            "                 Class     Images  Instances      Box(P          R      mAP50  mAP50-95): 100%|██████████| 2/2 [00:01<00:00,  1.11it/s]"
          ]
        },
        {
          "output_type": "stream",
          "name": "stdout",
          "text": [
            "                   all         58       2741      0.872       0.87      0.914      0.449\n"
          ]
        },
        {
          "output_type": "stream",
          "name": "stderr",
          "text": [
            "\n"
          ]
        },
        {
          "output_type": "stream",
          "name": "stdout",
          "text": [
            "\n",
            "      Epoch    GPU_mem   box_loss   cls_loss   dfl_loss  Instances       Size\n"
          ]
        },
        {
          "output_type": "stream",
          "name": "stderr",
          "text": [
            "      28/50      4.78G      1.543      0.846      1.025        305        640: 100%|██████████| 15/15 [00:49<00:00,  3.32s/it]\n",
            "                 Class     Images  Instances      Box(P          R      mAP50  mAP50-95): 100%|██████████| 2/2 [00:01<00:00,  1.52it/s]"
          ]
        },
        {
          "output_type": "stream",
          "name": "stdout",
          "text": [
            "                   all         58       2741      0.859      0.905        0.9      0.482\n"
          ]
        },
        {
          "output_type": "stream",
          "name": "stderr",
          "text": [
            "\n"
          ]
        },
        {
          "output_type": "stream",
          "name": "stdout",
          "text": [
            "\n",
            "      Epoch    GPU_mem   box_loss   cls_loss   dfl_loss  Instances       Size\n"
          ]
        },
        {
          "output_type": "stream",
          "name": "stderr",
          "text": [
            "      29/50      3.77G       1.55     0.8829      1.034        253        640: 100%|██████████| 15/15 [00:54<00:00,  3.64s/it]\n",
            "                 Class     Images  Instances      Box(P          R      mAP50  mAP50-95): 100%|██████████| 2/2 [00:02<00:00,  1.11s/it]"
          ]
        },
        {
          "output_type": "stream",
          "name": "stdout",
          "text": [
            "                   all         58       2741      0.827      0.868      0.872       0.44\n"
          ]
        },
        {
          "output_type": "stream",
          "name": "stderr",
          "text": [
            "\n"
          ]
        },
        {
          "output_type": "stream",
          "name": "stdout",
          "text": [
            "\n",
            "      Epoch    GPU_mem   box_loss   cls_loss   dfl_loss  Instances       Size\n"
          ]
        },
        {
          "output_type": "stream",
          "name": "stderr",
          "text": [
            "      30/50      4.74G      1.587      0.864      1.038        631        640: 100%|██████████| 15/15 [00:48<00:00,  3.26s/it]\n",
            "                 Class     Images  Instances      Box(P          R      mAP50  mAP50-95): 100%|██████████| 2/2 [00:02<00:00,  1.03s/it]"
          ]
        },
        {
          "output_type": "stream",
          "name": "stdout",
          "text": [
            "                   all         58       2741      0.886      0.879      0.924      0.467\n"
          ]
        },
        {
          "output_type": "stream",
          "name": "stderr",
          "text": [
            "\n"
          ]
        },
        {
          "output_type": "stream",
          "name": "stdout",
          "text": [
            "\n",
            "      Epoch    GPU_mem   box_loss   cls_loss   dfl_loss  Instances       Size\n"
          ]
        },
        {
          "output_type": "stream",
          "name": "stderr",
          "text": [
            "      31/50      3.37G      1.528     0.8131      1.036        492        640: 100%|██████████| 15/15 [00:47<00:00,  3.14s/it]\n",
            "                 Class     Images  Instances      Box(P          R      mAP50  mAP50-95): 100%|██████████| 2/2 [00:01<00:00,  1.88it/s]"
          ]
        },
        {
          "output_type": "stream",
          "name": "stdout",
          "text": [
            "                   all         58       2741      0.872      0.888      0.915      0.482\n"
          ]
        },
        {
          "output_type": "stream",
          "name": "stderr",
          "text": [
            "\n"
          ]
        },
        {
          "output_type": "stream",
          "name": "stdout",
          "text": [
            "\n",
            "      Epoch    GPU_mem   box_loss   cls_loss   dfl_loss  Instances       Size\n"
          ]
        },
        {
          "output_type": "stream",
          "name": "stderr",
          "text": [
            "      32/50       4.1G      1.516     0.8033      1.026        663        640: 100%|██████████| 15/15 [00:45<00:00,  3.03s/it]\n",
            "                 Class     Images  Instances      Box(P          R      mAP50  mAP50-95): 100%|██████████| 2/2 [00:01<00:00,  1.09it/s]"
          ]
        },
        {
          "output_type": "stream",
          "name": "stdout",
          "text": [
            "                   all         58       2741      0.883      0.894      0.926      0.494\n"
          ]
        },
        {
          "output_type": "stream",
          "name": "stderr",
          "text": [
            "\n"
          ]
        },
        {
          "output_type": "stream",
          "name": "stdout",
          "text": [
            "\n",
            "      Epoch    GPU_mem   box_loss   cls_loss   dfl_loss  Instances       Size\n"
          ]
        },
        {
          "output_type": "stream",
          "name": "stderr",
          "text": [
            "      33/50      4.14G      1.542     0.8112      1.014        411        640: 100%|██████████| 15/15 [00:48<00:00,  3.26s/it]\n",
            "                 Class     Images  Instances      Box(P          R      mAP50  mAP50-95): 100%|██████████| 2/2 [00:01<00:00,  1.78it/s]"
          ]
        },
        {
          "output_type": "stream",
          "name": "stdout",
          "text": [
            "                   all         58       2741      0.877      0.904      0.931      0.487\n"
          ]
        },
        {
          "output_type": "stream",
          "name": "stderr",
          "text": [
            "\n"
          ]
        },
        {
          "output_type": "stream",
          "name": "stdout",
          "text": [
            "\n",
            "      Epoch    GPU_mem   box_loss   cls_loss   dfl_loss  Instances       Size\n"
          ]
        },
        {
          "output_type": "stream",
          "name": "stderr",
          "text": [
            "      34/50      4.08G      1.513     0.7781      1.028        329        640: 100%|██████████| 15/15 [00:47<00:00,  3.17s/it]\n",
            "                 Class     Images  Instances      Box(P          R      mAP50  mAP50-95): 100%|██████████| 2/2 [00:01<00:00,  1.17it/s]"
          ]
        },
        {
          "output_type": "stream",
          "name": "stdout",
          "text": [
            "                   all         58       2741      0.877      0.899      0.919      0.495\n"
          ]
        },
        {
          "output_type": "stream",
          "name": "stderr",
          "text": [
            "\n"
          ]
        },
        {
          "output_type": "stream",
          "name": "stdout",
          "text": [
            "\n",
            "      Epoch    GPU_mem   box_loss   cls_loss   dfl_loss  Instances       Size\n"
          ]
        },
        {
          "output_type": "stream",
          "name": "stderr",
          "text": [
            "      35/50      4.62G      1.478     0.7852      1.012        497        640: 100%|██████████| 15/15 [00:49<00:00,  3.31s/it]\n",
            "                 Class     Images  Instances      Box(P          R      mAP50  mAP50-95): 100%|██████████| 2/2 [00:01<00:00,  1.81it/s]"
          ]
        },
        {
          "output_type": "stream",
          "name": "stdout",
          "text": [
            "                   all         58       2741      0.887      0.902      0.924      0.502\n"
          ]
        },
        {
          "output_type": "stream",
          "name": "stderr",
          "text": [
            "\n"
          ]
        },
        {
          "output_type": "stream",
          "name": "stdout",
          "text": [
            "\n",
            "      Epoch    GPU_mem   box_loss   cls_loss   dfl_loss  Instances       Size\n"
          ]
        },
        {
          "output_type": "stream",
          "name": "stderr",
          "text": [
            "      36/50      4.35G      1.504     0.7684       1.01        549        640: 100%|██████████| 15/15 [00:51<00:00,  3.44s/it]\n",
            "                 Class     Images  Instances      Box(P          R      mAP50  mAP50-95): 100%|██████████| 2/2 [00:00<00:00,  2.56it/s]"
          ]
        },
        {
          "output_type": "stream",
          "name": "stdout",
          "text": [
            "                   all         58       2741      0.889      0.893      0.931      0.493\n"
          ]
        },
        {
          "output_type": "stream",
          "name": "stderr",
          "text": [
            "\n"
          ]
        },
        {
          "output_type": "stream",
          "name": "stdout",
          "text": [
            "\n",
            "      Epoch    GPU_mem   box_loss   cls_loss   dfl_loss  Instances       Size\n"
          ]
        },
        {
          "output_type": "stream",
          "name": "stderr",
          "text": [
            "      37/50      3.62G      1.529     0.7744      1.016        409        640: 100%|██████████| 15/15 [00:45<00:00,  3.06s/it]\n",
            "                 Class     Images  Instances      Box(P          R      mAP50  mAP50-95): 100%|██████████| 2/2 [00:01<00:00,  1.88it/s]"
          ]
        },
        {
          "output_type": "stream",
          "name": "stdout",
          "text": [
            "                   all         58       2741      0.895      0.899       0.94      0.502\n"
          ]
        },
        {
          "output_type": "stream",
          "name": "stderr",
          "text": [
            "\n"
          ]
        },
        {
          "output_type": "stream",
          "name": "stdout",
          "text": [
            "\n",
            "      Epoch    GPU_mem   box_loss   cls_loss   dfl_loss  Instances       Size\n"
          ]
        },
        {
          "output_type": "stream",
          "name": "stderr",
          "text": [
            "      38/50      3.37G      1.477     0.7587      1.013        414        640: 100%|██████████| 15/15 [00:50<00:00,  3.36s/it]\n",
            "                 Class     Images  Instances      Box(P          R      mAP50  mAP50-95): 100%|██████████| 2/2 [00:01<00:00,  1.77it/s]"
          ]
        },
        {
          "output_type": "stream",
          "name": "stdout",
          "text": [
            "                   all         58       2741      0.885      0.895      0.935        0.5\n"
          ]
        },
        {
          "output_type": "stream",
          "name": "stderr",
          "text": [
            "\n"
          ]
        },
        {
          "output_type": "stream",
          "name": "stdout",
          "text": [
            "\n",
            "      Epoch    GPU_mem   box_loss   cls_loss   dfl_loss  Instances       Size\n"
          ]
        },
        {
          "output_type": "stream",
          "name": "stderr",
          "text": [
            "      39/50      4.64G      1.509     0.7678     0.9978        559        640: 100%|██████████| 15/15 [00:43<00:00,  2.91s/it]\n",
            "                 Class     Images  Instances      Box(P          R      mAP50  mAP50-95): 100%|██████████| 2/2 [00:00<00:00,  2.02it/s]"
          ]
        },
        {
          "output_type": "stream",
          "name": "stdout",
          "text": [
            "                   all         58       2741      0.892       0.89      0.934      0.496\n"
          ]
        },
        {
          "output_type": "stream",
          "name": "stderr",
          "text": [
            "\n"
          ]
        },
        {
          "output_type": "stream",
          "name": "stdout",
          "text": [
            "\n",
            "      Epoch    GPU_mem   box_loss   cls_loss   dfl_loss  Instances       Size\n"
          ]
        },
        {
          "output_type": "stream",
          "name": "stderr",
          "text": [
            "      40/50      3.63G      1.528     0.7881      1.004        477        640: 100%|██████████| 15/15 [00:53<00:00,  3.54s/it]\n",
            "                 Class     Images  Instances      Box(P          R      mAP50  mAP50-95): 100%|██████████| 2/2 [00:01<00:00,  1.29it/s]"
          ]
        },
        {
          "output_type": "stream",
          "name": "stdout",
          "text": [
            "                   all         58       2741      0.883      0.898       0.93      0.505\n"
          ]
        },
        {
          "output_type": "stream",
          "name": "stderr",
          "text": [
            "\n"
          ]
        },
        {
          "output_type": "stream",
          "name": "stdout",
          "text": [
            "Closing dataloader mosaic\n",
            "\u001b[34m\u001b[1malbumentations: \u001b[0mBlur(p=0.01, blur_limit=(3, 7)), MedianBlur(p=0.01, blur_limit=(3, 7)), ToGray(p=0.01), CLAHE(p=0.01, clip_limit=(1, 4.0), tile_grid_size=(8, 8))\n"
          ]
        },
        {
          "output_type": "stream",
          "name": "stderr",
          "text": [
            "/usr/lib/python3.10/multiprocessing/popen_fork.py:66: RuntimeWarning: os.fork() was called. os.fork() is incompatible with multithreaded code, and JAX is multithreaded, so this will likely lead to a deadlock.\n",
            "  self.pid = os.fork()\n"
          ]
        },
        {
          "output_type": "stream",
          "name": "stdout",
          "text": [
            "\n",
            "      Epoch    GPU_mem   box_loss   cls_loss   dfl_loss  Instances       Size\n"
          ]
        },
        {
          "output_type": "stream",
          "name": "stderr",
          "text": [
            "      41/50      4.06G      1.542     0.8511      1.048        277        640: 100%|██████████| 15/15 [01:16<00:00,  5.08s/it]\n",
            "                 Class     Images  Instances      Box(P          R      mAP50  mAP50-95): 100%|██████████| 2/2 [00:01<00:00,  1.61it/s]"
          ]
        },
        {
          "output_type": "stream",
          "name": "stdout",
          "text": [
            "                   all         58       2741      0.877      0.911      0.914      0.497\n"
          ]
        },
        {
          "output_type": "stream",
          "name": "stderr",
          "text": [
            "\n"
          ]
        },
        {
          "output_type": "stream",
          "name": "stdout",
          "text": [
            "\n",
            "      Epoch    GPU_mem   box_loss   cls_loss   dfl_loss  Instances       Size\n"
          ]
        },
        {
          "output_type": "stream",
          "name": "stderr",
          "text": [
            "      42/50      3.66G      1.506     0.7986      1.031        377        640: 100%|██████████| 15/15 [00:43<00:00,  2.87s/it]\n",
            "                 Class     Images  Instances      Box(P          R      mAP50  mAP50-95): 100%|██████████| 2/2 [00:02<00:00,  1.00s/it]"
          ]
        },
        {
          "output_type": "stream",
          "name": "stdout",
          "text": [
            "                   all         58       2741       0.87      0.916      0.922      0.492\n"
          ]
        },
        {
          "output_type": "stream",
          "name": "stderr",
          "text": [
            "\n"
          ]
        },
        {
          "output_type": "stream",
          "name": "stdout",
          "text": [
            "\n",
            "      Epoch    GPU_mem   box_loss   cls_loss   dfl_loss  Instances       Size\n"
          ]
        },
        {
          "output_type": "stream",
          "name": "stderr",
          "text": [
            "      43/50      3.45G      1.494     0.7799      1.028        375        640: 100%|██████████| 15/15 [00:46<00:00,  3.08s/it]\n",
            "                 Class     Images  Instances      Box(P          R      mAP50  mAP50-95): 100%|██████████| 2/2 [00:00<00:00,  2.03it/s]"
          ]
        },
        {
          "output_type": "stream",
          "name": "stdout",
          "text": [
            "                   all         58       2741      0.877      0.905      0.927      0.505\n"
          ]
        },
        {
          "output_type": "stream",
          "name": "stderr",
          "text": [
            "\n"
          ]
        },
        {
          "output_type": "stream",
          "name": "stdout",
          "text": [
            "\n",
            "      Epoch    GPU_mem   box_loss   cls_loss   dfl_loss  Instances       Size\n"
          ]
        },
        {
          "output_type": "stream",
          "name": "stderr",
          "text": [
            "      44/50      3.68G       1.48     0.7621      1.023        322        640: 100%|██████████| 15/15 [00:42<00:00,  2.80s/it]\n",
            "                 Class     Images  Instances      Box(P          R      mAP50  mAP50-95): 100%|██████████| 2/2 [00:01<00:00,  1.58it/s]"
          ]
        },
        {
          "output_type": "stream",
          "name": "stdout",
          "text": [
            "                   all         58       2741      0.871       0.91      0.931      0.504\n"
          ]
        },
        {
          "output_type": "stream",
          "name": "stderr",
          "text": [
            "\n"
          ]
        },
        {
          "output_type": "stream",
          "name": "stdout",
          "text": [
            "\n",
            "      Epoch    GPU_mem   box_loss   cls_loss   dfl_loss  Instances       Size\n"
          ]
        },
        {
          "output_type": "stream",
          "name": "stderr",
          "text": [
            "      45/50       3.5G      1.483     0.7506      1.025        224        640: 100%|██████████| 15/15 [00:44<00:00,  2.95s/it]\n",
            "                 Class     Images  Instances      Box(P          R      mAP50  mAP50-95): 100%|██████████| 2/2 [00:01<00:00,  1.32it/s]"
          ]
        },
        {
          "output_type": "stream",
          "name": "stdout",
          "text": [
            "                   all         58       2741      0.869      0.915      0.929      0.508\n"
          ]
        },
        {
          "output_type": "stream",
          "name": "stderr",
          "text": [
            "\n"
          ]
        },
        {
          "output_type": "stream",
          "name": "stdout",
          "text": [
            "\n",
            "      Epoch    GPU_mem   box_loss   cls_loss   dfl_loss  Instances       Size\n"
          ]
        },
        {
          "output_type": "stream",
          "name": "stderr",
          "text": [
            "      46/50      3.55G      1.458     0.7435      1.024        217        640: 100%|██████████| 15/15 [00:40<00:00,  2.70s/it]\n",
            "                 Class     Images  Instances      Box(P          R      mAP50  mAP50-95): 100%|██████████| 2/2 [00:00<00:00,  2.20it/s]"
          ]
        },
        {
          "output_type": "stream",
          "name": "stdout",
          "text": [
            "                   all         58       2741      0.884      0.905      0.935      0.502\n"
          ]
        },
        {
          "output_type": "stream",
          "name": "stderr",
          "text": [
            "\n"
          ]
        },
        {
          "output_type": "stream",
          "name": "stdout",
          "text": [
            "\n",
            "      Epoch    GPU_mem   box_loss   cls_loss   dfl_loss  Instances       Size\n"
          ]
        },
        {
          "output_type": "stream",
          "name": "stderr",
          "text": [
            "      47/50       3.8G      1.461     0.7499      1.029        241        640: 100%|██████████| 15/15 [00:45<00:00,  3.04s/it]\n",
            "                 Class     Images  Instances      Box(P          R      mAP50  mAP50-95): 100%|██████████| 2/2 [00:00<00:00,  2.48it/s]"
          ]
        },
        {
          "output_type": "stream",
          "name": "stdout",
          "text": [
            "                   all         58       2741      0.896      0.895      0.937      0.502\n"
          ]
        },
        {
          "output_type": "stream",
          "name": "stderr",
          "text": [
            "\n"
          ]
        },
        {
          "output_type": "stream",
          "name": "stdout",
          "text": [
            "\n",
            "      Epoch    GPU_mem   box_loss   cls_loss   dfl_loss  Instances       Size\n"
          ]
        },
        {
          "output_type": "stream",
          "name": "stderr",
          "text": [
            "      48/50         4G      1.455     0.7401      1.022        223        640: 100%|██████████| 15/15 [00:40<00:00,  2.72s/it]\n",
            "                 Class     Images  Instances      Box(P          R      mAP50  mAP50-95): 100%|██████████| 2/2 [00:01<00:00,  1.09it/s]"
          ]
        },
        {
          "output_type": "stream",
          "name": "stdout",
          "text": [
            "                   all         58       2741       0.91      0.894      0.944      0.512\n"
          ]
        },
        {
          "output_type": "stream",
          "name": "stderr",
          "text": [
            "\n"
          ]
        },
        {
          "output_type": "stream",
          "name": "stdout",
          "text": [
            "\n",
            "      Epoch    GPU_mem   box_loss   cls_loss   dfl_loss  Instances       Size\n"
          ]
        },
        {
          "output_type": "stream",
          "name": "stderr",
          "text": [
            "      49/50      3.79G      1.457     0.7455      1.031        154        640: 100%|██████████| 15/15 [00:45<00:00,  3.06s/it]\n",
            "                 Class     Images  Instances      Box(P          R      mAP50  mAP50-95): 100%|██████████| 2/2 [00:01<00:00,  1.98it/s]"
          ]
        },
        {
          "output_type": "stream",
          "name": "stdout",
          "text": [
            "                   all         58       2741      0.906      0.893      0.943      0.509\n"
          ]
        },
        {
          "output_type": "stream",
          "name": "stderr",
          "text": [
            "\n"
          ]
        },
        {
          "output_type": "stream",
          "name": "stdout",
          "text": [
            "\n",
            "      Epoch    GPU_mem   box_loss   cls_loss   dfl_loss  Instances       Size\n"
          ]
        },
        {
          "output_type": "stream",
          "name": "stderr",
          "text": [
            "      50/50      3.49G      1.441     0.7236      1.019        177        640: 100%|██████████| 15/15 [00:50<00:00,  3.37s/it]\n",
            "                 Class     Images  Instances      Box(P          R      mAP50  mAP50-95): 100%|██████████| 2/2 [00:00<00:00,  2.06it/s]"
          ]
        },
        {
          "output_type": "stream",
          "name": "stdout",
          "text": [
            "                   all         58       2741      0.896      0.904      0.939      0.506\n"
          ]
        },
        {
          "output_type": "stream",
          "name": "stderr",
          "text": [
            "\n"
          ]
        },
        {
          "output_type": "stream",
          "name": "stdout",
          "text": [
            "\n",
            "50 epochs completed in 0.757 hours.\n",
            "Optimizer stripped from runs/detect/train/weights/last.pt, 6.2MB\n",
            "Optimizer stripped from runs/detect/train/weights/best.pt, 6.2MB\n",
            "\n",
            "Validating runs/detect/train/weights/best.pt...\n",
            "Ultralytics YOLOv8.2.36 🚀 Python-3.10.12 torch-2.3.0+cu121 CUDA:0 (Tesla T4, 15102MiB)\n",
            "Model summary (fused): 168 layers, 3005843 parameters, 0 gradients, 8.1 GFLOPs\n"
          ]
        },
        {
          "output_type": "stream",
          "name": "stderr",
          "text": [
            "                 Class     Images  Instances      Box(P          R      mAP50  mAP50-95): 100%|██████████| 2/2 [00:03<00:00,  1.94s/it]\n"
          ]
        },
        {
          "output_type": "stream",
          "name": "stdout",
          "text": [
            "                   all         58       2741      0.909      0.893      0.943      0.511\n",
            "Speed: 0.2ms preprocess, 2.4ms inference, 0.0ms loss, 6.6ms postprocess per image\n",
            "Results saved to \u001b[1mruns/detect/train\u001b[0m\n"
          ]
        },
        {
          "output_type": "execute_result",
          "data": {
            "text/plain": [
              "ultralytics.utils.metrics.DetMetrics object with attributes:\n",
              "\n",
              "ap_class_index: array([0])\n",
              "box: ultralytics.utils.metrics.Metric object\n",
              "confusion_matrix: <ultralytics.utils.metrics.ConfusionMatrix object at 0x7a7ff1ce1b70>\n",
              "curves: ['Precision-Recall(B)', 'F1-Confidence(B)', 'Precision-Confidence(B)', 'Recall-Confidence(B)']\n",
              "curves_results: [[array([          0,    0.001001,    0.002002,    0.003003,    0.004004,    0.005005,    0.006006,    0.007007,    0.008008,    0.009009,     0.01001,    0.011011,    0.012012,    0.013013,    0.014014,    0.015015,    0.016016,    0.017017,    0.018018,    0.019019,     0.02002,    0.021021,    0.022022,    0.023023,\n",
              "          0.024024,    0.025025,    0.026026,    0.027027,    0.028028,    0.029029,     0.03003,    0.031031,    0.032032,    0.033033,    0.034034,    0.035035,    0.036036,    0.037037,    0.038038,    0.039039,     0.04004,    0.041041,    0.042042,    0.043043,    0.044044,    0.045045,    0.046046,    0.047047,\n",
              "          0.048048,    0.049049,     0.05005,    0.051051,    0.052052,    0.053053,    0.054054,    0.055055,    0.056056,    0.057057,    0.058058,    0.059059,     0.06006,    0.061061,    0.062062,    0.063063,    0.064064,    0.065065,    0.066066,    0.067067,    0.068068,    0.069069,     0.07007,    0.071071,\n",
              "          0.072072,    0.073073,    0.074074,    0.075075,    0.076076,    0.077077,    0.078078,    0.079079,     0.08008,    0.081081,    0.082082,    0.083083,    0.084084,    0.085085,    0.086086,    0.087087,    0.088088,    0.089089,     0.09009,    0.091091,    0.092092,    0.093093,    0.094094,    0.095095,\n",
              "          0.096096,    0.097097,    0.098098,    0.099099,      0.1001,      0.1011,      0.1021,      0.1031,      0.1041,     0.10511,     0.10611,     0.10711,     0.10811,     0.10911,     0.11011,     0.11111,     0.11211,     0.11311,     0.11411,     0.11512,     0.11612,     0.11712,     0.11812,     0.11912,\n",
              "           0.12012,     0.12112,     0.12212,     0.12312,     0.12412,     0.12513,     0.12613,     0.12713,     0.12813,     0.12913,     0.13013,     0.13113,     0.13213,     0.13313,     0.13413,     0.13514,     0.13614,     0.13714,     0.13814,     0.13914,     0.14014,     0.14114,     0.14214,     0.14314,\n",
              "           0.14414,     0.14515,     0.14615,     0.14715,     0.14815,     0.14915,     0.15015,     0.15115,     0.15215,     0.15315,     0.15415,     0.15516,     0.15616,     0.15716,     0.15816,     0.15916,     0.16016,     0.16116,     0.16216,     0.16316,     0.16416,     0.16517,     0.16617,     0.16717,\n",
              "           0.16817,     0.16917,     0.17017,     0.17117,     0.17217,     0.17317,     0.17417,     0.17518,     0.17618,     0.17718,     0.17818,     0.17918,     0.18018,     0.18118,     0.18218,     0.18318,     0.18418,     0.18519,     0.18619,     0.18719,     0.18819,     0.18919,     0.19019,     0.19119,\n",
              "           0.19219,     0.19319,     0.19419,      0.1952,      0.1962,      0.1972,      0.1982,      0.1992,      0.2002,      0.2012,      0.2022,      0.2032,      0.2042,     0.20521,     0.20621,     0.20721,     0.20821,     0.20921,     0.21021,     0.21121,     0.21221,     0.21321,     0.21421,     0.21522,\n",
              "           0.21622,     0.21722,     0.21822,     0.21922,     0.22022,     0.22122,     0.22222,     0.22322,     0.22422,     0.22523,     0.22623,     0.22723,     0.22823,     0.22923,     0.23023,     0.23123,     0.23223,     0.23323,     0.23423,     0.23524,     0.23624,     0.23724,     0.23824,     0.23924,\n",
              "           0.24024,     0.24124,     0.24224,     0.24324,     0.24424,     0.24525,     0.24625,     0.24725,     0.24825,     0.24925,     0.25025,     0.25125,     0.25225,     0.25325,     0.25425,     0.25526,     0.25626,     0.25726,     0.25826,     0.25926,     0.26026,     0.26126,     0.26226,     0.26326,\n",
              "           0.26426,     0.26527,     0.26627,     0.26727,     0.26827,     0.26927,     0.27027,     0.27127,     0.27227,     0.27327,     0.27427,     0.27528,     0.27628,     0.27728,     0.27828,     0.27928,     0.28028,     0.28128,     0.28228,     0.28328,     0.28428,     0.28529,     0.28629,     0.28729,\n",
              "           0.28829,     0.28929,     0.29029,     0.29129,     0.29229,     0.29329,     0.29429,      0.2953,      0.2963,      0.2973,      0.2983,      0.2993,      0.3003,      0.3013,      0.3023,      0.3033,      0.3043,     0.30531,     0.30631,     0.30731,     0.30831,     0.30931,     0.31031,     0.31131,\n",
              "           0.31231,     0.31331,     0.31431,     0.31532,     0.31632,     0.31732,     0.31832,     0.31932,     0.32032,     0.32132,     0.32232,     0.32332,     0.32432,     0.32533,     0.32633,     0.32733,     0.32833,     0.32933,     0.33033,     0.33133,     0.33233,     0.33333,     0.33433,     0.33534,\n",
              "           0.33634,     0.33734,     0.33834,     0.33934,     0.34034,     0.34134,     0.34234,     0.34334,     0.34434,     0.34535,     0.34635,     0.34735,     0.34835,     0.34935,     0.35035,     0.35135,     0.35235,     0.35335,     0.35435,     0.35536,     0.35636,     0.35736,     0.35836,     0.35936,\n",
              "           0.36036,     0.36136,     0.36236,     0.36336,     0.36436,     0.36537,     0.36637,     0.36737,     0.36837,     0.36937,     0.37037,     0.37137,     0.37237,     0.37337,     0.37437,     0.37538,     0.37638,     0.37738,     0.37838,     0.37938,     0.38038,     0.38138,     0.38238,     0.38338,\n",
              "           0.38438,     0.38539,     0.38639,     0.38739,     0.38839,     0.38939,     0.39039,     0.39139,     0.39239,     0.39339,     0.39439,      0.3954,      0.3964,      0.3974,      0.3984,      0.3994,      0.4004,      0.4014,      0.4024,      0.4034,      0.4044,     0.40541,     0.40641,     0.40741,\n",
              "           0.40841,     0.40941,     0.41041,     0.41141,     0.41241,     0.41341,     0.41441,     0.41542,     0.41642,     0.41742,     0.41842,     0.41942,     0.42042,     0.42142,     0.42242,     0.42342,     0.42442,     0.42543,     0.42643,     0.42743,     0.42843,     0.42943,     0.43043,     0.43143,\n",
              "           0.43243,     0.43343,     0.43443,     0.43544,     0.43644,     0.43744,     0.43844,     0.43944,     0.44044,     0.44144,     0.44244,     0.44344,     0.44444,     0.44545,     0.44645,     0.44745,     0.44845,     0.44945,     0.45045,     0.45145,     0.45245,     0.45345,     0.45445,     0.45546,\n",
              "           0.45646,     0.45746,     0.45846,     0.45946,     0.46046,     0.46146,     0.46246,     0.46346,     0.46446,     0.46547,     0.46647,     0.46747,     0.46847,     0.46947,     0.47047,     0.47147,     0.47247,     0.47347,     0.47447,     0.47548,     0.47648,     0.47748,     0.47848,     0.47948,\n",
              "           0.48048,     0.48148,     0.48248,     0.48348,     0.48448,     0.48549,     0.48649,     0.48749,     0.48849,     0.48949,     0.49049,     0.49149,     0.49249,     0.49349,     0.49449,      0.4955,      0.4965,      0.4975,      0.4985,      0.4995,      0.5005,      0.5015,      0.5025,      0.5035,\n",
              "            0.5045,     0.50551,     0.50651,     0.50751,     0.50851,     0.50951,     0.51051,     0.51151,     0.51251,     0.51351,     0.51451,     0.51552,     0.51652,     0.51752,     0.51852,     0.51952,     0.52052,     0.52152,     0.52252,     0.52352,     0.52452,     0.52553,     0.52653,     0.52753,\n",
              "           0.52853,     0.52953,     0.53053,     0.53153,     0.53253,     0.53353,     0.53453,     0.53554,     0.53654,     0.53754,     0.53854,     0.53954,     0.54054,     0.54154,     0.54254,     0.54354,     0.54454,     0.54555,     0.54655,     0.54755,     0.54855,     0.54955,     0.55055,     0.55155,\n",
              "           0.55255,     0.55355,     0.55455,     0.55556,     0.55656,     0.55756,     0.55856,     0.55956,     0.56056,     0.56156,     0.56256,     0.56356,     0.56456,     0.56557,     0.56657,     0.56757,     0.56857,     0.56957,     0.57057,     0.57157,     0.57257,     0.57357,     0.57457,     0.57558,\n",
              "           0.57658,     0.57758,     0.57858,     0.57958,     0.58058,     0.58158,     0.58258,     0.58358,     0.58458,     0.58559,     0.58659,     0.58759,     0.58859,     0.58959,     0.59059,     0.59159,     0.59259,     0.59359,     0.59459,      0.5956,      0.5966,      0.5976,      0.5986,      0.5996,\n",
              "            0.6006,      0.6016,      0.6026,      0.6036,      0.6046,     0.60561,     0.60661,     0.60761,     0.60861,     0.60961,     0.61061,     0.61161,     0.61261,     0.61361,     0.61461,     0.61562,     0.61662,     0.61762,     0.61862,     0.61962,     0.62062,     0.62162,     0.62262,     0.62362,\n",
              "           0.62462,     0.62563,     0.62663,     0.62763,     0.62863,     0.62963,     0.63063,     0.63163,     0.63263,     0.63363,     0.63463,     0.63564,     0.63664,     0.63764,     0.63864,     0.63964,     0.64064,     0.64164,     0.64264,     0.64364,     0.64464,     0.64565,     0.64665,     0.64765,\n",
              "           0.64865,     0.64965,     0.65065,     0.65165,     0.65265,     0.65365,     0.65465,     0.65566,     0.65666,     0.65766,     0.65866,     0.65966,     0.66066,     0.66166,     0.66266,     0.66366,     0.66466,     0.66567,     0.66667,     0.66767,     0.66867,     0.66967,     0.67067,     0.67167,\n",
              "           0.67267,     0.67367,     0.67467,     0.67568,     0.67668,     0.67768,     0.67868,     0.67968,     0.68068,     0.68168,     0.68268,     0.68368,     0.68468,     0.68569,     0.68669,     0.68769,     0.68869,     0.68969,     0.69069,     0.69169,     0.69269,     0.69369,     0.69469,      0.6957,\n",
              "            0.6967,      0.6977,      0.6987,      0.6997,      0.7007,      0.7017,      0.7027,      0.7037,      0.7047,     0.70571,     0.70671,     0.70771,     0.70871,     0.70971,     0.71071,     0.71171,     0.71271,     0.71371,     0.71471,     0.71572,     0.71672,     0.71772,     0.71872,     0.71972,\n",
              "           0.72072,     0.72172,     0.72272,     0.72372,     0.72472,     0.72573,     0.72673,     0.72773,     0.72873,     0.72973,     0.73073,     0.73173,     0.73273,     0.73373,     0.73473,     0.73574,     0.73674,     0.73774,     0.73874,     0.73974,     0.74074,     0.74174,     0.74274,     0.74374,\n",
              "           0.74474,     0.74575,     0.74675,     0.74775,     0.74875,     0.74975,     0.75075,     0.75175,     0.75275,     0.75375,     0.75475,     0.75576,     0.75676,     0.75776,     0.75876,     0.75976,     0.76076,     0.76176,     0.76276,     0.76376,     0.76476,     0.76577,     0.76677,     0.76777,\n",
              "           0.76877,     0.76977,     0.77077,     0.77177,     0.77277,     0.77377,     0.77477,     0.77578,     0.77678,     0.77778,     0.77878,     0.77978,     0.78078,     0.78178,     0.78278,     0.78378,     0.78478,     0.78579,     0.78679,     0.78779,     0.78879,     0.78979,     0.79079,     0.79179,\n",
              "           0.79279,     0.79379,     0.79479,      0.7958,      0.7968,      0.7978,      0.7988,      0.7998,      0.8008,      0.8018,      0.8028,      0.8038,      0.8048,     0.80581,     0.80681,     0.80781,     0.80881,     0.80981,     0.81081,     0.81181,     0.81281,     0.81381,     0.81481,     0.81582,\n",
              "           0.81682,     0.81782,     0.81882,     0.81982,     0.82082,     0.82182,     0.82282,     0.82382,     0.82482,     0.82583,     0.82683,     0.82783,     0.82883,     0.82983,     0.83083,     0.83183,     0.83283,     0.83383,     0.83483,     0.83584,     0.83684,     0.83784,     0.83884,     0.83984,\n",
              "           0.84084,     0.84184,     0.84284,     0.84384,     0.84484,     0.84585,     0.84685,     0.84785,     0.84885,     0.84985,     0.85085,     0.85185,     0.85285,     0.85385,     0.85485,     0.85586,     0.85686,     0.85786,     0.85886,     0.85986,     0.86086,     0.86186,     0.86286,     0.86386,\n",
              "           0.86486,     0.86587,     0.86687,     0.86787,     0.86887,     0.86987,     0.87087,     0.87187,     0.87287,     0.87387,     0.87487,     0.87588,     0.87688,     0.87788,     0.87888,     0.87988,     0.88088,     0.88188,     0.88288,     0.88388,     0.88488,     0.88589,     0.88689,     0.88789,\n",
              "           0.88889,     0.88989,     0.89089,     0.89189,     0.89289,     0.89389,     0.89489,      0.8959,      0.8969,      0.8979,      0.8989,      0.8999,      0.9009,      0.9019,      0.9029,      0.9039,      0.9049,     0.90591,     0.90691,     0.90791,     0.90891,     0.90991,     0.91091,     0.91191,\n",
              "           0.91291,     0.91391,     0.91491,     0.91592,     0.91692,     0.91792,     0.91892,     0.91992,     0.92092,     0.92192,     0.92292,     0.92392,     0.92492,     0.92593,     0.92693,     0.92793,     0.92893,     0.92993,     0.93093,     0.93193,     0.93293,     0.93393,     0.93493,     0.93594,\n",
              "           0.93694,     0.93794,     0.93894,     0.93994,     0.94094,     0.94194,     0.94294,     0.94394,     0.94494,     0.94595,     0.94695,     0.94795,     0.94895,     0.94995,     0.95095,     0.95195,     0.95295,     0.95395,     0.95495,     0.95596,     0.95696,     0.95796,     0.95896,     0.95996,\n",
              "           0.96096,     0.96196,     0.96296,     0.96396,     0.96496,     0.96597,     0.96697,     0.96797,     0.96897,     0.96997,     0.97097,     0.97197,     0.97297,     0.97397,     0.97497,     0.97598,     0.97698,     0.97798,     0.97898,     0.97998,     0.98098,     0.98198,     0.98298,     0.98398,\n",
              "           0.98498,     0.98599,     0.98699,     0.98799,     0.98899,     0.98999,     0.99099,     0.99199,     0.99299,     0.99399,     0.99499,       0.996,       0.997,       0.998,       0.999,           1]), array([[          1,           1,           1,           1,           1,           1,           1,           1,           1,           1,           1,           1,           1,           1,           1,           1,           1,           1,           1,           1,           1,           1,           1,\n",
              "                  1,           1,           1,           1,           1,           1,           1,           1,           1,           1,           1,           1,           1,           1,           1,           1,           1,           1,     0.99653,     0.99653,     0.99653,     0.99653,     0.99653,\n",
              "            0.99653,     0.99653,     0.99653,     0.99653,     0.99653,     0.99653,     0.99653,     0.99653,     0.99653,     0.99653,     0.99653,     0.99653,     0.99653,     0.99653,     0.99653,     0.99653,     0.99653,     0.99653,     0.99653,     0.99653,     0.99653,     0.99653,     0.99653,\n",
              "            0.99653,     0.99653,     0.99653,     0.99653,     0.99653,     0.99653,     0.99653,     0.99653,     0.99653,     0.99653,     0.99653,     0.99653,     0.99653,     0.99653,     0.99653,     0.99653,     0.99653,     0.99653,     0.99653,     0.99653,     0.99653,     0.99653,     0.99653,\n",
              "            0.99653,     0.99653,     0.99653,     0.99653,     0.99653,     0.99653,     0.99653,     0.99653,     0.99653,     0.99653,     0.99653,     0.99653,     0.99653,     0.99457,     0.99457,     0.99457,     0.99457,     0.99457,     0.99457,     0.99457,     0.99457,     0.99457,     0.99457,\n",
              "            0.99457,     0.99457,     0.99457,     0.99457,     0.99457,     0.99457,     0.99457,     0.99457,     0.99457,     0.99457,     0.99457,     0.99457,     0.99457,     0.99457,     0.99457,     0.99457,     0.99457,     0.99457,     0.99457,     0.99457,     0.99457,     0.99457,     0.99457,\n",
              "            0.99457,     0.99457,     0.99457,     0.99457,     0.99457,     0.99457,     0.99457,     0.99457,     0.99457,     0.99457,     0.99457,     0.99457,     0.99457,     0.99457,     0.99457,     0.99457,     0.99457,     0.99457,     0.99457,     0.99457,     0.99457,     0.99457,     0.99457,\n",
              "            0.99457,     0.99457,     0.99457,     0.99457,     0.99457,     0.99457,     0.99457,     0.99457,     0.99457,     0.99457,     0.99457,     0.99457,     0.99457,     0.99457,     0.99457,     0.99457,     0.99457,     0.99457,     0.99457,     0.99457,     0.99457,     0.99457,     0.99457,\n",
              "            0.99457,     0.99457,     0.99457,     0.99457,     0.99457,     0.99457,     0.99457,     0.99457,     0.99457,     0.99457,     0.99457,     0.99457,     0.99457,     0.99457,     0.99457,     0.99457,     0.99457,     0.99368,     0.99368,     0.99368,     0.99368,     0.99368,     0.99368,\n",
              "            0.99368,     0.99368,     0.99368,     0.99368,     0.99368,     0.99368,     0.99368,     0.99368,     0.99368,     0.99368,     0.99368,     0.99368,     0.99368,     0.99368,     0.99368,     0.99368,     0.99368,     0.99368,     0.99368,     0.99368,     0.99368,     0.99368,     0.99368,\n",
              "            0.99239,     0.99239,     0.99239,     0.99239,     0.99239,     0.99239,     0.99239,     0.99239,     0.99102,     0.99102,     0.99102,     0.99102,     0.98958,     0.98909,     0.98909,     0.98909,     0.98909,     0.98909,     0.98909,     0.98909,     0.98909,     0.98909,     0.98909,\n",
              "            0.98909,     0.98909,     0.98909,     0.98909,     0.98909,     0.98909,     0.98909,     0.98909,     0.98909,     0.98909,     0.98909,     0.98909,     0.98883,     0.98883,     0.98883,     0.98883,     0.98883,     0.98883,     0.98883,     0.98883,     0.98883,     0.98883,     0.98883,\n",
              "            0.98883,     0.98883,     0.98883,     0.98883,     0.98883,     0.98883,     0.98883,     0.98883,     0.98883,     0.98883,     0.98883,     0.98883,     0.98883,     0.98883,     0.98883,     0.98883,     0.98883,     0.98883,     0.98883,     0.98883,     0.98883,     0.98883,     0.98883,\n",
              "            0.98883,     0.98883,     0.98883,     0.98883,     0.98883,     0.98883,     0.98883,     0.98883,     0.98883,     0.98883,     0.98883,     0.98883,     0.98883,     0.98883,     0.98883,     0.98883,     0.98883,     0.98883,     0.98883,     0.98883,     0.98883,     0.98883,     0.98883,\n",
              "            0.98883,     0.98845,     0.98845,     0.98845,     0.98845,     0.98845,     0.98845,     0.98845,     0.98845,     0.98845,     0.98845,     0.98845,     0.98845,     0.98845,     0.98845,     0.98845,     0.98845,     0.98845,     0.98845,     0.98845,     0.98845,     0.98743,     0.98669,\n",
              "            0.98669,     0.98669,     0.98669,     0.98669,     0.98669,     0.98669,     0.98669,     0.98611,     0.98611,     0.98611,     0.98611,     0.98611,     0.98611,     0.98611,     0.98611,     0.98611,     0.98611,     0.98611,     0.98599,     0.98599,     0.98599,     0.98599,     0.98599,\n",
              "            0.98599,     0.98599,     0.98599,     0.98599,     0.98599,     0.98599,     0.98599,     0.98599,     0.98599,     0.98599,     0.98599,     0.98599,     0.98599,     0.98599,     0.98599,     0.98599,     0.98599,     0.98521,     0.98521,     0.98521,     0.98521,     0.98452,     0.98452,\n",
              "            0.98452,     0.98452,     0.98452,     0.98364,     0.98348,     0.98348,     0.98348,     0.98348,     0.98348,     0.98348,     0.98348,     0.98348,     0.98348,     0.98348,     0.98348,     0.98348,     0.98348,     0.98348,     0.98348,     0.98348,     0.98348,     0.98348,     0.98268,\n",
              "            0.98234,     0.98234,     0.98234,     0.98234,     0.98234,     0.98234,     0.98234,     0.98234,     0.98234,     0.98234,     0.98234,     0.98234,     0.98214,     0.98214,     0.98214,     0.98214,     0.98214,     0.98214,     0.98214,     0.98214,     0.98214,     0.98214,     0.98214,\n",
              "            0.98214,     0.98214,     0.98214,     0.98214,     0.98214,     0.98156,     0.98156,     0.98156,     0.98156,     0.98156,     0.98082,     0.98061,     0.98061,     0.98061,     0.98061,     0.98061,     0.98061,     0.98061,     0.98061,     0.98061,     0.98061,     0.98061,     0.98061,\n",
              "            0.98061,     0.98061,     0.98061,     0.98061,     0.98061,     0.98061,     0.98061,     0.98061,     0.98061,     0.98061,     0.98061,     0.98061,     0.98061,     0.98061,     0.98061,     0.98061,     0.98061,     0.98061,     0.98061,     0.98061,     0.98003,     0.98003,     0.98003,\n",
              "            0.97866,     0.97866,     0.97854,     0.97854,     0.97854,     0.97854,     0.97854,     0.97854,     0.97854,     0.97854,     0.97854,     0.97854,     0.97854,     0.97854,     0.97854,     0.97854,     0.97854,     0.97854,     0.97854,     0.97854,     0.97854,     0.97854,     0.97854,\n",
              "            0.97854,     0.97854,     0.97854,     0.97854,     0.97854,     0.97854,     0.97854,     0.97854,     0.97854,     0.97854,     0.97854,     0.97854,     0.97854,     0.97854,     0.97854,     0.97854,     0.97854,     0.97854,     0.97854,     0.97854,     0.97854,     0.97854,     0.97854,\n",
              "            0.97854,     0.97854,     0.97854,      0.9785,      0.9785,      0.9785,      0.9785,      0.9785,      0.9785,      0.9785,      0.9785,      0.9785,      0.9785,      0.9785,      0.9785,      0.9785,      0.9785,      0.9785,      0.9785,     0.97791,     0.97735,     0.97735,     0.97726,\n",
              "            0.97726,     0.97726,     0.97726,     0.97726,     0.97726,     0.97726,     0.97726,     0.97726,     0.97726,     0.97726,     0.97726,     0.97726,     0.97674,     0.97674,     0.97674,     0.97622,     0.97622,      0.9757,      0.9757,     0.97514,     0.97469,     0.97469,     0.97469,\n",
              "            0.97469,      0.9742,      0.9742,      0.9742,     0.97376,     0.97376,     0.97376,     0.97348,     0.97348,     0.97348,     0.97348,     0.97348,     0.97348,     0.97348,     0.97265,     0.97265,     0.97265,     0.97265,     0.97265,     0.97265,     0.97265,     0.97265,     0.97216,\n",
              "            0.97216,      0.9705,     0.97018,     0.97018,     0.97018,     0.97018,     0.97018,     0.96986,     0.96986,     0.96986,     0.96986,     0.96986,     0.96954,     0.96954,     0.96954,     0.96954,     0.96954,     0.96942,     0.96942,     0.96942,     0.96942,     0.96942,     0.96942,\n",
              "            0.96942,     0.96942,     0.96942,     0.96917,     0.96917,     0.96917,     0.96917,     0.96917,     0.96917,     0.96917,     0.96858,     0.96858,     0.96858,     0.96858,     0.96858,     0.96858,     0.96858,     0.96858,     0.96858,     0.96858,     0.96858,     0.96858,     0.96858,\n",
              "            0.96858,     0.96858,     0.96858,     0.96858,     0.96858,     0.96858,     0.96858,     0.96858,     0.96825,     0.96825,     0.96825,     0.96825,     0.96778,       0.967,       0.967,       0.967,       0.967,       0.967,       0.967,     0.96654,     0.96561,     0.96561,     0.96474,\n",
              "            0.96474,     0.96474,     0.96453,     0.96453,     0.96453,     0.96453,     0.96453,     0.96419,     0.96419,     0.96419,     0.96419,     0.96366,     0.96366,     0.96366,     0.96366,     0.96366,     0.96366,     0.96366,     0.96366,     0.96366,     0.96325,      0.9624,      0.9624,\n",
              "             0.9624,     0.96208,     0.96208,     0.96208,     0.96165,     0.96125,     0.96125,     0.96125,     0.96125,     0.96125,     0.96125,     0.96125,     0.96125,     0.96125,     0.96125,     0.96125,     0.96089,     0.96089,     0.96051,     0.96051,     0.95967,     0.95967,      0.9588,\n",
              "            0.95854,     0.95854,     0.95854,     0.95854,     0.95839,     0.95839,     0.95839,     0.95839,     0.95839,     0.95839,     0.95835,     0.95835,     0.95835,     0.95835,     0.95835,     0.95835,     0.95835,     0.95819,     0.95819,     0.95819,     0.95819,     0.95819,     0.95819,\n",
              "            0.95804,     0.95804,     0.95804,     0.95804,     0.95804,     0.95769,     0.95769,     0.95685,     0.95599,     0.95531,     0.95531,     0.95531,      0.9549,     0.95408,     0.95373,     0.95373,     0.95346,     0.95346,     0.95346,     0.95312,     0.95282,     0.95282,     0.95282,\n",
              "            0.95205,     0.95195,     0.95195,     0.95195,     0.95195,     0.95195,     0.95195,     0.95187,     0.95187,     0.95187,     0.95187,     0.95187,     0.95187,     0.95125,     0.95125,     0.95125,     0.95125,     0.95097,     0.95097,     0.95097,     0.95097,     0.95097,     0.95097,\n",
              "            0.95097,     0.95097,     0.95097,      0.9506,     0.95031,     0.95031,     0.94998,     0.94998,     0.94921,     0.94898,     0.94898,     0.94898,     0.94822,     0.94762,     0.94762,     0.94762,     0.94735,     0.94735,     0.94735,     0.94701,     0.94674,     0.94674,     0.94637,\n",
              "            0.94563,      0.9453,     0.94456,     0.94435,     0.94435,     0.94435,     0.94404,     0.94369,     0.94299,     0.94276,     0.94276,     0.94276,     0.94241,     0.94132,       0.941,     0.94032,     0.94032,     0.94012,     0.94012,     0.94012,     0.94001,     0.94001,     0.94001,\n",
              "            0.94001,     0.93953,     0.93953,     0.93953,     0.93953,     0.93842,     0.93773,     0.93712,     0.93712,     0.93643,      0.9362,      0.9362,     0.93585,     0.93558,     0.93452,     0.93419,     0.93336,     0.93336,     0.93336,     0.93336,     0.93304,     0.93277,     0.93253,\n",
              "            0.93253,     0.93185,     0.93132,     0.93132,     0.93132,     0.93103,     0.93007,     0.92976,     0.92953,     0.92953,     0.92933,     0.92933,     0.92868,      0.9284,     0.92815,     0.92815,      0.9279,     0.92749,     0.92749,     0.92749,     0.92749,     0.92716,      0.9251,\n",
              "            0.92483,     0.92453,     0.92249,     0.92225,     0.92205,     0.92205,     0.92176,     0.92114,     0.91879,     0.91746,     0.91654,     0.91629,     0.91617,     0.91617,     0.91617,     0.91467,     0.91467,      0.9117,     0.91139,     0.90879,     0.90795,     0.90795,     0.90438,\n",
              "            0.90323,     0.90323,     0.90069,     0.89753,     0.89699,     0.89519,     0.89491,     0.89345,     0.89324,     0.89168,     0.89052,     0.89016,     0.89016,     0.88893,     0.88849,     0.88822,     0.88677,     0.88434,     0.88136,     0.88087,     0.87915,     0.87893,     0.87604,\n",
              "            0.87552,     0.87509,     0.87483,     0.87075,     0.86998,     0.86621,     0.86429,       0.863,     0.86115,     0.86115,     0.86013,     0.85796,     0.85533,     0.85533,     0.85065,     0.84603,     0.84507,     0.84025,     0.83898,     0.83778,     0.83587,     0.83587,     0.83253,\n",
              "            0.82869,     0.82306,     0.82135,     0.81944,     0.81807,      0.8144,     0.81279,     0.81114,     0.80506,     0.79665,     0.79297,     0.78927,     0.78403,     0.78305,     0.77807,     0.76804,      0.7629,      0.7543,     0.74331,      0.7397,     0.73119,     0.72466,     0.71087,\n",
              "            0.69837,     0.68174,      0.6748,     0.67045,     0.65006,     0.64186,     0.61002,      0.5996,     0.58529,     0.56136,     0.50462,     0.48737,     0.42374,     0.26811,     0.25152,     0.15276,     0.14427,     0.13579,      0.1273,     0.11881,     0.11033,     0.10184,    0.093354,\n",
              "           0.084867,     0.07638,    0.067893,    0.059407,     0.05092,    0.042433,    0.033947,     0.02546,    0.016973,   0.0084867,           0]]), 'Recall', 'Precision'], [array([          0,    0.001001,    0.002002,    0.003003,    0.004004,    0.005005,    0.006006,    0.007007,    0.008008,    0.009009,     0.01001,    0.011011,    0.012012,    0.013013,    0.014014,    0.015015,    0.016016,    0.017017,    0.018018,    0.019019,     0.02002,    0.021021,    0.022022,    0.023023,\n",
              "          0.024024,    0.025025,    0.026026,    0.027027,    0.028028,    0.029029,     0.03003,    0.031031,    0.032032,    0.033033,    0.034034,    0.035035,    0.036036,    0.037037,    0.038038,    0.039039,     0.04004,    0.041041,    0.042042,    0.043043,    0.044044,    0.045045,    0.046046,    0.047047,\n",
              "          0.048048,    0.049049,     0.05005,    0.051051,    0.052052,    0.053053,    0.054054,    0.055055,    0.056056,    0.057057,    0.058058,    0.059059,     0.06006,    0.061061,    0.062062,    0.063063,    0.064064,    0.065065,    0.066066,    0.067067,    0.068068,    0.069069,     0.07007,    0.071071,\n",
              "          0.072072,    0.073073,    0.074074,    0.075075,    0.076076,    0.077077,    0.078078,    0.079079,     0.08008,    0.081081,    0.082082,    0.083083,    0.084084,    0.085085,    0.086086,    0.087087,    0.088088,    0.089089,     0.09009,    0.091091,    0.092092,    0.093093,    0.094094,    0.095095,\n",
              "          0.096096,    0.097097,    0.098098,    0.099099,      0.1001,      0.1011,      0.1021,      0.1031,      0.1041,     0.10511,     0.10611,     0.10711,     0.10811,     0.10911,     0.11011,     0.11111,     0.11211,     0.11311,     0.11411,     0.11512,     0.11612,     0.11712,     0.11812,     0.11912,\n",
              "           0.12012,     0.12112,     0.12212,     0.12312,     0.12412,     0.12513,     0.12613,     0.12713,     0.12813,     0.12913,     0.13013,     0.13113,     0.13213,     0.13313,     0.13413,     0.13514,     0.13614,     0.13714,     0.13814,     0.13914,     0.14014,     0.14114,     0.14214,     0.14314,\n",
              "           0.14414,     0.14515,     0.14615,     0.14715,     0.14815,     0.14915,     0.15015,     0.15115,     0.15215,     0.15315,     0.15415,     0.15516,     0.15616,     0.15716,     0.15816,     0.15916,     0.16016,     0.16116,     0.16216,     0.16316,     0.16416,     0.16517,     0.16617,     0.16717,\n",
              "           0.16817,     0.16917,     0.17017,     0.17117,     0.17217,     0.17317,     0.17417,     0.17518,     0.17618,     0.17718,     0.17818,     0.17918,     0.18018,     0.18118,     0.18218,     0.18318,     0.18418,     0.18519,     0.18619,     0.18719,     0.18819,     0.18919,     0.19019,     0.19119,\n",
              "           0.19219,     0.19319,     0.19419,      0.1952,      0.1962,      0.1972,      0.1982,      0.1992,      0.2002,      0.2012,      0.2022,      0.2032,      0.2042,     0.20521,     0.20621,     0.20721,     0.20821,     0.20921,     0.21021,     0.21121,     0.21221,     0.21321,     0.21421,     0.21522,\n",
              "           0.21622,     0.21722,     0.21822,     0.21922,     0.22022,     0.22122,     0.22222,     0.22322,     0.22422,     0.22523,     0.22623,     0.22723,     0.22823,     0.22923,     0.23023,     0.23123,     0.23223,     0.23323,     0.23423,     0.23524,     0.23624,     0.23724,     0.23824,     0.23924,\n",
              "           0.24024,     0.24124,     0.24224,     0.24324,     0.24424,     0.24525,     0.24625,     0.24725,     0.24825,     0.24925,     0.25025,     0.25125,     0.25225,     0.25325,     0.25425,     0.25526,     0.25626,     0.25726,     0.25826,     0.25926,     0.26026,     0.26126,     0.26226,     0.26326,\n",
              "           0.26426,     0.26527,     0.26627,     0.26727,     0.26827,     0.26927,     0.27027,     0.27127,     0.27227,     0.27327,     0.27427,     0.27528,     0.27628,     0.27728,     0.27828,     0.27928,     0.28028,     0.28128,     0.28228,     0.28328,     0.28428,     0.28529,     0.28629,     0.28729,\n",
              "           0.28829,     0.28929,     0.29029,     0.29129,     0.29229,     0.29329,     0.29429,      0.2953,      0.2963,      0.2973,      0.2983,      0.2993,      0.3003,      0.3013,      0.3023,      0.3033,      0.3043,     0.30531,     0.30631,     0.30731,     0.30831,     0.30931,     0.31031,     0.31131,\n",
              "           0.31231,     0.31331,     0.31431,     0.31532,     0.31632,     0.31732,     0.31832,     0.31932,     0.32032,     0.32132,     0.32232,     0.32332,     0.32432,     0.32533,     0.32633,     0.32733,     0.32833,     0.32933,     0.33033,     0.33133,     0.33233,     0.33333,     0.33433,     0.33534,\n",
              "           0.33634,     0.33734,     0.33834,     0.33934,     0.34034,     0.34134,     0.34234,     0.34334,     0.34434,     0.34535,     0.34635,     0.34735,     0.34835,     0.34935,     0.35035,     0.35135,     0.35235,     0.35335,     0.35435,     0.35536,     0.35636,     0.35736,     0.35836,     0.35936,\n",
              "           0.36036,     0.36136,     0.36236,     0.36336,     0.36436,     0.36537,     0.36637,     0.36737,     0.36837,     0.36937,     0.37037,     0.37137,     0.37237,     0.37337,     0.37437,     0.37538,     0.37638,     0.37738,     0.37838,     0.37938,     0.38038,     0.38138,     0.38238,     0.38338,\n",
              "           0.38438,     0.38539,     0.38639,     0.38739,     0.38839,     0.38939,     0.39039,     0.39139,     0.39239,     0.39339,     0.39439,      0.3954,      0.3964,      0.3974,      0.3984,      0.3994,      0.4004,      0.4014,      0.4024,      0.4034,      0.4044,     0.40541,     0.40641,     0.40741,\n",
              "           0.40841,     0.40941,     0.41041,     0.41141,     0.41241,     0.41341,     0.41441,     0.41542,     0.41642,     0.41742,     0.41842,     0.41942,     0.42042,     0.42142,     0.42242,     0.42342,     0.42442,     0.42543,     0.42643,     0.42743,     0.42843,     0.42943,     0.43043,     0.43143,\n",
              "           0.43243,     0.43343,     0.43443,     0.43544,     0.43644,     0.43744,     0.43844,     0.43944,     0.44044,     0.44144,     0.44244,     0.44344,     0.44444,     0.44545,     0.44645,     0.44745,     0.44845,     0.44945,     0.45045,     0.45145,     0.45245,     0.45345,     0.45445,     0.45546,\n",
              "           0.45646,     0.45746,     0.45846,     0.45946,     0.46046,     0.46146,     0.46246,     0.46346,     0.46446,     0.46547,     0.46647,     0.46747,     0.46847,     0.46947,     0.47047,     0.47147,     0.47247,     0.47347,     0.47447,     0.47548,     0.47648,     0.47748,     0.47848,     0.47948,\n",
              "           0.48048,     0.48148,     0.48248,     0.48348,     0.48448,     0.48549,     0.48649,     0.48749,     0.48849,     0.48949,     0.49049,     0.49149,     0.49249,     0.49349,     0.49449,      0.4955,      0.4965,      0.4975,      0.4985,      0.4995,      0.5005,      0.5015,      0.5025,      0.5035,\n",
              "            0.5045,     0.50551,     0.50651,     0.50751,     0.50851,     0.50951,     0.51051,     0.51151,     0.51251,     0.51351,     0.51451,     0.51552,     0.51652,     0.51752,     0.51852,     0.51952,     0.52052,     0.52152,     0.52252,     0.52352,     0.52452,     0.52553,     0.52653,     0.52753,\n",
              "           0.52853,     0.52953,     0.53053,     0.53153,     0.53253,     0.53353,     0.53453,     0.53554,     0.53654,     0.53754,     0.53854,     0.53954,     0.54054,     0.54154,     0.54254,     0.54354,     0.54454,     0.54555,     0.54655,     0.54755,     0.54855,     0.54955,     0.55055,     0.55155,\n",
              "           0.55255,     0.55355,     0.55455,     0.55556,     0.55656,     0.55756,     0.55856,     0.55956,     0.56056,     0.56156,     0.56256,     0.56356,     0.56456,     0.56557,     0.56657,     0.56757,     0.56857,     0.56957,     0.57057,     0.57157,     0.57257,     0.57357,     0.57457,     0.57558,\n",
              "           0.57658,     0.57758,     0.57858,     0.57958,     0.58058,     0.58158,     0.58258,     0.58358,     0.58458,     0.58559,     0.58659,     0.58759,     0.58859,     0.58959,     0.59059,     0.59159,     0.59259,     0.59359,     0.59459,      0.5956,      0.5966,      0.5976,      0.5986,      0.5996,\n",
              "            0.6006,      0.6016,      0.6026,      0.6036,      0.6046,     0.60561,     0.60661,     0.60761,     0.60861,     0.60961,     0.61061,     0.61161,     0.61261,     0.61361,     0.61461,     0.61562,     0.61662,     0.61762,     0.61862,     0.61962,     0.62062,     0.62162,     0.62262,     0.62362,\n",
              "           0.62462,     0.62563,     0.62663,     0.62763,     0.62863,     0.62963,     0.63063,     0.63163,     0.63263,     0.63363,     0.63463,     0.63564,     0.63664,     0.63764,     0.63864,     0.63964,     0.64064,     0.64164,     0.64264,     0.64364,     0.64464,     0.64565,     0.64665,     0.64765,\n",
              "           0.64865,     0.64965,     0.65065,     0.65165,     0.65265,     0.65365,     0.65465,     0.65566,     0.65666,     0.65766,     0.65866,     0.65966,     0.66066,     0.66166,     0.66266,     0.66366,     0.66466,     0.66567,     0.66667,     0.66767,     0.66867,     0.66967,     0.67067,     0.67167,\n",
              "           0.67267,     0.67367,     0.67467,     0.67568,     0.67668,     0.67768,     0.67868,     0.67968,     0.68068,     0.68168,     0.68268,     0.68368,     0.68468,     0.68569,     0.68669,     0.68769,     0.68869,     0.68969,     0.69069,     0.69169,     0.69269,     0.69369,     0.69469,      0.6957,\n",
              "            0.6967,      0.6977,      0.6987,      0.6997,      0.7007,      0.7017,      0.7027,      0.7037,      0.7047,     0.70571,     0.70671,     0.70771,     0.70871,     0.70971,     0.71071,     0.71171,     0.71271,     0.71371,     0.71471,     0.71572,     0.71672,     0.71772,     0.71872,     0.71972,\n",
              "           0.72072,     0.72172,     0.72272,     0.72372,     0.72472,     0.72573,     0.72673,     0.72773,     0.72873,     0.72973,     0.73073,     0.73173,     0.73273,     0.73373,     0.73473,     0.73574,     0.73674,     0.73774,     0.73874,     0.73974,     0.74074,     0.74174,     0.74274,     0.74374,\n",
              "           0.74474,     0.74575,     0.74675,     0.74775,     0.74875,     0.74975,     0.75075,     0.75175,     0.75275,     0.75375,     0.75475,     0.75576,     0.75676,     0.75776,     0.75876,     0.75976,     0.76076,     0.76176,     0.76276,     0.76376,     0.76476,     0.76577,     0.76677,     0.76777,\n",
              "           0.76877,     0.76977,     0.77077,     0.77177,     0.77277,     0.77377,     0.77477,     0.77578,     0.77678,     0.77778,     0.77878,     0.77978,     0.78078,     0.78178,     0.78278,     0.78378,     0.78478,     0.78579,     0.78679,     0.78779,     0.78879,     0.78979,     0.79079,     0.79179,\n",
              "           0.79279,     0.79379,     0.79479,      0.7958,      0.7968,      0.7978,      0.7988,      0.7998,      0.8008,      0.8018,      0.8028,      0.8038,      0.8048,     0.80581,     0.80681,     0.80781,     0.80881,     0.80981,     0.81081,     0.81181,     0.81281,     0.81381,     0.81481,     0.81582,\n",
              "           0.81682,     0.81782,     0.81882,     0.81982,     0.82082,     0.82182,     0.82282,     0.82382,     0.82482,     0.82583,     0.82683,     0.82783,     0.82883,     0.82983,     0.83083,     0.83183,     0.83283,     0.83383,     0.83483,     0.83584,     0.83684,     0.83784,     0.83884,     0.83984,\n",
              "           0.84084,     0.84184,     0.84284,     0.84384,     0.84484,     0.84585,     0.84685,     0.84785,     0.84885,     0.84985,     0.85085,     0.85185,     0.85285,     0.85385,     0.85485,     0.85586,     0.85686,     0.85786,     0.85886,     0.85986,     0.86086,     0.86186,     0.86286,     0.86386,\n",
              "           0.86486,     0.86587,     0.86687,     0.86787,     0.86887,     0.86987,     0.87087,     0.87187,     0.87287,     0.87387,     0.87487,     0.87588,     0.87688,     0.87788,     0.87888,     0.87988,     0.88088,     0.88188,     0.88288,     0.88388,     0.88488,     0.88589,     0.88689,     0.88789,\n",
              "           0.88889,     0.88989,     0.89089,     0.89189,     0.89289,     0.89389,     0.89489,      0.8959,      0.8969,      0.8979,      0.8989,      0.8999,      0.9009,      0.9019,      0.9029,      0.9039,      0.9049,     0.90591,     0.90691,     0.90791,     0.90891,     0.90991,     0.91091,     0.91191,\n",
              "           0.91291,     0.91391,     0.91491,     0.91592,     0.91692,     0.91792,     0.91892,     0.91992,     0.92092,     0.92192,     0.92292,     0.92392,     0.92492,     0.92593,     0.92693,     0.92793,     0.92893,     0.92993,     0.93093,     0.93193,     0.93293,     0.93393,     0.93493,     0.93594,\n",
              "           0.93694,     0.93794,     0.93894,     0.93994,     0.94094,     0.94194,     0.94294,     0.94394,     0.94494,     0.94595,     0.94695,     0.94795,     0.94895,     0.94995,     0.95095,     0.95195,     0.95295,     0.95395,     0.95495,     0.95596,     0.95696,     0.95796,     0.95896,     0.95996,\n",
              "           0.96096,     0.96196,     0.96296,     0.96396,     0.96496,     0.96597,     0.96697,     0.96797,     0.96897,     0.96997,     0.97097,     0.97197,     0.97297,     0.97397,     0.97497,     0.97598,     0.97698,     0.97798,     0.97898,     0.97998,     0.98098,     0.98198,     0.98298,     0.98398,\n",
              "           0.98498,     0.98599,     0.98699,     0.98799,     0.98899,     0.98999,     0.99099,     0.99199,     0.99299,     0.99399,     0.99499,       0.996,       0.997,       0.998,       0.999,           1]), array([[    0.26722,     0.26722,     0.29815,     0.38802,     0.45777,     0.50848,     0.54261,     0.57002,     0.59344,     0.61105,     0.62488,     0.63754,     0.64877,     0.65692,     0.66734,     0.67704,      0.6843,     0.69018,     0.69601,     0.70182,     0.70644,     0.71041,     0.71417,\n",
              "            0.71792,     0.72265,     0.72603,     0.73057,      0.7342,     0.73708,     0.74001,     0.74318,     0.74574,     0.74861,     0.75122,     0.75333,     0.75572,       0.758,     0.75985,     0.76227,     0.76354,     0.76584,     0.76753,      0.7696,     0.77124,     0.77249,     0.77354,\n",
              "            0.77487,      0.7772,     0.77877,     0.77933,     0.78018,     0.78157,     0.78363,     0.78423,     0.78556,     0.78684,     0.78787,     0.78912,     0.79029,     0.79247,      0.7934,     0.79443,     0.79542,     0.79647,     0.79759,     0.79853,     0.80053,     0.80211,     0.80395,\n",
              "            0.80494,      0.8059,     0.80824,     0.80958,     0.81153,     0.81368,     0.81438,     0.81605,     0.81759,     0.81856,     0.82002,     0.82174,     0.82282,     0.82378,     0.82479,     0.82575,     0.82734,     0.82825,     0.82929,     0.83036,     0.83183,     0.83252,     0.83332,\n",
              "             0.8338,     0.83495,     0.83641,     0.83661,     0.83728,     0.83775,     0.83826,     0.83862,      0.8394,     0.84153,     0.84256,     0.84312,     0.84414,     0.84468,      0.8451,     0.84583,     0.84645,     0.84805,     0.84922,     0.84939,     0.85022,     0.85103,     0.85187,\n",
              "            0.85258,      0.8533,     0.85368,     0.85387,     0.85423,     0.85572,     0.85686,     0.85719,       0.858,     0.85844,     0.85925,     0.85982,     0.86058,     0.86171,     0.86176,     0.86218,      0.8629,     0.86394,     0.86424,     0.86478,     0.86509,      0.8655,      0.8661,\n",
              "            0.86634,     0.86706,     0.86775,      0.8683,     0.86903,     0.86964,     0.87022,     0.87052,     0.87077,     0.87104,     0.87154,     0.87166,     0.87178,      0.8722,     0.87237,     0.87207,     0.87237,     0.87325,     0.87425,     0.87484,     0.87526,     0.87559,     0.87559,\n",
              "            0.87591,     0.87618,     0.87651,      0.8775,     0.87777,      0.8783,     0.87839,     0.87847,     0.87855,     0.87879,     0.87928,     0.87925,     0.87937,     0.87992,     0.87997,     0.88111,     0.88124,     0.88171,     0.88202,     0.88225,     0.88251,     0.88303,      0.8829,\n",
              "             0.8833,     0.88388,     0.88428,     0.88446,      0.8844,     0.88461,     0.88504,     0.88522,     0.88569,     0.88536,     0.88565,     0.88593,     0.88598,      0.8858,     0.88599,     0.88604,     0.88619,     0.88659,     0.88643,     0.88669,      0.8874,     0.88811,     0.88814,\n",
              "            0.88868,     0.88866,     0.88863,     0.88878,     0.88872,     0.88923,     0.88987,     0.88998,     0.89021,     0.89101,     0.89127,     0.89149,     0.89163,     0.89186,     0.89198,     0.89219,     0.89273,     0.89268,     0.89278,     0.89321,      0.8933,     0.89313,     0.89313,\n",
              "            0.89332,     0.89344,     0.89386,     0.89399,     0.89403,     0.89411,     0.89381,     0.89408,     0.89419,     0.89407,     0.89384,     0.89407,     0.89457,     0.89423,     0.89454,     0.89478,     0.89464,     0.89442,      0.8945,     0.89449,     0.89477,     0.89494,     0.89532,\n",
              "            0.89585,     0.89587,     0.89625,     0.89662,     0.89663,     0.89637,     0.89653,     0.89651,     0.89755,      0.8975,     0.89771,     0.89802,     0.89824,     0.89817,     0.89787,     0.89765,     0.89759,     0.89734,     0.89776,      0.8981,     0.89816,     0.89823,     0.89833,\n",
              "            0.89845,     0.89819,      0.8981,      0.8982,     0.89816,     0.89822,     0.89824,     0.89831,     0.89834,      0.8984,     0.89835,     0.89807,     0.89825,     0.89847,     0.89844,     0.89852,     0.89859,      0.8989,     0.89923,      0.8996,     0.90027,     0.90018,     0.90023,\n",
              "            0.90028,     0.90001,     0.90012,     0.90022,     0.90038,     0.90045,     0.89999,     0.89973,     0.89964,     0.89968,     0.89975,     0.89987,     0.90022,     0.89958,     0.89947,     0.89935,     0.89904,     0.89892,     0.89894,     0.89904,     0.89916,     0.89899,     0.89915,\n",
              "            0.89951,     0.89968,     0.89977,     0.89983,     0.89983,     0.89971,     0.89959,     0.89948,     0.89924,     0.89897,     0.89885,     0.89906,     0.89942,     0.89924,     0.89884,     0.89934,     0.89948,     0.89948,     0.89926,     0.89918,     0.89942,     0.89992,     0.90009,\n",
              "            0.90039,     0.90031,     0.90023,     0.90032,     0.90031,     0.90024,     0.90066,       0.901,     0.90125,     0.90097,     0.90057,     0.90031,      0.9006,     0.90069,     0.90082,     0.90099,     0.90137,     0.90142,     0.90132,     0.90141,     0.90172,     0.90189,     0.90156,\n",
              "            0.90115,     0.90147,     0.90144,     0.90141,     0.90158,     0.90171,     0.90178,     0.90184,     0.90193,     0.90214,     0.90172,     0.90168,     0.90218,     0.90273,     0.90295,     0.90234,     0.90185,     0.90196,     0.90206,     0.90221,     0.90235,     0.90225,      0.9012,\n",
              "            0.90096,     0.90072,     0.90061,     0.90034,     0.90055,     0.90036,     0.90031,     0.90008,     0.90058,     0.90041,     0.90029,     0.90033,     0.90041,     0.90025,      0.9008,     0.90089,     0.90119,     0.90115,      0.9007,     0.90066,     0.90045,     0.90003,     0.89985,\n",
              "            0.89973,     0.89931,      0.8991,     0.89898,     0.89903,     0.89921,     0.89943,     0.89922,     0.89876,     0.89887,     0.89884,     0.89901,     0.89912,     0.89898,     0.89915,     0.89926,     0.89916,     0.89913,     0.89918,     0.89859,     0.89849,     0.89831,     0.89808,\n",
              "            0.89786,     0.89765,     0.89702,      0.8971,      0.8972,     0.89729,     0.89722,     0.89711,     0.89671,     0.89659,     0.89648,     0.89623,     0.89598,     0.89536,     0.89531,     0.89522,      0.8948,     0.89458,     0.89432,      0.8941,     0.89385,     0.89342,     0.89318,\n",
              "            0.89289,     0.89298,     0.89269,     0.89249,     0.89245,     0.89242,     0.89234,     0.89166,     0.89102,     0.89076,     0.89051,     0.89021,     0.88956,     0.88967,     0.88909,     0.88883,     0.88875,     0.88835,     0.88749,      0.8868,     0.88671,     0.88667,     0.88626,\n",
              "            0.88639,      0.8863,     0.88609,     0.88567,     0.88513,     0.88491,     0.88457,     0.88464,     0.88438,     0.88428,     0.88346,     0.88324,     0.88336,     0.88305,     0.88313,     0.88309,     0.88317,     0.88267,     0.88245,     0.88201,     0.88136,      0.8809,     0.88039,\n",
              "            0.87995,     0.87973,     0.87907,      0.8787,     0.87836,     0.87791,     0.87725,     0.87703,     0.87707,     0.87716,     0.87675,     0.87645,     0.87663,     0.87642,     0.87614,     0.87603,     0.87572,     0.87563,     0.87536,     0.87438,     0.87411,     0.87366,     0.87328,\n",
              "            0.87337,     0.87348,     0.87305,      0.8725,      0.8721,     0.87099,     0.87086,     0.87059,     0.86961,     0.86951,     0.86832,     0.86809,     0.86714,     0.86551,     0.86528,     0.86505,     0.86479,     0.86429,     0.86324,     0.86278,     0.86249,     0.86215,     0.86169,\n",
              "             0.8614,     0.86015,       0.859,     0.85831,     0.85762,     0.85635,     0.85566,     0.85514,     0.85465,     0.85438,     0.85368,     0.85252,      0.8517,     0.85123,     0.85007,      0.8489,     0.84813,     0.84743,     0.84649,     0.84525,     0.84465,     0.84418,     0.84358,\n",
              "            0.84316,     0.84258,     0.84167,     0.84072,     0.83994,     0.83973,     0.83942,     0.83835,     0.83811,     0.83739,     0.83703,     0.83711,     0.83686,     0.83672,     0.83624,     0.83473,     0.83448,     0.83327,     0.83127,     0.83054,     0.83005,     0.82896,     0.82839,\n",
              "            0.82766,     0.82717,     0.82619,     0.82472,     0.82366,     0.82243,     0.82144,     0.82094,     0.82069,     0.81926,     0.81794,     0.81704,     0.81615,     0.81525,      0.8153,     0.81454,     0.81394,     0.81271,     0.81134,     0.80981,     0.80829,      0.8077,     0.80577,\n",
              "            0.80564,     0.80448,     0.80338,     0.80285,     0.80197,     0.80068,     0.80042,      0.7999,     0.79836,     0.79758,     0.79585,     0.79391,       0.792,     0.79095,      0.7899,     0.78955,     0.78829,     0.78739,      0.7872,     0.78631,     0.78473,     0.78281,     0.78203,\n",
              "            0.78059,     0.77952,     0.77942,     0.77728,     0.77593,     0.77257,     0.77095,     0.76986,      0.7685,     0.76667,     0.76553,     0.76444,     0.76429,     0.76367,     0.76161,     0.76023,     0.75929,      0.7579,     0.75527,     0.75388,     0.75292,     0.75208,     0.75175,\n",
              "            0.75137,     0.74969,     0.74917,     0.74533,     0.74509,     0.74423,     0.74272,     0.74124,     0.74101,     0.73963,     0.73679,     0.73563,     0.73477,     0.73178,     0.73004,     0.72861,     0.72755,     0.72684,     0.72496,     0.72395,     0.72233,     0.72102,     0.72058,\n",
              "            0.72014,     0.71925,     0.71823,     0.71395,     0.71216,     0.70934,      0.7078,     0.70538,     0.70313,     0.70244,     0.69826,     0.69611,     0.69393,     0.69173,     0.69157,     0.68942,     0.68699,     0.68678,     0.68317,     0.68301,     0.67873,     0.67473,     0.67451,\n",
              "            0.67212,     0.67196,     0.66894,     0.66495,      0.6646,      0.6592,     0.65632,     0.65599,     0.65146,     0.64841,     0.64793,     0.64409,      0.6406,     0.64037,     0.63503,     0.63046,     0.63012,     0.62708,     0.62685,     0.62327,     0.61934,      0.6191,     0.61363,\n",
              "            0.61131,     0.61107,     0.60713,     0.59977,     0.59425,     0.59436,     0.58999,     0.58981,     0.58525,     0.58124,     0.58073,       0.572,     0.56692,     0.56667,     0.56306,     0.55769,     0.55765,     0.55231,     0.54555,     0.54529,     0.54148,     0.53769,     0.53015,\n",
              "            0.52988,     0.52489,     0.52059,     0.51694,     0.51609,     0.51199,     0.50917,     0.50889,     0.50497,     0.50091,     0.49443,      0.4939,     0.48977,     0.48165,     0.48108,     0.47227,     0.46493,     0.46445,     0.45928,     0.45378,     0.44781,     0.44444,     0.44414,\n",
              "            0.43978,     0.43533,     0.43193,     0.43085,     0.42274,     0.41888,     0.41641,      0.4161,     0.41063,     0.40555,     0.40165,     0.40133,     0.39621,     0.39292,     0.38854,     0.38391,     0.38283,     0.37587,      0.3709,     0.36492,     0.36161,     0.35675,     0.35641,\n",
              "            0.35071,     0.34566,     0.34129,     0.33579,     0.33544,     0.33102,     0.32503,     0.32103,     0.31742,     0.31379,     0.31201,     0.30935,     0.30437,     0.29752,     0.29061,     0.28802,     0.28551,     0.28116,     0.27797,      0.2776,     0.27223,     0.26402,     0.25807,\n",
              "            0.25476,     0.25028,     0.24369,     0.24013,     0.23943,     0.23716,     0.23317,     0.22694,     0.22174,     0.21734,     0.21306,     0.20866,     0.20305,     0.19889,     0.19624,     0.19385,     0.19109,     0.18702,     0.18159,     0.17905,     0.17491,     0.17246,       0.168,\n",
              "            0.16245,     0.15768,     0.15248,     0.14871,     0.14517,     0.14327,     0.14137,     0.13819,     0.13406,     0.12638,     0.11864,     0.11083,     0.10557,     0.10169,    0.099599,    0.097041,    0.095573,    0.091379,    0.089367,    0.088685,    0.083993,    0.079399,    0.078019,\n",
              "           0.074889,    0.072573,    0.067049,    0.064302,    0.060861,    0.059298,    0.058946,    0.053235,    0.050398,    0.045497,    0.043804,    0.041841,    0.039922,    0.038364,    0.035575,    0.035214,    0.032112,    0.031178,    0.029601,     0.02852,    0.026109,    0.023226,    0.019922,\n",
              "           0.018868,    0.018329,    0.017181,    0.016814,    0.015663,    0.013716,    0.012908,    0.011518,    0.010092,   0.0095985,   0.0091886,    0.008818,   0.0083571,   0.0077967,   0.0063296,   0.0055861,   0.0043122,   0.0041467,   0.0039812,   0.0038157,   0.0036501,   0.0032879,   0.0029151,\n",
              "          0.0021824,   0.0019958,   0.0018092,   0.0016225,   0.0014403,   0.0012909,   0.0011415,  0.00099211,  0.00084266,           0,           0,           0,           0,           0,           0,           0,           0,           0,           0,           0,           0,           0,           0,\n",
              "                  0,           0,           0,           0,           0,           0,           0,           0,           0,           0,           0,           0,           0,           0,           0,           0,           0,           0,           0,           0,           0,           0,           0,\n",
              "                  0,           0,           0,           0,           0,           0,           0,           0,           0,           0,           0,           0,           0,           0,           0,           0,           0,           0,           0,           0,           0,           0,           0,\n",
              "                  0,           0,           0,           0,           0,           0,           0,           0,           0,           0,           0]]), 'Confidence', 'F1'], [array([          0,    0.001001,    0.002002,    0.003003,    0.004004,    0.005005,    0.006006,    0.007007,    0.008008,    0.009009,     0.01001,    0.011011,    0.012012,    0.013013,    0.014014,    0.015015,    0.016016,    0.017017,    0.018018,    0.019019,     0.02002,    0.021021,    0.022022,    0.023023,\n",
              "          0.024024,    0.025025,    0.026026,    0.027027,    0.028028,    0.029029,     0.03003,    0.031031,    0.032032,    0.033033,    0.034034,    0.035035,    0.036036,    0.037037,    0.038038,    0.039039,     0.04004,    0.041041,    0.042042,    0.043043,    0.044044,    0.045045,    0.046046,    0.047047,\n",
              "          0.048048,    0.049049,     0.05005,    0.051051,    0.052052,    0.053053,    0.054054,    0.055055,    0.056056,    0.057057,    0.058058,    0.059059,     0.06006,    0.061061,    0.062062,    0.063063,    0.064064,    0.065065,    0.066066,    0.067067,    0.068068,    0.069069,     0.07007,    0.071071,\n",
              "          0.072072,    0.073073,    0.074074,    0.075075,    0.076076,    0.077077,    0.078078,    0.079079,     0.08008,    0.081081,    0.082082,    0.083083,    0.084084,    0.085085,    0.086086,    0.087087,    0.088088,    0.089089,     0.09009,    0.091091,    0.092092,    0.093093,    0.094094,    0.095095,\n",
              "          0.096096,    0.097097,    0.098098,    0.099099,      0.1001,      0.1011,      0.1021,      0.1031,      0.1041,     0.10511,     0.10611,     0.10711,     0.10811,     0.10911,     0.11011,     0.11111,     0.11211,     0.11311,     0.11411,     0.11512,     0.11612,     0.11712,     0.11812,     0.11912,\n",
              "           0.12012,     0.12112,     0.12212,     0.12312,     0.12412,     0.12513,     0.12613,     0.12713,     0.12813,     0.12913,     0.13013,     0.13113,     0.13213,     0.13313,     0.13413,     0.13514,     0.13614,     0.13714,     0.13814,     0.13914,     0.14014,     0.14114,     0.14214,     0.14314,\n",
              "           0.14414,     0.14515,     0.14615,     0.14715,     0.14815,     0.14915,     0.15015,     0.15115,     0.15215,     0.15315,     0.15415,     0.15516,     0.15616,     0.15716,     0.15816,     0.15916,     0.16016,     0.16116,     0.16216,     0.16316,     0.16416,     0.16517,     0.16617,     0.16717,\n",
              "           0.16817,     0.16917,     0.17017,     0.17117,     0.17217,     0.17317,     0.17417,     0.17518,     0.17618,     0.17718,     0.17818,     0.17918,     0.18018,     0.18118,     0.18218,     0.18318,     0.18418,     0.18519,     0.18619,     0.18719,     0.18819,     0.18919,     0.19019,     0.19119,\n",
              "           0.19219,     0.19319,     0.19419,      0.1952,      0.1962,      0.1972,      0.1982,      0.1992,      0.2002,      0.2012,      0.2022,      0.2032,      0.2042,     0.20521,     0.20621,     0.20721,     0.20821,     0.20921,     0.21021,     0.21121,     0.21221,     0.21321,     0.21421,     0.21522,\n",
              "           0.21622,     0.21722,     0.21822,     0.21922,     0.22022,     0.22122,     0.22222,     0.22322,     0.22422,     0.22523,     0.22623,     0.22723,     0.22823,     0.22923,     0.23023,     0.23123,     0.23223,     0.23323,     0.23423,     0.23524,     0.23624,     0.23724,     0.23824,     0.23924,\n",
              "           0.24024,     0.24124,     0.24224,     0.24324,     0.24424,     0.24525,     0.24625,     0.24725,     0.24825,     0.24925,     0.25025,     0.25125,     0.25225,     0.25325,     0.25425,     0.25526,     0.25626,     0.25726,     0.25826,     0.25926,     0.26026,     0.26126,     0.26226,     0.26326,\n",
              "           0.26426,     0.26527,     0.26627,     0.26727,     0.26827,     0.26927,     0.27027,     0.27127,     0.27227,     0.27327,     0.27427,     0.27528,     0.27628,     0.27728,     0.27828,     0.27928,     0.28028,     0.28128,     0.28228,     0.28328,     0.28428,     0.28529,     0.28629,     0.28729,\n",
              "           0.28829,     0.28929,     0.29029,     0.29129,     0.29229,     0.29329,     0.29429,      0.2953,      0.2963,      0.2973,      0.2983,      0.2993,      0.3003,      0.3013,      0.3023,      0.3033,      0.3043,     0.30531,     0.30631,     0.30731,     0.30831,     0.30931,     0.31031,     0.31131,\n",
              "           0.31231,     0.31331,     0.31431,     0.31532,     0.31632,     0.31732,     0.31832,     0.31932,     0.32032,     0.32132,     0.32232,     0.32332,     0.32432,     0.32533,     0.32633,     0.32733,     0.32833,     0.32933,     0.33033,     0.33133,     0.33233,     0.33333,     0.33433,     0.33534,\n",
              "           0.33634,     0.33734,     0.33834,     0.33934,     0.34034,     0.34134,     0.34234,     0.34334,     0.34434,     0.34535,     0.34635,     0.34735,     0.34835,     0.34935,     0.35035,     0.35135,     0.35235,     0.35335,     0.35435,     0.35536,     0.35636,     0.35736,     0.35836,     0.35936,\n",
              "           0.36036,     0.36136,     0.36236,     0.36336,     0.36436,     0.36537,     0.36637,     0.36737,     0.36837,     0.36937,     0.37037,     0.37137,     0.37237,     0.37337,     0.37437,     0.37538,     0.37638,     0.37738,     0.37838,     0.37938,     0.38038,     0.38138,     0.38238,     0.38338,\n",
              "           0.38438,     0.38539,     0.38639,     0.38739,     0.38839,     0.38939,     0.39039,     0.39139,     0.39239,     0.39339,     0.39439,      0.3954,      0.3964,      0.3974,      0.3984,      0.3994,      0.4004,      0.4014,      0.4024,      0.4034,      0.4044,     0.40541,     0.40641,     0.40741,\n",
              "           0.40841,     0.40941,     0.41041,     0.41141,     0.41241,     0.41341,     0.41441,     0.41542,     0.41642,     0.41742,     0.41842,     0.41942,     0.42042,     0.42142,     0.42242,     0.42342,     0.42442,     0.42543,     0.42643,     0.42743,     0.42843,     0.42943,     0.43043,     0.43143,\n",
              "           0.43243,     0.43343,     0.43443,     0.43544,     0.43644,     0.43744,     0.43844,     0.43944,     0.44044,     0.44144,     0.44244,     0.44344,     0.44444,     0.44545,     0.44645,     0.44745,     0.44845,     0.44945,     0.45045,     0.45145,     0.45245,     0.45345,     0.45445,     0.45546,\n",
              "           0.45646,     0.45746,     0.45846,     0.45946,     0.46046,     0.46146,     0.46246,     0.46346,     0.46446,     0.46547,     0.46647,     0.46747,     0.46847,     0.46947,     0.47047,     0.47147,     0.47247,     0.47347,     0.47447,     0.47548,     0.47648,     0.47748,     0.47848,     0.47948,\n",
              "           0.48048,     0.48148,     0.48248,     0.48348,     0.48448,     0.48549,     0.48649,     0.48749,     0.48849,     0.48949,     0.49049,     0.49149,     0.49249,     0.49349,     0.49449,      0.4955,      0.4965,      0.4975,      0.4985,      0.4995,      0.5005,      0.5015,      0.5025,      0.5035,\n",
              "            0.5045,     0.50551,     0.50651,     0.50751,     0.50851,     0.50951,     0.51051,     0.51151,     0.51251,     0.51351,     0.51451,     0.51552,     0.51652,     0.51752,     0.51852,     0.51952,     0.52052,     0.52152,     0.52252,     0.52352,     0.52452,     0.52553,     0.52653,     0.52753,\n",
              "           0.52853,     0.52953,     0.53053,     0.53153,     0.53253,     0.53353,     0.53453,     0.53554,     0.53654,     0.53754,     0.53854,     0.53954,     0.54054,     0.54154,     0.54254,     0.54354,     0.54454,     0.54555,     0.54655,     0.54755,     0.54855,     0.54955,     0.55055,     0.55155,\n",
              "           0.55255,     0.55355,     0.55455,     0.55556,     0.55656,     0.55756,     0.55856,     0.55956,     0.56056,     0.56156,     0.56256,     0.56356,     0.56456,     0.56557,     0.56657,     0.56757,     0.56857,     0.56957,     0.57057,     0.57157,     0.57257,     0.57357,     0.57457,     0.57558,\n",
              "           0.57658,     0.57758,     0.57858,     0.57958,     0.58058,     0.58158,     0.58258,     0.58358,     0.58458,     0.58559,     0.58659,     0.58759,     0.58859,     0.58959,     0.59059,     0.59159,     0.59259,     0.59359,     0.59459,      0.5956,      0.5966,      0.5976,      0.5986,      0.5996,\n",
              "            0.6006,      0.6016,      0.6026,      0.6036,      0.6046,     0.60561,     0.60661,     0.60761,     0.60861,     0.60961,     0.61061,     0.61161,     0.61261,     0.61361,     0.61461,     0.61562,     0.61662,     0.61762,     0.61862,     0.61962,     0.62062,     0.62162,     0.62262,     0.62362,\n",
              "           0.62462,     0.62563,     0.62663,     0.62763,     0.62863,     0.62963,     0.63063,     0.63163,     0.63263,     0.63363,     0.63463,     0.63564,     0.63664,     0.63764,     0.63864,     0.63964,     0.64064,     0.64164,     0.64264,     0.64364,     0.64464,     0.64565,     0.64665,     0.64765,\n",
              "           0.64865,     0.64965,     0.65065,     0.65165,     0.65265,     0.65365,     0.65465,     0.65566,     0.65666,     0.65766,     0.65866,     0.65966,     0.66066,     0.66166,     0.66266,     0.66366,     0.66466,     0.66567,     0.66667,     0.66767,     0.66867,     0.66967,     0.67067,     0.67167,\n",
              "           0.67267,     0.67367,     0.67467,     0.67568,     0.67668,     0.67768,     0.67868,     0.67968,     0.68068,     0.68168,     0.68268,     0.68368,     0.68468,     0.68569,     0.68669,     0.68769,     0.68869,     0.68969,     0.69069,     0.69169,     0.69269,     0.69369,     0.69469,      0.6957,\n",
              "            0.6967,      0.6977,      0.6987,      0.6997,      0.7007,      0.7017,      0.7027,      0.7037,      0.7047,     0.70571,     0.70671,     0.70771,     0.70871,     0.70971,     0.71071,     0.71171,     0.71271,     0.71371,     0.71471,     0.71572,     0.71672,     0.71772,     0.71872,     0.71972,\n",
              "           0.72072,     0.72172,     0.72272,     0.72372,     0.72472,     0.72573,     0.72673,     0.72773,     0.72873,     0.72973,     0.73073,     0.73173,     0.73273,     0.73373,     0.73473,     0.73574,     0.73674,     0.73774,     0.73874,     0.73974,     0.74074,     0.74174,     0.74274,     0.74374,\n",
              "           0.74474,     0.74575,     0.74675,     0.74775,     0.74875,     0.74975,     0.75075,     0.75175,     0.75275,     0.75375,     0.75475,     0.75576,     0.75676,     0.75776,     0.75876,     0.75976,     0.76076,     0.76176,     0.76276,     0.76376,     0.76476,     0.76577,     0.76677,     0.76777,\n",
              "           0.76877,     0.76977,     0.77077,     0.77177,     0.77277,     0.77377,     0.77477,     0.77578,     0.77678,     0.77778,     0.77878,     0.77978,     0.78078,     0.78178,     0.78278,     0.78378,     0.78478,     0.78579,     0.78679,     0.78779,     0.78879,     0.78979,     0.79079,     0.79179,\n",
              "           0.79279,     0.79379,     0.79479,      0.7958,      0.7968,      0.7978,      0.7988,      0.7998,      0.8008,      0.8018,      0.8028,      0.8038,      0.8048,     0.80581,     0.80681,     0.80781,     0.80881,     0.80981,     0.81081,     0.81181,     0.81281,     0.81381,     0.81481,     0.81582,\n",
              "           0.81682,     0.81782,     0.81882,     0.81982,     0.82082,     0.82182,     0.82282,     0.82382,     0.82482,     0.82583,     0.82683,     0.82783,     0.82883,     0.82983,     0.83083,     0.83183,     0.83283,     0.83383,     0.83483,     0.83584,     0.83684,     0.83784,     0.83884,     0.83984,\n",
              "           0.84084,     0.84184,     0.84284,     0.84384,     0.84484,     0.84585,     0.84685,     0.84785,     0.84885,     0.84985,     0.85085,     0.85185,     0.85285,     0.85385,     0.85485,     0.85586,     0.85686,     0.85786,     0.85886,     0.85986,     0.86086,     0.86186,     0.86286,     0.86386,\n",
              "           0.86486,     0.86587,     0.86687,     0.86787,     0.86887,     0.86987,     0.87087,     0.87187,     0.87287,     0.87387,     0.87487,     0.87588,     0.87688,     0.87788,     0.87888,     0.87988,     0.88088,     0.88188,     0.88288,     0.88388,     0.88488,     0.88589,     0.88689,     0.88789,\n",
              "           0.88889,     0.88989,     0.89089,     0.89189,     0.89289,     0.89389,     0.89489,      0.8959,      0.8969,      0.8979,      0.8989,      0.8999,      0.9009,      0.9019,      0.9029,      0.9039,      0.9049,     0.90591,     0.90691,     0.90791,     0.90891,     0.90991,     0.91091,     0.91191,\n",
              "           0.91291,     0.91391,     0.91491,     0.91592,     0.91692,     0.91792,     0.91892,     0.91992,     0.92092,     0.92192,     0.92292,     0.92392,     0.92492,     0.92593,     0.92693,     0.92793,     0.92893,     0.92993,     0.93093,     0.93193,     0.93293,     0.93393,     0.93493,     0.93594,\n",
              "           0.93694,     0.93794,     0.93894,     0.93994,     0.94094,     0.94194,     0.94294,     0.94394,     0.94494,     0.94595,     0.94695,     0.94795,     0.94895,     0.94995,     0.95095,     0.95195,     0.95295,     0.95395,     0.95495,     0.95596,     0.95696,     0.95796,     0.95896,     0.95996,\n",
              "           0.96096,     0.96196,     0.96296,     0.96396,     0.96496,     0.96597,     0.96697,     0.96797,     0.96897,     0.96997,     0.97097,     0.97197,     0.97297,     0.97397,     0.97497,     0.97598,     0.97698,     0.97798,     0.97898,     0.97998,     0.98098,     0.98198,     0.98298,     0.98398,\n",
              "           0.98498,     0.98599,     0.98699,     0.98799,     0.98899,     0.98999,     0.99099,     0.99199,     0.99299,     0.99399,     0.99499,       0.996,       0.997,       0.998,       0.999,           1]), array([[    0.15466,     0.15466,     0.17577,     0.24184,     0.29864,     0.34331,     0.37528,     0.40203,     0.42586,     0.44424,     0.45901,     0.47288,     0.48534,     0.49472,     0.50683,      0.5181,     0.52665,     0.53365,     0.54077,     0.54782,     0.55347,     0.55835,     0.56313,\n",
              "            0.56781,     0.57388,     0.57828,     0.58406,     0.58885,      0.5927,     0.59663,     0.60091,     0.60454,     0.60832,     0.61192,     0.61473,     0.61792,     0.62097,     0.62345,     0.62673,     0.62844,     0.63172,     0.63401,     0.63685,      0.6391,     0.64081,     0.64242,\n",
              "            0.64457,     0.64781,     0.64999,     0.65094,     0.65213,     0.65407,     0.65712,     0.65797,     0.66002,     0.66182,     0.66328,     0.66506,     0.66672,     0.66983,     0.67168,     0.67316,     0.67473,     0.67627,     0.67788,     0.67943,     0.68251,     0.68481,      0.6875,\n",
              "            0.68932,     0.69073,     0.69418,     0.69616,     0.69923,     0.70243,     0.70367,     0.70616,     0.70868,     0.71012,     0.71273,     0.71533,     0.71697,     0.71843,     0.72017,     0.72164,     0.72406,     0.72567,     0.72727,     0.72891,     0.73118,     0.73267,     0.73391,\n",
              "            0.73487,     0.73686,     0.73914,     0.73967,     0.74072,     0.74149,     0.74248,     0.74324,     0.74491,     0.74828,     0.74991,      0.7508,     0.75241,     0.75351,     0.75427,     0.75555,     0.75655,      0.7591,     0.76098,     0.76149,     0.76288,     0.76435,     0.76617,\n",
              "            0.76734,     0.76874,     0.76958,     0.77013,     0.77072,     0.77315,     0.77501,     0.77554,     0.77688,     0.77759,     0.77916,     0.78035,     0.78161,     0.78445,     0.78464,     0.78547,     0.78668,     0.78841,     0.78924,      0.7903,     0.79082,     0.79151,     0.79275,\n",
              "            0.79366,     0.79488,     0.79628,     0.79746,     0.79871,     0.79973,     0.80071,     0.80123,     0.80191,     0.80239,     0.80347,     0.80367,     0.80388,      0.8046,     0.80488,     0.80493,     0.80568,     0.80717,     0.80889,      0.8099,     0.81061,     0.81144,     0.81172,\n",
              "             0.8127,     0.81353,     0.81464,     0.81662,     0.81709,     0.81828,      0.8187,     0.81912,     0.81953,     0.82021,     0.82113,     0.82156,     0.82178,     0.82274,     0.82337,     0.82537,     0.82561,     0.82671,     0.82725,     0.82795,     0.82864,     0.82959,     0.82994,\n",
              "            0.83065,     0.83166,     0.83238,     0.83301,     0.83315,     0.83381,     0.83457,      0.8349,     0.83573,     0.83602,     0.83675,     0.83762,     0.83799,     0.83825,     0.83892,     0.83926,     0.83954,     0.84025,      0.8402,       0.841,     0.84228,     0.84357,     0.84392,\n",
              "            0.84504,     0.84516,      0.8454,     0.84602,     0.84616,     0.84739,     0.84855,     0.84904,     0.84947,     0.85123,      0.8517,     0.85211,     0.85265,     0.85339,      0.8536,     0.85398,     0.85498,      0.8558,       0.856,     0.85678,     0.85716,     0.85712,     0.85726,\n",
              "            0.85791,     0.85813,     0.85891,     0.85914,     0.85953,     0.86036,     0.86036,     0.86087,     0.86107,     0.86111,     0.86136,      0.8618,     0.86275,     0.86304,     0.86362,     0.86408,     0.86405,       0.864,     0.86427,     0.86448,     0.86562,     0.86628,     0.86698,\n",
              "            0.86798,     0.86834,     0.86904,     0.86975,     0.86996,      0.8699,     0.87054,     0.87072,      0.8728,     0.87306,     0.87375,     0.87434,     0.87482,     0.87495,       0.875,     0.87528,     0.87583,     0.87623,     0.87714,     0.87778,     0.87791,     0.87803,     0.87823,\n",
              "            0.87864,     0.87885,     0.87911,     0.87931,     0.87958,     0.87995,     0.88005,     0.88019,      0.8808,     0.88105,     0.88135,     0.88141,     0.88178,      0.8822,     0.88248,     0.88262,     0.88276,     0.88336,     0.88435,     0.88505,     0.88635,     0.88652,     0.88662,\n",
              "            0.88672,     0.88671,      0.8871,     0.88728,     0.88794,      0.8882,     0.88839,     0.88863,     0.88889,     0.88901,     0.88914,     0.88937,     0.89007,     0.89002,        0.89,     0.88998,     0.88991,     0.88989,     0.89001,     0.89019,     0.89051,     0.89115,     0.89181,\n",
              "            0.89252,     0.89287,     0.89303,     0.89316,     0.89323,     0.89321,     0.89319,     0.89317,     0.89341,     0.89365,     0.89363,     0.89413,     0.89485,     0.89516,     0.89508,     0.89611,     0.89675,     0.89711,     0.89722,      0.8975,     0.89808,     0.89944,     0.89978,\n",
              "             0.9004,     0.90038,     0.90037,      0.9006,     0.90068,     0.90067,     0.90166,     0.90233,     0.90295,     0.90301,     0.90314,     0.90339,     0.90447,     0.90467,      0.9053,     0.90564,      0.9064,     0.90663,     0.90667,     0.90687,     0.90749,     0.90783,     0.90788,\n",
              "            0.90781,     0.90848,     0.90918,     0.90949,     0.90984,     0.91011,     0.91024,     0.91036,     0.91094,     0.91136,     0.91163,     0.91194,     0.91297,     0.91408,     0.91466,     0.91456,      0.9146,     0.91521,     0.91541,     0.91571,     0.91615,     0.91614,     0.91598,\n",
              "            0.91626,     0.91654,     0.91652,     0.91653,     0.91696,     0.91713,     0.91726,     0.91755,     0.91861,     0.91875,     0.91873,     0.91887,     0.91904,     0.91905,     0.92025,     0.92043,     0.92114,     0.92146,     0.92172,     0.92204,     0.92201,     0.92195,     0.92192,\n",
              "            0.92191,     0.92217,     0.92269,     0.92312,     0.92336,     0.92372,     0.92451,     0.92448,     0.92474,     0.92546,     0.92579,     0.92616,     0.92647,     0.92651,     0.92688,     0.92716,     0.92714,     0.92723,     0.92748,      0.9274,     0.92739,     0.92736,     0.92733,\n",
              "             0.9273,     0.92727,     0.92719,     0.92746,     0.92768,     0.92787,     0.92789,     0.92788,     0.92782,     0.92781,     0.92779,      0.9281,      0.9284,     0.92832,     0.92865,     0.92933,     0.92927,     0.92924,     0.92921,     0.92918,     0.92949,     0.92943,     0.92957,\n",
              "            0.92979,     0.92998,     0.93002,      0.9302,     0.93055,      0.9309,     0.93102,     0.93128,     0.93119,     0.93151,     0.93182,     0.93249,     0.93241,     0.93271,      0.9327,     0.93302,     0.93333,     0.93331,      0.9332,     0.93346,     0.93417,     0.93452,     0.93449,\n",
              "            0.93523,     0.93555,     0.93552,     0.93589,     0.93612,      0.9361,     0.93614,     0.93642,     0.93675,     0.93685,     0.93701,     0.93698,     0.93772,     0.93776,     0.93796,     0.93923,     0.93943,     0.93947,     0.93944,     0.93939,     0.93932,     0.93986,     0.93994,\n",
              "            0.93989,     0.93987,     0.93979,     0.94002,     0.94008,     0.94003,     0.93995,     0.93993,     0.94009,      0.9403,     0.94027,     0.94059,     0.94099,     0.94098,     0.94132,     0.94131,      0.9413,     0.94205,     0.94241,     0.94264,     0.94299,     0.94294,     0.94294,\n",
              "            0.94314,      0.9434,     0.94401,     0.94407,     0.94429,     0.94418,      0.9447,     0.94506,     0.94574,     0.94652,     0.94699,     0.94697,     0.94727,     0.94749,     0.94747,     0.94745,     0.94807,     0.94842,     0.94885,      0.9488,     0.94917,     0.94994,     0.94989,\n",
              "            0.95027,     0.95095,     0.95084,     0.95078,     0.95071,     0.95059,     0.95052,     0.95088,     0.95105,     0.95122,     0.95115,     0.95104,     0.95179,     0.95174,     0.95163,     0.95152,     0.95187,      0.9518,     0.95171,     0.95202,      0.9528,     0.95276,     0.95307,\n",
              "            0.95308,     0.95342,     0.95337,     0.95328,     0.95364,      0.9549,     0.95531,     0.95521,     0.95519,     0.95513,     0.95624,     0.95683,     0.95681,     0.95767,     0.95763,     0.95794,     0.95792,     0.95782,      0.9581,     0.95804,       0.958,     0.95791,      0.9583,\n",
              "            0.95824,      0.9582,     0.95812,       0.958,     0.95836,     0.95826,     0.95818,     0.95814,     0.95812,     0.95845,      0.9588,     0.95964,     0.95969,     0.96055,     0.96088,     0.96083,     0.96095,     0.96115,     0.96104,     0.96092,      0.9608,     0.96123,     0.96203,\n",
              "            0.96202,     0.96193,     0.96232,     0.96287,     0.96365,     0.96356,     0.96354,      0.9635,     0.96339,     0.96333,     0.96418,     0.96404,     0.96439,     0.96432,     0.96424,     0.96471,     0.96512,     0.96555,     0.96654,     0.96699,     0.96688,     0.96729,     0.96823,\n",
              "            0.96813,     0.96806,     0.96857,     0.96843,     0.96835,     0.96813,     0.96802,     0.96795,     0.96786,     0.96827,     0.96819,     0.96812,      0.9686,     0.96914,     0.96901,     0.96892,      0.9694,     0.96931,     0.96914,     0.96905,     0.96954,     0.96949,     0.96946,\n",
              "            0.96944,     0.96933,     0.96971,     0.96976,     0.97015,      0.9701,     0.97001,     0.97096,     0.97209,     0.97208,     0.97248,     0.97241,     0.97236,     0.97335,     0.97325,     0.97321,      0.9737,     0.97366,     0.97414,     0.97468,     0.97459,     0.97512,     0.97539,\n",
              "            0.97567,     0.97563,     0.97618,     0.97718,     0.97709,     0.97696,     0.97688,     0.97676,      0.9779,     0.97818,      0.9783,      0.9782,      0.9781,       0.978,     0.97799,     0.97816,     0.97842,     0.97841,     0.97824,     0.97823,     0.97803,     0.97784,     0.97783,\n",
              "            0.97771,      0.9777,     0.97755,     0.97736,     0.97734,     0.97845,     0.97832,      0.9783,     0.97808,     0.97864,     0.97862,      0.9806,     0.98045,     0.98044,      0.9802,        0.98,     0.97998,     0.97984,     0.97983,     0.97967,     0.98025,     0.98024,     0.98155,\n",
              "            0.98145,     0.98144,     0.98206,     0.98175,     0.98152,     0.98209,     0.98215,     0.98215,     0.98195,     0.98347,     0.98345,      0.9831,      0.9829,     0.98289,     0.98386,     0.98431,     0.98505,     0.98593,      0.9857,     0.98569,     0.98555,     0.98541,     0.98611,\n",
              "             0.9861,     0.98592,     0.98576,     0.98664,     0.98661,     0.98647,     0.98843,     0.98842,      0.9883,     0.98818,     0.98797,     0.98796,     0.98782,     0.98867,     0.98865,     0.98838,     0.98814,     0.98812,     0.98795,     0.98777,     0.98756,     0.98744,     0.98743,\n",
              "            0.98727,      0.9871,     0.98698,     0.98693,     0.98662,      0.9878,     0.98905,     0.98904,     0.98886,     0.98869,     0.98855,     0.98854,     0.98836,     0.98824,     0.98955,     0.99089,     0.99237,     0.99219,     0.99364,     0.99351,     0.99344,     0.99333,     0.99333,\n",
              "            0.99319,     0.99307,     0.99297,     0.99283,     0.99282,     0.99452,      0.9944,     0.99431,     0.99424,     0.99416,     0.99412,     0.99406,     0.99395,     0.99378,     0.99361,     0.99354,     0.99348,     0.99336,     0.99327,     0.99326,     0.99311,     0.99286,     0.99267,\n",
              "            0.99257,     0.99241,     0.99218,     0.99205,     0.99203,     0.99194,     0.99178,     0.99153,     0.99131,     0.99111,     0.99392,     0.99378,     0.99359,     0.99344,     0.99334,     0.99325,     0.99314,     0.99648,     0.99636,      0.9963,     0.99621,     0.99615,     0.99604,\n",
              "            0.99589,     0.99576,      0.9956,     0.99548,     0.99536,      0.9953,     0.99523,     0.99511,     0.99495,     0.99462,     0.99425,     0.99382,      0.9935,     0.99324,     0.99309,      0.9929,     0.99279,     0.99244,     0.99226,      0.9922,     0.99175,     0.99126,      0.9911,\n",
              "                  1,           1,           1,           1,           1,           1,           1,           1,           1,           1,           1,           1,           1,           1,           1,           1,           1,           1,           1,           1,           1,           1,           1,\n",
              "                  1,           1,           1,           1,           1,           1,           1,           1,           1,           1,           1,           1,           1,           1,           1,           1,           1,           1,           1,           1,           1,           1,           1,\n",
              "                  1,           1,           1,           1,           1,           1,           1,           1,           1,           1,           1,           1,           1,           1,           1,           1,           1,           1,           1,           1,           1,           1,           1,\n",
              "                  1,           1,           1,           1,           1,           1,           1,           1,           1,           1,           1,           1,           1,           1,           1,           1,           1,           1,           1,           1,           1,           1,           1,\n",
              "                  1,           1,           1,           1,           1,           1,           1,           1,           1,           1,           1,           1,           1,           1,           1,           1,           1,           1,           1,           1,           1,           1,           1,\n",
              "                  1,           1,           1,           1,           1,           1,           1,           1,           1,           1,           1]]), 'Confidence', 'Precision'], [array([          0,    0.001001,    0.002002,    0.003003,    0.004004,    0.005005,    0.006006,    0.007007,    0.008008,    0.009009,     0.01001,    0.011011,    0.012012,    0.013013,    0.014014,    0.015015,    0.016016,    0.017017,    0.018018,    0.019019,     0.02002,    0.021021,    0.022022,    0.023023,\n",
              "          0.024024,    0.025025,    0.026026,    0.027027,    0.028028,    0.029029,     0.03003,    0.031031,    0.032032,    0.033033,    0.034034,    0.035035,    0.036036,    0.037037,    0.038038,    0.039039,     0.04004,    0.041041,    0.042042,    0.043043,    0.044044,    0.045045,    0.046046,    0.047047,\n",
              "          0.048048,    0.049049,     0.05005,    0.051051,    0.052052,    0.053053,    0.054054,    0.055055,    0.056056,    0.057057,    0.058058,    0.059059,     0.06006,    0.061061,    0.062062,    0.063063,    0.064064,    0.065065,    0.066066,    0.067067,    0.068068,    0.069069,     0.07007,    0.071071,\n",
              "          0.072072,    0.073073,    0.074074,    0.075075,    0.076076,    0.077077,    0.078078,    0.079079,     0.08008,    0.081081,    0.082082,    0.083083,    0.084084,    0.085085,    0.086086,    0.087087,    0.088088,    0.089089,     0.09009,    0.091091,    0.092092,    0.093093,    0.094094,    0.095095,\n",
              "          0.096096,    0.097097,    0.098098,    0.099099,      0.1001,      0.1011,      0.1021,      0.1031,      0.1041,     0.10511,     0.10611,     0.10711,     0.10811,     0.10911,     0.11011,     0.11111,     0.11211,     0.11311,     0.11411,     0.11512,     0.11612,     0.11712,     0.11812,     0.11912,\n",
              "           0.12012,     0.12112,     0.12212,     0.12312,     0.12412,     0.12513,     0.12613,     0.12713,     0.12813,     0.12913,     0.13013,     0.13113,     0.13213,     0.13313,     0.13413,     0.13514,     0.13614,     0.13714,     0.13814,     0.13914,     0.14014,     0.14114,     0.14214,     0.14314,\n",
              "           0.14414,     0.14515,     0.14615,     0.14715,     0.14815,     0.14915,     0.15015,     0.15115,     0.15215,     0.15315,     0.15415,     0.15516,     0.15616,     0.15716,     0.15816,     0.15916,     0.16016,     0.16116,     0.16216,     0.16316,     0.16416,     0.16517,     0.16617,     0.16717,\n",
              "           0.16817,     0.16917,     0.17017,     0.17117,     0.17217,     0.17317,     0.17417,     0.17518,     0.17618,     0.17718,     0.17818,     0.17918,     0.18018,     0.18118,     0.18218,     0.18318,     0.18418,     0.18519,     0.18619,     0.18719,     0.18819,     0.18919,     0.19019,     0.19119,\n",
              "           0.19219,     0.19319,     0.19419,      0.1952,      0.1962,      0.1972,      0.1982,      0.1992,      0.2002,      0.2012,      0.2022,      0.2032,      0.2042,     0.20521,     0.20621,     0.20721,     0.20821,     0.20921,     0.21021,     0.21121,     0.21221,     0.21321,     0.21421,     0.21522,\n",
              "           0.21622,     0.21722,     0.21822,     0.21922,     0.22022,     0.22122,     0.22222,     0.22322,     0.22422,     0.22523,     0.22623,     0.22723,     0.22823,     0.22923,     0.23023,     0.23123,     0.23223,     0.23323,     0.23423,     0.23524,     0.23624,     0.23724,     0.23824,     0.23924,\n",
              "           0.24024,     0.24124,     0.24224,     0.24324,     0.24424,     0.24525,     0.24625,     0.24725,     0.24825,     0.24925,     0.25025,     0.25125,     0.25225,     0.25325,     0.25425,     0.25526,     0.25626,     0.25726,     0.25826,     0.25926,     0.26026,     0.26126,     0.26226,     0.26326,\n",
              "           0.26426,     0.26527,     0.26627,     0.26727,     0.26827,     0.26927,     0.27027,     0.27127,     0.27227,     0.27327,     0.27427,     0.27528,     0.27628,     0.27728,     0.27828,     0.27928,     0.28028,     0.28128,     0.28228,     0.28328,     0.28428,     0.28529,     0.28629,     0.28729,\n",
              "           0.28829,     0.28929,     0.29029,     0.29129,     0.29229,     0.29329,     0.29429,      0.2953,      0.2963,      0.2973,      0.2983,      0.2993,      0.3003,      0.3013,      0.3023,      0.3033,      0.3043,     0.30531,     0.30631,     0.30731,     0.30831,     0.30931,     0.31031,     0.31131,\n",
              "           0.31231,     0.31331,     0.31431,     0.31532,     0.31632,     0.31732,     0.31832,     0.31932,     0.32032,     0.32132,     0.32232,     0.32332,     0.32432,     0.32533,     0.32633,     0.32733,     0.32833,     0.32933,     0.33033,     0.33133,     0.33233,     0.33333,     0.33433,     0.33534,\n",
              "           0.33634,     0.33734,     0.33834,     0.33934,     0.34034,     0.34134,     0.34234,     0.34334,     0.34434,     0.34535,     0.34635,     0.34735,     0.34835,     0.34935,     0.35035,     0.35135,     0.35235,     0.35335,     0.35435,     0.35536,     0.35636,     0.35736,     0.35836,     0.35936,\n",
              "           0.36036,     0.36136,     0.36236,     0.36336,     0.36436,     0.36537,     0.36637,     0.36737,     0.36837,     0.36937,     0.37037,     0.37137,     0.37237,     0.37337,     0.37437,     0.37538,     0.37638,     0.37738,     0.37838,     0.37938,     0.38038,     0.38138,     0.38238,     0.38338,\n",
              "           0.38438,     0.38539,     0.38639,     0.38739,     0.38839,     0.38939,     0.39039,     0.39139,     0.39239,     0.39339,     0.39439,      0.3954,      0.3964,      0.3974,      0.3984,      0.3994,      0.4004,      0.4014,      0.4024,      0.4034,      0.4044,     0.40541,     0.40641,     0.40741,\n",
              "           0.40841,     0.40941,     0.41041,     0.41141,     0.41241,     0.41341,     0.41441,     0.41542,     0.41642,     0.41742,     0.41842,     0.41942,     0.42042,     0.42142,     0.42242,     0.42342,     0.42442,     0.42543,     0.42643,     0.42743,     0.42843,     0.42943,     0.43043,     0.43143,\n",
              "           0.43243,     0.43343,     0.43443,     0.43544,     0.43644,     0.43744,     0.43844,     0.43944,     0.44044,     0.44144,     0.44244,     0.44344,     0.44444,     0.44545,     0.44645,     0.44745,     0.44845,     0.44945,     0.45045,     0.45145,     0.45245,     0.45345,     0.45445,     0.45546,\n",
              "           0.45646,     0.45746,     0.45846,     0.45946,     0.46046,     0.46146,     0.46246,     0.46346,     0.46446,     0.46547,     0.46647,     0.46747,     0.46847,     0.46947,     0.47047,     0.47147,     0.47247,     0.47347,     0.47447,     0.47548,     0.47648,     0.47748,     0.47848,     0.47948,\n",
              "           0.48048,     0.48148,     0.48248,     0.48348,     0.48448,     0.48549,     0.48649,     0.48749,     0.48849,     0.48949,     0.49049,     0.49149,     0.49249,     0.49349,     0.49449,      0.4955,      0.4965,      0.4975,      0.4985,      0.4995,      0.5005,      0.5015,      0.5025,      0.5035,\n",
              "            0.5045,     0.50551,     0.50651,     0.50751,     0.50851,     0.50951,     0.51051,     0.51151,     0.51251,     0.51351,     0.51451,     0.51552,     0.51652,     0.51752,     0.51852,     0.51952,     0.52052,     0.52152,     0.52252,     0.52352,     0.52452,     0.52553,     0.52653,     0.52753,\n",
              "           0.52853,     0.52953,     0.53053,     0.53153,     0.53253,     0.53353,     0.53453,     0.53554,     0.53654,     0.53754,     0.53854,     0.53954,     0.54054,     0.54154,     0.54254,     0.54354,     0.54454,     0.54555,     0.54655,     0.54755,     0.54855,     0.54955,     0.55055,     0.55155,\n",
              "           0.55255,     0.55355,     0.55455,     0.55556,     0.55656,     0.55756,     0.55856,     0.55956,     0.56056,     0.56156,     0.56256,     0.56356,     0.56456,     0.56557,     0.56657,     0.56757,     0.56857,     0.56957,     0.57057,     0.57157,     0.57257,     0.57357,     0.57457,     0.57558,\n",
              "           0.57658,     0.57758,     0.57858,     0.57958,     0.58058,     0.58158,     0.58258,     0.58358,     0.58458,     0.58559,     0.58659,     0.58759,     0.58859,     0.58959,     0.59059,     0.59159,     0.59259,     0.59359,     0.59459,      0.5956,      0.5966,      0.5976,      0.5986,      0.5996,\n",
              "            0.6006,      0.6016,      0.6026,      0.6036,      0.6046,     0.60561,     0.60661,     0.60761,     0.60861,     0.60961,     0.61061,     0.61161,     0.61261,     0.61361,     0.61461,     0.61562,     0.61662,     0.61762,     0.61862,     0.61962,     0.62062,     0.62162,     0.62262,     0.62362,\n",
              "           0.62462,     0.62563,     0.62663,     0.62763,     0.62863,     0.62963,     0.63063,     0.63163,     0.63263,     0.63363,     0.63463,     0.63564,     0.63664,     0.63764,     0.63864,     0.63964,     0.64064,     0.64164,     0.64264,     0.64364,     0.64464,     0.64565,     0.64665,     0.64765,\n",
              "           0.64865,     0.64965,     0.65065,     0.65165,     0.65265,     0.65365,     0.65465,     0.65566,     0.65666,     0.65766,     0.65866,     0.65966,     0.66066,     0.66166,     0.66266,     0.66366,     0.66466,     0.66567,     0.66667,     0.66767,     0.66867,     0.66967,     0.67067,     0.67167,\n",
              "           0.67267,     0.67367,     0.67467,     0.67568,     0.67668,     0.67768,     0.67868,     0.67968,     0.68068,     0.68168,     0.68268,     0.68368,     0.68468,     0.68569,     0.68669,     0.68769,     0.68869,     0.68969,     0.69069,     0.69169,     0.69269,     0.69369,     0.69469,      0.6957,\n",
              "            0.6967,      0.6977,      0.6987,      0.6997,      0.7007,      0.7017,      0.7027,      0.7037,      0.7047,     0.70571,     0.70671,     0.70771,     0.70871,     0.70971,     0.71071,     0.71171,     0.71271,     0.71371,     0.71471,     0.71572,     0.71672,     0.71772,     0.71872,     0.71972,\n",
              "           0.72072,     0.72172,     0.72272,     0.72372,     0.72472,     0.72573,     0.72673,     0.72773,     0.72873,     0.72973,     0.73073,     0.73173,     0.73273,     0.73373,     0.73473,     0.73574,     0.73674,     0.73774,     0.73874,     0.73974,     0.74074,     0.74174,     0.74274,     0.74374,\n",
              "           0.74474,     0.74575,     0.74675,     0.74775,     0.74875,     0.74975,     0.75075,     0.75175,     0.75275,     0.75375,     0.75475,     0.75576,     0.75676,     0.75776,     0.75876,     0.75976,     0.76076,     0.76176,     0.76276,     0.76376,     0.76476,     0.76577,     0.76677,     0.76777,\n",
              "           0.76877,     0.76977,     0.77077,     0.77177,     0.77277,     0.77377,     0.77477,     0.77578,     0.77678,     0.77778,     0.77878,     0.77978,     0.78078,     0.78178,     0.78278,     0.78378,     0.78478,     0.78579,     0.78679,     0.78779,     0.78879,     0.78979,     0.79079,     0.79179,\n",
              "           0.79279,     0.79379,     0.79479,      0.7958,      0.7968,      0.7978,      0.7988,      0.7998,      0.8008,      0.8018,      0.8028,      0.8038,      0.8048,     0.80581,     0.80681,     0.80781,     0.80881,     0.80981,     0.81081,     0.81181,     0.81281,     0.81381,     0.81481,     0.81582,\n",
              "           0.81682,     0.81782,     0.81882,     0.81982,     0.82082,     0.82182,     0.82282,     0.82382,     0.82482,     0.82583,     0.82683,     0.82783,     0.82883,     0.82983,     0.83083,     0.83183,     0.83283,     0.83383,     0.83483,     0.83584,     0.83684,     0.83784,     0.83884,     0.83984,\n",
              "           0.84084,     0.84184,     0.84284,     0.84384,     0.84484,     0.84585,     0.84685,     0.84785,     0.84885,     0.84985,     0.85085,     0.85185,     0.85285,     0.85385,     0.85485,     0.85586,     0.85686,     0.85786,     0.85886,     0.85986,     0.86086,     0.86186,     0.86286,     0.86386,\n",
              "           0.86486,     0.86587,     0.86687,     0.86787,     0.86887,     0.86987,     0.87087,     0.87187,     0.87287,     0.87387,     0.87487,     0.87588,     0.87688,     0.87788,     0.87888,     0.87988,     0.88088,     0.88188,     0.88288,     0.88388,     0.88488,     0.88589,     0.88689,     0.88789,\n",
              "           0.88889,     0.88989,     0.89089,     0.89189,     0.89289,     0.89389,     0.89489,      0.8959,      0.8969,      0.8979,      0.8989,      0.8999,      0.9009,      0.9019,      0.9029,      0.9039,      0.9049,     0.90591,     0.90691,     0.90791,     0.90891,     0.90991,     0.91091,     0.91191,\n",
              "           0.91291,     0.91391,     0.91491,     0.91592,     0.91692,     0.91792,     0.91892,     0.91992,     0.92092,     0.92192,     0.92292,     0.92392,     0.92492,     0.92593,     0.92693,     0.92793,     0.92893,     0.92993,     0.93093,     0.93193,     0.93293,     0.93393,     0.93493,     0.93594,\n",
              "           0.93694,     0.93794,     0.93894,     0.93994,     0.94094,     0.94194,     0.94294,     0.94394,     0.94494,     0.94595,     0.94695,     0.94795,     0.94895,     0.94995,     0.95095,     0.95195,     0.95295,     0.95395,     0.95495,     0.95596,     0.95696,     0.95796,     0.95896,     0.95996,\n",
              "           0.96096,     0.96196,     0.96296,     0.96396,     0.96496,     0.96597,     0.96697,     0.96797,     0.96897,     0.96997,     0.97097,     0.97197,     0.97297,     0.97397,     0.97497,     0.97598,     0.97698,     0.97798,     0.97898,     0.97998,     0.98098,     0.98198,     0.98298,     0.98398,\n",
              "           0.98498,     0.98599,     0.98699,     0.98799,     0.98899,     0.98999,     0.99099,     0.99199,     0.99299,     0.99399,     0.99499,       0.996,       0.997,       0.998,       0.999,           1]), array([[    0.98176,     0.98176,     0.98176,     0.98103,     0.97993,     0.97993,      0.9792,      0.9792,     0.97848,     0.97848,     0.97848,     0.97811,     0.97811,     0.97738,     0.97665,     0.97665,     0.97665,     0.97665,     0.97629,     0.97629,     0.97629,     0.97629,     0.97592,\n",
              "            0.97592,     0.97556,     0.97519,     0.97519,     0.97483,     0.97446,      0.9741,     0.97373,       0.973,       0.973,     0.97264,     0.97264,     0.97264,     0.97264,     0.97264,     0.97264,     0.97264,     0.97227,     0.97227,     0.97227,     0.97227,     0.97227,     0.97191,\n",
              "            0.97118,     0.97118,     0.97118,     0.97081,     0.97081,     0.97081,     0.97045,     0.97045,     0.97008,     0.97008,     0.97008,     0.97008,     0.97008,     0.97008,     0.96899,     0.96899,     0.96869,     0.96862,     0.96862,     0.96826,     0.96789,     0.96789,     0.96789,\n",
              "            0.96717,     0.96717,     0.96717,     0.96717,      0.9668,      0.9668,     0.96644,     0.96644,     0.96607,     0.96607,     0.96534,     0.96534,     0.96534,     0.96534,     0.96498,     0.96498,     0.96498,     0.96461,     0.96461,     0.96461,     0.96461,     0.96388,     0.96388,\n",
              "            0.96352,     0.96315,     0.96315,     0.96279,     0.96279,     0.96274,     0.96242,     0.96208,     0.96133,     0.96133,     0.96133,     0.96133,     0.96133,     0.96096,     0.96081,      0.9606,      0.9606,      0.9606,      0.9606,     0.96023,     0.96014,     0.95987,     0.95914,\n",
              "            0.95914,     0.95877,     0.95841,     0.95804,     0.95804,     0.95804,     0.95804,     0.95804,     0.95804,     0.95804,     0.95768,     0.95731,     0.95731,     0.95586,     0.95569,     0.95549,     0.95549,     0.95549,     0.95498,     0.95476,     0.95476,     0.95476,      0.9544,\n",
              "            0.95367,     0.95367,      0.9533,     0.95294,     0.95294,     0.95294,     0.95294,     0.95294,     0.95257,     0.95253,     0.95221,     0.95221,     0.95221,     0.95221,     0.95221,     0.95142,     0.95111,     0.95111,     0.95111,     0.95111,     0.95111,     0.95075,     0.95038,\n",
              "            0.94978,     0.94929,     0.94856,     0.94819,     0.94819,     0.94783,     0.94746,      0.9471,     0.94673,     0.94637,     0.94628,     0.94564,     0.94564,     0.94564,     0.94491,     0.94491,     0.94491,     0.94455,     0.94455,     0.94418,     0.94387,     0.94382,     0.94309,\n",
              "            0.94309,     0.94309,     0.94309,     0.94269,     0.94236,     0.94199,     0.94199,     0.94199,     0.94199,      0.9409,     0.94062,     0.94017,     0.93979,     0.93907,     0.93866,     0.93834,     0.93834,     0.93833,     0.93804,     0.93761,     0.93761,     0.93761,     0.93725,\n",
              "            0.93707,     0.93688,     0.93652,     0.93609,     0.93579,     0.93543,     0.93543,     0.93506,     0.93506,      0.9347,      0.9347,      0.9347,     0.93433,     0.93397,     0.93397,     0.93397,     0.93397,     0.93287,     0.93287,     0.93287,     0.93262,      0.9323,     0.93214,\n",
              "            0.93178,     0.93178,     0.93178,     0.93178,     0.93141,     0.93062,     0.92995,     0.92995,     0.92995,     0.92966,     0.92886,     0.92886,     0.92883,     0.92776,     0.92776,     0.92773,     0.92748,     0.92707,     0.92691,     0.92667,     0.92594,     0.92557,     0.92557,\n",
              "            0.92557,     0.92521,     0.92521,     0.92521,       0.925,      0.9245,     0.92412,     0.92387,     0.92374,     0.92336,     0.92302,     0.92302,     0.92296,     0.92266,     0.92196,      0.9212,     0.92047,     0.91949,     0.91937,     0.91937,     0.91937,     0.91937,     0.91937,\n",
              "            0.91917,     0.91839,     0.91793,     0.91791,     0.91755,     0.91726,     0.91718,     0.91718,      0.9166,     0.91645,     0.91601,     0.91536,     0.91536,     0.91536,     0.91499,     0.91499,     0.91499,     0.91499,     0.91463,     0.91463,     0.91463,     0.91426,     0.91426,\n",
              "            0.91426,     0.91371,     0.91354,     0.91354,     0.91317,     0.91304,     0.91189,     0.91111,     0.91065,     0.91062,     0.91062,     0.91062,     0.91062,     0.90935,     0.90914,     0.90893,     0.90835,     0.90813,     0.90806,     0.90806,     0.90798,     0.90697,      0.9066,\n",
              "             0.9066,      0.9066,      0.9066,      0.9066,     0.90652,      0.9063,     0.90609,     0.90588,     0.90514,     0.90436,     0.90414,     0.90405,     0.90405,     0.90336,     0.90262,     0.90259,     0.90223,     0.90186,     0.90131,     0.90087,     0.90077,      0.9004,      0.9004,\n",
              "            0.90038,     0.90023,     0.90008,     0.90004,     0.89994,      0.8998,     0.89967,     0.89967,     0.89955,     0.89894,     0.89803,     0.89724,     0.89675,     0.89675,     0.89639,     0.89639,     0.89639,     0.89628,     0.89602,     0.89602,     0.89602,     0.89602,     0.89533,\n",
              "            0.89458,     0.89456,     0.89383,     0.89347,     0.89347,     0.89347,     0.89347,     0.89347,      0.8931,      0.8931,     0.89203,     0.89165,     0.89165,     0.89165,     0.89153,     0.89043,     0.88946,     0.88909,     0.88909,     0.88909,     0.88896,     0.88878,      0.8869,\n",
              "            0.88616,     0.88543,     0.88525,     0.88471,     0.88471,      0.8842,     0.88398,     0.88325,     0.88325,     0.88278,     0.88257,     0.88252,     0.88252,     0.88221,     0.88216,     0.88216,     0.88209,     0.88172,     0.88061,     0.88024,     0.87987,     0.87913,     0.87881,\n",
              "            0.87859,     0.87755,     0.87669,     0.87607,     0.87596,     0.87596,     0.87568,     0.87531,      0.8742,     0.87377,      0.8734,      0.8734,     0.87335,     0.87304,     0.87304,       0.873,     0.87281,     0.87267,     0.87256,     0.87152,     0.87133,     0.87103,     0.87061,\n",
              "            0.87023,     0.86986,     0.86876,     0.86866,     0.86866,     0.86866,     0.86851,     0.86832,     0.86761,      0.8674,     0.86721,     0.86649,     0.86574,     0.86465,     0.86427,     0.86353,     0.86279,      0.8624,     0.86195,     0.86158,     0.86084,      0.8601,     0.85954,\n",
              "            0.85881,     0.85881,     0.85824,     0.85772,     0.85735,     0.85699,     0.85675,     0.85528,     0.85417,     0.85343,      0.8527,     0.85159,     0.85049,     0.85042,     0.84938,     0.84864,     0.84823,     0.84752,     0.84606,     0.84458,     0.84385,     0.84347,     0.84276,\n",
              "            0.84239,     0.84199,     0.84161,     0.84057,     0.83941,     0.83903,     0.83838,     0.83828,     0.83755,     0.83729,      0.8357,     0.83533,     0.83496,     0.83437,     0.83437,     0.83327,     0.83327,     0.83236,     0.83198,     0.83124,     0.83014,     0.82889,     0.82793,\n",
              "            0.82719,     0.82682,     0.82572,     0.82488,     0.82424,      0.8235,      0.8224,     0.82202,     0.82196,     0.82196,     0.82126,      0.8205,      0.8205,     0.82014,     0.81941,     0.81922,     0.81868,     0.81795,     0.81722,     0.81535,     0.81461,     0.81387,     0.81321,\n",
              "            0.81321,     0.81321,     0.81201,     0.81102,     0.81016,     0.80833,     0.80773,       0.807,     0.80482,     0.80409,     0.80172,     0.80134,     0.79951,     0.79658,     0.79621,     0.79584,     0.79497,     0.79387,      0.7918,     0.79106,     0.79032,     0.78921,     0.78848,\n",
              "            0.78774,     0.78517,     0.78334,     0.78224,     0.78113,     0.77912,     0.77801,     0.77691,     0.77599,     0.77543,     0.77433,      0.7725,     0.77066,     0.76992,     0.76809,     0.76626,     0.76479,     0.76369,     0.76222,     0.76002,     0.75855,     0.75781,     0.75666,\n",
              "            0.75597,     0.75483,      0.7534,     0.75193,     0.75046,     0.74936,      0.7486,     0.74697,     0.74659,     0.74549,     0.74425,     0.74401,     0.74364,      0.7429,     0.74216,      0.7396,     0.73922,     0.73739,      0.7341,     0.73299,     0.73225,      0.7306,      0.7295,\n",
              "             0.7284,     0.72766,     0.72619,     0.72399,     0.72216,     0.72032,     0.71886,     0.71812,     0.71774,     0.71536,     0.71316,     0.71133,     0.70996,     0.70814,     0.70802,     0.70692,     0.70595,     0.70398,       0.702,     0.69977,     0.69757,     0.69646,     0.69317,\n",
              "            0.69299,     0.69133,      0.6895,     0.68843,     0.68674,     0.68491,     0.68453,      0.6838,      0.6816,     0.68049,     0.67757,     0.67482,     0.67189,     0.67042,     0.66896,     0.66822,     0.66622,     0.66473,     0.66399,     0.66253,     0.66033,     0.65742,      0.6559,\n",
              "            0.65392,     0.65245,     0.65207,     0.64915,     0.64731,     0.64274,     0.64054,     0.63908,     0.63724,     0.63456,     0.63303,     0.63156,     0.63116,     0.63008,     0.62734,      0.6255,     0.62404,      0.6222,     0.61873,     0.61689,     0.61543,     0.61432,     0.61389,\n",
              "            0.61339,     0.61119,     0.61036,     0.60525,     0.60478,     0.60368,     0.60172,     0.59942,     0.59869,     0.59689,     0.59305,     0.59158,     0.59048,     0.58628,     0.58408,     0.58227,     0.58074,     0.57986,     0.57729,     0.57582,     0.57381,     0.57197,     0.57132,\n",
              "            0.57068,     0.56958,     0.56811,     0.56244,     0.56025,     0.55681,     0.55494,     0.55201,      0.5489,     0.54798,     0.54286,      0.5403,     0.53771,      0.5351,     0.53491,     0.53229,     0.52933,     0.52908,     0.52486,     0.52467,      0.5197,     0.51507,     0.51482,\n",
              "            0.51207,     0.51188,     0.50843,     0.50389,     0.50349,     0.49703,      0.4938,     0.49343,     0.48838,     0.48481,     0.48428,     0.47953,      0.4757,     0.47545,     0.46965,     0.46471,     0.46434,     0.46108,     0.46083,     0.45702,     0.45267,     0.45242,     0.44634,\n",
              "             0.4439,     0.44365,     0.43939,     0.43178,     0.42612,     0.42612,     0.42164,     0.42145,     0.41685,     0.41252,     0.41201,     0.40333,     0.39834,     0.39809,     0.39438,     0.38906,     0.38891,      0.3836,     0.37714,      0.3769,     0.37328,     0.36971,     0.36253,\n",
              "            0.36228,     0.35765,     0.35369,     0.35021,     0.34944,     0.34571,     0.34291,     0.34266,     0.33912,     0.33548,     0.32972,     0.32925,      0.3256,     0.31838,     0.31788,     0.31026,     0.30398,     0.30357,     0.29918,     0.29455,     0.28956,     0.28675,      0.2865,\n",
              "             0.2829,     0.27924,     0.27645,     0.27558,       0.269,     0.26579,     0.26372,     0.26347,     0.25911,     0.25509,     0.25202,     0.25177,     0.24777,      0.2452,     0.24173,     0.23807,     0.23716,     0.23185,       0.228,     0.22351,     0.22104,     0.21742,     0.21717,\n",
              "            0.21296,     0.20925,     0.20606,     0.20206,     0.20181,     0.19855,     0.19426,     0.19142,     0.18886,     0.18629,     0.18505,     0.18317,      0.1797,     0.17495,      0.1702,     0.16843,     0.16671,     0.16376,      0.1616,     0.16135,     0.15774,     0.15225,     0.14832,\n",
              "            0.14614,      0.1432,      0.1389,      0.1366,     0.13615,     0.13468,     0.13212,     0.12813,     0.12483,     0.12206,     0.11932,     0.11656,     0.11308,     0.11051,     0.10888,     0.10741,     0.10571,     0.10319,    0.099901,    0.098361,     0.09587,    0.094401,    0.091739,\n",
              "           0.088438,    0.085618,    0.082564,    0.080357,    0.078294,     0.07719,    0.076087,    0.074253,    0.071874,    0.067478,    0.063082,    0.058685,    0.055749,    0.053586,    0.052429,    0.051014,    0.050203,    0.047894,    0.046791,    0.046417,    0.043854,    0.041356,    0.040608,\n",
              "           0.038901,    0.037653,    0.034687,    0.033219,    0.031386,    0.030555,    0.030368,    0.027345,     0.02585,    0.023278,    0.022393,    0.021368,    0.020368,    0.019557,     0.01811,    0.017923,    0.016318,    0.015836,    0.015023,    0.014466,    0.013227,    0.011749,    0.010061,\n",
              "          0.0095239,   0.0092491,   0.0086652,   0.0084782,   0.0078931,   0.0069053,   0.0064957,   0.0057925,   0.0050717,   0.0048224,   0.0046155,   0.0044285,   0.0041961,   0.0039136,   0.0031748,   0.0028009,   0.0021608,   0.0020777,   0.0019946,   0.0019115,   0.0018284,   0.0016467,   0.0014597,\n",
              "          0.0010924,   0.0009989,  0.00090541,  0.00081192,  0.00072068,  0.00064588,  0.00057109,   0.0004963,  0.00042151,           0,           0,           0,           0,           0,           0,           0,           0,           0,           0,           0,           0,           0,           0,\n",
              "                  0,           0,           0,           0,           0,           0,           0,           0,           0,           0,           0,           0,           0,           0,           0,           0,           0,           0,           0,           0,           0,           0,           0,\n",
              "                  0,           0,           0,           0,           0,           0,           0,           0,           0,           0,           0,           0,           0,           0,           0,           0,           0,           0,           0,           0,           0,           0,           0,\n",
              "                  0,           0,           0,           0,           0,           0,           0,           0,           0,           0,           0]]), 'Confidence', 'Recall']]\n",
              "fitness: 0.5543695363093966\n",
              "keys: ['metrics/precision(B)', 'metrics/recall(B)', 'metrics/mAP50(B)', 'metrics/mAP50-95(B)']\n",
              "maps: array([    0.51116])\n",
              "names: {0: 'tree'}\n",
              "plot: True\n",
              "results_dict: {'metrics/precision(B)': 0.9094907622221571, 'metrics/recall(B)': 0.8934695366654506, 'metrics/mAP50(B)': 0.9432326784383948, 'metrics/mAP50-95(B)': 0.5111625205172856, 'fitness': 0.5543695363093966}\n",
              "save_dir: PosixPath('runs/detect/train')\n",
              "speed: {'preprocess': 0.18541977323334793, 'inference': 2.414641709163271, 'loss': 0.0005015011491446659, 'postprocess': 6.5837358606272725}\n",
              "task: 'detect'"
            ]
          },
          "metadata": {},
          "execution_count": 7
        }
      ]
    },
    {
      "cell_type": "code",
      "source": [
        "model.save('NewCombined_yolov8.pt')\n"
      ],
      "metadata": {
        "id": "KyjTTBDhbsuP"
      },
      "execution_count": 11,
      "outputs": []
    }
  ]
}